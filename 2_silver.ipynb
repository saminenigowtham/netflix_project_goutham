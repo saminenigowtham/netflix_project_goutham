{
 "cells": [
  {
   "cell_type": "markdown",
   "metadata": {
    "application/vnd.databricks.v1+cell": {
     "cellMetadata": {},
     "inputWidgets": {},
     "nuid": "67e8a835-079c-42ab-8731-b536e8f865bb",
     "showTitle": false,
     "tableResultSettingsMap": {},
     "title": ""
    }
   },
   "source": [
    "###Silver Notebook lookup tables"
   ]
  },
  {
   "cell_type": "markdown",
   "metadata": {
    "application/vnd.databricks.v1+cell": {
     "cellMetadata": {},
     "inputWidgets": {},
     "nuid": "63d9fbe3-aef8-46a8-ba0d-7d91ce74dea4",
     "showTitle": false,
     "tableResultSettingsMap": {},
     "title": ""
    }
   },
   "source": [
    "### parameters"
   ]
  },
  {
   "cell_type": "code",
   "execution_count": 0,
   "metadata": {
    "application/vnd.databricks.v1+cell": {
     "cellMetadata": {
      "byteLimit": 2048000,
      "rowLimit": 10000
     },
     "inputWidgets": {},
     "nuid": "c655a798-1f9c-4dd2-a195-5870a92fe5f8",
     "showTitle": false,
     "tableResultSettingsMap": {},
     "title": ""
    }
   },
   "outputs": [],
   "source": [
    "dbutils.widgets.text('source_file_name','netflix_directors')\n",
    "dbutils.widgets.text('trg_file_name','netflix_directors')"
   ]
  },
  {
   "cell_type": "markdown",
   "metadata": {
    "application/vnd.databricks.v1+cell": {
     "cellMetadata": {},
     "inputWidgets": {},
     "nuid": "813867e9-01fe-4b98-88ea-d14daa619474",
     "showTitle": false,
     "tableResultSettingsMap": {},
     "title": ""
    }
   },
   "source": [
    "### varibles"
   ]
  },
  {
   "cell_type": "code",
   "execution_count": 0,
   "metadata": {
    "application/vnd.databricks.v1+cell": {
     "cellMetadata": {
      "byteLimit": 2048000,
      "rowLimit": 10000
     },
     "inputWidgets": {},
     "nuid": "23740d2e-ac16-48c8-ae1f-c2b0c49b0153",
     "showTitle": false,
     "tableResultSettingsMap": {},
     "title": ""
    }
   },
   "outputs": [],
   "source": [
    "var_source_name=dbutils.widgets.get('source_file_name')\n",
    "var_trg_name=dbutils.widgets.get('trg_file_name')"
   ]
  },
  {
   "cell_type": "code",
   "execution_count": 0,
   "metadata": {
    "application/vnd.databricks.v1+cell": {
     "cellMetadata": {
      "byteLimit": 2048000,
      "rowLimit": 10000
     },
     "inputWidgets": {},
     "nuid": "2292b3c7-bd3f-4265-b64c-6af04d5cd8fc",
     "showTitle": false,
     "tableResultSettingsMap": {},
     "title": ""
    }
   },
   "outputs": [
    {
     "output_type": "stream",
     "name": "stdout",
     "output_type": "stream",
     "text": [
      "netflix_directors netflix_directors\n"
     ]
    }
   ],
   "source": [
    "print(var_source_name,var_trg_name)"
   ]
  },
  {
   "cell_type": "code",
   "execution_count": 0,
   "metadata": {
    "application/vnd.databricks.v1+cell": {
     "cellMetadata": {
      "byteLimit": 2048000,
      "rowLimit": 10000
     },
     "inputWidgets": {},
     "nuid": "a553cf9a-1a46-40a4-9b04-8af73ca06cca",
     "showTitle": false,
     "tableResultSettingsMap": {},
     "title": ""
    }
   },
   "outputs": [],
   "source": [
    "df = spark.read.format('csv')\\\n",
    "  .option('inferSchema', 'True')\\\n",
    "  .option('header', 'True')\\\n",
    "  .load(f'abfss://bronze@netflixgouthamdatalake.dfs.core.windows.net/{var_source_name}')"
   ]
  },
  {
   "cell_type": "code",
   "execution_count": 0,
   "metadata": {
    "application/vnd.databricks.v1+cell": {
     "cellMetadata": {
      "byteLimit": 2048000,
      "rowLimit": 10000
     },
     "inputWidgets": {},
     "nuid": "1faba2a7-85d7-4ed0-862a-797652d6b6ff",
     "showTitle": false,
     "tableResultSettingsMap": {},
     "title": ""
    }
   },
   "outputs": [
    {
     "output_type": "display_data",
     "data": {
      "text/html": [
       "<style scoped>\n",
       "  .table-result-container {\n",
       "    max-height: 300px;\n",
       "    overflow: auto;\n",
       "  }\n",
       "  table, th, td {\n",
       "    border: 1px solid black;\n",
       "    border-collapse: collapse;\n",
       "  }\n",
       "  th, td {\n",
       "    padding: 5px;\n",
       "  }\n",
       "  th {\n",
       "    text-align: left;\n",
       "  }\n",
       "</style><div class='table-result-container'><table class='table-result'><thead style='background-color: white'><tr><th>director</th><th>show_id</th></tr></thead><tbody><tr><td>Richard Finn</td><td>81145628</td></tr><tr><td>Fernando Lebrija</td><td>80125979</td></tr><tr><td>Gabe Ibáñez</td><td>70304989</td></tr><tr><td>Rodrigo Toro</td><td>80164077</td></tr><tr><td>Henrik Ruben Genz</td><td>70304990</td></tr><tr><td>José Miguel Contreras</td><td>80169755</td></tr><tr><td>Daniel Alfredson</td><td>70299204</td></tr><tr><td>Munjal Shroff</td><td>80182483</td></tr><tr><td>Munjal Shroff</td><td>80182596</td></tr><tr><td>Tilak Shetty</td><td>80182482</td></tr><tr><td>Tilak Shetty</td><td>80182597</td></tr><tr><td>Munjal Shroff</td><td>80182621</td></tr><tr><td>Gaspar Noé</td><td>80057969</td></tr><tr><td>Tom O'Brien</td><td>80060297</td></tr><tr><td>Antoine Bardou-Jacquet</td><td>80046728</td></tr><tr><td>Mitch Dickman</td><td>80046727</td></tr><tr><td>Brad Anderson</td><td>70304988</td></tr><tr><td>Austin Stark</td><td>80057700</td></tr><tr><td>Hannah Fidell</td><td>80045922</td></tr><tr><td>Madeleine Gavin</td><td>80203094</td></tr><tr><td>Sopon Sukdapisit</td><td>70241607</td></tr><tr><td>Kevin R. Adams</td><td>80988892</td></tr><tr><td>Ian Samuels</td><td>80239639</td></tr><tr><td>Franck Ribière</td><td>80159586</td></tr><tr><td>Daniele Thompson</td><td>80152447</td></tr><tr><td>Anubhav Sinha</td><td>81154455</td></tr><tr><td>Maha Venkatesh</td><td>81113928</td></tr><tr><td>Tharun Bhascker</td><td>81052275</td></tr><tr><td>Şenol Sönmez</td><td>81132437</td></tr><tr><td>Tom Gianas</td><td>80058026</td></tr><tr><td>Rajkumar Hirani</td><td>70303496</td></tr><tr><td>Robert Osman</td><td>80162141</td></tr><tr><td>Jon Spira</td><td>80095641</td></tr><tr><td>Mez Tharatorn</td><td>80159880</td></tr><tr><td>Adisorn Tresirikasem</td><td>81016044</td></tr><tr><td>Mez Tharatorn</td><td>80158838</td></tr><tr><td>Banjong Pisanthanakun</td><td>81016045</td></tr><tr><td>Banjong Pisanthanakun</td><td>70142798</td></tr><tr><td>Banjong Pisanthanakun</td><td>70062814</td></tr><tr><td>Chayanop Boonprakob</td><td>80158839</td></tr><tr><td>Susan Johnson</td><td>80147760</td></tr><tr><td>Lynn Shelton</td><td>80177405</td></tr><tr><td>Farhan Alam</td><td>81160036</td></tr><tr><td>Chad Archibald</td><td>81173255</td></tr><tr><td>Brian Baugh</td><td>81078908</td></tr><tr><td>A. L. Vijay</td><td>81155784</td></tr><tr><td>Ryan Coogler</td><td>80201906</td></tr><tr><td>Ben Palmer</td><td>80052612</td></tr><tr><td>Chris Howe</td><td>81054495</td></tr><tr><td>Ken Kwapis</td><td>70212504</td></tr><tr><td>Park In-je</td><td>80187061</td></tr><tr><td>Rod Blackhurst</td><td>80081155</td></tr><tr><td>Jesse V. Johnson</td><td>80198585</td></tr><tr><td>Mahsun Kırmızıgül</td><td>70233894</td></tr><tr><td>Monique Gardenberg</td><td>81011955</td></tr><tr><td>Mike Flanagan</td><td>80128722</td></tr><tr><td>Jacob LaMendola</td><td>80182115</td></tr><tr><td>Ritesh Batra</td><td>80104068</td></tr><tr><td>Dylan Howitt</td><td>80119349</td></tr><tr><td>William Lau</td><td>80019931</td></tr><tr><td>Mana Yasuda</td><td>81053893</td></tr><tr><td>Brian De Palma</td><td>80200087</td></tr><tr><td>Mana Yasuda</td><td>81053892</td></tr><tr><td>Rizal Mantovani</td><td>81002850</td></tr><tr><td>Han Yan</td><td>81004470</td></tr><tr><td>Jeremy Saulnier</td><td>80157072</td></tr><tr><td>Kim A. Snyder</td><td>81001809</td></tr><tr><td>Raditya Dika</td><td>81002864</td></tr><tr><td>Rocky Soraya</td><td>81016750</td></tr><tr><td>Sunil Soraya</td><td>81002866</td></tr><tr><td>Álvaro Longoria</td><td>80992039</td></tr><tr><td>Brendan Byrne</td><td>80126507</td></tr><tr><td>Gupse Özay</td><td>81132443</td></tr><tr><td>Jim Mickle</td><td>80231903</td></tr><tr><td>Jumpei Mizusaki</td><td>81171121</td></tr><tr><td>Chi Fat Chan</td><td>81012295</td></tr><tr><td>Nabil Ayouch</td><td>80060037</td></tr><tr><td>Rob LaDuca</td><td>60003155</td></tr><tr><td>Mangesh Hadawale</td><td>81177238</td></tr><tr><td>Wong Kar Wai</td><td>70270775</td></tr><tr><td>Rob Cohen</td><td>80215923</td></tr><tr><td>Louis J. Horvitz</td><td>80151483</td></tr><tr><td>Linda Saffire</td><td>80173625</td></tr><tr><td>Luis Lopez</td><td>80005444</td></tr><tr><td>Otilia Portillo Padua</td><td>80244682</td></tr><tr><td>Le Van Kiet</td><td>81075519</td></tr><tr><td>Eric Summer</td><td>80166318</td></tr><tr><td>B. V. Nandini Reddy</td><td>81186758</td></tr><tr><td>B. V. Nandini Reddy</td><td>81186757</td></tr><tr><td>Mario Van Peebles</td><td>80108976</td></tr><tr><td>Ava DuVernay</td><td>80208155</td></tr><tr><td>Sonia Lowman</td><td>80198423</td></tr><tr><td>Benjamin Turner</td><td>80162144</td></tr><tr><td>Michael J. Bassett</td><td>81053953</td></tr><tr><td>Troy Miller</td><td>81074113</td></tr><tr><td>Tan Bing</td><td>80992496</td></tr><tr><td>Warren P. Sonoda</td><td>70304191</td></tr><tr><td>Álex de la Iglesia</td><td>80103311</td></tr><tr><td>Rahul Ravindran</td><td>81176200</td></tr><tr><td>Archie Borders</td><td>80208906</td></tr><tr><td>Bonni Cohen</td><td>80097321</td></tr><tr><td>Bobcat Goldthwait</td><td>80106966</td></tr><tr><td>Deepti Naval</td><td>81080769</td></tr><tr><td>Morgan Neville</td><td>70267838</td></tr><tr><td>Anthony Byrne</td><td>80211380</td></tr><tr><td>Chris Moukarbel</td><td>80196586</td></tr><tr><td>Ana Lily Amirpour</td><td>80099204</td></tr><tr><td>Alex Winter</td><td>80059432</td></tr><tr><td>Kemi Adetiba</td><td>81172721</td></tr><tr><td>Toka McBaror</td><td>81172727</td></tr><tr><td>Gilles Paquet-Brenner</td><td>70153543</td></tr><tr><td>Niyi Akinmolayan</td><td>81172728</td></tr><tr><td>Rashida Jones</td><td>80102952</td></tr><tr><td>Scott Aukerman</td><td>80243600</td></tr><tr><td>Mariano Barroso</td><td>81020523</td></tr><tr><td>Amara Cash</td><td>81122669</td></tr><tr><td>Kiko Cruz Claverol</td><td>81000389</td></tr><tr><td>Bedran Güzel</td><td>81132439</td></tr><tr><td>Chun Wong</td><td>80150502</td></tr><tr><td>Coerte Voorhees</td><td>80119815</td></tr><tr><td>Samuel D. Pollard</td><td>80993149</td></tr><tr><td>Ham Tran</td><td>80203776</td></tr><tr><td>Feng Xiaogang</td><td>80143797</td></tr><tr><td>Gary Michael Schultz</td><td>80161931</td></tr><tr><td>Liv Ullmann</td><td>80017275</td></tr><tr><td>Sandeep Reddy Vanga</td><td>81107545</td></tr><tr><td>Jacques Perrin</td><td>70118953</td></tr><tr><td>Justin Benson</td><td>80190449</td></tr><tr><td>Michael Bonfiglio</td><td>80163156</td></tr><tr><td>Zack Whedon</td><td>80149143</td></tr><tr><td>Eric Stoltz</td><td>80987075</td></tr><tr><td>Conrad Helten</td><td>80192815</td></tr><tr><td>Morgan Neville</td><td>80066798</td></tr><tr><td>Teo Konuralp</td><td>81147293</td></tr><tr><td>Jesse V. Johnson</td><td>80991316</td></tr><tr><td>Chris Perkel</td><td>80190588</td></tr><tr><td>Cheh Chang</td><td>70124316</td></tr><tr><td>Manny Rodriguez</td><td>70229037</td></tr><tr><td>Robert Eggers</td><td>80037280</td></tr><tr><td>Chuck Russell</td><td>80058248</td></tr><tr><td>John Erick Dowdle</td><td>70307661</td></tr><tr><td>Edgar Wright</td><td>70117312</td></tr><tr><td>Tony Elliott</td><td>80092885</td></tr><tr><td>Troy Miller</td><td>80108371</td></tr><tr><td>Louis C.K.</td><td>70129452</td></tr><tr><td>Jeremy Coon</td><td>80045805</td></tr><tr><td>Orlando von Einsiedel</td><td>80101827</td></tr><tr><td>Tom Donahue</td><td>81030342</td></tr><tr><td>Michèle Ohayon</td><td>70054723</td></tr><tr><td>Timothy Woodward Jr.</td><td>81131761</td></tr><tr><td>Nia Dinata</td><td>81016326</td></tr><tr><td>Mark O'Connor</td><td>80227777</td></tr><tr><td>Ajithkumar</td><td>81018233</td></tr><tr><td>Lucky Kuswandi</td><td>81016317</td></tr><tr><td>Riri Riza</td><td>81016337</td></tr><tr><td>Vijay Milton</td><td>81018234</td></tr><tr><td>Susannah Heath-Eves</td><td>81018241</td></tr><tr><td>Santwana Bardoloi</td><td>81018235</td></tr><tr><td>Atanu Ghosh</td><td>81018236</td></tr><tr><td>Amitava Bhattacharya</td><td>81018237</td></tr><tr><td>Partha Chakraborty</td><td>81018238</td></tr><tr><td>Raffi Ahmad</td><td>81016339</td></tr><tr><td>Angelina Jolie</td><td>80067522</td></tr><tr><td>Pavel Parkhomenko</td><td>80192149</td></tr><tr><td>Azfar Jafri</td><td>80142637</td></tr><tr><td>R. Ellis Frazier</td><td>80192014</td></tr><tr><td>R. Ellis Frazier</td><td>80192015</td></tr><tr><td>Yance Ford</td><td>80168230</td></tr><tr><td>Mark Tonderai</td><td>80202129</td></tr><tr><td>Roman Atwood</td><td>80088910</td></tr><tr><td>Dan Forrer</td><td>70290909</td></tr><tr><td>Kip Andersen</td><td>80033772</td></tr><tr><td>B. V. Nandini Reddy</td><td>81093951</td></tr><tr><td>Randall Lobb</td><td>80238013</td></tr><tr><td>Stacie Passon</td><td>81089941</td></tr><tr><td>Manop Janjarasskul</td><td>81000011</td></tr><tr><td>Shinsuke Sato</td><td>80217733</td></tr><tr><td>Chatchai Katenut</td><td>80999985</td></tr><tr><td>Ariel Vromen</td><td>80188120</td></tr><tr><td>Nicole Holofcener</td><td>80164779</td></tr><tr><td>Jerry G. Angelo</td><td>81092328</td></tr><tr><td>Michael Feifer</td><td>81183572</td></tr><tr><td>Elle Callahan</td><td>81037283</td></tr><tr><td>Alex Stapleton</td><td>80244973</td></tr><tr><td>Kıvanç Baruönü</td><td>81132438</td></tr><tr><td>Teng Huatao</td><td>81161230</td></tr><tr><td>Nzingha Stewart</td><td>81002412</td></tr><tr><td>Mark Dennis</td><td>81023636</td></tr><tr><td>Ben Wallis</td><td>80198046</td></tr><tr><td>Dan Krauss</td><td>80106307</td></tr><tr><td>David Soren</td><td>70267728</td></tr><tr><td>Alessio Cremonini</td><td>81001000</td></tr><tr><td>Elaine McMillion Sheldon</td><td>80192445</td></tr><tr><td>Michael Simon</td><td>80158670</td></tr><tr><td>Joram Lürsen</td><td>80244019</td></tr><tr><td>Oliver Frampton</td><td>80162143</td></tr><tr><td>Mike Binder</td><td>81060174</td></tr><tr><td>Ryan Murphy</td><td>70130445</td></tr><tr><td>Orlando von Einsiedel</td><td>80216928</td></tr><tr><td>Mark Franchetti</td><td>81001494</td></tr><tr><td>Damián Romay</td><td>80991570</td></tr><tr><td>Trent Haaga</td><td>80184129</td></tr><tr><td>Mary Harron</td><td>60000861</td></tr><tr><td>Roger Donaldson</td><td>1151375</td></tr><tr><td>Petra Costa</td><td>81137484</td></tr><tr><td>Steven C. Miller</td><td>80187228</td></tr><tr><td>Richard Miron</td><td>81031008</td></tr><tr><td>Tony Leondis</td><td>70099119</td></tr><tr><td>Roger Kumble</td><td>70039185</td></tr><tr><td>Kunle Afolayan</td><td>81165769</td></tr><tr><td>Craig Gillespie</td><td>70056433</td></tr><tr><td>Nick Cassavetes</td><td>70113003</td></tr><tr><td>Clint Eastwood</td><td>60031232</td></tr><tr><td>Kunle Afolayan</td><td>80032842</td></tr><tr><td>Petra Costa</td><td>81137482</td></tr><tr><td>Roger Allers</td><td>70043308</td></tr><tr><td>Kunle Afolayan</td><td>81165771</td></tr><tr><td>Wolfgang Petersen</td><td>70044697</td></tr><tr><td>Jonathan Demme</td><td>70105368</td></tr><tr><td>Bernie Denk</td><td>81141689</td></tr><tr><td>Ivan Reitman</td><td>1008581</td></tr><tr><td>Greg Mottola</td><td>70058023</td></tr><tr><td>Kunle Afolayan</td><td>81165786</td></tr><tr><td>Kunle Afolayan</td><td>81165770</td></tr><tr><td>Alejandro Agresti</td><td>70043303</td></tr><tr><td>Daniel Stamm</td><td>70136074</td></tr><tr><td>Phillip Noyce</td><td>1153194</td></tr><tr><td>Tony Scott</td><td>70112730</td></tr><tr><td>Ahmed Zain</td><td>81158575</td></tr><tr><td>Mohamed Hamdy</td><td>81065786</td></tr><tr><td>Dennis Dugan</td><td>70087541</td></tr><tr><td>Peter Ho</td><td>81004113</td></tr><tr><td>Jordi Llompart</td><td>81003984</td></tr><tr><td>Rian Johnson</td><td>70024088</td></tr><tr><td>Olivier Marchal</td><td>81005312</td></tr><tr><td>Dennis Iliadis</td><td>80082969</td></tr><tr><td>Qaushiq Mukherjee</td><td>80994130</td></tr><tr><td>Sudip Bandyopadhyay</td><td>81019924</td></tr><tr><td>Onir</td><td>81018240</td></tr><tr><td>Jatla Siddartha</td><td>81013710</td></tr><tr><td>Jeremy Saulnier</td><td>70077076</td></tr><tr><td>Kanwal Sethi</td><td>81014988</td></tr><tr><td>Banjong Pisanthanakun</td><td>80102950</td></tr><tr><td>Alfonso Cuarón</td><td>70055221</td></tr><tr><td>Samuel Jouy</td><td>81005314</td></tr><tr><td>Akiva Goldsman</td><td>80242828</td></tr><tr><td>Damien Leone</td><td>81004223</td></tr><tr><td>Karen Moncrieff</td><td>80198730</td></tr><tr><td>Jean-Pierre Devillers</td><td>80999945</td></tr><tr><td>Sophon Sakdaphisit</td><td>81016043</td></tr><tr><td>Curtis Hanson</td><td>17672040</td></tr><tr><td>Young Jun Lee</td><td>81011096</td></tr><tr><td>Rajiv Mehra</td><td>20254278</td></tr><tr><td>Toshiyuki Kubooka</td><td>70276596</td></tr><tr><td>Toshiyuki Kubooka</td><td>80063025</td></tr><tr><td>Todd S. Yellin</td><td>70068739</td></tr><tr><td>Jesse Adang</td><td>80184974</td></tr><tr><td>Rajiv Mehra</td><td>80156941</td></tr><tr><td>Elizabeth Chai Vasarhelyi</td><td>80061314</td></tr><tr><td>Toshiya Shinohara</td><td>70052492</td></tr><tr><td>Toshiya Shinohara</td><td>70036200</td></tr><tr><td>Toshiya Shinohara</td><td>70018513</td></tr><tr><td>Mohammed Hussain</td><td>80158480</td></tr><tr><td>Eli Craig</td><td>80139506</td></tr><tr><td>Parambrata Chatterjee</td><td>80205314</td></tr><tr><td>Shammi Kapoor</td><td>80158545</td></tr><tr><td>Umesh Mehra</td><td>80156939</td></tr><tr><td>Masahiko Murata</td><td>80152537</td></tr><tr><td>Masahiko Murata</td><td>80045673</td></tr><tr><td>Masahiko Murata</td><td>70275937</td></tr><tr><td>Hirotsugu Kawasaki</td><td>70101321</td></tr><tr><td>Toshiyuki Tsuru</td><td>70108386</td></tr><tr><td>Tensai Okamura</td><td>70074559</td></tr><tr><td>Florian Schnell</td><td>80162197</td></tr><tr><td>Josh Izenberg</td><td>80184055</td></tr><tr><td>Thierry Demaizière</td><td>80160358</td></tr><tr><td>Spike Lee</td><td>60034929</td></tr><tr><td>Latif Faiziyev</td><td>80157134</td></tr><tr><td>Gastón Duprat</td><td>80141891</td></tr><tr><td>Bette Gordon</td><td>80183897</td></tr><tr><td>Gary Wang</td><td>80177834</td></tr><tr><td>Raz Degan</td><td>80121855</td></tr><tr><td>Israel Adrián Caetano</td><td>80168028</td></tr><tr><td>Mariano Cohn</td><td>80190990</td></tr><tr><td>Drew Stone</td><td>80173269</td></tr><tr><td>Joram Lürsen</td><td>80106140</td></tr><tr><td>Jelle de Jonge</td><td>80106137</td></tr><tr><td>Afia Nathaniel</td><td>80114155</td></tr><tr><td>Luke Jurevicius</td><td>80118841</td></tr><tr><td>Sean Cisterna</td><td>80102579</td></tr><tr><td>Will Allen</td><td>80097438</td></tr><tr><td>Nacho G. Velilla</td><td>80114419</td></tr><tr><td>David Serrano</td><td>80103426</td></tr><tr><td>Jay Chapman</td><td>70278877</td></tr><tr><td>Jenny Gage</td><td>80244311</td></tr><tr><td>Kaila York</td><td>81183570</td></tr><tr><td>Ifa Isfansyah</td><td>81016328</td></tr><tr><td>Stan Lathan</td><td>80239503</td></tr><tr><td>Angga Dwimas Sasongko</td><td>81016321</td></tr><tr><td>Evgeny Afineevsky</td><td>80031666</td></tr><tr><td>Ryan Polito</td><td>80995737</td></tr><tr><td>Kabir Bhatia</td><td>81020161</td></tr><tr><td>Russell Crowe</td><td>80025390</td></tr><tr><td>Andrew Sandler</td><td>80196216</td></tr><tr><td>Ava DuVernay</td><td>80091741</td></tr><tr><td>Dave Higby</td><td>80115464</td></tr><tr><td>Richie Smyth</td><td>80041653</td></tr><tr><td>Andibachtiar Yusuf</td><td>81016338</td></tr><tr><td>Dustin Nguyen</td><td>81002592</td></tr><tr><td>Chris Eigeman</td><td>81017724</td></tr><tr><td>Stanley Tong</td><td>80170301</td></tr><tr><td>David France</td><td>80189623</td></tr><tr><td>Vandana Kataria</td><td>81177367</td></tr><tr><td>Angga Dwimas Sasongko</td><td>81016323</td></tr><tr><td>Riri Riza</td><td>81016318</td></tr><tr><td>Olaf de Fleur</td><td>80242081</td></tr><tr><td>Tamara Jenkins</td><td>80168222</td></tr><tr><td>Onur Bilgetay</td><td>81158574</td></tr><tr><td>Vincenzo Natali</td><td>80237905</td></tr><tr><td>Tugçe Soysop</td><td>81132440</td></tr><tr><td>Jacob Joice</td><td>81021243</td></tr><tr><td>Craig Goodwill</td><td>81004460</td></tr><tr><td>Riri Riza</td><td>81016330</td></tr><tr><td>Mickey Liddell</td><td>70105130</td></tr><tr><td>Michael D. Black</td><td>80141858</td></tr><tr><td>Juani Libonatti</td><td>81084225</td></tr><tr><td>DJ Chen</td><td>80203920</td></tr><tr><td>Dani de la Torre</td><td>80199806</td></tr><tr><td>Jerrold Tarog</td><td>80084834</td></tr><tr><td>Judah Friedlander</td><td>80208273</td></tr><tr><td>Errol Morris</td><td>80145699</td></tr><tr><td>Oliver Blackburn</td><td>70266684</td></tr><tr><td>Park Joon-hwa</td><td>81166978</td></tr><tr><td>Saravana Rajendran</td><td>81177371</td></tr><tr><td>Onir</td><td>70067230</td></tr><tr><td>Jitendra Tiwari</td><td>80207446</td></tr><tr><td>Vivek Wagh</td><td>80207447</td></tr><tr><td>Riri Riza</td><td>81016324</td></tr><tr><td>Alex Israel</td><td>80192097</td></tr><tr><td>Lee Fulkerson</td><td>70185045</td></tr><tr><td>Joe Camp</td><td>70002129</td></tr><tr><td>Kavi Raz</td><td>80191963</td></tr><tr><td>Nick Simon</td><td>80218099</td></tr><tr><td>Don Mancini</td><td>80199767</td></tr><tr><td>Brandon Jones</td><td>80191665</td></tr><tr><td>Alain Desrochers</td><td>80161921</td></tr><tr><td>Brian Volk-Weiss</td><td>81148672</td></tr><tr><td>Deniz Gamze Ergüven</td><td>80224362</td></tr><tr><td>Robert Vince</td><td>80092857</td></tr><tr><td>Everardo González</td><td>80244679</td></tr><tr><td>Matt Kay</td><td>81110394</td></tr><tr><td>Drake Doremus</td><td>80067754</td></tr><tr><td>Robert Vince</td><td>80189954</td></tr><tr><td>Osgood Perkins</td><td>80094648</td></tr><tr><td>Werner Herzog</td><td>80066073</td></tr><tr><td>Julien Rambaldi</td><td>80123740</td></tr><tr><td>Yvan Attal</td><td>80123741</td></tr><tr><td>Benjamin Weill</td><td>80123742</td></tr><tr><td>Scott Hussion</td><td>81000863</td></tr><tr><td>Wilson Yip</td><td>70082255</td></tr><tr><td>Griffin Dunne</td><td>80117454</td></tr><tr><td>Roger Gual</td><td>80095197</td></tr><tr><td>J. Davis</td><td>80045783</td></tr><tr><td>Rob Smat</td><td>81123469</td></tr><tr><td>Tinge Krishnan</td><td>80211622</td></tr><tr><td>Aleksey German</td><td>80990221</td></tr><tr><td>Eric Zaragosa</td><td>80202352</td></tr><tr><td>Sergio Barrejón</td><td>80235268</td></tr><tr><td>Sandi Tan</td><td>80241061</td></tr><tr><td>Vijay Yelakanti</td><td>81025088</td></tr><tr><td>Katherine Dieckmann</td><td>80173479</td></tr><tr><td>Natalie Portman</td><td>80081372</td></tr><tr><td>John Murlowski</td><td>81136744</td></tr><tr><td>Ozan Açıktan</td><td>81132444</td></tr><tr><td>Craig Brewer</td><td>80182014</td></tr><tr><td>Billy Lyons</td><td>81078456</td></tr><tr><td>Michael Steed</td><td>81121023</td></tr><tr><td>Zak Hilditch</td><td>81018455</td></tr><tr><td>Michael Steiner</td><td>81110383</td></tr><tr><td>Vlad Yudin</td><td>81018183</td></tr><tr><td>Paul Berczeller</td><td>80219941</td></tr><tr><td>Quentin Tarantino</td><td>80064515</td></tr><tr><td>Chris Buck</td><td>80062011</td></tr><tr><td>Andrew Slater</td><td>81034741</td></tr><tr><td>Glen Goei</td><td>81075461</td></tr><tr><td>S.S. Rajamouli</td><td>80205231</td></tr><tr><td>Brian Klein</td><td>80158919</td></tr><tr><td>Katy Chevigny</td><td>70299286</td></tr><tr><td>Sarik Andreasyan</td><td>80017261</td></tr><tr><td>Huw Cordey</td><td>80186796</td></tr><tr><td>Yuen Woo-ping</td><td>81071891</td></tr><tr><td>Steve Brill</td><td>80224536</td></tr><tr><td>Don Michael Paul</td><td>80994444</td></tr><tr><td>Noah Baumbach</td><td>80017286</td></tr><tr><td>Jonathan Mostow</td><td>70295169</td></tr><tr><td>Brett Haley</td><td>80039050</td></tr><tr><td>Gillian Robespierre</td><td>81027753</td></tr><tr><td>Tobe Hooper</td><td>15815343</td></tr><tr><td>Daniel Benmayor</td><td>70295176</td></tr><tr><td>Abu Bakr Shawky</td><td>81043190</td></tr><tr><td>Jedd Wider</td><td>80131240</td></tr><tr><td>Nagesh Kukunoor</td><td>70170182</td></tr><tr><td>Priyadarshan</td><td>70082633</td></tr><tr><td>Raj Kanwar</td><td>70049619</td></tr><tr><td>Pooja Bhatt</td><td>80211135</td></tr><tr><td>Satish Kaushik</td><td>70109884</td></tr><tr><td>Nikhil Advani</td><td>70176967</td></tr><tr><td>Anees Bazmee</td><td>70198040</td></tr><tr><td>Andrew Bujalski</td><td>80038442</td></tr><tr><td>Ben Wheatley</td><td>80091310</td></tr><tr><td>Riri Riza</td><td>70114484</td></tr><tr><td>Anthony Giordano</td><td>80117443</td></tr><tr><td>Wyatt Cenac</td><td>80010717</td></tr><tr><td>Joanna Lombardi</td><td>81020005</td></tr><tr><td>David Batty</td><td>81035748</td></tr><tr><td>Zak Hilditch</td><td>80135164</td></tr><tr><td>Jennifer Siebel Newsom</td><td>70167128</td></tr><tr><td>Heidi Ewing</td><td>80118101</td></tr><tr><td>Jeremy Rush</td><td>80113669</td></tr><tr><td>Luis Javier Henaine</td><td>81094801</td></tr><tr><td>Anand Kamalakar</td><td>81191195</td></tr><tr><td>Don Michael Paul</td><td>80218973</td></tr><tr><td>Eric Idle</td><td>80235999</td></tr><tr><td>Anthony Giordano</td><td>80215419</td></tr><tr><td>Will Yapp</td><td>70118860</td></tr><tr><td>Eric Idle</td><td>80017240</td></tr><tr><td>Will Yapp</td><td>70118859</td></tr><tr><td>Terry Hughes</td><td>80236778</td></tr><tr><td>Roger Graef</td><td>80236470</td></tr><tr><td>Terry Jones</td><td>699257</td></tr><tr><td>Ian MacNaughton</td><td>80236574</td></tr><tr><td>Albert Sharpe</td><td>80988048</td></tr><tr><td>Leslye Headland</td><td>80039069</td></tr><tr><td>Jay Karas</td><td>80046779</td></tr><tr><td>Prakash Satam</td><td>80995687</td></tr><tr><td>Barry Sonnenfeld</td><td>60001650</td></tr><tr><td>Omoni Oboli</td><td>81172848</td></tr><tr><td>Thomas Vinterberg</td><td>81034575</td></tr><tr><td>Marcos Bucay</td><td>80226951</td></tr><tr><td>Peter Lepeniotis</td><td>80232279</td></tr><tr><td>Kim Jee-woon</td><td>80239666</td></tr><tr><td>Rajesh Touchriver</td><td>81011973</td></tr><tr><td>David Lam</td><td>80144152</td></tr><tr><td>David Batty</td><td>81035749</td></tr><tr><td>David Batty</td><td>81035750</td></tr><tr><td>David Batty</td><td>81035751</td></tr><tr><td>Timo Tjahjanto</td><td>80148162</td></tr><tr><td>Reem Kherici</td><td>80171705</td></tr><tr><td>Adze Ugah</td><td>81172729</td></tr><tr><td>Steve Gukas</td><td>81172895</td></tr><tr><td>Ciarán Foy</td><td>80206910</td></tr><tr><td>Frank Rajah Arase</td><td>81172905</td></tr><tr><td>Yılmaz Erdoğan</td><td>81132442</td></tr><tr><td>Tope Oshin</td><td>81172723</td></tr><tr><td>Daniel Sánchez Arévalo</td><td>80990336</td></tr><tr><td>Don Omope</td><td>81172909</td></tr><tr><td>Ed Perkins</td><td>80214706</td></tr><tr><td>Steven Soderbergh</td><td>80994011</td></tr><tr><td>Tope Oshin</td><td>81172902</td></tr><tr><td>Udai Singh Pawar</td><td>80998890</td></tr><tr><td>Guntur Soeharjanto</td><td>81047903</td></tr><tr><td>Thiru</td><td>81026343</td></tr><tr><td>Federico Lemos</td><td>80208635</td></tr><tr><td>Harald Zwart</td><td>70125931</td></tr><tr><td>Bruce McDonald</td><td>70235768</td></tr><tr><td>Bobcat Goldthwait</td><td>80177406</td></tr><tr><td>Bassam Tariq</td><td>81081656</td></tr><tr><td>Leslie Iwerks</td><td>81187847</td></tr><tr><td>Kim Joo-hyung</td><td>81053240</td></tr><tr><td>Ciarán Foy</td><td>80043834</td></tr><tr><td>Louie Psihoyos</td><td>81157840</td></tr><tr><td>Tom Forrest</td><td>80244900</td></tr><tr><td>Milan Luthria</td><td>80211134</td></tr><tr><td>John Crowley</td><td>70271601</td></tr><tr><td>Ranjit Tiwari</td><td>80204433</td></tr><tr><td>Tom Fassaert</td><td>80089199</td></tr><tr><td>Adam Dubin</td><td>80043049</td></tr><tr><td>Cary Joji Fukunaga</td><td>80044545</td></tr><tr><td>Aaron Hann</td><td>80070182</td></tr><tr><td>Ahmet Katıksız</td><td>80176234</td></tr><tr><td>Alexandros Avranas</td><td>80992769</td></tr><tr><td>Anindya Chatterjee</td><td>81191228</td></tr><tr><td>Anik Datta</td><td>81025935</td></tr><tr><td>Rajkumar Hirani</td><td>81020508</td></tr><tr><td>Ishaan Trivedi</td><td>80201824</td></tr><tr><td>Biswajeet Bora</td><td>80203782</td></tr><tr><td>Sohail Tatari</td><td>80201829</td></tr><tr><td>David Stubbs</td><td>80126016</td></tr><tr><td>Madhur Bhandarkar</td><td>80202089</td></tr><tr><td>Parveen Kumar</td><td>80203789</td></tr><tr><td>Matías Gueilburt</td><td>80193423</td></tr><tr><td>Ananth Narayan Mahadevan</td><td>80201825</td></tr><tr><td>Ah Loong</td><td>80202376</td></tr><tr><td>Girish Malik</td><td>80028360</td></tr><tr><td>Debaloy Dey</td><td>80203783</td></tr><tr><td>Martin Rosete</td><td>80142617</td></tr><tr><td>Jasmine D'Souza</td><td>80201823</td></tr><tr><td>Ben C. Lucas</td><td>80190841</td></tr><tr><td>Rohit Jugraj</td><td>80115858</td></tr><tr><td>Shakti Samanta</td><td>80158547</td></tr><tr><td>Raj B. Shetty</td><td>80206827</td></tr><tr><td>Navneet Behal</td><td>80202090</td></tr><tr><td>Sukhbir Singh</td><td>80203790</td></tr><tr><td>Naresh Saigal</td><td>80158391</td></tr><tr><td>Ram Gopal Varma</td><td>80201822</td></tr><tr><td>Dhruv Dhawan</td><td>80211540</td></tr><tr><td>Thomas Sorriaux</td><td>80123743</td></tr><tr><td>Toshiyuki Kubooka</td><td>70258995</td></tr><tr><td>Noriyuki Abe</td><td>70208801</td></tr><tr><td>Noriyuki Abe</td><td>70260383</td></tr><tr><td>Clovis Cornillac</td><td>80123744</td></tr><tr><td>Hajime Kamegaki</td><td>70105699</td></tr><tr><td>Hajime Kamegaki</td><td>70124999</td></tr><tr><td>Jean-François Blais</td><td>80990869</td></tr><tr><td>Derek Hui</td><td>80187205</td></tr><tr><td>Kevin MacDonald</td><td>80097472</td></tr><tr><td>Stefano Sollima</td><td>80075009</td></tr><tr><td>Dave Higby</td><td>70280748</td></tr><tr><td>Leïla Sy</td><td>81034012</td></tr><tr><td>Shaad Ali</td><td>81019031</td></tr><tr><td>Mahmoud al Massad</td><td>80148070</td></tr><tr><td>Yesim Ustaoglu</td><td>80155812</td></tr><tr><td>Jan Suter</td><td>80183198</td></tr><tr><td>Lucy Cohen</td><td>80158844</td></tr><tr><td>McG</td><td>80164456</td></tr><tr><td>Noah Baumbach</td><td>80174434</td></tr><tr><td>Christopher Guest</td><td>80075476</td></tr><tr><td>Gareth Evans</td><td>80158148</td></tr><tr><td>Paul Urkijo Alijo</td><td>80239565</td></tr><tr><td>Johanna Demetrakas</td><td>80216844</td></tr><tr><td>Padraic McKinley</td><td>80187722</td></tr><tr><td>Rizal Mantovani</td><td>81021082</td></tr><tr><td>Kief Davidson</td><td>80191047</td></tr><tr><td>Sara Colangelo</td><td>80240972</td></tr><tr><td>Mahmoud Sabbagh</td><td>80103282</td></tr><tr><td>Borja Cobeaga</td><td>80134526</td></tr><tr><td>Jonathan Demme</td><td>80127559</td></tr><tr><td>Leo Riley</td><td>80005501</td></tr><tr><td>Hakan Algül</td><td>81132441</td></tr><tr><td>Vince Gilligan</td><td>81078819</td></tr><tr><td>Brad Anderson</td><td>80223997</td></tr><tr><td>Bolanle Austen-Peters</td><td>81191666</td></tr><tr><td>Sion Sono</td><td>81133621</td></tr><tr><td>Dennis Rovira van Boekholt</td><td>81038598</td></tr><tr><td>Angga Dwimas Sasongko</td><td>81016322</td></tr><tr><td>Mohamed Diab</td><td>80147323</td></tr><tr><td>Naoto Amazutsumi</td><td>81171871</td></tr><tr><td>Paul Greengrass</td><td>80210932</td></tr><tr><td>Rusty Cundieff</td><td>81015317</td></tr><tr><td>Jay Karas</td><td>80205204</td></tr><tr><td>Alastair Fothergill</td><td>70235731</td></tr><tr><td>James Yukich</td><td>80003481</td></tr><tr><td>Maciej Dejczer</td><td>81168338</td></tr><tr><td>Rusty Nixon</td><td>81103033</td></tr><tr><td>Lee Tamahori</td><td>60002273</td></tr><tr><td>Richard Rich</td><td>70297962</td></tr><tr><td>Michael Bay</td><td>269880</td></tr><tr><td>Michael Bay</td><td>60029167</td></tr><tr><td>Ted Demme</td><td>60020891</td></tr><tr><td>Bernard Rose</td><td>347365</td></tr><tr><td>McG</td><td>60003242</td></tr><tr><td>McG</td><td>60027726</td></tr><tr><td>Lee Yoon-jung</td><td>81166946</td></tr><tr><td>Paul Haggis</td><td>70023961</td></tr><tr><td>Troy Miller</td><td>60027716</td></tr><tr><td>Dave Green</td><td>70287957</td></tr><tr><td>Wojciech Marczewski</td><td>81168345</td></tr><tr><td>Andrzej Bartkowiak</td><td>60020892</td></tr><tr><td>Roy Poortmans</td><td>81164752</td></tr><tr><td>Brian Robbins</td><td>60028097</td></tr><tr><td>Mark Helfrich</td><td>70065112</td></tr><tr><td>Jon Hurwitz</td><td>70083108</td></tr><tr><td>Bille Woodruff</td><td>70184050</td></tr><tr><td>Janusz Majewski</td><td>81168347</td></tr><tr><td>Alex Merkin</td><td>81003460</td></tr><tr><td>Janusz Majewski</td><td>81168348</td></tr><tr><td>Alex Proyas</td><td>70095135</td></tr><tr><td>Vrinda Samartha</td><td>81191254</td></tr><tr><td>Jacek Koprowicz</td><td>81168340</td></tr><tr><td>Barry Sonnenfeld</td><td>60023597</td></tr><tr><td>Nicholaus Goossen</td><td>81002876</td></tr><tr><td>Scott Hicks</td><td>70058017</td></tr><tr><td>Steven Soderbergh</td><td>70058024</td></tr><tr><td>Steven Soderbergh</td><td>70011211</td></tr><tr><td>Morgan Spurlock</td><td>70271599</td></tr><tr><td>Martin Scorsese</td><td>70020699</td></tr><tr><td>Stig Bergqvist</td><td>60003540</td></tr><tr><td>Wes Craven</td><td>1181550</td></tr><tr><td>Asif Kapadia</td><td>70170051</td></tr><tr><td>Robert Rodriguez</td><td>70021630</td></tr><tr><td>Dorian Fernández-Moris</td><td>81043753</td></tr><tr><td>Jeannot Szwarc</td><td>60001761</td></tr><tr><td>Bryan Singer</td><td>70041963</td></tr><tr><td>Ash Brannon</td><td>70058025</td></tr><tr><td>Andy Tennant</td><td>70128696</td></tr><tr><td>Rob Reiner</td><td>70077542</td></tr><tr><td>Marek Piwowski</td><td>81168342</td></tr><tr><td>Kunle Afolayan</td><td>81165772</td></tr><tr><td>Brian Levant</td><td>510854</td></tr><tr><td>Brian Levant</td><td>60000921</td></tr><tr><td>Stanisław Różewicz</td><td>81168343</td></tr><tr><td>Gabriele Muccino</td><td>70044605</td></tr><tr><td>Igor Kovalyov</td><td>18021979</td></tr><tr><td>Krzysztof Zanussi</td><td>81168344</td></tr><tr><td>Noah Baumbach</td><td>70020750</td></tr><tr><td>Robert Schwentke</td><td>70105596</td></tr><tr><td>Danny Boyle</td><td>60037022</td></tr><tr><td>Wolfgang Petersen</td><td>60034571</td></tr><tr><td>Paul Feig</td><td>70053456</td></tr><tr><td>Alex Smith</td><td>80173150</td></tr><tr><td>Antoni Krauze</td><td>81168341</td></tr><tr><td>Stanisław Różewicz</td><td>81168346</td></tr><tr><td>Simranjit Singh Hundal</td><td>80137461</td></tr><tr><td>Justin G. Dyck</td><td>81012857</td></tr><tr><td>Ram Gopal Varma</td><td>70123116</td></tr><tr><td>N. Linguswamy</td><td>80190101</td></tr><tr><td>Deep Joshi</td><td>81024712</td></tr><tr><td>Antoine Fuqua</td><td>70112494</td></tr><tr><td>John Curran</td><td>80215922</td></tr><tr><td>Rakeysh Omprakash Mehra</td><td>70113306</td></tr><tr><td>Anurag Kashyap</td><td>70113305</td></tr><tr><td>Manjeet Maan</td><td>80032472</td></tr><tr><td>Shagufta Rafique</td><td>81024703</td></tr><tr><td>Shakun Batra</td><td>70181653</td></tr><tr><td>Andrew Renzi</td><td>80048200</td></tr><tr><td>Tinu Pappachan</td><td>81025884</td></tr><tr><td>Amitoj Mann</td><td>80032474</td></tr><tr><td>Amarpreet G S Chabbra</td><td>80032476</td></tr><tr><td>Paresh Mokashi</td><td>70127589</td></tr><tr><td>Anurag Basu</td><td>80104130</td></tr><tr><td>Rohit Jugraj</td><td>80032473</td></tr><tr><td>Ashutosh Gowariker</td><td>70090035</td></tr><tr><td>Atharv Baluja</td><td>81024713</td></tr><tr><td>Vishal Bhardwaj</td><td>70117268</td></tr><tr><td>Leslie Small</td><td>70211216</td></tr><tr><td>Shannon Hartman</td><td>70140322</td></tr><tr><td>Rohit Jugraj</td><td>81024696</td></tr><tr><td>Shashanka Ghosh</td><td>70303428</td></tr><tr><td>Steve Greenwood</td><td>81012407</td></tr><tr><td>Puneet Sira</td><td>70125882</td></tr><tr><td>Aziz Mirza</td><td>70101039</td></tr><tr><td>Renzil D'Silva</td><td>70123121</td></tr><tr><td>Smeep Kang</td><td>80152182</td></tr><tr><td>Sameer Sharma</td><td>70229042</td></tr><tr><td>Chandan Arora</td><td>70042756</td></tr><tr><td>Baljit Singh Deo</td><td>80187618</td></tr><tr><td>Amitoj Mann</td><td>81024704</td></tr><tr><td>Jennifer Peedom</td><td>80221498</td></tr><tr><td>Mysskin</td><td>70229047</td></tr><tr><td>Rajan Madhav</td><td>70229555</td></tr><tr><td>Raaghav Dar</td><td>70213515</td></tr><tr><td>Ishi Rudell</td><td>81018563</td></tr><tr><td>Ishi Rudell</td><td>81018565</td></tr><tr><td>David Lee Miller</td><td>70114948</td></tr><tr><td>Thiru</td><td>80190103</td></tr><tr><td>Amit Saxena</td><td>81024729</td></tr><tr><td>Pankaj Batra</td><td>80032477</td></tr><tr><td>Jaivi Dhanda</td><td>81024711</td></tr><tr><td>Suman Ghosh</td><td>81025908</td></tr><tr><td>Kabir Khan</td><td>70303495</td></tr><tr><td>Akshay Akkineni</td><td>70303429</td></tr><tr><td>Nidhi Sharma</td><td>80084768</td></tr><tr><td>Mastan Alibhai Burmawalla</td><td>70096752</td></tr><tr><td>Abbas Alibhai Burmawalla</td><td>70229046</td></tr><tr><td>Vipin Parashar</td><td>80084767</td></tr><tr><td>Vikram Pradhan</td><td>81024701</td></tr><tr><td>Vijay</td><td>70229048</td></tr><tr><td>Eduardo Chauvet</td><td>80995576</td></tr><tr><td>Sundar C.</td><td>70292836</td></tr><tr><td>Sartaj Singh Pannu</td><td>80141767</td></tr><tr><td>Vikramaditya Motwane</td><td>70139542</td></tr><tr><td>James McTeigue</td><td>70039175</td></tr><tr><td>N. Linguswamy</td><td>70225597</td></tr><tr><td>Ayaan Mukherji</td><td>70123119</td></tr><tr><td>Sidharth Malhotra</td><td>70150437</td></tr><tr><td>Saket Behl</td><td>80084667</td></tr><tr><td>Kevin Smith</td><td>70099118</td></tr><tr><td>Anjum Shahzad</td><td>81024705</td></tr><tr><td>Geun-hyun Cho</td><td>80198771</td></tr><tr><td>Christian Desmares</td><td>80062096</td></tr><tr><td>Kyran Kelly</td><td>70291096</td></tr><tr><td>Adam Wood</td><td>70130483</td></tr><tr><td>Zeke Norton</td><td>80031038</td></tr><tr><td>Karen J. Lloyd</td><td>80065930</td></tr><tr><td>Andrew Tan</td><td>80112370</td></tr><tr><td>William Lau</td><td>70165189</td></tr><tr><td>Ezekiel Norton</td><td>70197459</td></tr><tr><td>Conrad Helten</td><td>80095193</td></tr><tr><td>Ezekiel Norton</td><td>70246439</td></tr><tr><td>Conrad Helten</td><td>80158155</td></tr><tr><td>Alê Abreu</td><td>80063617</td></tr><tr><td>Carlos Therón</td><td>80202503</td></tr><tr><td>Francesco Carrozzini</td><td>80147971</td></tr><tr><td>Noah Baumbach</td><td>70257412</td></tr><tr><td>Vlad Yudin</td><td>80172937</td></tr><tr><td>Karen J. Lloyd</td><td>80118280</td></tr><tr><td>Benjamin Turner</td><td>80135360</td></tr><tr><td>Steve Race</td><td>70286355</td></tr><tr><td>Brett Harvey</td><td>80150246</td></tr><tr><td>Roger Allers</td><td>80017272</td></tr><tr><td>Keiichi Hara</td><td>80075828</td></tr><tr><td>William Lau</td><td>80095089</td></tr><tr><td>Audu Paden</td><td>80208176</td></tr><tr><td>Claude Barras</td><td>80116741</td></tr><tr><td>Jean-Loup Felicioli</td><td>80063290</td></tr><tr><td>Toa Fraser</td><td>80162195</td></tr><tr><td>Vibeke Idsøe</td><td>80106036</td></tr><tr><td>Chan-sang Lim</td><td>80198687</td></tr><tr><td>Kyoko Miyake</td><td>80163353</td></tr><tr><td>Carlos Algara</td><td>80162246</td></tr><tr><td>Stephen Donnelly</td><td>80112371</td></tr><tr><td>Mikhil Musale</td><td>80208413</td></tr><tr><td>Riccardo Pilizzeri</td><td>80128277</td></tr><tr><td>Guilherme Fontes</td><td>80094453</td></tr><tr><td>Aamir Bashir</td><td>70153553</td></tr><tr><td>Alejandro Fernández Almendras</td><td>80098709</td></tr><tr><td>Álex de la Iglesia</td><td>80092849</td></tr><tr><td>Ishi Rudell</td><td>80107372</td></tr><tr><td>David Schalko</td><td>80138584</td></tr><tr><td>Pieter Kuijpers</td><td>80106138</td></tr><tr><td>Prashant Nair</td><td>80038288</td></tr><tr><td>Paul Taublieb</td><td>80109089</td></tr><tr><td>Riccardo Milani</td><td>80061797</td></tr><tr><td>Larry Elikann</td><td>70206821</td></tr><tr><td>Robert Markowitz</td><td>70206816</td></tr><tr><td>Eric Laneuville</td><td>60022914</td></tr><tr><td>Joel Oliansky</td><td>70206818</td></tr><tr><td>Roy Campanella II</td><td>70206819</td></tr><tr><td>Arthur Allan Seidelman</td><td>70206822</td></tr><tr><td>John Herzfeld</td><td>70206820</td></tr><tr><td>Buzz Kulik</td><td>70206823</td></tr><tr><td>Richard Michaels</td><td>70206824</td></tr><tr><td>Linda Otto</td><td>70206825</td></tr><tr><td>Roger Young</td><td>70206826</td></tr><tr><td>Vincent Kok</td><td>81029831</td></tr><tr><td>Fellipe Barbosa</td><td>80194289</td></tr><tr><td>Christian Zübert</td><td>80191219</td></tr><tr><td>David Mackenzie</td><td>80190859</td></tr><tr><td>David Palmer</td><td>70243445</td></tr><tr><td>Luke Snellin</td><td>80201542</td></tr><tr><td>Xavier Durringer</td><td>81079723</td></tr><tr><td>Jack C. Newell</td><td>81003058</td></tr><tr><td>Cecilia Atán</td><td>80236993</td></tr><tr><td>Gus Van Sant</td><td>80057565</td></tr><tr><td>Saratswadee Wongsomphet</td><td>81002596</td></tr><tr><td>Kirati Nakintanon</td><td>81002597</td></tr><tr><td>Antongiulio Panizzi</td><td>80148275</td></tr><tr><td>Pawan Kumar</td><td>80127886</td></tr><tr><td>Patricia Rozema</td><td>80080491</td></tr><tr><td>Trey Edward Shults</td><td>80046777</td></tr><tr><td>Christian Charles</td><td>60024976</td></tr><tr><td>Bronwen Hughes</td><td>80173002</td></tr><tr><td>Orlando von Einsiedel</td><td>80009431</td></tr><tr><td>Phillip Youmans</td><td>81092045</td></tr><tr><td>Zhang Yimou</td><td>81034600</td></tr><tr><td>John Ridley</td><td>80183783</td></tr><tr><td>Lucas Margutti</td><td>81209203</td></tr><tr><td>Neal Brennan</td><td>81058497</td></tr><tr><td>Azazel Jacobs</td><td>80167628</td></tr><tr><td>Jung Ji-woo</td><td>81165326</td></tr><tr><td>Leslie Small</td><td>81053961</td></tr><tr><td>Tejas Prabha Vijay Deoskar</td><td>81029848</td></tr><tr><td>Anees Bazmee</td><td>80204460</td></tr><tr><td>Jim Fall</td><td>70209267</td></tr><tr><td>Marita Grabiak</td><td>70306305</td></tr><tr><td>Jason Priestley</td><td>70262831</td></tr><tr><td>Neill Blomkamp</td><td>70113005</td></tr><tr><td>Noah Baumbach</td><td>70052286</td></tr><tr><td>Matt D'Avella</td><td>80114460</td></tr><tr><td>Parthiban</td><td>81206389</td></tr><tr><td>Morgan Matthews</td><td>80196135</td></tr><tr><td>Marcus Raboy</td><td>80117461</td></tr><tr><td>Kief Davidson</td><td>80117533</td></tr><tr><td>Luis Ara</td><td>81197050</td></tr><tr><td>Abhishek Sharma</td><td>81213894</td></tr><tr><td>John Schultz</td><td>80238204</td></tr><tr><td>Damien O’Connor</td><td>80230507</td></tr><tr><td>Joseduardo Giordano</td><td>80990725</td></tr><tr><td>Rudy Soedjarwo</td><td>81016327</td></tr><tr><td>Alice Rohrwacher</td><td>81004245</td></tr><tr><td>Kabir Bhatia</td><td>81033200</td></tr><tr><td>Nandita Das</td><td>81039383</td></tr><tr><td>Leena Yadav</td><td>81018377</td></tr><tr><td>Romain Gavras</td><td>81021528</td></tr><tr><td>Sebastián Hofmann</td><td>80991809</td></tr><tr><td>Heidi Brandenburg</td><td>80097475</td></tr><tr><td>John Luessenhop</td><td>70117294</td></tr><tr><td>Mike Disa</td><td>70117582</td></tr><tr><td>Pali Yahya</td><td>80163294</td></tr><tr><td>Mati Diop</td><td>81082007</td></tr><tr><td>Moses Inwang</td><td>81172754</td></tr><tr><td>Jérémy Clapin</td><td>81120982</td></tr><tr><td>Mandla Dube</td><td>81227195</td></tr><tr><td>Mike Ezuruonye</td><td>81172841</td></tr><tr><td>Cheta Chukwu</td><td>81172899</td></tr><tr><td>Roger Russell</td><td>81172908</td></tr><tr><td>Toka McBaror</td><td>81172901</td></tr><tr><td>Leslie Small</td><td>81033086</td></tr><tr><td>Frank Oz</td><td>60020826</td></tr><tr><td>Lu Yang</td><td>80226242</td></tr><tr><td>Edward Zwick</td><td>70101696</td></tr><tr><td>Basava Shankar Eeday</td><td>81194544</td></tr><tr><td>Prakash Satam</td><td>80995081</td></tr><tr><td>Elle-Máijá Tailfeathers</td><td>81177504</td></tr><tr><td>Martin Scorsese</td><td>80175798</td></tr><tr><td>Dante Lam</td><td>80239961</td></tr><tr><td>Shreyas Talpade</td><td>80219019</td></tr><tr><td>Seth Barrish</td><td>81062293</td></tr><tr><td>Steve Ball</td><td>80235524</td></tr><tr><td>Sanjiv Jaiswal</td><td>81215481</td></tr><tr><td>Marta Jaenes</td><td>81005044</td></tr><tr><td>Daniel Raim</td><td>80147529</td></tr><tr><td>Denny Lu</td><td>81018860</td></tr><tr><td>Luis Ara</td><td>80217495</td></tr><tr><td>María Jose Cuevas</td><td>80141787</td></tr><tr><td>Oz Rodriguez</td><td>80049871</td></tr><tr><td>Aleksandr Chernyaev</td><td>81218079</td></tr><tr><td>Robert Altman</td><td>60028294</td></tr><tr><td>Ric Roman Waugh</td><td>80125671</td></tr><tr><td>Cary Murnion</td><td>80174220</td></tr><tr><td>Jon Alpert</td><td>80126449</td></tr><tr><td>Ibai Abad</td><td>80103512</td></tr><tr><td>Charles A. Nichols</td><td>60020948</td></tr><tr><td>David Ayer</td><td>70235384</td></tr><tr><td>John Irvin</td><td>569355</td></tr><tr><td>Simon Wells</td><td>60022645</td></tr><tr><td>David Ayer</td><td>80225915</td></tr><tr><td>Julio Soto Gurpide</td><td>80196379</td></tr><tr><td>Julien Abraham</td><td>80198859</td></tr><tr><td>Tsutomu Mizushima</td><td>80159876</td></tr><tr><td>Nate Adams</td><td>81218074</td></tr><tr><td>Clay Kaytis</td><td>80199682</td></tr><tr><td>Barbra Streisand</td><td>80203522</td></tr><tr><td>Qaushiq Mukherjee</td><td>80107037</td></tr><tr><td>Chris Sparling</td><td>80077402</td></tr><tr><td>Qaushiq Mukherjee</td><td>80107219</td></tr><tr><td>Kathryn Bigelow</td><td>60023606</td></tr><tr><td>Monika Mitchell</td><td>81026188</td></tr><tr><td>Noah Baumbach</td><td>80080109</td></tr><tr><td>Fernando Colomo</td><td>80988835</td></tr><tr><td>Josh Wakely</td><td>80208104</td></tr><tr><td>Troy Miller</td><td>80134827</td></tr><tr><td>Jacob Kornbluth</td><td>80127558</td></tr><tr><td>Jon Gunn</td><td>80158084</td></tr><tr><td>Jan Suter</td><td>80124725</td></tr><tr><td>Anne Fontaine</td><td>70267398</td></tr><tr><td>Joshua Caldwell</td><td>80108983</td></tr><tr><td>Mike Judge</td><td>292118</td></tr><tr><td>Bruce W. Smith</td><td>70003046</td></tr><tr><td>Eva Orner</td><td>80221584</td></tr><tr><td>Craig Brewer</td><td>70053833</td></tr><tr><td>Àlex Pastor</td><td>70122722</td></tr><tr><td>KVR Mahendra</td><td>81217738</td></tr><tr><td>Andrew Jenks</td><td>80081990</td></tr><tr><td>Ivan Reitman</td><td>60004471</td></tr><tr><td>John Schlesinger</td><td>60022413</td></tr><tr><td>Akiva Schaffer</td><td>70058022</td></tr><tr><td>Andy Tennant</td><td>60022502</td></tr><tr><td>Juan Carlos Rulfo</td><td>80244683</td></tr><tr><td>Christian Ditter</td><td>80028357</td></tr><tr><td>Raj R</td><td>81217739</td></tr><tr><td>Sergio Leone</td><td>60031884</td></tr><tr><td>Jim Field Smith</td><td>70117289</td></tr><tr><td>Bruce McCulloch</td><td>28631236</td></tr><tr><td>Steven Spielberg</td><td>70121502</td></tr><tr><td>William Brent Bell</td><td>70215455</td></tr><tr><td>Hugh WIlson</td><td>506464</td></tr><tr><td>Sam Raimi</td><td>60003508</td></tr><tr><td>Neal Brennan</td><td>70105132</td></tr><tr><td>Robert Aldrich</td><td>60004083</td></tr><tr><td>Marco Schnabel</td><td>70087538</td></tr><tr><td>Francis Ford Coppola</td><td>1181661</td></tr><tr><td>Lasse Hallström</td><td>60011552</td></tr><tr><td>Oliver Stone</td><td>70044693</td></tr><tr><td>Jason Reitman</td><td>70173046</td></tr><tr><td>Raja Gosnell</td><td>70039187</td></tr><tr><td>David Fincher</td><td>70044686</td></tr><tr><td>Robert Vince</td><td>80989043</td></tr><tr><td>Rocky Soraya</td><td>81021831</td></tr><tr><td>Raditya Dika</td><td>81021832</td></tr><tr><td>David Paul Meyer</td><td>80239932</td></tr><tr><td>Savage Steve Holland</td><td>81214223</td></tr><tr><td>Savage Steve Holland</td><td>80027560</td></tr><tr><td>Troy Nixey</td><td>70135899</td></tr><tr><td>Scott McAboy</td><td>81215437</td></tr><tr><td>Raymie Muzquiz</td><td>81215438</td></tr><tr><td>Stephen Herek</td><td>81214187</td></tr><tr><td>Joe Menendez</td><td>80160987</td></tr><tr><td>Vince Marcello</td><td>81215439</td></tr><tr><td>David R. Ellis</td><td>70178618</td></tr><tr><td>Eric Bross</td><td>70292700</td></tr><tr><td>Will Eisenberg</td><td>81214214</td></tr><tr><td>Matheus Souza</td><td>81020531</td></tr><tr><td>Sara Dosa</td><td>80191051</td></tr><tr><td>Bradley Walsh</td><td>80242446</td></tr><tr><td>Orson Welles</td><td>80085566</td></tr><tr><td>Morgan Neville</td><td>80124722</td></tr><tr><td>Benjamin Ross</td><td>70243696</td></tr><tr><td>Stephen Hopkins</td><td>70243692</td></tr><tr><td>Steve Paley</td><td>81073633</td></tr><tr><td>Shannon Hartman</td><td>70230138</td></tr><tr><td>Leslie Iwerks</td><td>70083532</td></tr><tr><td>Na Hyeon</td><td>80177865</td></tr><tr><td>Jerry Seinfeld</td><td>80117534</td></tr><tr><td>Houda Benyamina</td><td>80115031</td></tr><tr><td>Jerry Rothwell</td><td>80029708</td></tr><tr><td>Kristin Hanggi</td><td>80079470</td></tr><tr><td>Joe Dante</td><td>70127998</td></tr><tr><td>Alex Zamm</td><td>80160759</td></tr><tr><td>Chris Smith</td><td>80209608</td></tr><tr><td>Tilak Shetty</td><td>80182622</td></tr><tr><td>Dee Rees</td><td>80175694</td></tr><tr><td>Glenn Miller</td><td>80016471</td></tr><tr><td>Nicolas Winding Refn</td><td>70189289</td></tr><tr><td>Timo Vuorensola</td><td>81132624</td></tr><tr><td>Robb Dipple</td><td>80013267</td></tr><tr><td>Sarah Gavron</td><td>80046819</td></tr><tr><td>Eli Roth</td><td>70293315</td></tr><tr><td>Daniel Goldhaber</td><td>80177400</td></tr><tr><td>Asri Bendacha</td><td>81037898</td></tr><tr><td>Fred Cavayé</td><td>81004099</td></tr><tr><td>Joel Coen</td><td>80200267</td></tr><tr><td>Shane Acker</td><td>70113538</td></tr><tr><td>Wash Westmoreland</td><td>80244457</td></tr><tr><td>Alessandro Angulo</td><td>81196441</td></tr><tr><td>Mauro Scandolari</td><td>81162089</td></tr><tr><td>Arjun Jandyala</td><td>81217737</td></tr><tr><td>Shashanka Ghosh</td><td>81076114</td></tr><tr><td>Naoko Yamada</td><td>80093820</td></tr><tr><td>Sergio Pablos</td><td>80183187</td></tr><tr><td>Anand Tucker</td><td>70124331</td></tr><tr><td>Valli Bindana</td><td>81217749</td></tr><tr><td>Nate Adams</td><td>80158800</td></tr><tr><td>Makoto Shinkai</td><td>70291121</td></tr><tr><td>V C Abhilash</td><td>81035105</td></tr><tr><td>Justin G. Dyck</td><td>80224054</td></tr><tr><td>Nila Madhab Panda</td><td>81038832</td></tr><tr><td>Sameer Vidwans</td><td>81035109</td></tr><tr><td>Timo Tjahjanto</td><td>81030893</td></tr><tr><td>Nakul Singh Sawhney</td><td>81035103</td></tr><tr><td>Nishanth Ravindaran</td><td>81035104</td></tr><tr><td>Bill Guttentag</td><td>80075824</td></tr><tr><td>Gajendra Ahire</td><td>81035108</td></tr><tr><td>Swapna Waghmare Joshi</td><td>81035107</td></tr><tr><td>Raymond McGrath</td><td>81028556</td></tr><tr><td>Adele K. Thomas</td><td>81028574</td></tr><tr><td>Richard Bailey</td><td>81028560</td></tr><tr><td>Julien Leclercq</td><td>80196044</td></tr><tr><td>Aitor Arregi</td><td>80122177</td></tr><tr><td>Remo D'Souza</td><td>80136925</td></tr><tr><td>Radhika Rao</td><td>70040076</td></tr><tr><td>Volker Weicker</td><td>80117532</td></tr><tr><td>Manjeet Singh</td><td>70260514</td></tr><tr><td>Oliver Stone</td><td>80127995</td></tr><tr><td>Nick Mead</td><td>81156627</td></tr><tr><td>Gautier & Leduc</td><td>81096745</td></tr><tr><td>Marcus Raboy</td><td>80191804</td></tr><tr><td>Timothy Woodward Jr.</td><td>80191109</td></tr><tr><td>Lance Bangs</td><td>80004534</td></tr><tr><td>Matt Piedmont</td><td>70213466</td></tr><tr><td>Erik Matti</td><td>80222787</td></tr><tr><td>Christopher Guest</td><td>80244848</td></tr><tr><td>John Scheinfeld</td><td>80147403</td></tr><tr><td>Rhys Thomas</td><td>80058424</td></tr><tr><td>Christopher Storer</td><td>81078466</td></tr><tr><td>Jeremy Saulnier</td><td>80060034</td></tr><tr><td>Jennifer Baichwal</td><td>80205085</td></tr><tr><td>Tom Ford</td><td>70117297</td></tr><tr><td>J.M. Berrios</td><td>81152923</td></tr><tr><td>Josh Aronson</td><td>81171862</td></tr><tr><td>Alain Desrochers</td><td>80131563</td></tr><tr><td>Estela Renner</td><td>80107990</td></tr><tr><td>Jeff Wadlow</td><td>80091658</td></tr><tr><td>Laurent Cantet</td><td>80237420</td></tr><tr><td>Shannon Hartman</td><td>70174733</td></tr><tr><td>Raúl Campos</td><td>80183088</td></tr><tr><td>Natalia Valdebenito</td><td>80198018</td></tr><tr><td>Marcelo Galvão</td><td>80127990</td></tr><tr><td>Lorene Machado</td><td>80134279</td></tr><tr><td>Richard Donner</td><td>70044870</td></tr><tr><td>Kevin Reynolds</td><td>26597413</td></tr><tr><td>Marina Seresesky</td><td>80245356</td></tr><tr><td>Tony Kaye</td><td>18002692</td></tr><tr><td>Kenny Leon</td><td>81024100</td></tr><tr><td>Peter Segal</td><td>60027583</td></tr><tr><td>David Salzberg</td><td>80216003</td></tr><tr><td>Daniel Mann</td><td>60002033</td></tr><tr><td>Richard Brooks</td><td>70046968</td></tr><tr><td>Michael Kampa</td><td>81154982</td></tr><tr><td>Harvey Lowry</td><td>81063129</td></tr><tr><td>James Dearden</td><td>81074542</td></tr><tr><td>Jack Starrett</td><td>382650</td></tr><tr><td>Les Mayfield</td><td>70044705</td></tr><tr><td>David Lean</td><td>449931</td></tr><tr><td>Tarun Mansukhani</td><td>81189912</td></tr><tr><td>Jennifer Westcott</td><td>80215046</td></tr><tr><td>Robert Clouse</td><td>60036838</td></tr><tr><td>Valeria Golino</td><td>81179693</td></tr><tr><td>Stuart Baird</td><td>485218</td></tr><tr><td>Gregory Hoblit</td><td>1192866</td></tr><tr><td>Terry Gilliam</td><td>11819434</td></tr><tr><td>Drea Cooper</td><td>81050375</td></tr><tr><td>Fred M. Wilcox</td><td>516788</td></tr><tr><td>David Silberg</td><td>70048968</td></tr><tr><td>Vincente Minnelli</td><td>542137</td></tr><tr><td>Robert Altman</td><td>60021796</td></tr><tr><td>Mathieu Kassovitz</td><td>60031247</td></tr><tr><td>Randal Kleiser</td><td>60000577</td></tr><tr><td>Ernie Barbarash</td><td>80231468</td></tr><tr><td>Michael A. Nickles</td><td>81083786</td></tr><tr><td>Ken Marino</td><td>80153894</td></tr><tr><td>Lionel C. Martin</td><td>1179333</td></tr><tr><td>Clint Eastwood</td><td>70118779</td></tr><tr><td>Joe Boyd</td><td>653673</td></tr><tr><td>Jeffrey W. Byrd</td><td>70020947</td></tr><tr><td>Scott Stewart</td><td>70117305</td></tr><tr><td>Alfonso Arau</td><td>701346</td></tr><tr><td>Ellen Weissbrod</td><td>70111489</td></tr><tr><td>Michael Anderson</td><td>709163</td></tr><tr><td>Stanley Kubrick</td><td>709380</td></tr><tr><td>Theodore Witcher</td><td>1150871</td></tr><tr><td>Callie Khouri</td><td>70082264</td></tr><tr><td>Brett Ratner</td><td>1179583</td></tr><tr><td>Gil Kenan</td><td>70044595</td></tr><tr><td>Lewis Milestone</td><td>60011729</td></tr><tr><td>Jared Hess</td><td>70044883</td></tr><tr><td>Gene Quintano</td><td>22497725</td></tr><tr><td>Lewis Milestone</td><td>60021590</td></tr><tr><td>Charles Stone III</td><td>60023638</td></tr><tr><td>Nicholas Ray</td><td>70031792</td></tr><tr><td>Sam Mendes</td><td>70100383</td></tr><tr><td>Roman Polanski</td><td>60002403</td></tr><tr><td>John Dahl</td><td>17236920</td></tr><tr><td>Stanley Tong</td><td>923574</td></tr><tr><td>Blayne Weaver</td><td>81152930</td></tr><tr><td>Billy Bob Thornton</td><td>973861</td></tr><tr><td>Sam O'Steen</td><td>70058796</td></tr><tr><td>Sam Raimi</td><td>70047101</td></tr><tr><td>David Fairhead</td><td>81189396</td></tr><tr><td>Adam McKay</td><td>70093991</td></tr><tr><td>Gordon Parks</td><td>60033247</td></tr><tr><td>Neil Jordan</td><td>70060000</td></tr><tr><td>John Stephenson</td><td>70295067</td></tr><tr><td>Norman Jewison</td><td>70031779</td></tr><tr><td>David Fincher</td><td>1178866</td></tr><tr><td>John Dahl</td><td>60033312</td></tr><tr><td>Manolo Caro</td><td>81030409</td></tr><tr><td>David Michôd</td><td>80182016</td></tr><tr><td>Tony Scott</td><td>684847</td></tr><tr><td>Marco Bonfanti</td><td>81150305</td></tr><tr><td>Lilly Wachowski</td><td>20557937</td></tr><tr><td>Lilly Wachowski</td><td>60027695</td></tr><tr><td>Lilly Wachowski</td><td>60031303</td></tr><tr><td>Everardo González</td><td>81170692</td></tr><tr><td>Alan J. Pakula</td><td>848915</td></tr><tr><td>Kevin Donovan</td><td>60022980</td></tr><tr><td>Charlotte Zwerin</td><td>60003961</td></tr><tr><td>Pete Travis</td><td>70060005</td></tr><tr><td>Nick Moore</td><td>70084791</td></tr><tr><td>Rodrigo Guardiola</td><td>81170694</td></tr><tr><td>Ruben Fleischer</td><td>70123542</td></tr><tr><td>Neeraj Pandey</td><td>70107499</td></tr><tr><td>Indrajit Nattoji</td><td>70123117</td></tr><tr><td>Raj Kumar Gupta</td><td>70100644</td></tr><tr><td>Remo D'Souza</td><td>80057750</td></tr><tr><td>Remo D'Souza</td><td>70229045</td></tr><tr><td>Arnab Chaudhuri</td><td>70139073</td></tr><tr><td>Rana Ranbir</td><td>81024731</td></tr><tr><td>Anurag Basu</td><td>70219525</td></tr><tr><td>David Zucker</td><td>16914787</td></tr><tr><td>Momoko Kamiya</td><td>81020543</td></tr><tr><td>Momoko Kamiya</td><td>81020544</td></tr><tr><td>Harry Baweja</td><td>80039595</td></tr><tr><td>Ken Ghosh</td><td>70123120</td></tr><tr><td>Justin G. Dyck</td><td>80224055</td></tr><tr><td>Priyadarshan</td><td>70052249</td></tr><tr><td>Vivek Agnihotri</td><td>70084775</td></tr><tr><td>Umesh Shukla</td><td>70114588</td></tr><tr><td>Habib Faisal</td><td>70185139</td></tr><tr><td>Bobby Roth</td><td>80232501</td></tr><tr><td>Halder Gomes</td><td>80210147</td></tr><tr><td>Tony Zierra</td><td>80224606</td></tr><tr><td>Amitoj Mann</td><td>80058851</td></tr><tr><td>Raj Kumar Gupta</td><td>70219528</td></tr><tr><td>B. Unnikrishnan</td><td>70241088</td></tr><tr><td>Milan Luthria</td><td>70068799</td></tr><tr><td>Madhur Bhandarkar</td><td>70229044</td></tr><tr><td>Sajid Khan</td><td>70254349</td></tr><tr><td>Saji Surendran</td><td>70254342</td></tr><tr><td>Ksshitij Chaudhary</td><td>80084838</td></tr><tr><td>Abhishek Kapoor</td><td>70254346</td></tr><tr><td>Sundar C.</td><td>70229040</td></tr><tr><td>Gary Binkow</td><td>70056663</td></tr><tr><td>Nikhil Advani</td><td>80067906</td></tr><tr><td>Anurag Basu</td><td>70071832</td></tr><tr><td>Lance Bangs</td><td>70273401</td></tr><tr><td>Chad Hartigan</td><td>80097390</td></tr><tr><td>Nishikant Kamat</td><td>70106268</td></tr><tr><td>Navinder Pal Singh</td><td>80039594</td></tr><tr><td>Raj Kumar Gupta</td><td>70139076</td></tr><tr><td>Dibakar Banerjee</td><td>70109758</td></tr><tr><td>Tigmanshu Dhulia</td><td>70123126</td></tr><tr><td>Kunal Deshmukh</td><td>70303431</td></tr><tr><td>Prakash Jha</td><td>70254351</td></tr><tr><td>R. Kannan</td><td>70275076</td></tr><tr><td>Gaurav Narayanan</td><td>80189997</td></tr><tr><td>Kevin Layne</td><td>81015100</td></tr><tr><td>Jon J. Whelan</td><td>80076581</td></tr><tr><td>Leanne Gater</td><td>81025404</td></tr><tr><td>Jennifer M. Kroot</td><td>80182949</td></tr><tr><td>Jay Russell</td><td>70060017</td></tr><tr><td>Wally Pfister</td><td>70266675</td></tr><tr><td>Akin Omotoso</td><td>80155792</td></tr><tr><td>Shyam Benegal</td><td>70108590</td></tr><tr><td>Satyajit Bhatkal</td><td>70185141</td></tr><tr><td>Bharat Jain</td><td>80201826</td></tr><tr><td>Alo Sarkar</td><td>80158388</td></tr><tr><td>Rajeev Chaudhari</td><td>80203778</td></tr><tr><td>Vishal Mishra</td><td>80201820</td></tr><tr><td>Iñaki Dorronsoro</td><td>80103312</td></tr><tr><td>Takuya Inaba</td><td>80205563</td></tr><tr><td>Ali Bin Matar</td><td>80202605</td></tr><tr><td>Daniel Ablin</td><td>80208211</td></tr><tr><td>Buta Singh</td><td>80203791</td></tr><tr><td>Abbas Alibhai Burmawalla</td><td>80079229</td></tr><tr><td>Jami</td><td>80080145</td></tr><tr><td>Ali Samadi Ahadi</td><td>80157797</td></tr><tr><td>Anurag Singh</td><td>80032364</td></tr><tr><td>Ashok Nanda</td><td>80203786</td></tr><tr><td>Navaniat Singh</td><td>80032097</td></tr><tr><td>Shweta Basu Prasad</td><td>80216268</td></tr><tr><td>Jesse V. Johnson</td><td>80156684</td></tr><tr><td>D Ho</td><td>80174727</td></tr><tr><td>Jitender Pawar</td><td>80201827</td></tr><tr><td>Erik Canuel</td><td>80179288</td></tr><tr><td>Param Gill</td><td>80203780</td></tr><tr><td>Jack Zagha Kababie</td><td>80216215</td></tr><tr><td>Ksshitij Chaudhary</td><td>80211371</td></tr><tr><td>Richard Mears</td><td>80144358</td></tr><tr><td>Heidi Ewing</td><td>80097360</td></tr><tr><td>Moto Sakakibara</td><td>80006168</td></tr><tr><td>Emilio Martínez Lázaro</td><td>80093212</td></tr><tr><td>Craig Monahan</td><td>60000545</td></tr><tr><td>Gillian Armstrong</td><td>80025702</td></tr><tr><td>Jon Reiner</td><td>80128692</td></tr><tr><td>John Duigan</td><td>80156369</td></tr><tr><td>Mu Chu</td><td>1145882</td></tr><tr><td>Henry Sarwer-Foner</td><td>70288423</td></tr><tr><td>Will Lovelace</td><td>70290568</td></tr><tr><td>Jim Monaco</td><td>70141644</td></tr><tr><td>Sherif Ismail</td><td>81035836</td></tr><tr><td>Dava Whisenant</td><td>81044103</td></tr><tr><td>Yen Cheng-kuo</td><td>81072917</td></tr><tr><td>James Wan</td><td>70142542</td></tr><tr><td>Karim El Sobky</td><td>81035855</td></tr><tr><td>Mohamed Samy</td><td>81035845</td></tr><tr><td>Sameh Abdulaziz</td><td>81035856</td></tr><tr><td>Husam El-Gohari</td><td>81035857</td></tr><tr><td>Liz Plonka</td><td>80134780</td></tr><tr><td>Sam Patton</td><td>80221308</td></tr><tr><td>Bobcat Goldthwait</td><td>80213657</td></tr><tr><td>Rupert Jones</td><td>80217133</td></tr><tr><td>Sonia Kennebeck</td><td>80106754</td></tr><tr><td>David Pablos</td><td>80059440</td></tr><tr><td>Maya Gallus</td><td>81074375</td></tr><tr><td>Cavi Borges</td><td>80116761</td></tr><tr><td>Dani Levy</td><td>70118125</td></tr><tr><td>Alma Har'el</td><td>80108613</td></tr><tr><td>Alex Parkinson</td><td>80215139</td></tr><tr><td>Kevin Peeples</td><td>81016592</td></tr><tr><td>Frant Gwo</td><td>81067760</td></tr><tr><td>Steven Spielberg</td><td>70172928</td></tr><tr><td>Jay Karas</td><td>80101493</td></tr><tr><td>Harrison Smith</td><td>80235472</td></tr><tr><td>Sonny Mallhi</td><td>80177300</td></tr><tr><td>Robert Vince</td><td>80189866</td></tr><tr><td>Jeff Garlin</td><td>80106793</td></tr><tr><td>Jan Suter</td><td>80124727</td></tr><tr><td>Michael Barnett</td><td>80117263</td></tr><tr><td>Andrew Nackman</td><td>80087897</td></tr><tr><td>Ole Bornedal</td><td>70084180</td></tr><tr><td>Andrew Niccol</td><td>80195964</td></tr><tr><td>Isabelle Nanty</td><td>80213024</td></tr><tr><td>Rob Epstein</td><td>80210691</td></tr><tr><td>Antonio Morabito</td><td>80244782</td></tr><tr><td>Rene Bueno</td><td>80144280</td></tr><tr><td>John Woo</td><td>80209866</td></tr><tr><td>Nicolás López</td><td>80241666</td></tr><tr><td>Patricia Ferreira</td><td>80167648</td></tr><tr><td>Nahnatchka Khan</td><td>80202874</td></tr><tr><td>Sachin Yardi</td><td>70109249</td></tr><tr><td>Sachin Yardi</td><td>80993095</td></tr><tr><td>Partho Mitra</td><td>70045644</td></tr><tr><td>Santram Varma</td><td>70025612</td></tr><tr><td>Rakeysh Omprakash Mehra</td><td>80237006</td></tr><tr><td>Paul Spurrier</td><td>80160033</td></tr><tr><td>Han Han</td><td>81111849</td></tr><tr><td>Pawan Kripalani</td><td>80083930</td></tr><tr><td>Bhushan Patel</td><td>80083752</td></tr><tr><td>Raj Nidimoru</td><td>70185023</td></tr><tr><td>Alexandra Dean</td><td>80189827</td></tr><tr><td>Cosima Spender</td><td>80176144</td></tr><tr><td>Simon Curtis</td><td>70202150</td></tr><tr><td>Jang Jae-hyun</td><td>81010699</td></tr><tr><td>Charlie McDowell</td><td>70299863</td></tr><tr><td>Liam Lynch</td><td>80133554</td></tr><tr><td>Hao Wu</td><td>80208662</td></tr><tr><td>Felipe Cano</td><td>80994596</td></tr><tr><td>Gabriela Tagliavini</td><td>81031939</td></tr><tr><td>Joe Berlinger</td><td>81028570</td></tr><tr><td>Ismail Farouk</td><td>81035867</td></tr><tr><td>Lee Jeong-beom</td><td>80244640</td></tr><tr><td>William Bindley</td><td>80999729</td></tr><tr><td>Fernando Ayllón</td><td>80992499</td></tr><tr><td>Maya Zinshtein</td><td>80148223</td></tr><tr><td>Vishal Bhardwaj</td><td>80176342</td></tr><tr><td>Jill Bauer</td><td>80038162</td></tr><tr><td>Justin McConnell</td><td>81087094</td></tr><tr><td>Lasse Hallström</td><td>80221447</td></tr><tr><td>Bryce Wagoner</td><td>70242063</td></tr><tr><td>Steven Brill</td><td>80063265</td></tr><tr><td>Kim Sung-hoon</td><td>81034931</td></tr><tr><td>Norberto López Amado</td><td>80202903</td></tr><tr><td>Mary Mazzio</td><td>80167459</td></tr><tr><td>Joe Piscatella</td><td>80169348</td></tr><tr><td>Rahul Dholakia</td><td>80164778</td></tr><tr><td>David Michôd</td><td>80068327</td></tr><tr><td>Mark Craig</td><td>80087933</td></tr><tr><td>Ketan Mehta</td><td>80084666</td></tr><tr><td>Raúl Campos</td><td>80192137</td></tr><tr><td>Alex Richanbach</td><td>80195049</td></tr><tr><td>Marcus Raboy</td><td>80186850</td></tr><tr><td>Christopher Smith</td><td>80117765</td></tr><tr><td>Nadia Hallgren</td><td>81002195</td></tr><tr><td>Sudabeh Mortezai</td><td>81046255</td></tr><tr><td>McG</td><td>80218306</td></tr><tr><td>Richard Shepard</td><td>80211638</td></tr><tr><td>Matthew Cooke</td><td>80220758</td></tr><tr><td>Mike Diva</td><td>81036190</td></tr><tr><td>Jean-Patrick Benes</td><td>80165083</td></tr><tr><td>Christopher Storer</td><td>80134781</td></tr><tr><td>Trisha Ziff</td><td>80244680</td></tr><tr><td>Vasan Bala</td><td>81057229</td></tr><tr><td>Tig Notaro</td><td>80151384</td></tr><tr><td>John Bridcut</td><td>80131167</td></tr><tr><td>Lance Bangs</td><td>80038335</td></tr><tr><td>Mike Fleiss</td><td>80011852</td></tr><tr><td>Barry Jenkins</td><td>80121348</td></tr><tr><td>Linda Mendoza</td><td>81011598</td></tr><tr><td>Aanand Rai</td><td>81005364</td></tr><tr><td>Sharon Grimberg</td><td>81076042</td></tr><tr><td>Akram Farouk</td><td>81035880</td></tr><tr><td>Christel Gibson</td><td>81103139</td></tr><tr><td>Andrew Stanton</td><td>70143369</td></tr><tr><td>Manav Shah</td><td>81096151</td></tr><tr><td>Antoine Fuqua</td><td>70259801</td></tr><tr><td>Jimmy Henderson</td><td>80990658</td></tr><tr><td>Jessica Yu</td><td>80133663</td></tr><tr><td>Kim Nguyen</td><td>80117082</td></tr><tr><td>Max Martini</td><td>81043473</td></tr><tr><td>Nila Madhab Panda</td><td>80091267</td></tr><tr><td>Ian Nelms</td><td>80182919</td></tr><tr><td>Hiroyuki Seshita</td><td>80115466</td></tr><tr><td>Lygia Barbosa da Silva</td><td>80142223</td></tr><tr><td>Osgood Perkins</td><td>80080768</td></tr><tr><td>Ken Kushner</td><td>81061407</td></tr><tr><td>Yolanda Ramke</td><td>80161216</td></tr><tr><td>Kagiso Lediga</td><td>80218111</td></tr><tr><td>Diego Enrique Osorno</td><td>80991872</td></tr><tr><td>Hernán Zin</td><td>81077863</td></tr><tr><td>Hernán Zin</td><td>81077851</td></tr><tr><td>Hernán Zin</td><td>81073590</td></tr><tr><td>Arthur Muhammad</td><td>81103108</td></tr><tr><td>Pedring A. Lopez</td><td>80236341</td></tr><tr><td>Sam Cullman</td><td>80191050</td></tr><tr><td>Francesco Imperato</td><td>81041271</td></tr><tr><td>Stefon Bristol</td><td>80216758</td></tr><tr><td>Brit McAdams</td><td>70083809</td></tr><tr><td>Steve Loter</td><td>80028529</td></tr><tr><td>Icíar Bollaín</td><td>70154110</td></tr><tr><td>Kate Melville</td><td>80998967</td></tr><tr><td>Aditya Vikram Sengupta</td><td>81038047</td></tr><tr><td>David Dhawan</td><td>60021906</td></tr><tr><td>Neil Burger</td><td>70142827</td></tr><tr><td>Dibakar Banerjee</td><td>70149579</td></tr><tr><td>Apoorva Lakhia</td><td>70109375</td></tr><tr><td>Milan Luthria</td><td>70289558</td></tr><tr><td>Mandie Fletcher</td><td>81085319</td></tr><tr><td>Michael Dowse</td><td>70117577</td></tr><tr><td>Vipul Amrutlal Shah</td><td>70158421</td></tr><tr><td>Rajkumar Santoshi</td><td>20258084</td></tr><tr><td>Mercedes Cordova</td><td>80233511</td></tr><tr><td>Antonio Campos</td><td>80097814</td></tr><tr><td>Derek Cianfrance</td><td>70241757</td></tr><tr><td>Ryan Polito</td><td>80133551</td></tr><tr><td>Meenu Gaur</td><td>81110388</td></tr><tr><td>Matthew Hope</td><td>80220311</td></tr><tr><td>Asim Abbasi</td><td>81110389</td></tr><tr><td>Saurabh Kabra</td><td>70111279</td></tr><tr><td>Aijaz Khan</td><td>81123050</td></tr><tr><td>Anil V. Kumar</td><td>70007056</td></tr><tr><td>Sangeeth Sivan</td><td>70035357</td></tr><tr><td>Umesh Ghadge</td><td>80108481</td></tr><tr><td>Milan Luthria</td><td>70153178</td></tr><tr><td>Apoorva Lakhia</td><td>70073018</td></tr><tr><td>Midhun Manuel Thomas</td><td>80994416</td></tr><tr><td>Neeraj Pandey</td><td>80243408</td></tr><tr><td>Umer Adil</td><td>80994418</td></tr><tr><td>Hayao Miyazaki</td><td>70050576</td></tr><tr><td>Nicolas Winding Refn</td><td>70253596</td></tr><tr><td>Rajiv Mehra</td><td>80157133</td></tr><tr><td>Robert Kenner</td><td>80107656</td></tr><tr><td>Kundan Shah</td><td>80157083</td></tr><tr><td>So Yong Kim</td><td>80098287</td></tr><tr><td>Alina Teodorescu</td><td>80059342</td></tr><tr><td>Rajiv Mehra</td><td>24081514</td></tr><tr><td>Filip Renc</td><td>80157564</td></tr><tr><td>Femi Oyeniran</td><td>80178078</td></tr><tr><td>David Morris</td><td>80104330</td></tr><tr><td>Gonzalo López-Gallego</td><td>81053958</td></tr><tr><td>Damián Romay</td><td>81094666</td></tr><tr><td>Abby Epstein</td><td>81016247</td></tr><tr><td>Savage Steve Holland</td><td>80223928</td></tr><tr><td>Tim Maltby</td><td>81065331</td></tr><tr><td>Jay Karas</td><td>80186940</td></tr><tr><td>Andy Tennant</td><td>80120740</td></tr><tr><td>Hepi Mita</td><td>81077874</td></tr><tr><td>Anthony Abrams</td><td>80117736</td></tr><tr><td>Dylan Bank</td><td>80114666</td></tr><tr><td>Sean Foley</td><td>80157866</td></tr><tr><td>Pierre Coré</td><td>80161029</td></tr><tr><td>Che Sandoval</td><td>81039410</td></tr><tr><td>Jean-Bernard Marlin</td><td>81012340</td></tr><tr><td>Yee Tung-Shing</td><td>70242536</td></tr><tr><td>Raúl Campos</td><td>80192065</td></tr><tr><td>Trey Borzillieri</td><td>80158319</td></tr><tr><td>Vince Marcello</td><td>80143556</td></tr><tr><td>Rajiv Chilaka</td><td>81092777</td></tr><tr><td>Sidheswar Shukla</td><td>81092779</td></tr><tr><td>Asit Mohapatra</td><td>81092776</td></tr><tr><td>Shyamal Chaulia</td><td>81092778</td></tr><tr><td>Patricia Font</td><td>80216541</td></tr><tr><td>Amy Poehler</td><td>80194950</td></tr><tr><td>Sachin Kundalkar</td><td>70261058</td></tr><tr><td>Puri Jagannadh</td><td>70204288</td></tr><tr><td>Krish</td><td>80057278</td></tr><tr><td>Shoojit Sircar</td><td>70293703</td></tr><tr><td>Ribhu Dasgupta</td><td>80165853</td></tr><tr><td>Geoff Anderson</td><td>80161108</td></tr><tr><td>Federico Veiroj</td><td>80082660</td></tr><tr><td>Robert Vince</td><td>80028359</td></tr><tr><td>Mark Zwonitzer</td><td>81076049</td></tr><tr><td>Bo Welch</td><td>60031264</td></tr><tr><td>Sedat Kirtan</td><td>81059956</td></tr><tr><td>Stacia Crawford</td><td>81094667</td></tr><tr><td>Michael Epstein</td><td>81069255</td></tr><tr><td>Sudipto Roy</td><td>81094083</td></tr><tr><td>Frédéric Tonolli</td><td>80208082</td></tr><tr><td>Rachel Lears</td><td>81080637</td></tr><tr><td>Emmanuel Amara</td><td>80197303</td></tr><tr><td>Syamsul Yusof</td><td>81049260</td></tr><tr><td>Nicholas Winter</td><td>81017593</td></tr><tr><td>Bong Joon Ho</td><td>70270364</td></tr><tr><td>Mangesh Kanthale</td><td>81093342</td></tr><tr><td>Kevin Munroe</td><td>70056441</td></tr><tr><td>Frank Oz</td><td>419733</td></tr><tr><td>Gary Young</td><td>81021631</td></tr><tr><td>Nicanor Loreti</td><td>80241044</td></tr><tr><td>Simon Napier-Bell</td><td>80213148</td></tr><tr><td>A. L. Vijay</td><td>80150390</td></tr><tr><td>Devashish Makhija</td><td>80993495</td></tr><tr><td>Amal Neerad</td><td>80192548</td></tr><tr><td>Fluvio Iannuci</td><td>80232894</td></tr><tr><td>Julius R. Nasso</td><td>80232330</td></tr><tr><td>Lucas Figueroa</td><td>80103425</td></tr><tr><td>Francis Lee</td><td>80170875</td></tr><tr><td>Shanker Raman</td><td>80990815</td></tr><tr><td>Rakshith Thirthahalli</td><td>80990816</td></tr><tr><td>C. Fitz</td><td>80990829</td></tr><tr><td>Alex Timbers</td><td>80238110</td></tr><tr><td>Damien Piscarel</td><td>80241876</td></tr><tr><td>Saandeep Patel</td><td>80990811</td></tr><tr><td>Justin G. Dyck</td><td>80224106</td></tr><tr><td>Arun Vaidyanathan</td><td>80206732</td></tr><tr><td>Pradip Kurbah</td><td>80990810</td></tr><tr><td>Alfonso Rodríguez</td><td>80235767</td></tr><tr><td>Guillermo Garcia</td><td>80236224</td></tr><tr><td>Makarand Mane</td><td>80990814</td></tr><tr><td>Pierfrancesco Diliberto</td><td>80245268</td></tr><tr><td>Priyadarshan</td><td>80228322</td></tr><tr><td>Sean Menard</td><td>80223149</td></tr><tr><td>Dito Montiel</td><td>80179373</td></tr><tr><td>Vicente Villanueva</td><td>80233962</td></tr><tr><td>Don Michael Paul</td><td>80233493</td></tr><tr><td>Anu Menon</td><td>80990813</td></tr><tr><td>Adrian Murray</td><td>80220531</td></tr><tr><td>Andy Goddard</td><td>80134149</td></tr><tr><td>K. Rajagopal</td><td>80115133</td></tr><tr><td>Atanu Ghosh</td><td>80176698</td></tr><tr><td>Supavitra Babul</td><td>80165848</td></tr><tr><td>Zoya Akhtar</td><td>70275753</td></tr><tr><td>Anthony D'Souza</td><td>70295762</td></tr><tr><td>Soumendra Padhi</td><td>80165849</td></tr><tr><td>Mahesh Bhatt</td><td>80158395</td></tr><tr><td>David Dhawan</td><td>70275774</td></tr><tr><td>Ken Burns</td><td>80103430</td></tr><tr><td>Fuwad Khan</td><td>80165850</td></tr><tr><td>Mike Birbiglia</td><td>80103372</td></tr><tr><td>Nishikant Kamat</td><td>80068117</td></tr><tr><td>Praveen Nischol</td><td>20764666</td></tr><tr><td>Dylan Mohan Gray</td><td>70268209</td></tr><tr><td>Kabir Sadanand</td><td>80165851</td></tr><tr><td>Shinji Aramaki</td><td>70129415</td></tr><tr><td>Justin Bare</td><td>80095094</td></tr><tr><td>Lucien Jean-Baptiste</td><td>80156763</td></tr><tr><td>Jalil Lespert</td><td>80156857</td></tr><tr><td>Sudhir Mishra</td><td>70268489</td></tr><tr><td>Edward Cotterill</td><td>80158588</td></tr><tr><td>Sean Cisterna</td><td>80178720</td></tr><tr><td>Sudhanshu Saria</td><td>80106505</td></tr><tr><td>Sarah Moshman</td><td>80169548</td></tr><tr><td>Omung Kumar</td><td>80015785</td></tr><tr><td>Bob Hercules</td><td>80097361</td></tr><tr><td>Munish Bhardwaj</td><td>80176716</td></tr><tr><td>Dilip Mehta</td><td>80132961</td></tr><tr><td>Satish Rajwade</td><td>80165857</td></tr><tr><td>Umesh Shukla</td><td>70258366</td></tr><tr><td>Devika Bhagat</td><td>80165732</td></tr><tr><td>Luv Ranjan</td><td>80165854</td></tr><tr><td>Luv Ranjan</td><td>80083589</td></tr><tr><td>Vikas Bahl</td><td>80032081</td></tr><tr><td>Dharmesh Darshan</td><td>17457962</td></tr><tr><td>Kireet Khurana</td><td>80182105</td></tr><tr><td>Bejoy Nambiar</td><td>80165855</td></tr><tr><td>Neeraj Pandey</td><td>70273637</td></tr><tr><td>Aanand Rai</td><td>70176968</td></tr><tr><td>Isaki Lacuesta</td><td>80173605</td></tr><tr><td>Gurmmeet Singh</td><td>80165856</td></tr><tr><td>Sangeeth Sivan</td><td>70308135</td></tr><tr><td>Nathan Landeg</td><td>80101903</td></tr><tr><td>Fernando González Molina</td><td>80093103</td></tr><tr><td>Yann Arthus-Bertrand</td><td>80102305</td></tr><tr><td>Gonzalo López-Gallego</td><td>70176655</td></tr><tr><td>Kazuya Murata</td><td>80161848</td></tr><tr><td>Mina Shum</td><td>80209796</td></tr><tr><td>Martin Zandvliet</td><td>80152434</td></tr><tr><td>Stephen Belber</td><td>70309693</td></tr><tr><td>Tony Stone</td><td>80107737</td></tr><tr><td>Cosmo Feilding-Mellen</td><td>80098305</td></tr><tr><td>Peter Foott</td><td>80152742</td></tr><tr><td>Raam Reddy</td><td>80107370</td></tr><tr><td>Majid Al Ansari</td><td>80095233</td></tr><tr><td>Woody Allen</td><td>70270362</td></tr><tr><td>Ibrahim Bin Mohamed</td><td>81074140</td></tr><tr><td>Clark Johnson</td><td>80184676</td></tr><tr><td>Emmanuel Mouret</td><td>81024044</td></tr><tr><td>Robert Rodriguez</td><td>60023618</td></tr><tr><td>Terry Gilliam</td><td>70113532</td></tr><tr><td>Robin Swicord</td><td>70074299</td></tr><tr><td>Conor Allyn</td><td>80995799</td></tr><tr><td>Uraaz Bahl</td><td>80219143</td></tr><tr><td>Frank Coraci</td><td>17687959</td></tr><tr><td>John Patrick Shanley</td><td>70100377</td></tr><tr><td>Haifaa Al-Mansour</td><td>80189630</td></tr><tr><td>Wenn V. Deramas</td><td>81010867</td></tr><tr><td>Olivia M. Lamasan</td><td>81010865</td></tr><tr><td>Antoinette Jadaone</td><td>81010874</td></tr><tr><td>Nuel Naval</td><td>80075018</td></tr><tr><td>Nicolás López</td><td>70260374</td></tr><tr><td>Paul Solet</td><td>80190180</td></tr><tr><td>Amy Schumer</td><td>80150002</td></tr><tr><td>Ian Kirby</td><td>80079265</td></tr><tr><td>Sean McNamara</td><td>80238080</td></tr><tr><td>Joe Camp</td><td>296682</td></tr><tr><td>Joe Camp</td><td>60037606</td></tr><tr><td>Joe Camp</td><td>516154</td></tr><tr><td>Michael Simon</td><td>80170187</td></tr><tr><td>Justin Chon</td><td>80174137</td></tr><tr><td>Aziz Ansari</td><td>80038296</td></tr><tr><td>David Sampliner</td><td>80011848</td></tr><tr><td>Adam Shankman</td><td>70100381</td></tr><tr><td>Chito S. Roño</td><td>70110919</td></tr><tr><td>Marc Forster</td><td>80221560</td></tr><tr><td>Keoni Waxman</td><td>80200961</td></tr><tr><td>Benny Fine</td><td>80214580</td></tr><tr><td>Mae Czarina Cruz</td><td>80085013</td></tr><tr><td>Onir</td><td>81077597</td></tr><tr><td>Paul Soriano</td><td>80049193</td></tr><tr><td>Wenn V. Deramas</td><td>70039783</td></tr><tr><td>Ruel S. Bayani</td><td>81010871</td></tr><tr><td>Peter Mortimer</td><td>81004270</td></tr><tr><td>Ben Wallis</td><td>80224924</td></tr><tr><td>Greg Coolidge</td><td>70051671</td></tr><tr><td>Iginio Straffi</td><td>80144408</td></tr><tr><td>Owen Egerton</td><td>81038545</td></tr><tr><td>\"Sam \"\"Blitz\"\" Bazawule\"</td><td>81044496</td></tr><tr><td>Norm Hiscock</td><td>80235932</td></tr><tr><td>Joe Miale</td><td>80176592</td></tr><tr><td>Dheeraj Berry</td><td>80170381</td></tr><tr><td>Richard Sears</td><td>80142103</td></tr><tr><td>Nirpal Bhogal</td><td>80152842</td></tr><tr><td>Laurent Bouzereau</td><td>80049928</td></tr><tr><td>Brett Whitcomb</td><td>70296765</td></tr><tr><td>Lucy van Beek</td><td>80131168</td></tr><tr><td>Frank Capra</td><td>80119190</td></tr><tr><td>John Huston</td><td>80119187</td></tr><tr><td>Jakob Verbruggen</td><td>80048568</td></tr><tr><td>George Stevens</td><td>80119192</td></tr><tr><td>Frank Capra</td><td>60027945</td></tr><tr><td>John Huston</td><td>80119188</td></tr><tr><td>John Ford</td><td>60027942</td></tr><tr><td>Charlie McDowell</td><td>80115857</td></tr><tr><td>Michael Samuels</td><td>70281026</td></tr><tr><td>William Wyler</td><td>80119194</td></tr><tr><td>Stuart Heisler</td><td>80119191</td></tr><tr><td>William Wyler</td><td>80119193</td></tr><tr><td>Frank Capra</td><td>80119189</td></tr><tr><td>John Ford</td><td>80119186</td></tr><tr><td>Frank Capra</td><td>70013050</td></tr><tr><td>John Huston</td><td>70022548</td></tr><tr><td>Micah Bickham</td><td>80097423</td></tr><tr><td>Stuart Orme</td><td>70259177</td></tr><tr><td>Olivia Newman</td><td>80117458</td></tr><tr><td>Jared Stern</td><td>80143362</td></tr><tr><td>Yang Lei</td><td>80201200</td></tr><tr><td>Raúl Campos</td><td>80183197</td></tr><tr><td>Lennart Ruff</td><td>80148210</td></tr><tr><td>Mike Clattenburg</td><td>70128549</td></tr><tr><td>Mike Clattenburg</td><td>70069233</td></tr><tr><td>Adam MacDonald</td><td>80018336</td></tr><tr><td>Saurav Palodhi</td><td>80180509</td></tr><tr><td>Shawn Crahan</td><td>80145255</td></tr><tr><td>Michael Whitton</td><td>70230147</td></tr><tr><td>Steve Carr</td><td>80105067</td></tr><tr><td>Swapnaneel Jayakar</td><td>81033429</td></tr><tr><td>Kyzza Terrazas</td><td>80188579</td></tr><tr><td>Miguel Conde</td><td>80992232</td></tr><tr><td>Philippe Falardeau</td><td>80145533</td></tr><tr><td>John Lee Hancock</td><td>80200571</td></tr><tr><td>Theo Love</td><td>80999977</td></tr><tr><td>Eli Craig</td><td>70129463</td></tr><tr><td>Bart Freundlich</td><td>80170767</td></tr><tr><td>Shannon Hartman</td><td>80134826</td></tr><tr><td>Awi Suryadi</td><td>81047902</td></tr><tr><td>Hanung Bramantyo</td><td>81047897</td></tr><tr><td>Óskar Thór Axelsson</td><td>80216988</td></tr><tr><td>Dan Lucchesi</td><td>80213803</td></tr><tr><td>Vishal Mahadkar</td><td>80175623</td></tr><tr><td>Ryan Polito</td><td>81002880</td></tr><tr><td>Mikhail Red</td><td>80222896</td></tr><tr><td>Raj Babu</td><td>81038046</td></tr><tr><td>Rodolphe Guenoden</td><td>80101096</td></tr><tr><td>Javier Ruiz Caldera</td><td>80202809</td></tr><tr><td>Dan Fraga</td><td>80020132</td></tr><tr><td>Marina Willer</td><td>80206758</td></tr><tr><td>Diego Pignataro</td><td>80162210</td></tr><tr><td>Meghan O'Hara</td><td>80126485</td></tr><tr><td>Tommy O'Haver</td><td>80082242</td></tr><tr><td>Douglas McGrath</td><td>70202151</td></tr><tr><td>Chanon Yingyong</td><td>80999996</td></tr><tr><td>Kyle Newacheck</td><td>80169617</td></tr><tr><td>Mijke de Jong</td><td>80144454</td></tr><tr><td>Jorge Granier</td><td>70204282</td></tr><tr><td>Daryl Hannah</td><td>80242378</td></tr><tr><td>Michael Larnell</td><td>80171733</td></tr><tr><td>Advait Chandan</td><td>80245408</td></tr><tr><td>Abel Ferrara</td><td>80044566</td></tr><tr><td>Oriol Paulo</td><td>80991158</td></tr><tr><td>Stuart Sender</td><td>80191046</td></tr><tr><td>Jeff Tremaine</td><td>80169469</td></tr><tr><td>Paul Dugdale</td><td>80148239</td></tr><tr><td>Wenn V. Deramas</td><td>81010863</td></tr><tr><td>Joyce Bernal</td><td>80162503</td></tr><tr><td>Jason Paul Laxamana</td><td>80150350</td></tr><tr><td>Maryo J. De los Reyes</td><td>80160692</td></tr><tr><td>Chito S. Roño</td><td>70060865</td></tr><tr><td>Theodore Boborol</td><td>80157890</td></tr><tr><td>Gavin Fitzgerald</td><td>80164752</td></tr><tr><td>Juan Zapata</td><td>80135149</td></tr><tr><td>Stan Lathan</td><td>80171965</td></tr><tr><td>Gianfranco Rosi</td><td>80100945</td></tr><tr><td>Gianfranco Rosi</td><td>70293820</td></tr><tr><td>Oliver Daly</td><td>80195967</td></tr><tr><td>Luis Ara</td><td>81033107</td></tr><tr><td>Karan Shivajirao Chavan</td><td>81048554</td></tr><tr><td>Melinda Janko</td><td>80144983</td></tr><tr><td>Ram Gopal Varma</td><td>70105459</td></tr><tr><td>Tanuj Bhramar</td><td>80207444</td></tr><tr><td>Isao Yukisada</td><td>81033516</td></tr><tr><td>A.R. Murugadoss</td><td>81075235</td></tr><tr><td>A.R. Murugadoss</td><td>81072516</td></tr><tr><td>John Lee Hancock</td><td>70283202</td></tr><tr><td>Robin Swicord</td><td>80156212</td></tr><tr><td>Faraz Haider</td><td>70296742</td></tr><tr><td>Fritz Ofner</td><td>81059944</td></tr><tr><td>Mozez Singh</td><td>80095531</td></tr><tr><td>Raúl Campos</td><td>80192139</td></tr><tr><td>Raúl Campos</td><td>80192063</td></tr><tr><td>Robin Aubert</td><td>80218656</td></tr><tr><td>Brendan Toller</td><td>80095806</td></tr><tr><td>Kristian Levring</td><td>80013550</td></tr><tr><td>Mark Helenowski</td><td>80058979</td></tr><tr><td>Amy Schumer</td><td>81037077</td></tr><tr><td>Jonathan Ignatius Green</td><td>81054383</td></tr><tr><td>Sonny Marler</td><td>81047798</td></tr><tr><td>Taron Lexton</td><td>80189216</td></tr><tr><td>Robert Vince</td><td>80092781</td></tr><tr><td>Eva Vives</td><td>81019338</td></tr><tr><td>Lonny Price</td><td>80132964</td></tr><tr><td>Sang-ho Yeon</td><td>80117824</td></tr><tr><td>Jason Krawczyk</td><td>80058460</td></tr><tr><td>Sam Wrench</td><td>80076467</td></tr><tr><td>Sophie Robinson</td><td>80049951</td></tr><tr><td>John Lee</td><td>80031800</td></tr><tr><td>Richard Loncraine</td><td>80017171</td></tr><tr><td>Sydney Freeland</td><td>80108984</td></tr><tr><td>Ben Bowie</td><td>80135296</td></tr><tr><td>Jung-woo Park</td><td>80158577</td></tr><tr><td>Asghar Farhadi</td><td>70175439</td></tr><tr><td>Brandon Camp</td><td>80204923</td></tr><tr><td>Alison Klayman</td><td>80117831</td></tr><tr><td>Yoo Byung-jae</td><td>80223734</td></tr><tr><td>Victor Levin</td><td>70307848</td></tr><tr><td>Henry Selick</td><td>70105599</td></tr><tr><td>James Ivory</td><td>60029366</td></tr><tr><td>Gonzalo López-Gallego</td><td>80100260</td></tr><tr><td>Lone Scherfig</td><td>80017170</td></tr><tr><td>Mark Dindal</td><td>70028197</td></tr><tr><td>Pia Sukanya</td><td>81013990</td></tr><tr><td>Yann Gozlan</td><td>80171678</td></tr><tr><td>Niyi Akinmolayan</td><td>81074015</td></tr><tr><td>Francesco Imperato</td><td>81041273</td></tr><tr><td>Hoyt Yeatman</td><td>70108985</td></tr><tr><td>Lukas Dhont</td><td>81004374</td></tr><tr><td>Manny Rodriguez</td><td>70045356</td></tr><tr><td>Michael Simon</td><td>70203594</td></tr><tr><td>Manny Rodriguez</td><td>70253171</td></tr><tr><td>Michael Simon</td><td>70109657</td></tr><tr><td>Stephen Chow</td><td>70020728</td></tr><tr><td>Frank W Chen</td><td>81024308</td></tr><tr><td>Adrian Teh</td><td>81031178</td></tr><tr><td>Florian Henckel von Donnersmarck</td><td>70056425</td></tr><tr><td>Steven R. Monroe</td><td>81050198</td></tr><tr><td>Buz Wallick</td><td>81034771</td></tr><tr><td>Indrasis Acharya</td><td>80239442</td></tr><tr><td>Aatmaram Dharne</td><td>80238299</td></tr><tr><td>Sumitra Bhave</td><td>80201814</td></tr><tr><td>Sunao Katabuchi</td><td>80192244</td></tr><tr><td>Kedar Shinde</td><td>80235957</td></tr><tr><td>Johan Brisinger</td><td>80226021</td></tr><tr><td>Attila Till</td><td>80147758</td></tr><tr><td>Mahesh Manjrekar</td><td>80201608</td></tr><tr><td>Tim Bartley</td><td>80241537</td></tr><tr><td>Robyn Butler</td><td>80241616</td></tr><tr><td>John Upchurch</td><td>80239642</td></tr><tr><td>Deepika Narayan Bhardwaj</td><td>80239988</td></tr><tr><td>Israel Adrián Caetano</td><td>70041893</td></tr><tr><td>Girish Joshi</td><td>80238298</td></tr><tr><td>Aditya Sarpotdar</td><td>80238400</td></tr><tr><td>Arjun Gourisaria</td><td>80239738</td></tr><tr><td>Maria Sadowska</td><td>80237300</td></tr><tr><td>Santosh Sivan</td><td>60021758</td></tr><tr><td>Erik Canuel</td><td>70095265</td></tr><tr><td>Pascal Blanchard</td><td>80164075</td></tr><tr><td>Heidi Saman</td><td>80117240</td></tr><tr><td>Peter Middleton</td><td>80098842</td></tr><tr><td>Shashilal K. Nair</td><td>80156935</td></tr><tr><td>Jayaraj Rajasekharan Nair</td><td>80102080</td></tr><tr><td>Partho Sen-Gupta</td><td>80092884</td></tr><tr><td>Eric Drath</td><td>80023794</td></tr><tr><td>Sam Upton</td><td>81060041</td></tr><tr><td>Maryo J. De los Reyes</td><td>70090072</td></tr><tr><td>Olivia M. Lamasan</td><td>80145621</td></tr><tr><td>Joyce Bernal</td><td>80100268</td></tr><tr><td>Theodore Boborol</td><td>80206696</td></tr><tr><td>Cathy Garcia-Molina</td><td>81010870</td></tr><tr><td>Yang Woo-seok</td><td>80226234</td></tr><tr><td>Pan Nalin</td><td>80081274</td></tr><tr><td>Shannon Hartman</td><td>80134967</td></tr><tr><td>J.C. Chandor</td><td>80192187</td></tr><tr><td>John L. Spencer</td><td>80189653</td></tr><tr><td>Victor Cook</td><td>80135585</td></tr><tr><td>Brian Klein</td><td>80214087</td></tr><tr><td>Devin Chanda</td><td>80216664</td></tr><tr><td>Tekin Girgin</td><td>80017535</td></tr><tr><td>David Chirchirillo</td><td>80219917</td></tr><tr><td>Marianna Palka</td><td>80174144</td></tr><tr><td>Dennis Bartok</td><td>80220677</td></tr><tr><td>Kenneth Müller</td><td>80229829</td></tr><tr><td>Marcel Barrena</td><td>80141173</td></tr><tr><td>Burak Aksak</td><td>80134515</td></tr><tr><td>Hakan Algül</td><td>80134521</td></tr><tr><td>Gerard McMurray</td><td>80097003</td></tr><tr><td>Muharrem Gülmez</td><td>80134516</td></tr><tr><td>Ozan Açıktan</td><td>80134606</td></tr><tr><td>Meltem Bozoflu</td><td>80134518</td></tr><tr><td>Hakan Algül</td><td>80134330</td></tr><tr><td>Selçuk Aydemir</td><td>80038298</td></tr><tr><td>Selçuk Aydemir</td><td>80134500</td></tr><tr><td>Hakan Algül</td><td>80038353</td></tr><tr><td>Hakan Algül</td><td>80038354</td></tr><tr><td>Hakan Algül</td><td>80038439</td></tr><tr><td>Ömer Faruk Sorak</td><td>80038440</td></tr><tr><td>Şenol Sönmez</td><td>80134604</td></tr><tr><td>Ali Taner Baltacı</td><td>80134524</td></tr><tr><td>Sermiyan Midyat</td><td>80038355</td></tr><tr><td>Sermiyan Midyat</td><td>80038441</td></tr><tr><td>Aytaç Ağırlar</td><td>80134433</td></tr><tr><td>Burak Aksak</td><td>80134436</td></tr><tr><td>Kıvanç Baruönü</td><td>80134514</td></tr><tr><td>Kıvanç Baruönü</td><td>80134398</td></tr><tr><td>Yusuf Pirhasan</td><td>80134520</td></tr><tr><td>Mahsun Kırmızıgül</td><td>80134420</td></tr><tr><td>Hakan Algül</td><td>80134501</td></tr><tr><td>Kıvanç Baruönü</td><td>80134399</td></tr><tr><td>Clementine Malpas</td><td>80160127</td></tr><tr><td>Ketche</td><td>80134438</td></tr><tr><td>Erol Özlevi</td><td>80134435</td></tr><tr><td>Hakan Yonat</td><td>80134519</td></tr><tr><td>Ozan Açıktan</td><td>80134434</td></tr><tr><td>Olivier Loustau</td><td>80160357</td></tr><tr><td>Yılmaz Erdoğan</td><td>70299745</td></tr><tr><td>Yılmaz Erdoğan</td><td>80038527</td></tr><tr><td>Yılmaz Erdoğan</td><td>80038445</td></tr><tr><td>Nottapon Boonprakob</td><td>81059183</td></tr><tr><td>Perry Lang</td><td>81024332</td></tr><tr><td>Nawapol Thamrongrattanarit</td><td>81059444</td></tr><tr><td>Xavier Gens</td><td>80987464</td></tr><tr><td>Gary Wheeler</td><td>80156925</td></tr><tr><td>Ang Lee</td><td>60002907</td></tr><tr><td>Tom Edmunds</td><td>80207473</td></tr><tr><td>Brant Sersen</td><td>80990534</td></tr><tr><td>Sam Liu</td><td>70111265</td></tr><tr><td>Phil Morrison</td><td>70024098</td></tr><tr><td>Paul Katis</td><td>80071907</td></tr><tr><td>Matthew Vaughn</td><td>70020730</td></tr><tr><td>Jonathan A. Rosenbaum</td><td>80057137</td></tr><tr><td>Franck Phelizon</td><td>81045720</td></tr><tr><td>Peter Howitt</td><td>70236016</td></tr><tr><td>Matthew Atkinson</td><td>81069249</td></tr><tr><td>Rajiv Menon</td><td>81083971</td></tr><tr><td>Chiwetel Ejiofor</td><td>80200047</td></tr><tr><td>Michael Buster</td><td>80156772</td></tr><tr><td>Philip Einstein Lipski</td><td>81016361</td></tr><tr><td>Rodrigo Salomón</td><td>81055395</td></tr><tr><td>Mark Waters</td><td>70077556</td></tr><tr><td>James Toback</td><td>70100412</td></tr><tr><td>David Wain</td><td>60021299</td></tr><tr><td>Debra Granik</td><td>70129374</td></tr><tr><td>Miguel Ángel Vivas</td><td>80167647</td></tr><tr><td>Joey Curtis</td><td>80184973</td></tr><tr><td>Alison Klayman</td><td>70229921</td></tr><tr><td>Abbas Alibhai Burmawalla</td><td>70021551</td></tr><tr><td>Shikha Makan</td><td>80236167</td></tr><tr><td>Haissam Hussain</td><td>80175151</td></tr><tr><td>Mitch Gould</td><td>80232404</td></tr><tr><td>Kaizad Gustad</td><td>60036746</td></tr><tr><td>Ram Gopal Varma</td><td>60036613</td></tr><tr><td>Clay Porter</td><td>80214584</td></tr><tr><td>Mani Ratnam</td><td>17671454</td></tr><tr><td>Eeshwar Nivas</td><td>60036617</td></tr><tr><td>Hugues Nancy</td><td>80230555</td></tr><tr><td>Indra Kumar</td><td>70294790</td></tr><tr><td>Mani Ratnam</td><td>70063017</td></tr><tr><td>Satish Kaushik</td><td>60003401</td></tr><tr><td>Tim Van Someren</td><td>80224605</td></tr><tr><td>David Dhawan</td><td>70021253</td></tr><tr><td>Shawn Arranha</td><td>70138498</td></tr><tr><td>Jonathan Baker</td><td>80188099</td></tr><tr><td>K. Subhash</td><td>70025303</td></tr><tr><td>Nagesh Kukunoor</td><td>70048905</td></tr><tr><td>V. K. Prakash</td><td>80223227</td></tr><tr><td>Manish Tiwary</td><td>80223195</td></tr><tr><td>David Dhawan</td><td>80236906</td></tr><tr><td>Kranti Redkar</td><td>80238297</td></tr><tr><td>Dhilip Kumar</td><td>80235958</td></tr><tr><td>Subhash Ghai</td><td>17969262</td></tr><tr><td>Surya S.J.</td><td>80223317</td></tr><tr><td>Samir Karnik</td><td>70012334</td></tr><tr><td>Daniel Lindsay</td><td>80184131</td></tr><tr><td>Syed Ahmad Afzal</td><td>80106947</td></tr><tr><td>RZA</td><td>80082014</td></tr><tr><td>Steve Sacks</td><td>70291094</td></tr><tr><td>Mike Fetterly</td><td>70250369</td></tr><tr><td>Anees Bazmee</td><td>80223230</td></tr><tr><td>Subhash Ghai</td><td>80059049</td></tr><tr><td>Mahesh Manjrekar</td><td>60032008</td></tr><tr><td>Rajkumar Santoshi</td><td>60037397</td></tr><tr><td>Manish Gupta</td><td>80223228</td></tr><tr><td>Jeeva</td><td>70001082</td></tr><tr><td>K. Gopinathan</td><td>80238291</td></tr><tr><td>Lars Büchel</td><td>80158247</td></tr><tr><td>Krishna Vamshi</td><td>60035875</td></tr><tr><td>Dibakar Banerjee</td><td>70244982</td></tr><tr><td>Gurudev Bhalla</td><td>70065769</td></tr><tr><td>Samar Khan</td><td>70099702</td></tr><tr><td>Amit Barot</td><td>80238637</td></tr><tr><td>Adarsh Eshwarappa</td><td>80188777</td></tr><tr><td>Bejoy Nambiar</td><td>80238293</td></tr><tr><td>Carlo Padial</td><td>80132381</td></tr><tr><td>Indra Kumar</td><td>80023851</td></tr><tr><td>Ashutosh Gowariker</td><td>70019491</td></tr><tr><td>Mike Smith</td><td>70304187</td></tr><tr><td>Subhash Ghai</td><td>60001670</td></tr><tr><td>Julien Seri</td><td>80196367</td></tr><tr><td>Leena Yadav</td><td>70134669</td></tr><tr><td>Bryan Buckley</td><td>80202728</td></tr><tr><td>Keerthi</td><td>80238294</td></tr><tr><td>Abhishek Sharma</td><td>80023853</td></tr><tr><td>Gajendra Ahire</td><td>80244078</td></tr><tr><td>Gajendra Ahire</td><td>80238292</td></tr><tr><td>Buddhadev Dasgupta</td><td>80238190</td></tr><tr><td>Mike Smith</td><td>70304188</td></tr><tr><td>Mike Smith</td><td>70304186</td></tr><tr><td>Mike Clattenburg</td><td>70304189</td></tr><tr><td>Mike Clattenburg</td><td>70143440</td></tr><tr><td>Mukul Anand</td><td>20717860</td></tr><tr><td>Preston A. Whitmore II</td><td>80201833</td></tr><tr><td>Milind Dhaimade</td><td>80238295</td></tr><tr><td>Ashish R. Mohan</td><td>80223190</td></tr><tr><td>N. Chandra</td><td>70125935</td></tr><tr><td>Subhash Ghai</td><td>60021903</td></tr><tr><td>Mani Ratnam</td><td>70001564</td></tr><tr><td>Volker Arzt</td><td>80135631</td></tr><tr><td>Arne Birkenstock</td><td>70175127</td></tr><tr><td>Jonathan Taylor</td><td>80172471</td></tr><tr><td>Alessandro Pepe</td><td>80144119</td></tr><tr><td>Selvamani Selvaraj</td><td>80165917</td></tr><tr><td>Vijay Jayapal</td><td>70155788</td></tr><tr><td>Matt Wechsler</td><td>80134814</td></tr><tr><td>Hernán Belón</td><td>80103424</td></tr><tr><td>Anurag Kashyap</td><td>70285730</td></tr><tr><td>Harvey Lilley</td><td>80172469</td></tr><tr><td>Lev L. Spiro</td><td>80097530</td></tr><tr><td>Michael Polish</td><td>80092404</td></tr><tr><td>Maria Ripoll</td><td>80092850</td></tr><tr><td>Dani de la Torre</td><td>80093127</td></tr><tr><td>Oren Uziel</td><td>80103734</td></tr><tr><td>Adam Marino</td><td>81061410</td></tr><tr><td>Kurt Wimmer</td><td>60024935</td></tr><tr><td>Craig Johnson</td><td>80168189</td></tr><tr><td>Jeffrey Walker</td><td>80244709</td></tr><tr><td>Ulises Valencia</td><td>80194946</td></tr><tr><td>Gabriel Grieco</td><td>80159025</td></tr><tr><td>Federico Veiroj</td><td>81025973</td></tr><tr><td>Isabel Coixet</td><td>80121387</td></tr><tr><td>Grant Sputore</td><td>80227090</td></tr><tr><td>Laxman Utekar</td><td>81113918</td></tr><tr><td>Juan Antin</td><td>81029736</td></tr><tr><td>Hanno Olderdissen</td><td>81051688</td></tr><tr><td>Amar Kaushik</td><td>81113921</td></tr><tr><td>Reginald Hudlin</td><td>80173387</td></tr><tr><td>Grant Korgan</td><td>81013112</td></tr><tr><td>Ajay Bahl</td><td>70290904</td></tr><tr><td>Kees Van Oostrum</td><td>70294793</td></tr><tr><td>Eva Trobisch</td><td>81030855</td></tr><tr><td>Tamer Bassiouni</td><td>81035852</td></tr><tr><td>Travis Zariwny</td><td>80079473</td></tr><tr><td>Corbin Bernsen</td><td>80018328</td></tr><tr><td>Asghar Farhadi</td><td>80996787</td></tr><tr><td>Shadi Ali</td><td>81035881</td></tr><tr><td>Sameh Abdulaziz</td><td>81035843</td></tr><tr><td>Mahmoud Karim</td><td>81035837</td></tr><tr><td>Walerian Borowczyk</td><td>80039136</td></tr><tr><td>Hani Hamdi</td><td>81035884</td></tr><tr><td>Wael Ihsan</td><td>81035863</td></tr><tr><td>Amr Arafa</td><td>81035858</td></tr><tr><td>Wael Ihsan</td><td>81035882</td></tr><tr><td>Ahmed Al-Badry</td><td>81035847</td></tr><tr><td>Mohammed El-Tahawy</td><td>81035859</td></tr><tr><td>Naoko Yamada</td><td>80223226</td></tr><tr><td>Philip Marlatt</td><td>81076055</td></tr><tr><td>Scott Mosier</td><td>80996790</td></tr><tr><td>David Gelb</td><td>70181716</td></tr><tr><td>David Guy Levy</td><td>70270388</td></tr><tr><td>Taika Waititi</td><td>80186608</td></tr><tr><td>Saul Dibb</td><td>80042309</td></tr><tr><td>Manika Sharma</td><td>80169554</td></tr><tr><td>Mathieu Auvray</td><td>80114804</td></tr><tr><td>Marcus Raboy</td><td>80237423</td></tr><tr><td>Limbert Fabian</td><td>70304298</td></tr><tr><td>Grant Heslov</td><td>70117293</td></tr><tr><td>Timothy Reckart</td><td>80121841</td></tr><tr><td>Sittisiri Mongkolsiri</td><td>81093122</td></tr><tr><td>Kelly Reichardt</td><td>70293788</td></tr><tr><td>Robbie Grewal</td><td>81039384</td></tr><tr><td>Jay Karas</td><td>70245034</td></tr><tr><td>Ted Geoghegan</td><td>80220676</td></tr><tr><td>Yayo Herrero</td><td>80109341</td></tr><tr><td>Juan Manuel Cotelo</td><td>80127764</td></tr><tr><td>Damani Baker</td><td>80190144</td></tr><tr><td>Lyric R. Cabral</td><td>80039644</td></tr><tr><td>Cosima Spender</td><td>80052790</td></tr><tr><td>Alfonso Serrano Maturino</td><td>80144311</td></tr><tr><td>Timo Tjahjanto</td><td>80109145</td></tr><tr><td>Johnnie To</td><td>80117455</td></tr><tr><td>Seong-hun Kim</td><td>80132626</td></tr><tr><td>Bo Burnham</td><td>80106124</td></tr><tr><td>Christopher Nolen</td><td>81145270</td></tr><tr><td>Thiagarajan Kumararaja</td><td>81128584</td></tr><tr><td>Matt Palmer</td><td>80198478</td></tr><tr><td>Raúl Campos</td><td>80191989</td></tr><tr><td>Rodrigo Triana</td><td>80238434</td></tr><tr><td>Elaine McMillion Sheldon</td><td>80177782</td></tr><tr><td>Federico D'Alessandro</td><td>80217569</td></tr><tr><td>Anthony Pierce</td><td>80015210</td></tr><tr><td>Mike Mills</td><td>80134080</td></tr><tr><td>Kate Horne</td><td>81130373</td></tr><tr><td>Roberto Girault Facha</td><td>81091378</td></tr><tr><td>Christopher Ray</td><td>81136964</td></tr><tr><td>Michel Tikhomiroff</td><td>80233215</td></tr><tr><td>Emanuel Hoss-Desmarais</td><td>80241779</td></tr><tr><td>Bong Joon Ho</td><td>80091936</td></tr><tr><td>Paul Thomas Anderson</td><td>81110498</td></tr><tr><td>Alex Díaz</td><td>81060096</td></tr><tr><td>Fredric Lean</td><td>80994807</td></tr><tr><td>Bill D'Elia</td><td>80133553</td></tr><tr><td>Sujoy Ghosh</td><td>70236020</td></tr><tr><td>Peter Ramsey</td><td>81002747</td></tr><tr><td>Doron Paz</td><td>81075239</td></tr><tr><td>Svati Chakravarty Bhatkal</td><td>81108230</td></tr><tr><td>Rian Johnson</td><td>80192018</td></tr><tr><td>Shannon Hartman</td><td>80200015</td></tr><tr><td>Justin Kelly</td><td>80161640</td></tr><tr><td>Pablo Larraín</td><td>80108952</td></tr><tr><td>Liz Garbus</td><td>70308063</td></tr><tr><td>Kevin Bray</td><td>80996192</td></tr><tr><td>Michael James Regan</td><td>81090899</td></tr><tr><td>Aditya Kripalani</td><td>81095399</td></tr><tr><td>Seiji Mizushima</td><td>80038207</td></tr><tr><td>Sanjay Gupta</td><td>80171598</td></tr><tr><td>Myriam Aziza</td><td>80160994</td></tr><tr><td>Vivieno Caldinelli</td><td>80191356</td></tr><tr><td>Vivieno Caldinelli</td><td>80191357</td></tr><tr><td>Raúl Campos</td><td>80097641</td></tr><tr><td>Rob Burnett</td><td>80097349</td></tr><tr><td>Jay Lyons</td><td>81055402</td></tr><tr><td>Drew Casson</td><td>80231602</td></tr><tr><td>Chris Buck</td><td>26009364</td></tr><tr><td>Charlie Siskel</td><td>80143794</td></tr><tr><td>Brian Knappenberger</td><td>80168227</td></tr><tr><td>Brian Smith</td><td>70026432</td></tr><tr><td>Brent Bonacorso</td><td>80155477</td></tr><tr><td>Jennifer Phang</td><td>80038420</td></tr><tr><td>Mohamed Hamdy</td><td>81035849</td></tr><tr><td>Jesse V. Johnson</td><td>80195901</td></tr><tr><td>Gerard Barrett</td><td>80128245</td></tr><tr><td>Rene Liu</td><td>80993655</td></tr><tr><td>Geoffrey Orthwein</td><td>80167644</td></tr><tr><td>Jovanka Vuckovic</td><td>80027041</td></tr><tr><td>Miguel Cohan</td><td>81018067</td></tr><tr><td>Luis Alberto Restrepo</td><td>80220422</td></tr><tr><td>Hideaki Anno</td><td>81033473</td></tr><tr><td>Tarek Abdel Moaty</td><td>81035870</td></tr><tr><td>Hideaki Anno</td><td>60024788</td></tr><tr><td>Nitesh Tiwari</td><td>80166185</td></tr><tr><td>Ismail Farouk</td><td>81035868</td></tr><tr><td>Khaled Marei</td><td>81035877</td></tr><tr><td>Abhijit Kokate</td><td>81131274</td></tr><tr><td>Husam El-Gohari</td><td>81035876</td></tr><tr><td>Magdy Al-Hawwary</td><td>81035875</td></tr><tr><td>Ahmad El-Badri</td><td>81035866</td></tr><tr><td>Antonin Baudry</td><td>81027187</td></tr><tr><td>Mohamed Hamdy</td><td>81035879</td></tr><tr><td>Sherif Mandour</td><td>81035871</td></tr><tr><td>Ken Burns</td><td>80997770</td></tr><tr><td>Atul Malhotra</td><td>80173234</td></tr><tr><td>Roy Burdine</td><td>80151644</td></tr><tr><td>Scott Moran</td><td>80185223</td></tr><tr><td>George Clooney</td><td>70038131</td></tr><tr><td>Datta Mohan Bhandare</td><td>81110386</td></tr><tr><td>Kieran Darcy-Smith</td><td>80108430</td></tr><tr><td>Tom Hooper</td><td>70135893</td></tr><tr><td>Salvador Calvo</td><td>80121844</td></tr><tr><td>Jun-seong Kim</td><td>80158750</td></tr><tr><td>Chris Robinson</td><td>80216302</td></tr><tr><td>Janet Tobias</td><td>81105525</td></tr><tr><td>David L. Cunningham</td><td>81017094</td></tr><tr><td>Petra Costa</td><td>80190535</td></tr><tr><td>Ed Lilly</td><td>80241071</td></tr><tr><td>Madeleine Parry</td><td>80233611</td></tr><tr><td>Isaac Ezban</td><td>80160814</td></tr><tr><td>Jay Karas</td><td>80993404</td></tr><tr><td>Anirban Majumder</td><td>81092781</td></tr><tr><td>Scott Martin</td><td>81001090</td></tr><tr><td>Jeremy Kenyon Lockyer Corbell</td><td>81083891</td></tr><tr><td>Rajiv Chilaka</td><td>81092782</td></tr><tr><td>Anirban Majumder</td><td>81092780</td></tr><tr><td>Sumit Das</td><td>81092783</td></tr><tr><td>George Mendeluk</td><td>81136963</td></tr><tr><td>Wilson Yip</td><td>80076698</td></tr><tr><td>Kyle Patrick Alvarez</td><td>80038159</td></tr><tr><td>Jon Watts</td><td>80037691</td></tr><tr><td>Jakob Lass</td><td>80998296</td></tr><tr><td>Jay Bulger</td><td>80049873</td></tr><tr><td>Kevin Derek</td><td>80094358</td></tr><tr><td>Kip Andersen</td><td>80174177</td></tr><tr><td>Shazia Javed</td><td>81123051</td></tr><tr><td>John Haptas</td><td>81034980</td></tr><tr><td>Sanjay Jadhav</td><td>81123052</td></tr><tr><td>Ahmed El Gendy</td><td>81035887</td></tr><tr><td>Vinod Kapri</td><td>81113927</td></tr><tr><td>Elías León</td><td>80213115</td></tr><tr><td>Israel Adrián Caetano</td><td>70074315</td></tr><tr><td>Anders Falck</td><td>81002885</td></tr><tr><td>Zoya Akhtar</td><td>80991033</td></tr><tr><td>Oded Raz</td><td>80244547</td></tr><tr><td>Mariana Tschudi</td><td>80991025</td></tr><tr><td>Claire Scanlon</td><td>80184100</td></tr><tr><td>Ramón Salazar</td><td>80131280</td></tr><tr><td>Eduardo Mendoza de Echave</td><td>80991026</td></tr><tr><td>Henrik Martin Dahlsbakken</td><td>80164206</td></tr><tr><td>Arun Chidambaram</td><td>80187684</td></tr><tr><td>Caio Cobra</td><td>80160726</td></tr><tr><td>Tomer Heymann</td><td>80104706</td></tr><tr><td>Alex Infascelli</td><td>80172284</td></tr><tr><td>Cal Seville</td><td>80158770</td></tr><tr><td>Peggy Holmes</td><td>70302844</td></tr><tr><td>Bruno Garotti</td><td>80245601</td></tr><tr><td>Kyle Newacheck</td><td>80242619</td></tr><tr><td>Zachary Heinzerling</td><td>70267830</td></tr><tr><td>Abdul Aziz Hashad</td><td>81035853</td></tr><tr><td>Khaled Marei</td><td>81035841</td></tr><tr><td>Mark Ritchie</td><td>81147766</td></tr><tr><td>Mahmoud Karim</td><td>81035889</td></tr><tr><td>Rocky Soraya</td><td>81088277</td></tr><tr><td>Sameh Abdulaziz</td><td>81035874</td></tr><tr><td>Tarek Al Eryan</td><td>81035883</td></tr><tr><td>Hadi El Bagoury</td><td>81035848</td></tr><tr><td>Patrik Syversen</td><td>80176756</td></tr><tr><td>Michael John Warren</td><td>80168221</td></tr><tr><td>Andy Capper</td><td>70261178</td></tr><tr><td>Shannon Hartman</td><td>81002929</td></tr><tr><td>Martin Scorsese</td><td>80221016</td></tr><tr><td>Waymon Boone</td><td>80222188</td></tr><tr><td>Phil Johnston</td><td>80221640</td></tr><tr><td>Julie Dash</td><td>60001104</td></tr><tr><td>Andrew C. Erin</td><td>80132601</td></tr><tr><td>Chang-Min Lee</td><td>80176866</td></tr><tr><td>Derek Yee</td><td>80114989</td></tr><tr><td>Cristina Jacob</td><td>81092768</td></tr><tr><td>Cristina Jacob</td><td>81092766</td></tr><tr><td>Roland Emmerich</td><td>70060018</td></tr><tr><td>Jonathan Levine</td><td>70202141</td></tr><tr><td>David McCracken</td><td>81032375</td></tr><tr><td>Brian De Palma</td><td>352989</td></tr><tr><td>Sanjib Dey</td><td>81062606</td></tr><tr><td>Ron Davis</td><td>81077795</td></tr><tr><td>Cristina Jacob</td><td>81092767</td></tr><tr><td>Cristina Jacob</td><td>81092909</td></tr><tr><td>Barry Avrich</td><td>81070008</td></tr><tr><td>Jon Avnet</td><td>70098605</td></tr><tr><td>V. Scott Balcerek</td><td>81077539</td></tr><tr><td>Joe Dante</td><td>20129240</td></tr><tr><td>Richard Kelly</td><td>70108017</td></tr><tr><td>Joel Schumacher</td><td>70011219</td></tr><tr><td>Peter Chelsom</td><td>80097424</td></tr><tr><td>Peter Hutchings</td><td>80203143</td></tr><tr><td>Daniel Yee Heng Chan</td><td>81068732</td></tr><tr><td>Dennie Gordon</td><td>60026155</td></tr><tr><td>Shadab Khan</td><td>80994443</td></tr><tr><td>Nattawut Poonpiriya</td><td>80245442</td></tr><tr><td>Elvira Lind</td><td>80190515</td></tr><tr><td>Davis Guggenheim</td><td>80048218</td></tr><tr><td>Gavin O'Connor</td><td>60033300</td></tr><tr><td>Jon Turteltaub</td><td>70011206</td></tr><tr><td>Mahesh Manjrekar</td><td>80998558</td></tr><tr><td>Lynn Shelton</td><td>80168167</td></tr><tr><td>Felix Starck</td><td>80245626</td></tr><tr><td>Robert Kouba</td><td>80196584</td></tr><tr><td>Umesh Mehra</td><td>80157084</td></tr><tr><td>Edward Cotterill</td><td>80158580</td></tr><tr><td>Ted Braun</td><td>80108609</td></tr><tr><td>Jon Manning</td><td>80173267</td></tr><tr><td>Onur Tukel</td><td>80144804</td></tr><tr><td>Luis Lopez</td><td>80139214</td></tr><tr><td>Saara Cantell</td><td>80106038</td></tr><tr><td>Ron Howard</td><td>60000901</td></tr><tr><td>Cal Seville</td><td>80158769</td></tr><tr><td>Edward Cotterill</td><td>80158579</td></tr><tr><td>Jayaprakash Radhakrishnan</td><td>80158920</td></tr><tr><td>Rob Meyer</td><td>80107736</td></tr><tr><td>Anita Barbosa</td><td>80148967</td></tr><tr><td>Ketan Mehta</td><td>70057994</td></tr><tr><td>Daniel Wilner</td><td>80186862</td></tr><tr><td>Ketan Mehta</td><td>80156937</td></tr><tr><td>Lekh Tandon</td><td>80158546</td></tr><tr><td>Umesh Mehra</td><td>80156936</td></tr><tr><td>Alberto Rodríguez</td><td>80121843</td></tr><tr><td>Edward Cotterill</td><td>80158581</td></tr><tr><td>Alfonso Cuarón</td><td>60023237</td></tr><tr><td>Jose Manuel Colón</td><td>80104041</td></tr><tr><td>Javier Ruiz Caldera</td><td>80093213</td></tr><tr><td>David Sington</td><td>80099305</td></tr><tr><td>Zoe Berriatúa</td><td>80103623</td></tr><tr><td>Luis Estrada</td><td>80032640</td></tr><tr><td>Spike Jonze</td><td>81098589</td></tr><tr><td>Rob Marshall</td><td>80221446</td></tr><tr><td>Lee Eung-bok</td><td>80991107</td></tr><tr><td>Karyn Kusama</td><td>80048977</td></tr><tr><td>Phyllida Lloyd</td><td>70189282</td></tr><tr><td>Leif Tilden</td><td>80119249</td></tr><tr><td>Pat Healy</td><td>80117747</td></tr><tr><td>Dustin McKenzie</td><td>80004286</td></tr><tr><td>Fabio Grassadonia</td><td>81039323</td></tr><tr><td>Raúl Campos</td><td>80192064</td></tr><tr><td>Jody Hill</td><td>80176715</td></tr><tr><td>Samu Fuentes</td><td>80168029</td></tr><tr><td>Alexandre Espigares</td><td>80245121</td></tr><tr><td>Suhas Kadav</td><td>80177339</td></tr><tr><td>Dan Harris</td><td>80170277</td></tr><tr><td>Qaushiq Mukherjee</td><td>80097355</td></tr><tr><td>Marcelo Altmark</td><td>80223153</td></tr><tr><td>Derek Cianfrance</td><td>70122316</td></tr><tr><td>Anurag Basu</td><td>80102160</td></tr><tr><td>Michèle Ohayon</td><td>80076160</td></tr><tr><td>Renny Harlin</td><td>80099089</td></tr><tr><td>Kevin Layne</td><td>70303706</td></tr><tr><td>Amanda Micheli</td><td>80195243</td></tr><tr><td>Eric Khoo</td><td>81039161</td></tr><tr><td>Gideon Raff</td><td>80240537</td></tr><tr><td>Kang Cheng</td><td>80997870</td></tr><tr><td>Cheh Chang</td><td>60001377</td></tr><tr><td>Nizar Shafi</td><td>81151899</td></tr><tr><td>Víctor García</td><td>81030976</td></tr><tr><td>Wilson Coneybeare</td><td>81017011</td></tr><tr><td>Marcus Raboy</td><td>80213715</td></tr><tr><td>Note Chern-Yim</td><td>80999990</td></tr><tr><td>Note Chern-Yim</td><td>80999991</td></tr><tr><td>Poj Arnon</td><td>81000000</td></tr><tr><td>Fernando Sariñana</td><td>80162192</td></tr><tr><td>Jonathan Levine</td><td>70074100</td></tr><tr><td>Scott L. Montoya</td><td>70224969</td></tr><tr><td>Scott L. Montoya</td><td>70261273</td></tr><tr><td>Marcus Raboy</td><td>70250364</td></tr><tr><td>David Blair</td><td>80198632</td></tr><tr><td>Kirk De Micco</td><td>70143241</td></tr><tr><td>Spike Jonze</td><td>70278933</td></tr><tr><td>Sian Heder</td><td>80093198</td></tr><tr><td>Ted Emery</td><td>81018141</td></tr><tr><td>Ted Emery</td><td>81015524</td></tr><tr><td>John Wells</td><td>70124965</td></tr><tr><td>Meng Hua Ho</td><td>80999107</td></tr><tr><td>Tony Datis</td><td>80992365</td></tr><tr><td>Vanessa Roth</td><td>80092926</td></tr><tr><td>Ben Ryder</td><td>80195835</td></tr><tr><td>Jim Strouse</td><td>80171022</td></tr><tr><td>Raúl Campos</td><td>80192135</td></tr><tr><td>Ben Young</td><td>80236421</td></tr><tr><td>Kirby Dick</td><td>80170862</td></tr><tr><td>Raymond Wood</td><td>81092331</td></tr><tr><td>Jorge M. Fontana</td><td>80173485</td></tr><tr><td>Mikhail Red</td><td>81028404</td></tr><tr><td>Olivier Afonso</td><td>80198508</td></tr><tr><td>James Woodroffe</td><td>80228239</td></tr><tr><td>Rachel Bell</td><td>81032669</td></tr><tr><td>David Leveaux</td><td>80155932</td></tr><tr><td>Sebastián Schindel</td><td>80994020</td></tr><tr><td>Asif Kapadia</td><td>80049094</td></tr><tr><td>Kyle Newman</td><td>80049177</td></tr><tr><td>Gilles Paquet-Brenner</td><td>80025495</td></tr><tr><td>Alex Garland</td><td>80023689</td></tr><tr><td>Keanu Reeves</td><td>70278930</td></tr><tr><td>Anna Boden</td><td>80038337</td></tr><tr><td>William Monahan</td><td>80053475</td></tr><tr><td>Piti Jaturaphat</td><td>80999986</td></tr><tr><td>Atom Egoyan</td><td>80022605</td></tr><tr><td>John Maclean</td><td>80029901</td></tr><tr><td>James Ponsoldt</td><td>80037478</td></tr><tr><td>Tanit Jitnukul</td><td>80007777</td></tr><tr><td>Atsajun Sattakovit</td><td>80999987</td></tr><tr><td>Poj Arnon</td><td>81000015</td></tr><tr><td>Poj Arnon</td><td>80999982</td></tr><tr><td>Poj Arnon</td><td>80999984</td></tr><tr><td>Abhishek Sharma</td><td>81005453</td></tr><tr><td>Note Chern-Yim</td><td>80999989</td></tr><tr><td>Sukum Maetawanitch</td><td>70218312</td></tr><tr><td>Tiffanie Hsu</td><td>81006594</td></tr><tr><td>Daniel Gray Longino</td><td>80185321</td></tr><tr><td>Nick Gomez</td><td>70298116</td></tr><tr><td>Karim Amer</td><td>80117542</td></tr><tr><td>Steve Paley</td><td>80213658</td></tr><tr><td>Daniel Calparsoro</td><td>80232989</td></tr><tr><td>Kevin Smith</td><td>80014857</td></tr><tr><td>Kasper Collin</td><td>80147988</td></tr><tr><td>Brandon Dickerson</td><td>80145512</td></tr><tr><td>Harvey Lowry</td><td>80225024</td></tr><tr><td>William Friedkin</td><td>80204616</td></tr><tr><td>Quentin Tarantino</td><td>70108777</td></tr><tr><td>Paul Andrew Williams</td><td>70259259</td></tr><tr><td>J.C. Chandor</td><td>80017021</td></tr><tr><td>Byron Howard</td><td>70099615</td></tr><tr><td>Dharmesh Darshan</td><td>70034607</td></tr><tr><td>Benny Chan</td><td>70118801</td></tr><tr><td>Jay Chapman</td><td>80213654</td></tr><tr><td>Jay Karas</td><td>80158802</td></tr><tr><td>Dante Lam</td><td>70117354</td></tr><tr><td>Chi Keung Fung</td><td>81036524</td></tr><tr><td>Corey Yuen</td><td>70025372</td></tr><tr><td>To-hoi Kong</td><td>70123160</td></tr><tr><td>Jeff Baena</td><td>70299270</td></tr><tr><td>Andrew Lau Wai-Keung</td><td>80017280</td></tr><tr><td>Pete Travis</td><td>80155863</td></tr><tr><td>Michael Gallagher</td><td>80107087</td></tr><tr><td>Hassan Hegazy</td><td>81035840</td></tr><tr><td>Chris Jenkins</td><td>80195962</td></tr><tr><td>Alexandre Avancini</td><td>80186829</td></tr><tr><td>Atom Egoyan</td><td>80013547</td></tr><tr><td>Ziga Virc</td><td>80115874</td></tr><tr><td>Jeffrey Walker</td><td>80244472</td></tr><tr><td>Sam Voutas</td><td>80190463</td></tr><tr><td>Alexander Nevsky</td><td>80164164</td></tr><tr><td>Frank Ariza</td><td>80997613</td></tr><tr><td>Jacob Schwab</td><td>81092325</td></tr><tr><td>Alphonso J. Wesson</td><td>70053885</td></tr><tr><td>Gillian Robespierre</td><td>70301275</td></tr><tr><td>Lenny Abrahamson</td><td>80073823</td></tr><tr><td>Lynn Shelton</td><td>70299859</td></tr><tr><td>Julius Avery</td><td>80027378</td></tr><tr><td>David Michôd</td><td>70266679</td></tr><tr><td>Orson Welles</td><td>1005494</td></tr><tr><td>Peter Sullivan</td><td>80998968</td></tr><tr><td>Destin Daniel Cretton</td><td>70272893</td></tr><tr><td>Alexis Morante</td><td>80232891</td></tr><tr><td>Kobun Shizuno</td><td>80180376</td></tr><tr><td>Fazila Allana</td><td>80183329</td></tr><tr><td>Eric Abrams</td><td>80192842</td></tr><tr><td>Peter Svatek</td><td>80154884</td></tr><tr><td>Aditya Sarpotdar</td><td>81113926</td></tr><tr><td>Hiromasa Yonebayashi</td><td>80217130</td></tr><tr><td>Agustí Villaronga</td><td>80167460</td></tr><tr><td>Kristina Goolsby</td><td>80028208</td></tr><tr><td>Nisheeta Keni</td><td>81155782</td></tr><tr><td>Daniel Gray Longino</td><td>81003981</td></tr><tr><td>Harvey Glazer</td><td>81151313</td></tr><tr><td>Peyton Reed</td><td>70042688</td></tr><tr><td>Ron Clements</td><td>70109429</td></tr><tr><td>Chris Stokes</td><td>81011993</td></tr><tr><td>Steven Fine</td><td>81153373</td></tr><tr><td>Roman Coppola</td><td>70262783</td></tr><tr><td>Denis Villeneuve</td><td>70293661</td></tr><tr><td>Alejandro Doria</td><td>70266171</td></tr><tr><td>Heber Cannon</td><td>80095718</td></tr><tr><td>Sally Potter</td><td>70257413</td></tr><tr><td>Clay Glen</td><td>80988262</td></tr><tr><td>Steven Knight</td><td>70295189</td></tr><tr><td>Ana Quiroga</td><td>80993684</td></tr><tr><td>Harmony Korine</td><td>70257860</td></tr><tr><td>Jean-Cosme Delaloye</td><td>80998908</td></tr><tr><td>Santosh Sivan</td><td>70171835</td></tr><tr><td>Natalia Garagiola</td><td>80993650</td></tr><tr><td>Pamela Romanowsky</td><td>80049979</td></tr><tr><td>James Ponsoldt</td><td>70267439</td></tr><tr><td>Jonathan Glazer</td><td>70293812</td></tr><tr><td>Esteban Crespo</td><td>80113589</td></tr><tr><td>Anil Sharma</td><td>70298393</td></tr><tr><td>Ganesh Kadam</td><td>80191557</td></tr><tr><td>Anthony Scott Burns</td><td>80096585</td></tr><tr><td>Ticoy Rodriguez</td><td>80106928</td></tr><tr><td>Karl Mueller</td><td>80064459</td></tr><tr><td>Joe Berlinger</td><td>80102204</td></tr><tr><td>Philipp Stölzl</td><td>80014996</td></tr><tr><td>Michael Curtiz</td><td>60003082</td></tr><tr><td>Florian Gallenberger</td><td>80081277</td></tr><tr><td>Harry Chaskin</td><td>80149064</td></tr><tr><td>Jeff Orlowski</td><td>80168188</td></tr><tr><td>Marti Noxon</td><td>80171659</td></tr><tr><td>Allan Ungar</td><td>80097221</td></tr><tr><td>Patrick Brice</td><td>70306646</td></tr><tr><td>Christophe Honoré</td><td>81011936</td></tr><tr><td>David M. Rosenthal</td><td>80167481</td></tr><tr><td>Scott Zabielski</td><td>80214743</td></tr><tr><td>Leslie Small</td><td>70270773</td></tr><tr><td>Diego Cohen</td><td>80991827</td></tr><tr><td>William Eubank</td><td>70300666</td></tr><tr><td>Jay Chapman</td><td>80044126</td></tr><tr><td>John Dower</td><td>80148179</td></tr><tr><td>Jay Chapman</td><td>70301023</td></tr><tr><td>Gerardo Olivares</td><td>80221109</td></tr><tr><td>Mark Harris</td><td>81145271</td></tr><tr><td>Wi Ding Ho</td><td>81024041</td></tr><tr><td>Thomas Sieben</td><td>81044248</td></tr><tr><td>Joe Lynch</td><td>80221677</td></tr><tr><td>Noam Murro</td><td>70084221</td></tr><tr><td>Andreas Pichler</td><td>80234791</td></tr><tr><td>Neslihan Yesilyurt</td><td>80120200</td></tr><tr><td>Daniel Arasanz</td><td>81036520</td></tr><tr><td>Joseph Martin</td><td>80180224</td></tr><tr><td>Chapman Way</td><td>70299904</td></tr><tr><td>Sylvie Verheyde</td><td>80171125</td></tr><tr><td>Kasper Barfoed</td><td>80106989</td></tr><tr><td>Phil Joanou</td><td>80044731</td></tr><tr><td>Martin Scorsese</td><td>60010069</td></tr><tr><td>Courtney Hunt</td><td>70084148</td></tr><tr><td>Iain Softley</td><td>70101345</td></tr><tr><td>Linda Mendoza</td><td>80238020</td></tr><tr><td>Jonathan Hensleigh</td><td>70128697</td></tr><tr><td>M. Night Shyamalan</td><td>70044688</td></tr><tr><td>Richard Greenberg</td><td>60035622</td></tr><tr><td>Nathan Morlando</td><td>80117079</td></tr><tr><td>Martin Scorsese</td><td>70001958</td></tr><tr><td>Lee Tamahori</td><td>70066433</td></tr><tr><td>George C. Wolfe</td><td>70098899</td></tr><tr><td>Rushmore DeNooyer</td><td>81121172</td></tr><tr><td>Martin Gorst</td><td>81121173</td></tr><tr><td>Giulia Clark</td><td>81121174</td></tr><tr><td>Sarah Holt</td><td>81121175</td></tr><tr><td>Terri Randall</td><td>81121176</td></tr><tr><td>Doug Hamilton</td><td>81121177</td></tr><tr><td>Martin Gorst</td><td>81121178</td></tr><tr><td>Peter Fison</td><td>81121179</td></tr><tr><td>Graham Townsley</td><td>81121180</td></tr><tr><td>Paula Apsell</td><td>81121181</td></tr><tr><td>Oliver Twinch</td><td>81121183</td></tr><tr><td>Oliver Twinch</td><td>81121184</td></tr><tr><td>Llewellyn M. Smith</td><td>81121185</td></tr><tr><td>Daniel McCabe</td><td>81121186</td></tr><tr><td>Peter Yost</td><td>81121187</td></tr><tr><td>Tom Stubberfield</td><td>81121188</td></tr><tr><td>Noel Dockstader</td><td>81121189</td></tr><tr><td>Gail Willumsen</td><td>70265211</td></tr><tr><td>Steve Carr</td><td>70109689</td></tr><tr><td>Jonathan Demme</td><td>855084</td></tr><tr><td>Andy Fickman</td><td>70105369</td></tr><tr><td>Barry Levinson</td><td>60029369</td></tr><tr><td>Max Lang</td><td>80005738</td></tr><tr><td>Wes Craven</td><td>60000415</td></tr><tr><td>Robert Rodriguez</td><td>70112731</td></tr><tr><td>David Allensworth</td><td>81130297</td></tr><tr><td>Todd Phillips</td><td>60033320</td></tr><tr><td>Ann Deborah Fishman</td><td>81060038</td></tr><tr><td>Dominic Sena</td><td>60020745</td></tr><tr><td>Martin Scorsese</td><td>18907685</td></tr><tr><td>Ryu Jung-woo</td><td>81113468</td></tr><tr><td>Matthew Shoychet</td><td>81017506</td></tr><tr><td>Albert Hughes</td><td>70114342</td></tr><tr><td>Terry Gilliam</td><td>70021661</td></tr><tr><td>Rob Minkoff</td><td>70084795</td></tr><tr><td>Andrew Fleming</td><td>60027701</td></tr><tr><td>Shawn Levy</td><td>70021654</td></tr><tr><td>Hernán Zin</td><td>81077862</td></tr><tr><td>Martin Scorsese</td><td>70001777</td></tr><tr><td>Lijo Jose Pellissery</td><td>80182447</td></tr><tr><td>Raj Kaushal</td><td>70055855</td></tr><tr><td>Bo Burnham</td><td>70295560</td></tr><tr><td>Noushad</td><td>80994575</td></tr><tr><td>Aziz Mirza</td><td>60036112</td></tr><tr><td>Anuranjan Premji</td><td>80994424</td></tr><tr><td>Jason Bourque</td><td>80997402</td></tr><tr><td>Johnson Esthappan</td><td>80994423</td></tr><tr><td>K.C. Bokadia</td><td>80236278</td></tr><tr><td>Greg MacGillivray</td><td>80217136</td></tr><tr><td>Miguel Arteta</td><td>80115118</td></tr><tr><td>P.K. Baaburaaj</td><td>80180851</td></tr><tr><td>Nila Madhab Panda</td><td>80236279</td></tr><tr><td>Vineeth Anil</td><td>80994573</td></tr><tr><td>Katherine Brooks</td><td>70057519</td></tr><tr><td>Jayan Vannery</td><td>80994425</td></tr><tr><td>Bob Odenkirk</td><td>60029032</td></tr><tr><td>Samir Soni</td><td>81002211</td></tr><tr><td>Vipul Amrutlal Shah</td><td>70062158</td></tr><tr><td>Chandran Narikode</td><td>80994419</td></tr><tr><td>Gafoor Y. Elliyaas</td><td>80994426</td></tr><tr><td>Dileep Narayanan</td><td>80994574</td></tr><tr><td>Paritosh Painter</td><td>70125939</td></tr><tr><td>Venugopan</td><td>80994420</td></tr><tr><td>Jay Chou</td><td>70205125</td></tr><tr><td>Imtiaz Ali</td><td>70034610</td></tr><tr><td>Juan Antonio de la Riva</td><td>80992111</td></tr><tr><td>Jenée LaMarque</td><td>80222256</td></tr><tr><td>Michael Radford</td><td>80206917</td></tr><tr><td>Heber Cannon</td><td>80176064</td></tr><tr><td>Saheed Arafath</td><td>80994421</td></tr><tr><td>Jeffrey Nachmanoff</td><td>70098332</td></tr><tr><td>Kabir Sadanand</td><td>80236280</td></tr><tr><td>P.T. Kunju Muhammad</td><td>80994572</td></tr><tr><td>Greg MacGillivray</td><td>80217135</td></tr><tr><td>Huang Lei</td><td>80996349</td></tr><tr><td>Bert Marcus</td><td>80217120</td></tr><tr><td>Shlok Sharma</td><td>80993648</td></tr><tr><td>Adam Deyoe</td><td>70306701</td></tr><tr><td>Nicolas Brossette</td><td>80178940</td></tr><tr><td>Serdar Akar</td><td>80158301</td></tr><tr><td>Clay Glen</td><td>70290905</td></tr><tr><td>Castille Landon</td><td>80167699</td></tr><tr><td>Lekh Tandon</td><td>80158390</td></tr><tr><td>Martin Hodara</td><td>80184770</td></tr><tr><td>Vivieno Caldinelli</td><td>80191358</td></tr><tr><td>Doesjka van Hoogdalem</td><td>80190946</td></tr><tr><td>Rod Blackhurst</td><td>80107948</td></tr><tr><td>Asim Raza</td><td>80094964</td></tr><tr><td>Sushil Majumdar</td><td>80158481</td></tr><tr><td>Geetu Mohandas</td><td>70299811</td></tr><tr><td>Abbas Alibhai Burmawalla</td><td>70229498</td></tr><tr><td>Lekh Tandon</td><td>20257393</td></tr><tr><td>Paulo Oriol</td><td>80093106</td></tr><tr><td>Li Jun</td><td>80171528</td></tr><tr><td>Bilal Lashari</td><td>80187467</td></tr><tr><td>Yasir Nawaz</td><td>80187323</td></tr><tr><td>Umesh Mehra</td><td>80157132</td></tr><tr><td>Oskar Santos</td><td>80093104</td></tr><tr><td>Anders Sømme Hammer</td><td>80114498</td></tr><tr><td>Ryan Polito</td><td>80106979</td></tr><tr><td>Felix Thompson</td><td>80053140</td></tr><tr><td>Ishaya Bako</td><td>80105672</td></tr><tr><td>Ola Flyum</td><td>80114700</td></tr><tr><td>Benny Fredman</td><td>80106139</td></tr><tr><td>Hemant Gaba</td><td>80108386</td></tr><tr><td>Ivona Juka</td><td>80085300</td></tr><tr><td>Don Michael Paul</td><td>81214114</td></tr><tr><td>Mark Sloper</td><td>81167492</td></tr><tr><td>Kobun Shizuno</td><td>80198623</td></tr><tr><td>Kunal Kohli</td><td>81062853</td></tr><tr><td>Ron Howard</td><td>80220814</td></tr><tr><td>Ron Howard</td><td>81046962</td></tr><tr><td>Bryan Bertino</td><td>80150242</td></tr><tr><td>J. Michael Long</td><td>80213403</td></tr><tr><td>Milind Rau</td><td>80233024</td></tr><tr><td>Nick Broomfield</td><td>1193180</td></tr><tr><td>James Wan</td><td>70251894</td></tr><tr><td>Jay Karas</td><td>80077923</td></tr><tr><td>David Lowery</td><td>80173542</td></tr><tr><td>Maria Ripoll</td><td>80233408</td></tr><tr><td>Florian Henckel von Donnersmarck</td><td>70142888</td></tr><tr><td>Aaron Hancox</td><td>81005561</td></tr><tr><td>Noor Imran Mithu</td><td>81048548</td></tr><tr><td>Paakhi Tyrewala</td><td>81045052</td></tr><tr><td>Barbara Kopple</td><td>80079428</td></tr><tr><td>Babak Anvari</td><td>80096786</td></tr><tr><td>Sandy Chronopoulos</td><td>80200744</td></tr><tr><td>Emily Hagins</td><td>80097725</td></tr><tr><td>Eric Juhola</td><td>80128657</td></tr><tr><td>Greg Richardson</td><td>70295415</td></tr><tr><td>Dharmendra Suresh Desai</td><td>80125627</td></tr><tr><td>Iman Brotoseno</td><td>81037970</td></tr><tr><td>Anggy Umbara</td><td>81037984</td></tr><tr><td>Garin Nugroho</td><td>81037986</td></tr><tr><td>Sridhar Jetty</td><td>81037985</td></tr><tr><td>Clive Tonge</td><td>80153895</td></tr><tr><td>Nonzee Nimibutr</td><td>70026431</td></tr><tr><td>Hanung Bramantyo</td><td>80020885</td></tr><tr><td>Mike Flanagan</td><td>80002667</td></tr><tr><td>Masaaki Yuasa</td><td>80174974</td></tr><tr><td>Mahin Ibrahim</td><td>80213400</td></tr><tr><td>José Eduardo Belmonte</td><td>80148595</td></tr><tr><td>Hans Petter Moland</td><td>70301484</td></tr><tr><td>Uwe Boll</td><td>80038358</td></tr><tr><td>Ísold Uggadóttir</td><td>80998427</td></tr><tr><td>Lorena Munoz</td><td>81000860</td></tr><tr><td>Genevieve Nnaji</td><td>81030789</td></tr><tr><td>Mitch Schauer</td><td>80134893</td></tr><tr><td>Terry Loane</td><td>81047683</td></tr><tr><td>Mamat Khalid</td><td>81049950</td></tr><tr><td>Maria Demeshkina Peek</td><td>81047677</td></tr><tr><td>Pang Ho-cheung</td><td>80188596</td></tr><tr><td>Mario Mattei</td><td>81016360</td></tr><tr><td>Lasse Hallström</td><td>70307659</td></tr><tr><td>Selima Taibi</td><td>80224476</td></tr><tr><td>Jay Karas</td><td>80133549</td></tr><tr><td>Alejandra Márquez Abella</td><td>80081958</td></tr><tr><td>Amarjit Virdi</td><td>81035398</td></tr><tr><td>Kamal Sahani</td><td>70113347</td></tr><tr><td>Dan Kwan</td><td>80097389</td></tr><tr><td>Brad Bird</td><td>80221639</td></tr><tr><td>Fred Durst</td><td>70099120</td></tr><tr><td>Pankaj Batra</td><td>81024718</td></tr><tr><td>Marty Callner</td><td>21028726</td></tr><tr><td>William Lau</td><td>80019930</td></tr><tr><td>Yibrán Asuad</td><td>81006825</td></tr><tr><td>Anees Bazmee</td><td>81213891</td></tr><tr><td>John Hughes</td><td>498716</td></tr><tr><td>Luke Sparke</td><td>80220085</td></tr><tr><td>Wim Wenders</td><td>80244855</td></tr><tr><td>Lance Bangs</td><td>80134966</td></tr><tr><td>Peyton Reed</td><td>80220813</td></tr><tr><td>Nishil Sheth</td><td>81048561</td></tr><tr><td>Manny Rodriguez</td><td>80237903</td></tr><tr><td>Byun Hyuk</td><td>81026705</td></tr><tr><td>Zoe Berriatúa</td><td>80122209</td></tr><tr><td>Javier Ambrossi</td><td>80109193</td></tr><tr><td>Federico Lemos</td><td>80208468</td></tr><tr><td>Jeremy Kenyon Lockyer Corbell</td><td>80214582</td></tr><tr><td>Peter Nicks</td><td>80168198</td></tr><tr><td>Sébastien Betbeder</td><td>80117940</td></tr><tr><td>Adam Bhala Lough</td><td>80998786</td></tr><tr><td>Faozan Rizal</td><td>81047898</td></tr><tr><td>Mansore</td><td>81057249</td></tr><tr><td>Hanung Bramantyo</td><td>81047900</td></tr><tr><td>Kuntz Agus</td><td>81047899</td></tr><tr><td>Hanung Bramantyo</td><td>81047901</td></tr><tr><td>Alastair Fothergill</td><td>70261978</td></tr><tr><td>Adam Randall</td><td>80099016</td></tr><tr><td>Nick Broomfield</td><td>60024962</td></tr><tr><td>Jerrold Tarog</td><td>81031181</td></tr><tr><td>David Wain</td><td>80107084</td></tr><tr><td>Michael McKay</td><td>80196589</td></tr><tr><td>Alexandre Heboyan</td><td>80125818</td></tr><tr><td>Raúl Campos</td><td>80192138</td></tr><tr><td>Laura Alvea</td><td>80239629</td></tr><tr><td>Kim Seong-hun</td><td>80180171</td></tr><tr><td>Gastón Duprat</td><td>81023638</td></tr><tr><td>Isaac Florentine</td><td>80190283</td></tr><tr><td>Marco Dutra</td><td>80148920</td></tr><tr><td>Genndy Tartakovsky</td><td>80233925</td></tr><tr><td>Andy Caballero</td><td>81021098</td></tr><tr><td>July Hygreck</td><td>80194737</td></tr><tr><td>Raúl Campos</td><td>80192062</td></tr><tr><td>Paul Shoulberg</td><td>80193614</td></tr><tr><td>Marcus Raboy</td><td>80117453</td></tr><tr><td>Greg Whiteley</td><td>70296733</td></tr><tr><td>Seren Yüce</td><td>81026192</td></tr><tr><td>Jorge Blanco</td><td>70109891</td></tr><tr><td>Law Wing-cheong</td><td>80003479</td></tr><tr><td>Dash Shaw</td><td>80163053</td></tr><tr><td>Scott Moran</td><td>80208684</td></tr><tr><td>Mario Rouleau</td><td>80124680</td></tr><tr><td>Santiago Diaz</td><td>80175405</td></tr><tr><td>Scott Zabielski</td><td>80214777</td></tr><tr><td>Raúl Campos</td><td>80079427</td></tr><tr><td>Ahmed Khaled Moussa</td><td>81026986</td></tr><tr><td>Néstor Sánchez Sotelo</td><td>80149575</td></tr><tr><td>Aniruddha Roy Chowdhury</td><td>80144448</td></tr><tr><td>Chester Tam</td><td>80100936</td></tr><tr><td>Mohit Suri</td><td>80192420</td></tr><tr><td>Terry Gilliam</td><td>771476</td></tr><tr><td>Jon Schnitzer</td><td>80213401</td></tr><tr><td>Craig Elrod</td><td>80198056</td></tr><tr><td>Benjamin Cohen</td><td>80208083</td></tr><tr><td>Mike Rossiter</td><td>80045818</td></tr><tr><td>Michael McKay</td><td>80195429</td></tr><tr><td>Charles Stone III</td><td>80158485</td></tr><tr><td>Matt Angel</td><td>80198661</td></tr><tr><td>Chris McCoy</td><td>80119375</td></tr><tr><td>Sofia Coppola</td><td>70271454</td></tr><tr><td>Chris Smith</td><td>81035279</td></tr><tr><td>Jonathan Helpert</td><td>80134721</td></tr><tr><td>André D'Elia</td><td>81038976</td></tr><tr><td>Matías Gueilburt</td><td>80988257</td></tr><tr><td>Ivan Ayr</td><td>81023713</td></tr><tr><td>Chris Baugh</td><td>80174219</td></tr><tr><td>Jenny Carchman</td><td>80133139</td></tr><tr><td>Tyler Perry</td><td>81127902</td></tr><tr><td>Raúl Campos</td><td>80191988</td></tr><tr><td>Kobun Shizuno</td><td>80180373</td></tr><tr><td>Neal Brennan</td><td>80117452</td></tr><tr><td>G.J. Echternkamp</td><td>80152003</td></tr><tr><td>Jehane Noujaim</td><td>70268449</td></tr><tr><td>Caryn Waechter</td><td>81147285</td></tr><tr><td>Nicholas Stoller</td><td>70120142</td></tr><tr><td>Tim Hill</td><td>70142824</td></tr><tr><td>Numa Perrier</td><td>81235729</td></tr><tr><td>Brian Helgeland</td><td>80057599</td></tr><tr><td>Yoshiyuki Momose</td><td>81093113</td></tr><tr><td>Danny Boyle</td><td>80049358</td></tr><tr><td>Colin Strause</td><td>70141971</td></tr><tr><td>Ethan Coen</td><td>70114021</td></tr><tr><td>Jean-Marc Vallée</td><td>70275751</td></tr><tr><td>Marc Abraham</td><td>70098902</td></tr><tr><td>Steve Barker</td><td>80118718</td></tr><tr><td>Shawn Levy</td><td>60022265</td></tr><tr><td>Rima Das</td><td>81026003</td></tr><tr><td>Paco Plaza</td><td>80997602</td></tr><tr><td>Andrew Goth</td><td>80169611</td></tr><tr><td>Jeffrey G. Hunt</td><td>81144867</td></tr><tr><td>William Kaufman</td><td>81127333</td></tr><tr><td>Marek Kanievska</td><td>60000878</td></tr><tr><td>Skye Borgman</td><td>81000864</td></tr><tr><td>Hashim Nadeem Khan</td><td>81047445</td></tr><tr><td>Mohsin Ali</td><td>81045085</td></tr><tr><td>Svetlana Cvetko</td><td>81050190</td></tr><tr><td>Sarjun</td><td>81045065</td></tr><tr><td>Alejandro Lozano</td><td>80028965</td></tr><tr><td>Michael Civille</td><td>81050191</td></tr><tr><td>Feroz</td><td>80202078</td></tr><tr><td>Syed Atif Ali</td><td>81047446</td></tr><tr><td>Lee Seung-won</td><td>81000511</td></tr><tr><td>Rik Reinholdtsen</td><td>80218104</td></tr><tr><td>Stephanie Soechtig</td><td>80997719</td></tr><tr><td>Rocky Soraya</td><td>81044856</td></tr><tr><td>Rocky Soraya</td><td>81044857</td></tr><tr><td>John Asher</td><td>80154682</td></tr><tr><td>Latif Faiziyev</td><td>80158543</td></tr><tr><td>M.J. Isakson</td><td>80216543</td></tr><tr><td>Matt Toronto</td><td>80223136</td></tr><tr><td>Michael Roberts</td><td>80189955</td></tr><tr><td>Noah Moskin</td><td>80195807</td></tr><tr><td>John H. Lee</td><td>80116307</td></tr><tr><td>Ajay Bhuyan</td><td>80228321</td></tr><tr><td>Rajiv Mehra</td><td>80156940</td></tr><tr><td>Rhiannon Bannenberg</td><td>80222177</td></tr><tr><td>Bin Bunluerit</td><td>80224233</td></tr><tr><td>Jennifer Brea</td><td>80168300</td></tr><tr><td>Pradeep Verma</td><td>80228282</td></tr><tr><td>Hannes Stöhr</td><td>70114977</td></tr><tr><td>Ron Davis</td><td>80105342</td></tr><tr><td>Marty Stalker</td><td>80119140</td></tr><tr><td>Daniel Noah</td><td>70285683</td></tr><tr><td>Andreas Prochaska</td><td>80141338</td></tr><tr><td>Maximilian Erlenwein</td><td>80015154</td></tr><tr><td>John Carchietta</td><td>80106440</td></tr><tr><td>Isaac Ezban</td><td>80128690</td></tr><tr><td>Burhan Qurbani</td><td>80141337</td></tr><tr><td>Wilson Yip</td><td>70118799</td></tr><tr><td>Wilson Yip</td><td>70137753</td></tr><tr><td>David Benioff</td><td>81060049</td></tr><tr><td>Paul Thomas Anderson</td><td>70244163</td></tr><tr><td>Patryk Vega</td><td>81221851</td></tr><tr><td>Charles Officer</td><td>81009823</td></tr><tr><td>Peter Sattler</td><td>70298946</td></tr><tr><td>Marcelo González</td><td>80144144</td></tr><tr><td>Zach Clark</td><td>80106504</td></tr><tr><td>N.D. Wilson</td><td>80141335</td></tr><tr><td>Sean Penn</td><td>80115030</td></tr><tr><td>Daniel Stamm</td><td>70291114</td></tr><tr><td>Gauravv K Chawla</td><td>81044299</td></tr><tr><td>David O. Russell</td><td>70113534</td></tr><tr><td>Kleber Mendonça Filho</td><td>80113667</td></tr><tr><td>Hubert Woroniecki</td><td>80137087</td></tr><tr><td>Alistair Legrand</td><td>80096955</td></tr><tr><td>Steve Boettcher</td><td>81173792</td></tr><tr><td>Mikhil Musale</td><td>81113919</td></tr><tr><td>Julian Jarrold</td><td>70065107</td></tr><tr><td>Quinn Lasher</td><td>80990532</td></tr><tr><td>David Mrnka</td><td>80108149</td></tr><tr><td>John Mikulak</td><td>70120182</td></tr><tr><td>Maya Forbes</td><td>80173395</td></tr><tr><td>Choi Jin-seong</td><td>80226236</td></tr><tr><td>Jay Karas</td><td>80187307</td></tr><tr><td>Ira Sachs</td><td>80098203</td></tr><tr><td>Mir-Jean Bou Chaaya</td><td>80081960</td></tr><tr><td>Peter Hewitt</td><td>81221873</td></tr><tr><td>Dan Villegas</td><td>81036539</td></tr><tr><td>Bent-Jorgen Perlmutt</td><td>80191048</td></tr><tr><td>Hugo Stuven</td><td>80245041</td></tr><tr><td>Greg Pritikin</td><td>80202273</td></tr><tr><td>Amman Abbasi</td><td>80170870</td></tr><tr><td>Soumendra Padhi</td><td>81183491</td></tr><tr><td>Tom Green</td><td>70253597</td></tr><tr><td>Mike Gunther</td><td>70199239</td></tr><tr><td>Fred Olen Ray</td><td>80099306</td></tr><tr><td>Sam Raimi</td><td>484369</td></tr><tr><td>Johannes Roberts</td><td>80109128</td></tr><tr><td>Heitor Dhalia</td><td>80187188</td></tr><tr><td>Jeannie Gaffigan</td><td>80117811</td></tr><tr><td>Robert Luketic</td><td>70084788</td></tr><tr><td>Mark Rosman</td><td>60036237</td></tr><tr><td>Richard Rich</td><td>80014637</td></tr><tr><td>Sam Mendes</td><td>60000407</td></tr><tr><td>Sarah Smith</td><td>70202138</td></tr><tr><td>Edwin</td><td>81035731</td></tr><tr><td>James L. Brooks</td><td>1181488</td></tr><tr><td>Jeff Tremaine</td><td>70308046</td></tr><tr><td>Vadim Jean</td><td>80108158</td></tr><tr><td>Steven Spielberg</td><td>60024942</td></tr><tr><td>Nicholas Hytner</td><td>60000891</td></tr><tr><td>Tim Burton</td><td>70021648</td></tr><tr><td>Kevin Smith</td><td>1151188</td></tr><tr><td>Ken Hughes</td><td>374651</td></tr><tr><td>Atom Egoyan</td><td>70124183</td></tr><tr><td>Fernando Meirelles</td><td>60026106</td></tr><tr><td>Frank Coraci</td><td>70041162</td></tr><tr><td>Matt Reeves</td><td>70082268</td></tr><tr><td>Thomas Carter</td><td>70019004</td></tr><tr><td>Jay Roach</td><td>70128701</td></tr><tr><td>Mike Newell</td><td>1151721</td></tr><tr><td>Rob Cohen</td><td>60029363</td></tr><tr><td>Colin Teague</td><td>80032636</td></tr><tr><td>Doug Lefler</td><td>60002003</td></tr><tr><td>Paul W.S. Anderson</td><td>1179574</td></tr><tr><td>Chris Stokes</td><td>81103093</td></tr><tr><td>James Wong</td><td>60000393</td></tr><tr><td>David R. Ellis</td><td>60026114</td></tr><tr><td>James Wong</td><td>70042687</td></tr><tr><td>Simon Wincer</td><td>523650</td></tr><tr><td>Marcus Nispel</td><td>70104894</td></tr><tr><td>Mark A.Z. Dippé</td><td>70081015</td></tr><tr><td>Mark A.Z. Dippé</td><td>70100448</td></tr><tr><td>Mark A.Z. Dippé</td><td>70118155</td></tr><tr><td>Mark Steven Johnson</td><td>70044594</td></tr><tr><td>Anurag Kashyap</td><td>81088083</td></tr><tr><td>Roland Emmerich</td><td>11819467</td></tr><tr><td>Adam Shankman</td><td>70065096</td></tr><tr><td>Danny Leiner</td><td>70000091</td></tr><tr><td>Andy Tennant</td><td>70019506</td></tr><tr><td>Keoni Waxman</td><td>70150473</td></tr><tr><td>Christopher Nolan</td><td>70131314</td></tr><tr><td>Eugenio Derbez</td><td>70284281</td></tr><tr><td>Michael Simon</td><td>81084305</td></tr><tr><td>John A. Davis</td><td>60021788</td></tr><tr><td>Nora Ephron</td><td>70112732</td></tr><tr><td>James Mangold</td><td>60021790</td></tr><tr><td>Quentin Tarantino</td><td>60031236</td></tr><tr><td>Quentin Tarantino</td><td>60032563</td></tr><tr><td>Peter Farrelly</td><td>673843</td></tr><tr><td>Gary Fleder</td><td>1180086</td></tr><tr><td>Luis Valdez</td><td>281550</td></tr><tr><td>Zack Snyder</td><td>70125232</td></tr><tr><td>Lucas Margutti</td><td>81211681</td></tr><tr><td>Paul Thomas Anderson</td><td>60000440</td></tr><tr><td>Shyam Benegal</td><td>81217437</td></tr><tr><td>Patricia Rozema</td><td>60000480</td></tr><tr><td>Robert Luketic</td><td>70021634</td></tr><tr><td>Duncan Jones</td><td>70112500</td></tr><tr><td>Howard Zieff</td><td>786137</td></tr><tr><td>Dennie Gordon</td><td>60034568</td></tr><tr><td>Justin Webster</td><td>80197991</td></tr><tr><td>Guillermo del Toro</td><td>70050507</td></tr><tr><td>Oren Peli</td><td>70125581</td></tr><tr><td>Phillip Noyce</td><td>846071</td></tr><tr><td>Tetsuo Yajima</td><td>81085364</td></tr><tr><td>Edwin</td><td>81140307</td></tr><tr><td>Paul W.S. Anderson</td><td>70128695</td></tr><tr><td>John Lyde</td><td>80095807</td></tr><tr><td>Steve Rash</td><td>70121008</td></tr><tr><td>Keenen Ivory Wayans</td><td>60000870</td></tr><tr><td>John Stockwell</td><td>70260512</td></tr><tr><td>Gregg Bishop</td><td>80135276</td></tr><tr><td>Phillip Noyce</td><td>60035996</td></tr><tr><td>Chris Koch</td><td>60000409</td></tr><tr><td>Baz Luhrmann</td><td>60022396</td></tr><tr><td>Rob Minkoff</td><td>28631029</td></tr><tr><td>Rob Minkoff</td><td>60022058</td></tr><tr><td>Tim Burton</td><td>70077544</td></tr><tr><td>Michael Pressman</td><td>60023856</td></tr><tr><td>Steve Barron</td><td>1029730</td></tr><tr><td>Jonathan Mostow</td><td>60029154</td></tr><tr><td>McG</td><td>70103524</td></tr><tr><td>Andrew Douglas</td><td>70021631</td></tr><tr><td>Andrew Fleming</td><td>404067</td></tr><tr><td>Neil Jordan</td><td>70020296</td></tr><tr><td>Jay Chandrasekhar</td><td>70021652</td></tr><tr><td>Robert Berlinger</td><td>70061763</td></tr><tr><td>David R. Ellis</td><td>70113006</td></tr><tr><td>Ricky Gervais</td><td>70105370</td></tr><tr><td>Peter Jackson</td><td>60004484</td></tr><tr><td>Peter Jackson</td><td>60004483</td></tr><tr><td>Martin Campbell</td><td>5670479</td></tr><tr><td>David Zucker</td><td>60001808</td></tr><tr><td>David Zucker</td><td>60001807</td></tr><tr><td>Barry Levinson</td><td>793907</td></tr><tr><td>Spike Lee</td><td>60001854</td></tr><tr><td>Mimi Leder</td><td>20159719</td></tr><tr><td>Gore Verbinski</td><td>60024914</td></tr><tr><td>Anthony Minghella</td><td>60000209</td></tr><tr><td>Ron Underwood</td><td>60033108</td></tr><tr><td>S.S. Wilson</td><td>1064058</td></tr><tr><td>Brent Maddock</td><td>60021377</td></tr><tr><td>S.S. Wilson</td><td>60033107</td></tr><tr><td>Don Michael Paul</td><td>80066084</td></tr><tr><td>Henry Hathaway</td><td>1067876</td></tr><tr><td>Jason Reitman</td><td>70117902</td></tr><tr><td>Robert Zemeckis</td><td>60001396</td></tr><tr><td>Barry Sonnenfeld</td><td>22007250</td></tr><tr><td>Mel Stuart</td><td>60020949</td></tr><tr><td>Lawrence Kasdan</td><td>60011597</td></tr><tr><td>Peyton Reed</td><td>70100379</td></tr><tr><td>Nicole Conn</td><td>70209245</td></tr><tr><td>Julie Taymor</td><td>70045863</td></tr><tr><td>Alejandro G. Iñárritu</td><td>70045866</td></tr><tr><td>Yanyong Kuruaungkoul</td><td>80999981</td></tr><tr><td>Ridley Scott</td><td>60022056</td></tr><tr><td>Neill Blomkamp</td><td>80016588</td></tr><tr><td>Joe Roth</td><td>70011207</td></tr><tr><td>Steve Carr</td><td>60027689</td></tr><tr><td>Mark Landre Gould</td><td>80239710</td></tr><tr><td>David Mackenzie</td><td>80108616</td></tr><tr><td>Steven Spielberg</td><td>70084799</td></tr><tr><td>Steven Spielberg</td><td>60010487</td></tr><tr><td>Steven Spielberg</td><td>60011649</td></tr><tr><td>Steven Spielberg</td><td>60010488</td></tr><tr><td>Kevin Smith</td><td>60004476</td></tr><tr><td>Clint Eastwood</td><td>70299748</td></tr><tr><td>Lori Kaye</td><td>80214621</td></tr><tr><td>William H. Macy</td><td>80245709</td></tr><tr><td>Massy Tadjedin</td><td>70117299</td></tr><tr><td>Guy Ritchie</td><td>16944044</td></tr><tr><td>Lenin Bharathi</td><td>81045060</td></tr><tr><td>Mike Newell</td><td>60031284</td></tr><tr><td>Jay Chapman</td><td>70256512</td></tr><tr><td>James Foley</td><td>70058019</td></tr><tr><td>Kunihiko Yuyama</td><td>81046846</td></tr><tr><td>Quentin Tarantino</td><td>880640</td></tr><tr><td>Ranjit Jeyakodi</td><td>81052279</td></tr><tr><td>Ram</td><td>81052277</td></tr><tr><td>Antoine Fuqua</td><td>60026139</td></tr><tr><td>Mark Herman</td><td>70101375</td></tr><tr><td>Alex Proyas</td><td>408911</td></tr><tr><td>Ben A. Williams</td><td>80195885</td></tr><tr><td>Stephen Daldry</td><td>70307648</td></tr><tr><td>John Fortenberry</td><td>70174741</td></tr><tr><td>Rob Cohen</td><td>60023619</td></tr><tr><td>Lee Tamahori</td><td>70023960</td></tr><tr><td>Chandrakant Kulkarni</td><td>80201623</td></tr><tr><td>Uttung Shelar</td><td>80202086</td></tr><tr><td>Greg Kohs</td><td>80190844</td></tr><tr><td>Sumitra Bhave</td><td>80201626</td></tr><tr><td>Lisa Arnold</td><td>80195653</td></tr><tr><td>Bedabrata Pain</td><td>80084756</td></tr><tr><td>Sumitra Bhave</td><td>70117122</td></tr><tr><td>Reiner Holzemer</td><td>80197427</td></tr><tr><td>Kim Nguyen</td><td>80192627</td></tr><tr><td>Jose Manuel Colón</td><td>80202713</td></tr><tr><td>Nagraj Manjule</td><td>80084454</td></tr><tr><td>Bob Rose</td><td>80196217</td></tr><tr><td>Abba T. Makama</td><td>80208908</td></tr><tr><td>Joe Dietsch</td><td>80167491</td></tr><tr><td>Chris Sivertson</td><td>80206907</td></tr><tr><td>Amar Gupte</td><td>80202905</td></tr><tr><td>Sooraj R. Barjatya</td><td>60035870</td></tr><tr><td>Sooraj R. Barjatya</td><td>80074065</td></tr><tr><td>Sachin</td><td>80201809</td></tr><tr><td>Amardeep Singh Gill</td><td>80228146</td></tr><tr><td>Jon M. Chu</td><td>70169918</td></tr><tr><td>Chandrakant Kulkarni</td><td>80201810</td></tr><tr><td>Pratim D. Gupta</td><td>80221637</td></tr><tr><td>Ben Patterson</td><td>80197301</td></tr><tr><td>Sooraj R. Barjatya</td><td>19207412</td></tr><tr><td>David Batty</td><td>80217436</td></tr><tr><td>Sachin</td><td>80201618</td></tr><tr><td>Santosh Manjrekar</td><td>70128225</td></tr><tr><td>Steve Ball</td><td>80020131</td></tr><tr><td>Dustin McKenzie</td><td>70286028</td></tr><tr><td>Victor Dal Chele</td><td>80020036</td></tr><tr><td>William Lau</td><td>70301472</td></tr><tr><td>Dustin McKenzie</td><td>70286029</td></tr><tr><td>Kiki Goshay</td><td>80196138</td></tr><tr><td>Peter Pardini</td><td>80138615</td></tr><tr><td>Lars von Trier</td><td>70297799</td></tr><tr><td>Rebecca Zlotowski</td><td>80131236</td></tr><tr><td>René Pérez Joglar</td><td>80184547</td></tr><tr><td>Rajeev Patil</td><td>70116578</td></tr><tr><td>Sudesh Manjrekar</td><td>80202908</td></tr><tr><td>Kevin Phillips</td><td>80184135</td></tr><tr><td>Jee-woon Kim</td><td>80139199</td></tr><tr><td>Niyi Akinmolayan</td><td>80208830</td></tr><tr><td>Satish Manwar</td><td>80201813</td></tr><tr><td>Alison MacLean</td><td>80155790</td></tr><tr><td>David Koepp</td><td>1065372</td></tr><tr><td>Dan Bush</td><td>80159566</td></tr><tr><td>Sameer Vidwans</td><td>80201815</td></tr><tr><td>Sam Hobkinson</td><td>80217857</td></tr><tr><td>Kedar Shinde</td><td>70114043</td></tr><tr><td>Karan Bali</td><td>80158376</td></tr><tr><td>Rohit Mittal</td><td>80154688</td></tr><tr><td>Steve Hickner</td><td>70060010</td></tr><tr><td>Jalil Lespert</td><td>80011026</td></tr><tr><td>Matt Kugelman</td><td>80117742</td></tr><tr><td>Hari Viswanath</td><td>80147318</td></tr><tr><td>Pratim D. Gupta</td><td>80152741</td></tr><tr><td>Pieter-Jan De Pue</td><td>80097375</td></tr><tr><td>Miriam Chandy Menacherry</td><td>80145085</td></tr><tr><td>Edward Ellis</td><td>80144141</td></tr><tr><td>Abhishek Chaubey</td><td>80118002</td></tr><tr><td>Jerry Rothwell</td><td>80036832</td></tr><tr><td>Charlie Haskell</td><td>80092837</td></tr><tr><td>James Barr</td><td>70242899</td></tr><tr><td>Sorin Dan Mihalcescu</td><td>70053412</td></tr><tr><td>Harold Cronk</td><td>80131616</td></tr><tr><td>Roberta Grossman</td><td>80174367</td></tr><tr><td>David Bruckner</td><td>80217312</td></tr><tr><td>Tamta Gabrichidze</td><td>80209006</td></tr><tr><td>Ari Sandel</td><td>80117531</td></tr><tr><td>Caradog W. James</td><td>80153131</td></tr><tr><td>Steven Soderbergh</td><td>80991400</td></tr><tr><td>Brad Bird</td><td>81059388</td></tr><tr><td>Tom Stern</td><td>80231156</td></tr><tr><td>Kelly Duane de la Vega</td><td>80191045</td></tr><tr><td>Julio Medem</td><td>81029383</td></tr><tr><td>Toa Fraser</td><td>80178280</td></tr><tr><td>Deane Taylor</td><td>80119555</td></tr><tr><td>Luis Javier M. Henaine</td><td>80158270</td></tr><tr><td>Mathias Malzieu</td><td>70302836</td></tr><tr><td>Jenna Laurenzo</td><td>81034763</td></tr><tr><td>Scott Aukerman</td><td>80151370</td></tr><tr><td>Hark Tsui</td><td>81010962</td></tr><tr><td>Bob Nelson</td><td>80094258</td></tr><tr><td>Lance Bangs</td><td>80159028</td></tr><tr><td>Trevor Ryan</td><td>80201570</td></tr><tr><td>Alex Zamm</td><td>80225034</td></tr><tr><td>Charles Stone III</td><td>80044834</td></tr><tr><td>Michael Showalter</td><td>80216779</td></tr><tr><td>Stephen Cone</td><td>80201497</td></tr><tr><td>Julius Onah</td><td>80134431</td></tr><tr><td>Jordan Ross</td><td>80198745</td></tr><tr><td>Krishna Agazzi</td><td>80168052</td></tr><tr><td>Alison E. Rose</td><td>80167667</td></tr><tr><td>Roland Joffé</td><td>80038446</td></tr><tr><td>Lance Bangs</td><td>80059410</td></tr><tr><td>Philipp Stölzl</td><td>70252885</td></tr><tr><td>Craig Moss</td><td>80157760</td></tr><tr><td>Wade Allain-Marcus</td><td>80065220</td></tr><tr><td>Raúl Campos</td><td>80124726</td></tr><tr><td>Malik Vitthal</td><td>70301279</td></tr><tr><td>Vonda Harrell</td><td>81002591</td></tr><tr><td>Fabio Guaglione</td><td>80123777</td></tr><tr><td>Carlos Vermut</td><td>80109296</td></tr><tr><td>Shaina Allen</td><td>81017530</td></tr><tr><td>Joey Kern</td><td>80190130</td></tr><tr><td>Hong-seon Kim</td><td>80226357</td></tr><tr><td>Lilibet Foster</td><td>80061160</td></tr><tr><td>Seth Barrish</td><td>80133550</td></tr><tr><td>J.C. Falcón</td><td>80103313</td></tr><tr><td>Cathy Garcia-Molina</td><td>80092925</td></tr><tr><td>Wenn V. Deramas</td><td>80094723</td></tr><tr><td>Mae Czarina Cruz</td><td>81010869</td></tr><tr><td>Mae Czarina Cruz</td><td>80188883</td></tr><tr><td>Sridhar Rangayan</td><td>81045072</td></tr><tr><td>Cathy Garcia-Molina</td><td>81010873</td></tr><tr><td>Wenn V. Deramas</td><td>81010864</td></tr><tr><td>Cathy Garcia-Molina</td><td>81010866</td></tr><tr><td>Cathy Garcia-Molina</td><td>80175332</td></tr><tr><td>Saw Teong Hin</td><td>81047510</td></tr><tr><td>Cathy Garcia-Molina</td><td>80011541</td></tr><tr><td>Dan Villegas</td><td>80065327</td></tr><tr><td>Olivia M. Lamasan</td><td>81010872</td></tr><tr><td>Wenn V. Deramas</td><td>70123648</td></tr><tr><td>Cathy Garcia-Molina</td><td>70127628</td></tr><tr><td>Antoinette Jadaone</td><td>80050106</td></tr><tr><td>Marcus Raboy</td><td>80134779</td></tr><tr><td>Abhinay Deo</td><td>80159955</td></tr><tr><td>John Asher</td><td>80013282</td></tr><tr><td>Jesse Peretz</td><td>70167133</td></tr><tr><td>Michael Blieden</td><td>70039645</td></tr><tr><td>Sherwin Shilati</td><td>80214583</td></tr><tr><td>Mark Columbus</td><td>80213299</td></tr><tr><td>Dejan Zečević</td><td>80214579</td></tr><tr><td>Pascale Lamche</td><td>80170119</td></tr><tr><td>Lô Politi</td><td>80119235</td></tr><tr><td>Yuen Wo-Ping</td><td>80039717</td></tr><tr><td>Joshua Oppenheimer</td><td>80016401</td></tr><tr><td>Jeremy Saulnier</td><td>70278931</td></tr><tr><td>Charles Martin Smith</td><td>70305955</td></tr><tr><td>Pawan K Shrivastava</td><td>81051693</td></tr><tr><td>Paco Plaza</td><td>80109295</td></tr><tr><td>Tomas Portella</td><td>80071048</td></tr><tr><td>Kazuchika Kise</td><td>80002073</td></tr><tr><td>Kazuchika Kise</td><td>80021983</td></tr><tr><td>Kazuchika Kise</td><td>80002074</td></tr><tr><td>Macon Blair</td><td>80100937</td></tr><tr><td>Mitch Schauer</td><td>80023667</td></tr><tr><td>Mar Targarona</td><td>80191608</td></tr><tr><td>Duncan Jones</td><td>80119233</td></tr><tr><td>Steven Gomez</td><td>80100261</td></tr><tr><td>Robert Cannan</td><td>80097376</td></tr><tr><td>Ryan Polito</td><td>80992973</td></tr><tr><td>Aruna Raje</td><td>81026327</td></tr><tr><td>Alex Lehmann</td><td>80224060</td></tr><tr><td>Elisabeth Vogler</td><td>81027190</td></tr><tr><td>Parambrata Chatterjee</td><td>81071868</td></tr><tr><td>Brian A. Miller</td><td>80013712</td></tr><tr><td>Errol Morris</td><td>70292939</td></tr><tr><td>Adam Smith</td><td>80057509</td></tr><tr><td>Ken Burns</td><td>70202577</td></tr><tr><td>Ken Burns</td><td>80013283</td></tr><tr><td>Benjamin Ree</td><td>80118004</td></tr><tr><td>Susannah Ward</td><td>80003151</td></tr><tr><td>Sam Taplin</td><td>80003152</td></tr><tr><td>Kasia Uscinska</td><td>80012477</td></tr><tr><td>Vicky Matthews</td><td>80003153</td></tr><tr><td>Vicky Matthews</td><td>70296573</td></tr><tr><td>Woo Min-ho</td><td>80236133</td></tr><tr><td>Femi Oyeniran</td><td>81069254</td></tr><tr><td>Hang-Jun Jang</td><td>80223050</td></tr><tr><td>Steven Spielberg</td><td>70251896</td></tr><tr><td>Kurt Voelker</td><td>80198735</td></tr><tr><td>David Paul Meyer</td><td>80134969</td></tr><tr><td>Constance Marks</td><td>70166234</td></tr><tr><td>Paul Miller</td><td>60031404</td></tr><tr><td>Michael Del Monte</td><td>81031652</td></tr><tr><td>Andreas Johnsen</td><td>80108610</td></tr><tr><td>Nora Twomey</td><td>80217121</td></tr><tr><td>Rakeysh Omprakash Mehra</td><td>80117596</td></tr><tr><td>Chris Blake</td><td>81060040</td></tr><tr><td>Johnny Kevorkian</td><td>81005266</td></tr><tr><td>Amshan Kumar</td><td>81063743</td></tr><tr><td>David L.G. Hughes</td><td>80219974</td></tr><tr><td>Michael McKay</td><td>80217826</td></tr><tr><td>Ildiko Enyedi</td><td>80177414</td></tr><tr><td>You-Jeong Chang</td><td>80226233</td></tr><tr><td>Richard Bates Jr.</td><td>80098490</td></tr><tr><td>Steve McLean</td><td>81024494</td></tr><tr><td>Robert Rodriguez</td><td>70176656</td></tr><tr><td>Gregory Caruso</td><td>80223123</td></tr><tr><td>Benjamin Arfmann</td><td>80214581</td></tr><tr><td>Fumihiko Sori</td><td>80223731</td></tr><tr><td>Shin-yeon Won</td><td>80211728</td></tr><tr><td>Mar Targarona</td><td>80121386</td></tr><tr><td>Keith Scholey</td><td>80158772</td></tr><tr><td>Juan Pablo Buscarini</td><td>80152627</td></tr><tr><td>Keiichi Sato</td><td>80149259</td></tr><tr><td>Chad Van De Keere</td><td>70307570</td></tr><tr><td>Chad Van De Keere</td><td>80081337</td></tr><tr><td>Suseenthiran</td><td>81057246</td></tr><tr><td>Lucky McKee</td><td>80209153</td></tr><tr><td>Cecilia Peck</td><td>80222025</td></tr><tr><td>Sanjeev Gupta</td><td>80161850</td></tr><tr><td>Paul Tanter</td><td>80107808</td></tr><tr><td>Nishikant Kamat</td><td>80123910</td></tr><tr><td>Nishikant Kamat</td><td>80103428</td></tr><tr><td>Ribhu Dasgupta</td><td>80113673</td></tr><tr><td>Kevin MacDonald</td><td>80013271</td></tr><tr><td>Matt Tyrnauer</td><td>81004511</td></tr><tr><td>Stephan Rick</td><td>80989337</td></tr><tr><td>Mariano Baez</td><td>80191555</td></tr><tr><td>Stephanie Laing</td><td>80184625</td></tr><tr><td>Gus Van Sant</td><td>70100084</td></tr><tr><td>Logan Kibens</td><td>80106438</td></tr><tr><td>Leo Riley</td><td>70295085</td></tr><tr><td>Vincent Perez</td><td>80159877</td></tr><tr><td>Ozan Açıktan</td><td>81043345</td></tr><tr><td>Carlos Marques-Marcet</td><td>80208091</td></tr><tr><td>Prasanth Varma</td><td>81052266</td></tr><tr><td>Gangadhar Salimath</td><td>81067757</td></tr><tr><td>Daniel J. Clark</td><td>81015076</td></tr><tr><td>Marcelo Galvão</td><td>80095232</td></tr><tr><td>Shanawaz Nellikunnil</td><td>81067758</td></tr><tr><td>Sudhir Mishra</td><td>70002291</td></tr><tr><td>Danny J. Boyle</td><td>81050193</td></tr><tr><td>Rajat Kapoor</td><td>81067759</td></tr><tr><td>Lars Kaalund</td><td>80045203</td></tr><tr><td>Bedran Güzel</td><td>81043346</td></tr><tr><td>Hari Nath</td><td>81045069</td></tr><tr><td>Josh Webber</td><td>80216820</td></tr><tr><td>Adam Collins</td><td>81026667</td></tr><tr><td>Saket Chaudhary</td><td>70056686</td></tr><tr><td>Tanuja Chandra</td><td>81067761</td></tr><tr><td>Jackie van Beek</td><td>80992672</td></tr><tr><td>Blair Hayes</td><td>81050194</td></tr><tr><td>Sachin Kamlakar Khot</td><td>70109378</td></tr><tr><td>Tolga Örnek</td><td>81043343</td></tr><tr><td>Daniel Monzón</td><td>80988834</td></tr><tr><td>Sung-soo Kim</td><td>80144372</td></tr><tr><td>Chandrakant Kanse</td><td>80201612</td></tr><tr><td>Sanjay Jadhav</td><td>80202087</td></tr><tr><td>Sudesh Manjrekar</td><td>80201816</td></tr><tr><td>Avadhoot Gupte</td><td>80201605</td></tr><tr><td>Satish Rajwade</td><td>80201609</td></tr><tr><td>Sanjay Soorkar</td><td>70116577</td></tr><tr><td>Gajendra Ahire</td><td>70121660</td></tr><tr><td>Michael J. Bassett</td><td>70120167</td></tr><tr><td>Chandrakant Kulkarni</td><td>80201622</td></tr><tr><td>Avadhoot Gupte</td><td>80201817</td></tr><tr><td>Thomas Stuber</td><td>80082749</td></tr><tr><td>Christopher Chambers</td><td>80065214</td></tr><tr><td>Giulio Base</td><td>80152155</td></tr><tr><td>Sam Dunn</td><td>70137744</td></tr><tr><td>Raúl Arévalo</td><td>80167461</td></tr><tr><td>Matías Bize</td><td>80157565</td></tr><tr><td>Alex Holmes</td><td>80007215</td></tr><tr><td>Tanuj Chopra</td><td>81071972</td></tr><tr><td>Jon M. Chu</td><td>80244853</td></tr><tr><td>Bo Burnham</td><td>80167498</td></tr><tr><td>Anand Tiwari</td><td>80227304</td></tr><tr><td>Michael Paul Stephenson</td><td>80081987</td></tr><tr><td>Colin Dench</td><td>80134968</td></tr><tr><td>Jesús Magaña Vázquez</td><td>80134887</td></tr><tr><td>Corey Grant</td><td>80046696</td></tr><tr><td>Gareth Evans</td><td>70118368</td></tr><tr><td>Shaul Schwarz</td><td>80168084</td></tr><tr><td>Rayka Zehtabchi</td><td>81074663</td></tr><tr><td>Jevons Au</td><td>81012294</td></tr><tr><td>Olivier Assayas</td><td>80013293</td></tr><tr><td>Jeremiah Zagar</td><td>80241304</td></tr><tr><td>Afonso Poyart</td><td>80147513</td></tr><tr><td>Ricky Gervais</td><td>80103818</td></tr><tr><td>Joachim Fest</td><td>80106791</td></tr><tr><td>Joe Berlinger</td><td>80174429</td></tr><tr><td>Adam Davis</td><td>81037273</td></tr><tr><td>Chris Weitz</td><td>60022998</td></tr><tr><td>Stephen Daldry</td><td>60003378</td></tr><tr><td>Brad Peyton</td><td>70132722</td></tr><tr><td>Hsu Chih-yen</td><td>81045891</td></tr><tr><td>Emma Hatherley</td><td>81059656</td></tr><tr><td>Meghna Gulzar</td><td>80080618</td></tr><tr><td>Eddie Martin</td><td>80994282</td></tr><tr><td>Kelly Noonan</td><td>80220013</td></tr><tr><td>Rick Morales</td><td>80065492</td></tr><tr><td>Andrew Tan</td><td>81050118</td></tr><tr><td>Michael D. Black</td><td>81048914</td></tr><tr><td>Michael Winnick</td><td>80220228</td></tr><tr><td>James McTeigue</td><td>70101697</td></tr><tr><td>Olivier Assayas</td><td>80106984</td></tr><tr><td>Kelly Fremon Craig</td><td>80104316</td></tr><tr><td>Kyle Rankin</td><td>80208661</td></tr><tr><td>Pramod Pawar</td><td>81063480</td></tr><tr><td>Dan Gilroy</td><td>80199689</td></tr><tr><td>Rebecca Harrison</td><td>81063084</td></tr><tr><td>Milla Harrison-Hansley</td><td>81059649</td></tr><tr><td>Storm Theunissen</td><td>81059812</td></tr><tr><td>Jack C. Newell</td><td>80205451</td></tr><tr><td>Karyn Kusama</td><td>70045919</td></tr><tr><td>Fisher Stevens</td><td>80141928</td></tr><tr><td>Neil Triffett</td><td>80198055</td></tr><tr><td>Tom O'Dell</td><td>80195654</td></tr><tr><td>John Trengove</td><td>80170992</td></tr><tr><td>Ui-seok Jo</td><td>80163352</td></tr><tr><td>Michael Mayer</td><td>70251218</td></tr><tr><td>Greg MacGillivray</td><td>80217040</td></tr><tr><td>Drake Doremus</td><td>80172958</td></tr><tr><td>Amber Tamblyn</td><td>80171291</td></tr><tr><td>Jani Lachauer</td><td>80234290</td></tr><tr><td>Marina Zenovich</td><td>80168231</td></tr><tr><td>Carlos Bolado</td><td>80005332</td></tr><tr><td>Gurvinder Singh</td><td>80060060</td></tr><tr><td>Rohit Shetty</td><td>80091866</td></tr><tr><td>Anjali Nayar</td><td>80124947</td></tr><tr><td>Farah Khan</td><td>80017528</td></tr><tr><td>Shlok Sharma</td><td>80095530</td></tr><tr><td>Joaquín Mazón</td><td>80093105</td></tr><tr><td>Scott Hicks</td><td>80134682</td></tr><tr><td>Adam Sjöberg</td><td>80154179</td></tr><tr><td>John Stewart Muller</td><td>80127604</td></tr><tr><td>Leandro Mark</td><td>80156767</td></tr><tr><td>Pulkit</td><td>80159668</td></tr><tr><td>Jennie Livingston</td><td>60036691</td></tr><tr><td>Oscar Micheaux</td><td>80161851</td></tr><tr><td>Vlad Yudin</td><td>80152745</td></tr><tr><td>Jonás Trueba</td><td>80167843</td></tr><tr><td>Peter DeLuise</td><td>70306702</td></tr><tr><td>Robbie Countryman</td><td>81004748</td></tr><tr><td>Trey Edward Shults</td><td>80174959</td></tr><tr><td>Jason James</td><td>80225595</td></tr><tr><td>James Yukich</td><td>80160347</td></tr><tr><td>Nic Mathieu</td><td>80098200</td></tr><tr><td>Gary Howsam</td><td>80081410</td></tr><tr><td>Pierre Morel</td><td>70117322</td></tr><tr><td>Sujeeth</td><td>81157385</td></tr><tr><td>Agasyah Karim</td><td>81033201</td></tr><tr><td>Jonathan Sobol</td><td>70253594</td></tr><tr><td>Ifa Isfansyah</td><td>70266069</td></tr><tr><td>Nia Dinata</td><td>70035037</td></tr><tr><td>Rudy Soedjarwo</td><td>81016342</td></tr><tr><td>Abhinay Deo</td><td>70152959</td></tr><tr><td>Kiran Rao</td><td>70144331</td></tr><tr><td>David E. Talbert</td><td>80178974</td></tr><tr><td>Umesh Mehra</td><td>80157086</td></tr><tr><td>Abbas Tyrewala</td><td>70089214</td></tr><tr><td>Ashutosh Gowariker</td><td>60020906</td></tr><tr><td>Bhagyaraj</td><td>60002808</td></tr><tr><td>Anusha Rizvi</td><td>70129396</td></tr><tr><td>Latif Faiziyev</td><td>80156938</td></tr><tr><td>Aamir Khan</td><td>70087087</td></tr><tr><td>Baltasar Kormákur</td><td>80156405</td></tr><tr><td>John Stockwell</td><td>80103392</td></tr><tr><td>Chris Kelly</td><td>80098288</td></tr><tr><td>Karey Kirkpatrick</td><td>70103762</td></tr><tr><td>Alexandre Avancini</td><td>80223271</td></tr><tr><td>Marco Risi</td><td>81016408</td></tr><tr><td>Anne Fletcher</td><td>80201490</td></tr><tr><td>Marek Losey</td><td>81001412</td></tr><tr><td>Andy Serkis</td><td>80993105</td></tr><tr><td>Mat King</td><td>80195198</td></tr><tr><td>Brian Oakes</td><td>80191044</td></tr><tr><td>Jacob Joice</td><td>80999067</td></tr><tr><td>Bert Marcus</td><td>81003741</td></tr><tr><td>Drew Heriot</td><td>70063484</td></tr><tr><td>BB Sasore</td><td>81172740</td></tr><tr><td>Pascal Amanfo</td><td>81172756</td></tr><tr><td>Noah Baumbach</td><td>80223779</td></tr><tr><td>Atsuko Ishizuka</td><td>81068687</td></tr><tr><td>Eric Aghimien</td><td>81172758</td></tr><tr><td>Robert Kenner</td><td>80213588</td></tr><tr><td>Bruce Robinson</td><td>70120340</td></tr><tr><td>Omoni Oboli</td><td>80126997</td></tr><tr><td>Omoni Oboli</td><td>81172868</td></tr><tr><td>Saratswadee Wongsomphet</td><td>81002594</td></tr><tr><td>Joel Crawford</td><td>80185876</td></tr><tr><td>Alex Lehmann</td><td>80117746</td></tr><tr><td>Roman Gackowski</td><td>80142615</td></tr><tr><td>Benjamin Dickinson</td><td>80115673</td></tr><tr><td>Mads Matthiesen</td><td>80105691</td></tr><tr><td>John Schultz</td><td>81029841</td></tr><tr><td>Simon Baker</td><td>80244190</td></tr><tr><td>Fernando Moro</td><td>80211229</td></tr><tr><td>Jay Chapman</td><td>80187435</td></tr><tr><td>Kasra Farahani</td><td>80104103</td></tr><tr><td>Jay Karas</td><td>80004478</td></tr><tr><td>Ladislas Chollat</td><td>81188871</td></tr><tr><td>Michael Mason</td><td>80211590</td></tr><tr><td>Chris Howe</td><td>80187306</td></tr><tr><td>Ofir Raul Graizer</td><td>80988989</td></tr><tr><td>Sacha Wolff</td><td>80117080</td></tr><tr><td>Sofia Coppola</td><td>80042368</td></tr><tr><td>Nagesh Kukunoor</td><td>60034116</td></tr><tr><td>Prakash Jha</td><td>70211474</td></tr><tr><td>Ravi Babu</td><td>81177444</td></tr><tr><td>Sandeep Chatterjee</td><td>81213876</td></tr><tr><td>Shivam Nair</td><td>70056728</td></tr><tr><td>Soumitra Ranade</td><td>81161834</td></tr><tr><td>Manmohan Desai</td><td>247747</td></tr><tr><td>Manish Jha</td><td>70064205</td></tr><tr><td>Raja Menon</td><td>80083672</td></tr><tr><td>Hrishikesh Mukherjee</td><td>60003405</td></tr><tr><td>Sagar Sarhadi</td><td>70053010</td></tr><tr><td>Jon Rosenbaum</td><td>81038225</td></tr><tr><td>Priyadarshan</td><td>70062701</td></tr><tr><td>Ram Gopal Varma</td><td>81213889</td></tr><tr><td>Raj Kapoor</td><td>70005055</td></tr><tr><td>David Carson</td><td>60029461</td></tr><tr><td>David Dhawan</td><td>81213893</td></tr><tr><td>Tom Holland</td><td>372195</td></tr><tr><td>Hrishikesh Mukherjee</td><td>20255593</td></tr><tr><td>Tanveer Khan</td><td>70059328</td></tr><tr><td>Indra Kumar</td><td>81213888</td></tr><tr><td>Lee Tamahori</td><td>60024927</td></tr><tr><td>Chandra Barot</td><td>20255837</td></tr><tr><td>Ajay Phansekar</td><td>70006866</td></tr><tr><td>Rajkumar Santoshi</td><td>20077944</td></tr><tr><td>Partho Ghosh</td><td>20705133</td></tr><tr><td>Hrishikesh Mukherjee</td><td>21028086</td></tr><tr><td>Martin Campbell</td><td>22040803</td></tr><tr><td>Rohit Shetty</td><td>70054380</td></tr><tr><td>David Mirkin</td><td>60020236</td></tr><tr><td>Prakash Mehra</td><td>20765027</td></tr><tr><td>Bruce Leddy</td><td>81109078</td></tr><tr><td>Shirish Kunder</td><td>81213885</td></tr><tr><td>Madhur Bhandarkar</td><td>70129075</td></tr><tr><td>Radhu Karmakar</td><td>60001407</td></tr><tr><td>Ahishor Solomon</td><td>70295531</td></tr><tr><td>David Dhawan</td><td>17457622</td></tr><tr><td>Tinnu Anand</td><td>20712279</td></tr><tr><td>Sai Paranjape</td><td>70051840</td></tr><tr><td>Hrishikesh Mukherjee</td><td>81213895</td></tr><tr><td>Gulzar</td><td>24073896</td></tr><tr><td>Remy Kohli</td><td>81221913</td></tr><tr><td>David Dhawan</td><td>70040912</td></tr><tr><td>Shekhar Kapur</td><td>81213979</td></tr><tr><td>David Dhawan</td><td>70018445</td></tr><tr><td>Prakash Mehra</td><td>81213897</td></tr><tr><td>Karan Lalit Butani</td><td>81213877</td></tr><tr><td>Abhishek Saxena</td><td>81213882</td></tr><tr><td>Basu Chatterjee</td><td>81213896</td></tr><tr><td>Raj Kapoor</td><td>60003097</td></tr><tr><td>Sanjay Dayma</td><td>81213887</td></tr><tr><td>John Milius</td><td>896678</td></tr><tr><td>Amit Rai</td><td>81217436</td></tr><tr><td>Raman Kumar</td><td>81221914</td></tr><tr><td>Balu Mahendra</td><td>70072558</td></tr><tr><td>Raj Kapoor</td><td>60002818</td></tr><tr><td>Raj N. Sippy</td><td>20257617</td></tr><tr><td>Ram Gopal Varma</td><td>70059284</td></tr><tr><td>Basu Chatterjee</td><td>60001404</td></tr><tr><td>Tariq Khan</td><td>81213879</td></tr><tr><td>Shakti Samanta</td><td>81213898</td></tr><tr><td>Michael Apted</td><td>28371873</td></tr><tr><td>Roger Spottiswoode</td><td>17016471</td></tr><tr><td>Madhur Bhandarkar</td><td>70065255</td></tr><tr><td>Shyam Benegal</td><td>60021548</td></tr><tr><td>Sanjay Patel</td><td>81217438</td></tr><tr><td>Ashu Trikha</td><td>81213873</td></tr><tr><td>Kushal Srivastava</td><td>81213874</td></tr><tr><td>Chandra Prakash Dwivedi</td><td>81213884</td></tr><tr><td>John Fortenberry</td><td>81045989</td></tr><tr><td>Chris Bould</td><td>70059483</td></tr><tr><td>Chris Bould</td><td>80108207</td></tr><tr><td>Kevin Booth</td><td>70043231</td></tr><tr><td>Paul M. Green</td><td>81045515</td></tr><tr><td>Julio Fernández Talamantes</td><td>80232095</td></tr><tr><td>Walter C. Miller</td><td>60004393</td></tr><tr><td>Walter C. Miller</td><td>70026468</td></tr><tr><td>Walter C. Miller</td><td>81045512</td></tr><tr><td>Paul Dugdale</td><td>81026251</td></tr><tr><td>Tommy Avallone</td><td>81031650</td></tr><tr><td>Noriyuki Abe</td><td>81006261</td></tr><tr><td>Ellen Brown</td><td>81045509</td></tr><tr><td>Matt Askem</td><td>70298389</td></tr><tr><td>Matt Askem</td><td>81045530</td></tr><tr><td>Jay Chapman</td><td>81045511</td></tr><tr><td>Rob Zombie</td><td>70266169</td></tr><tr><td>Barry Avrich</td><td>80190585</td></tr><tr><td>Gary Cohen</td><td>80210716</td></tr><tr><td>Stan Lathan</td><td>80230402</td></tr><tr><td>Fabien Beziat</td><td>80230465</td></tr><tr><td>Nils Tavernier</td><td>80144691</td></tr><tr><td>Alethea Jones</td><td>80168234</td></tr><tr><td>Guy Vasilovich</td><td>80221778</td></tr><tr><td>Rich Ragsdale</td><td>80184972</td></tr><tr><td>Dana Doron</td><td>80208084</td></tr><tr><td>Hidetaka Inazuka</td><td>80208212</td></tr><tr><td>James Brown</td><td>80218432</td></tr><tr><td>Paul Schrader</td><td>80115134</td></tr><tr><td>Diego Luna</td><td>80098284</td></tr><tr><td>Brittany Andrews</td><td>80220761</td></tr><tr><td>Tim Blake Nelson</td><td>80087891</td></tr><tr><td>André Øvredal</td><td>80022613</td></tr><tr><td>Jay Baruchel</td><td>80163263</td></tr><tr><td>Rodrigo Van Der Put</td><td>81078397</td></tr><tr><td>Linda Mendoza</td><td>80221271</td></tr><tr><td>John Michael McDonagh</td><td>80103374</td></tr><tr><td>Theo Davies</td><td>81167490</td></tr><tr><td>Timothy Woodward Jr.</td><td>81012943</td></tr><tr><td>Benoît Jacquot</td><td>80044536</td></tr><tr><td>Fernando Frías De La Parra</td><td>70301620</td></tr><tr><td>John Hillcoat</td><td>70213471</td></tr><tr><td>Måns Mårlind</td><td>70132228</td></tr><tr><td>Ludovic Bernard</td><td>80194671</td></tr><tr><td>Jason Moore</td><td>70253398</td></tr><tr><td>Yuki Yamato</td><td>81043135</td></tr><tr><td>Álvaro Brechner</td><td>80185375</td></tr><tr><td>Levan Tsikurishvili</td><td>80097519</td></tr><tr><td>Rakesh Mehta</td><td>81024730</td></tr><tr><td>Mat Whitecross</td><td>80151663</td></tr><tr><td>Eduardo Chauvet</td><td>80995577</td></tr><tr><td>Gonzalo Bendala</td><td>80244708</td></tr><tr><td>Stefan Aust</td><td>80136332</td></tr><tr><td>Biyi Bandele</td><td>80082739</td></tr><tr><td>Andrew Wessels</td><td>81228864</td></tr><tr><td>Emir Kusturica</td><td>81094074</td></tr><tr><td>Chris Renaud</td><td>81044813</td></tr><tr><td>Odunlade Adekola</td><td>81172726</td></tr><tr><td>Jason Stone</td><td>81029400</td></tr><tr><td>Detlev Buck</td><td>80141781</td></tr><tr><td>Luis Prieto</td><td>70253590</td></tr><tr><td>Elisa Fuksas</td><td>81150338</td></tr><tr><td>Vic Armstrong</td><td>80013773</td></tr><tr><td>Anne Fontaine</td><td>80098103</td></tr><tr><td>Lee Toland Krieger</td><td>80211991</td></tr><tr><td>Noël Wells</td><td>80182473</td></tr><tr><td>Jay Chapman</td><td>80214478</td></tr><tr><td>Marc Francis</td><td>80182034</td></tr><tr><td>Alik Sakharov</td><td>80083594</td></tr><tr><td>Tony Giglio</td><td>81164603</td></tr><tr><td>Akiyuki Shinbo</td><td>81000505</td></tr><tr><td>Ron Oliver</td><td>81045499</td></tr><tr><td>Don Michael Paul</td><td>81164636</td></tr><tr><td>Shojiro Nishimi</td><td>81037697</td></tr><tr><td>J.D. Dillard</td><td>80208235</td></tr><tr><td>Anthony Russo</td><td>80219127</td></tr><tr><td>Michael Petroni</td><td>80052828</td></tr><tr><td>Erik Nelson</td><td>80190840</td></tr><tr><td>Ritu Sarin</td><td>80145086</td></tr><tr><td>Pepe Bojórquez</td><td>80244123</td></tr><tr><td>Rhys Thomas</td><td>81104634</td></tr><tr><td>Jeff Baena</td><td>80171023</td></tr><tr><td>Noam Murro</td><td>80107989</td></tr><tr><td>Patrick Brice</td><td>80168161</td></tr><tr><td>Daniel Kontur</td><td>80158649</td></tr><tr><td>Jorge Michel Grau</td><td>80134885</td></tr><tr><td>Riki Lindhome</td><td>80136548</td></tr><tr><td>Werner Herzog</td><td>80097363</td></tr><tr><td>David M. Rosenthal</td><td>81014479</td></tr><tr><td>Ross Boyask</td><td>80989338</td></tr><tr><td>Bruce Beresford</td><td>80131551</td></tr><tr><td>David Ayer</td><td>80119234</td></tr><tr><td>Satyajit Bhatkal</td><td>80229953</td></tr><tr><td>Louise Alston</td><td>81108479</td></tr><tr><td>Sunkanmi Adebayo</td><td>81172830</td></tr><tr><td>Kheiron</td><td>80999643</td></tr><tr><td>Susanne Bier</td><td>80196789</td></tr><tr><td>Irek Dobrowolski</td><td>80109551</td></tr><tr><td>Rodrigo Van Der Put</td><td>81020973</td></tr><tr><td>Josh Mendoza</td><td>81019341</td></tr><tr><td>Diego Kaplan</td><td>80223098</td></tr><tr><td>Ari Levinson</td><td>80132411</td></tr><tr><td>George Ford</td><td>80092839</td></tr><tr><td>George Ford</td><td>80092835</td></tr><tr><td>Omoni Oboli</td><td>81172911</td></tr><tr><td>Falz</td><td>81172866</td></tr><tr><td>Frank Rajah Arase</td><td>81172897</td></tr><tr><td>Omoni Oboli</td><td>80126996</td></tr><tr><td>Fernando Meirelles</td><td>80174451</td></tr><tr><td>Hasraf Dulull</td><td>81001097</td></tr><tr><td>Gilbert Chan</td><td>70270949</td></tr><tr><td>Rarecho</td><td>81008536</td></tr><tr><td>Steve Cheng</td><td>81036532</td></tr><tr><td>Sam Loh</td><td>81036535</td></tr><tr><td>Jason Lai</td><td>81036533</td></tr><tr><td>Marco Deufemia</td><td>80232740</td></tr><tr><td>Lydia Tenaglia</td><td>80107030</td></tr><tr><td>Thomas Astruc</td><td>80163222</td></tr><tr><td>Pablo Parés</td><td>80142140</td></tr><tr><td>Manny Rodriguez</td><td>80117628</td></tr><tr><td>David Grossman</td><td>60030245</td></tr><tr><td>Mario Cambi</td><td>70271592</td></tr><tr><td>Luc Vinciguerra</td><td>80046144</td></tr><tr><td>Luc Vinciguerra</td><td>80046145</td></tr><tr><td>Ahsan Rahim</td><td>81036338</td></tr><tr><td>Yorgos Lanthimos</td><td>80058480</td></tr><tr><td>Imtiaz Ali</td><td>80206847</td></tr><tr><td>Michael Barrett</td><td>80164930</td></tr><tr><td>Adam Nimoy</td><td>80115102</td></tr><tr><td>Elizabeth Wood</td><td>80098467</td></tr><tr><td>Kevin Smith</td><td>80098491</td></tr><tr><td>Rodrigo Reyes</td><td>80244681</td></tr><tr><td>Samit Kakkad</td><td>81018239</td></tr><tr><td>Kenny Young</td><td>80205978</td></tr><tr><td>Peter Orton</td><td>80189806</td></tr><tr><td>Emil Ben-Shimon</td><td>80155902</td></tr><tr><td>Kenny Young</td><td>80206057</td></tr><tr><td>Julia Hart</td><td>80105358</td></tr><tr><td>Warren P. Sonoda</td><td>80108691</td></tr><tr><td>Mark Lewis</td><td>81031373</td></tr><tr><td>Joel Gallen</td><td>80166467</td></tr><tr><td>Rob W. King</td><td>80218939</td></tr><tr><td>Ian MacAllister-McDonald</td><td>80175314</td></tr><tr><td>L. Frazier</td><td>80039655</td></tr><tr><td>Paul Reubens</td><td>80023921</td></tr><tr><td>Sebastian DiNatale</td><td>81070659</td></tr><tr><td>Prasobh Vijayan</td><td>81045765</td></tr><tr><td>Jon Rosenbaum</td><td>81018634</td></tr><tr><td>Ekachai Uekrongtham</td><td>80039602</td></tr><tr><td>Jay Surridge</td><td>80090672</td></tr><tr><td>Jayson Thiessen</td><td>80012535</td></tr><tr><td>Steve Antin</td><td>70137790</td></tr><tr><td>Nuhash Humayun</td><td>81048551</td></tr><tr><td>Tom Hooper</td><td>80058477</td></tr><tr><td>Brendon Marotta</td><td>81000861</td></tr><tr><td>Sriram Raghavan</td><td>81039381</td></tr><tr><td>Elaine Bogan</td><td>80026431</td></tr><tr><td>Michael Cuesta</td><td>80013772</td></tr><tr><td>David Cronenberg</td><td>80013474</td></tr><tr><td>Lone Scherfig</td><td>70184051</td></tr><tr><td>Thom Zimny</td><td>80232329</td></tr><tr><td>James Marsh</td><td>80000644</td></tr><tr><td>Gordon Chan</td><td>80145625</td></tr><tr><td>Vikram Gandhi</td><td>80144803</td></tr><tr><td>Morgan Spurlock</td><td>80136440</td></tr><tr><td>Sean Hanish</td><td>80127459</td></tr><tr><td>David Shisgall</td><td>80101609</td></tr><tr><td>Mark Williams</td><td>80125782</td></tr><tr><td>Karan Anshuman</td><td>80074933</td></tr><tr><td>Obi Emelonye</td><td>81213155</td></tr><tr><td>Farhan Akhtar</td><td>60021525</td></tr><tr><td>Zoya Akhtar</td><td>80057585</td></tr><tr><td>Farhan Akhtar</td><td>70059026</td></tr><tr><td>Farhan Akhtar</td><td>70224999</td></tr><tr><td>Mrighdeep Singh Lamba</td><td>70278990</td></tr><tr><td>Abhinay Deo</td><td>70181734</td></tr><tr><td>Tsutomu Mizushima</td><td>80205232</td></tr><tr><td>Fernando Ayllón</td><td>81135444</td></tr><tr><td>Reema Kagti</td><td>70254352</td></tr><tr><td>Brodje Wemboendja</td><td>81213153</td></tr><tr><td>Jadesola Osiberu</td><td>81213148</td></tr><tr><td>Vijay Lalwani</td><td>70134537</td></tr><tr><td>Farhan Akhtar</td><td>70001237</td></tr><tr><td>Zoya Akhtar</td><td>70114467</td></tr><tr><td>Shirley Frimpong-Manso</td><td>81213149</td></tr><tr><td>Abhishek Kapoor</td><td>70110883</td></tr><tr><td>Hiroshi Aoyama</td><td>60004509</td></tr><tr><td>Reema Kagti</td><td>70262614</td></tr><tr><td>Phil Roman</td><td>60022041</td></tr><tr><td>Téo Frank</td><td>81213152</td></tr><tr><td>Zoya Akhtar</td><td>70202336</td></tr><tr><td>Sean Olson</td><td>81025946</td></tr><tr><td>Sigrid Andrea Bernardo</td><td>81036745</td></tr><tr><td>Matt Askem</td><td>81034633</td></tr><tr><td>Matt Askem</td><td>81034635</td></tr><tr><td>Guillermo de Oliveira</td><td>80988832</td></tr><tr><td>Elliot Hegarty</td><td>80188902</td></tr><tr><td>Manoj Beedha</td><td>81045054</td></tr><tr><td>Vikram Bhatt</td><td>70117674</td></tr><tr><td>Daniel Alfredson</td><td>80104116</td></tr><tr><td>Jody Lambert</td><td>80197310</td></tr><tr><td>Sridhar Rangayan</td><td>80220783</td></tr><tr><td>Ernie Barbarash</td><td>80177441</td></tr><tr><td>Agnidev Chatterjee</td><td>80218586</td></tr><tr><td>Todd Standing</td><td>80210182</td></tr><tr><td>Marc Levin</td><td>80018252</td></tr><tr><td>Manbhavan Singh</td><td>80203788</td></tr><tr><td>Pa. Ranjith</td><td>80227673</td></tr><tr><td>Ignacio López Escrivá</td><td>80219340</td></tr><tr><td>Rahat Kazmi</td><td>80218784</td></tr><tr><td>Nicholas Kharkongor</td><td>80218783</td></tr><tr><td>Varun Narvekar</td><td>80223049</td></tr><tr><td>Seth Henrikson</td><td>80217545</td></tr><tr><td>Devaki Singh</td><td>80203784</td></tr><tr><td>Benson Lee</td><td>80106230</td></tr><tr><td>Antonio Serrano</td><td>70003680</td></tr><tr><td>Chris Burkard</td><td>80216662</td></tr><tr><td>Sinan Akkuş</td><td>80093295</td></tr><tr><td>Matt Bell</td><td>80142450</td></tr><tr><td>Hardik Mehta</td><td>80139507</td></tr><tr><td>Ehtesham Uddin</td><td>80087348</td></tr><tr><td>Elite Zexer</td><td>80098810</td></tr><tr><td>Pedro Morelli</td><td>80093812</td></tr><tr><td>John Banas</td><td>80085567</td></tr><tr><td>Wim Bonte</td><td>80092409</td></tr><tr><td>Alfonso Cuarón</td><td>80240715</td></tr><tr><td>Bruce MacDonald</td><td>80222301</td></tr><tr><td>Mike Nicoll</td><td>80104182</td></tr><tr><td>Michael Bay</td><td>81001887</td></tr><tr><td>Robert O. Peters</td><td>81172747</td></tr><tr><td>Bunmi Ajakaiye</td><td>81172757</td></tr><tr><td>Omoni Oboli</td><td>81172903</td></tr><tr><td>Biodun Stephen</td><td>81172904</td></tr><tr><td>M.J. Bassett</td><td>70243446</td></tr><tr><td>Ding-Lin Wang</td><td>81210770</td></tr><tr><td>Robert O. Peters</td><td>81172864</td></tr><tr><td>Richard van't Riet</td><td>81060232</td></tr><tr><td>John Hoffman</td><td>81010212</td></tr><tr><td>Marcus Raboy</td><td>80158871</td></tr><tr><td>Michael Winterbottom</td><td>80139397</td></tr><tr><td>Jean-Pierre Dardenne</td><td>80107019</td></tr><tr><td>Gurinder Chadha</td><td>80191835</td></tr><tr><td>Gabriela Cowperthwaite</td><td>70267802</td></tr><tr><td>Raúl Campos</td><td>80124728</td></tr><tr><td>Christopher Smith</td><td>80020772</td></tr><tr><td>Josh Greenbaum</td><td>70290567</td></tr><tr><td>Shonali Bose</td><td>81037373</td></tr><tr><td>Adam Alleca</td><td>80065754</td></tr><tr><td>Marcus Raboy</td><td>80995991</td></tr><tr><td>Craig Anderson</td><td>80205065</td></tr><tr><td>Michael G. Kehoe</td><td>80194612</td></tr><tr><td>Alex Lehmann</td><td>80104420</td></tr><tr><td>Frank Coraci</td><td>80039517</td></tr><tr><td>Sameh Abdulaziz</td><td>81035888</td></tr><tr><td>Lance Bangs</td><td>81036542</td></tr><tr><td>Hiroshi Katagiri</td><td>81001121</td></tr><tr><td>Ivan Sen</td><td>80144453</td></tr><tr><td>Anthony Caronna</td><td>81009829</td></tr><tr><td>Jeffrey C. Bell</td><td>80132410</td></tr><tr><td>Michelle Johnston</td><td>81148811</td></tr><tr><td>John Fortenberry</td><td>18066997</td></tr><tr><td>Jay Roach</td><td>60023608</td></tr><tr><td>Jay Roach</td><td>1153656</td></tr><tr><td>Jay Roach</td><td>21302357</td></tr><tr><td>Vijay Kumar Arora</td><td>81217745</td></tr><tr><td>Matt Shakman</td><td>80011622</td></tr><tr><td>Mikhail Red</td><td>81165325</td></tr><tr><td>Pankaj Batra</td><td>81217746</td></tr><tr><td>Craig Brewer</td><td>70023451</td></tr><tr><td>Serge Ou</td><td>80188823</td></tr><tr><td>Navaniat Singh</td><td>80182479</td></tr><tr><td>Gaurav Bavdankar</td><td>81217741</td></tr><tr><td>David Raynr</td><td>60024161</td></tr><tr><td>Gregory Hoblit</td><td>873159</td></tr><tr><td>Jagdeep Sidhu</td><td>81217747</td></tr><tr><td>Malik Bendjelloul</td><td>70229213</td></tr><tr><td>Jamie M. Dagg</td><td>80191294</td></tr><tr><td>Tanawat Aiemjinda</td><td>81184705</td></tr><tr><td>Robert Rodriguez</td><td>70021640</td></tr><tr><td>Martin Scorsese</td><td>70044689</td></tr><tr><td>Brendan Malloy</td><td>80208793</td></tr><tr><td>Mukesh Vohra</td><td>81217742</td></tr><tr><td>Syrine Boulanouar</td><td>81169158</td></tr><tr><td>Tudor Giurgiu</td><td>81149202</td></tr><tr><td>Andrew Lau Wai-Keung</td><td>70216819</td></tr><tr><td>Cheang Pou Soi</td><td>70124651</td></tr><tr><td>Enrique García Meza</td><td>81013509</td></tr><tr><td>Katarina Launing</td><td>81002685</td></tr><tr><td>Johnnie To</td><td>70285697</td></tr><tr><td>Gabriel Clarke</td><td>81018536</td></tr><tr><td>Lawrence Cheng</td><td>81030201</td></tr><tr><td>Prakash Balwant Saini</td><td>81024726</td></tr><tr><td>Nam Ron</td><td>81015153</td></tr><tr><td>Johnnie To</td><td>81030198</td></tr><tr><td>Johnnie To</td><td>80017265</td></tr><tr><td>Baljit Singh Deo</td><td>81024716</td></tr><tr><td>Leung Lok Man</td><td>80106306</td></tr><tr><td>Guillermo del Toro</td><td>60034549</td></tr><tr><td>Jazz Boon</td><td>80135353</td></tr><tr><td>Prakash Satam</td><td>80995077</td></tr><tr><td>Andrew Lau Wai-Keung</td><td>70126809</td></tr><tr><td>Felix Chong</td><td>80127645</td></tr><tr><td>Dhanush</td><td>80187471</td></tr><tr><td>Gary Mak</td><td>81030200</td></tr><tr><td>Liu Jiang</td><td>81030197</td></tr><tr><td>Gabriele Muccino</td><td>70104313</td></tr><tr><td>Blake Harris</td><td>80166319</td></tr><tr><td>Evan Spiridellis</td><td>80158854</td></tr><tr><td>Jasbir Bijendra Bhati</td><td>80203781</td></tr><tr><td>Tristan Ferland Milewski</td><td>80178882</td></tr><tr><td>Harjit Singh</td><td>80203792</td></tr><tr><td>Jon Carey</td><td>80191930</td></tr><tr><td>Jennifer Lynch</td><td>70170181</td></tr><tr><td>Leopoldo Aguilar</td><td>80173001</td></tr><tr><td>Nana Ekvtimishvili</td><td>80171247</td></tr><tr><td>Olivier Jean-Marie</td><td>70286808</td></tr><tr><td>Daniel Mann</td><td>70135647</td></tr><tr><td>Ashish R. Shukla</td><td>80201828</td></tr><tr><td>Rohit Jugraj</td><td>80203787</td></tr><tr><td>Priyadarshan</td><td>70236586</td></tr><tr><td>Peter Spirer</td><td>80173271</td></tr><tr><td>Ali F. Mostafa</td><td>80191513</td></tr><tr><td>Myles Kane</td><td>80176212</td></tr><tr><td>Robert McCullough Jr.</td><td>80147908</td></tr><tr><td>Shrihari Sathe</td><td>80113785</td></tr><tr><td>Ralph Macchio</td><td>80152091</td></tr><tr><td>Ricardo Maldonado</td><td>80118982</td></tr><tr><td>Vetrimaaran</td><td>80149139</td></tr><tr><td>Chad L. Scheifele</td><td>80114915</td></tr><tr><td>Linas Phillips</td><td>80104240</td></tr><tr><td>Jeff Margolis</td><td>907090</td></tr><tr><td>Einar Gabbassov</td><td>80135563</td></tr><tr><td>Bauddhayan Mukherji</td><td>80149282</td></tr><tr><td>Mark Risley</td><td>80154176</td></tr><tr><td>Ishi Rudell</td><td>80073100</td></tr><tr><td>Susan Lambert</td><td>80066806</td></tr><tr><td>Tim Johnson</td><td>70253397</td></tr><tr><td>Robert Moresco</td><td>81156592</td></tr><tr><td>Aadish Keluskar</td><td>81074367</td></tr><tr><td>Joe Murray</td><td>81091977</td></tr><tr><td>Jesse Moss</td><td>80063867</td></tr><tr><td>Michael Fahey</td><td>81153372</td></tr><tr><td>Alejandro Montiel</td><td>80245357</td></tr><tr><td>Ian Cheney</td><td>80222042</td></tr><tr><td>Jesse Gustafson</td><td>80128691</td></tr><tr><td>John Schultz</td><td>70183165</td></tr><tr><td>Shin Won-ho</td><td>80165487</td></tr><tr><td>Shin Won-ho</td><td>70297144</td></tr><tr><td>Nancy Schwartzman</td><td>81087761</td></tr><tr><td>Darren Lynn Bousman</td><td>81065902</td></tr><tr><td>Ted Demme</td><td>80195838</td></tr><tr><td>Sujoy Ghosh</td><td>81112446</td></tr><tr><td>John Papola</td><td>81088318</td></tr><tr><td>John Asher</td><td>80080617</td></tr><tr><td>S.S. Rajamouli</td><td>80203996</td></tr><tr><td>S.S. Rajamouli</td><td>80203998</td></tr><tr><td>S.S. Rajamouli</td><td>80203997</td></tr><tr><td>S.S. Rajamouli</td><td>80204117</td></tr><tr><td>S.S. Rajamouli</td><td>80204119</td></tr><tr><td>S.S. Rajamouli</td><td>80204118</td></tr><tr><td>Osman Ali</td><td>80163368</td></tr><tr><td>Rolfe Kanefsky</td><td>80184868</td></tr><tr><td>Mae Czarina Cruz</td><td>80044888</td></tr><tr><td>Lance Bangs</td><td>80050006</td></tr><tr><td>Shannon Hartman</td><td>80002621</td></tr><tr><td>Christopher Nolen</td><td>81145273</td></tr><tr><td>Billy Corben</td><td>81047680</td></tr><tr><td>Joe DeMaio</td><td>81001278</td></tr><tr><td>Rob Silvestri</td><td>80165221</td></tr><tr><td>Mohamed Samy</td><td>81035835</td></tr><tr><td>Alex Burunova</td><td>81143771</td></tr><tr><td>Jesús Torres Torres</td><td>80208295</td></tr><tr><td>Matthias Hoene</td><td>80138681</td></tr><tr><td>Chris Nahon</td><td>80167488</td></tr><tr><td>Dante Lam</td><td>80142222</td></tr><tr><td>Ringo Lam</td><td>80156927</td></tr><tr><td>Alex Coletti</td><td>80108759</td></tr><tr><td>Mark Osborne</td><td>80057578</td></tr><tr><td>Christian De Vita</td><td>80018296</td></tr><tr><td>Abhishek Varman</td><td>70303426</td></tr><tr><td>Sabir Khan</td><td>80104648</td></tr><tr><td>Nikhil Nagesh Bhat</td><td>80992995</td></tr><tr><td>Xiaoxing Yi</td><td>80234491</td></tr><tr><td>Raúl Campos</td><td>80124724</td></tr><tr><td>Bryan Fogel</td><td>80168079</td></tr><tr><td>Fabrice Du Welz</td><td>80155475</td></tr><tr><td>Rohit Shetty</td><td>70254350</td></tr><tr><td>Johnnie To</td><td>70033611</td></tr><tr><td>Wong Jing</td><td>80997863</td></tr><tr><td>Mateo Gil</td><td>80114719</td></tr><tr><td>Paul Andrew Williams</td><td>80042182</td></tr><tr><td>Rémy Four</td><td>81034010</td></tr><tr><td>Fernando Ayllón</td><td>81091381</td></tr><tr><td>Alejandro Fernández Almendras</td><td>81141694</td></tr><tr><td>Jota Linares</td><td>80209658</td></tr><tr><td>Will Lockhart</td><td>81006598</td></tr><tr><td>Erwin van den Eshof</td><td>80994162</td></tr><tr><td>Lauren Miller Rogen</td><td>80174897</td></tr><tr><td>Fernando González Molina</td><td>80173176</td></tr><tr><td>Joseph Mbah</td><td>81167494</td></tr><tr><td>Roger Kumble</td><td>80999781</td></tr><tr><td>Wagner de Assis</td><td>80997400</td></tr><tr><td>David Mackenzie</td><td>70292992</td></tr><tr><td>Jacob Kornbluth</td><td>70267834</td></tr><tr><td>Robert Adetuyi</td><td>80193491</td></tr><tr><td>Marcus Raboy</td><td>80184834</td></tr><tr><td>White Trash Tyler</td><td>81046796</td></tr><tr><td>Van M. Pham</td><td>81002601</td></tr><tr><td>Shivam Nair</td><td>80177776</td></tr><tr><td>Tanuja Chandra</td><td>81016192</td></tr><tr><td>A.R. Murugadoss</td><td>81016194</td></tr><tr><td>Gaby Dellal</td><td>80059505</td></tr><tr><td>Chris Bell</td><td>81009815</td></tr><tr><td>John Barnard</td><td>80163159</td></tr><tr><td>Stan Lathan</td><td>81140577</td></tr><tr><td>Philip Yung</td><td>80108234</td></tr><tr><td>Sarah Adina Smith</td><td>80152442</td></tr><tr><td>Aaron Burns</td><td>80161232</td></tr><tr><td>Abdellatif Kechiche</td><td>70275600</td></tr><tr><td>Jay Karas</td><td>80097431</td></tr><tr><td>Christopher Louie</td><td>80057691</td></tr><tr><td>Tim Rouhana</td><td>81003736</td></tr><tr><td>Joe Berlinger</td><td>70293130</td></tr><tr><td>Ana Kokkinos</td><td>60000677</td></tr><tr><td>Toshiya Shinohara</td><td>70012316</td></tr><tr><td>Jordan Brady</td><td>70304914</td></tr><tr><td>Lars von Trier</td><td>70298926</td></tr><tr><td>Keiko Yagi</td><td>80132127</td></tr><tr><td>Cate Shortland</td><td>80164392</td></tr><tr><td>Adam Wingard</td><td>80122759</td></tr><tr><td>Mohd Khairul Azri Bin Md Noor</td><td>80163366</td></tr><tr><td>Daniela Goggi</td><td>80115152</td></tr><tr><td>Toby Haynes</td><td>80048569</td></tr><tr><td>Yeung Yat-Tak</td><td>81036530</td></tr><tr><td>Keith L. Smith</td><td>81145277</td></tr><tr><td>Todd Biermann</td><td>80238360</td></tr><tr><td>Patrick Graham</td><td>80245450</td></tr><tr><td>Mike Clattenburg</td><td>81008272</td></tr><tr><td>Han Qing</td><td>81012978</td></tr><tr><td>Ian Edelman</td><td>80144145</td></tr><tr><td>Randall Lobb</td><td>80224167</td></tr><tr><td>Rai Yuvraj Bains</td><td>81155859</td></tr><tr><td>Sunil Thakur</td><td>81155858</td></tr><tr><td>Muh Chen</td><td>81147910</td></tr><tr><td>Saurabh Sinha</td><td>81155802</td></tr><tr><td>Ari Folman</td><td>70285728</td></tr><tr><td>Bassam Kurdali</td><td>70274390</td></tr><tr><td>Brian O'Malley</td><td>80224150</td></tr><tr><td>Peter Spirer</td><td>80128689</td></tr><tr><td>Marcus Raboy</td><td>80185322</td></tr><tr><td>Michael Seater</td><td>80163054</td></tr><tr><td>Steven Bognar</td><td>81090071</td></tr><tr><td>Ashwin Saravanan</td><td>81151880</td></tr><tr><td>Ashwin Saravanan</td><td>81151877</td></tr><tr><td>Ashwin Saravanan</td><td>81151878</td></tr><tr><td>Jun Lana</td><td>81144912</td></tr><tr><td>Ashwiny Iyer Tiwari</td><td>81016193</td></tr><tr><td>Atlee Kumar</td><td>81016196</td></tr><tr><td>Ravi Udyawar</td><td>80201175</td></tr><tr><td>R. Balki</td><td>81016191</td></tr><tr><td>Shree Narayan Singh</td><td>80199962</td></tr><tr><td>Salima Koroma</td><td>80134952</td></tr><tr><td>Woo Ming Jin</td><td>80163407</td></tr><tr><td>Shamyl Othman</td><td>80163265</td></tr><tr><td>Michael Mazzola</td><td>80171742</td></tr><tr><td>Martin Scorsese</td><td>60021787</td></tr><tr><td>Julia Knowles</td><td>81045860</td></tr><tr><td>Scott Marshall Smith</td><td>80162179</td></tr><tr><td>Nagesh Kukunoor</td><td>80115686</td></tr><tr><td>Dean Wright</td><td>70242938</td></tr><tr><td>Camille Shooshani</td><td>81150918</td></tr><tr><td>Lesli Linka Glatter</td><td>22469949</td></tr><tr><td>Vijay Kumar</td><td>81155803</td></tr><tr><td>Vishal Bhardwaj</td><td>70139075</td></tr><tr><td>Vikas Bahl</td><td>70139072</td></tr><tr><td>Stacie Passon</td><td>70267490</td></tr><tr><td>Michael Thelin</td><td>80087354</td></tr><tr><td>Madhur Bhandarkar</td><td>70111162</td></tr><tr><td>Abhishek Kapoor</td><td>80099083</td></tr><tr><td>Khalid Mohamed</td><td>60003290</td></tr><tr><td>Luis Ara</td><td>80227672</td></tr><tr><td>Sanjay Leela Bhansali</td><td>70139074</td></tr><tr><td>Vishal Bhardwaj</td><td>70303432</td></tr><tr><td>Imtiaz Ali</td><td>70303424</td></tr><tr><td>Punit Malhotra</td><td>70139071</td></tr><tr><td>Shirish Kunder</td><td>70219529</td></tr><tr><td>Dibakar Banerjee</td><td>70056059</td></tr><tr><td>Prem Soni</td><td>70114589</td></tr><tr><td>Ashutosh Gowariker</td><td>80104257</td></tr><tr><td>Clarence Yiu-leung Fok</td><td>80997865</td></tr><tr><td>Prakash Jha</td><td>70123124</td></tr><tr><td>Rakeysh Omprakash Mehra</td><td>70047320</td></tr><tr><td>Prabhu Deva</td><td>70229043</td></tr><tr><td>Imtiaz Ali</td><td>80087743</td></tr><tr><td>Farah Khan</td><td>70139078</td></tr><tr><td>Mandeep Kumar</td><td>70229041</td></tr><tr><td>Anees Bazmee</td><td>70187503</td></tr><tr><td>Vishal Bhardwaj</td><td>70075775</td></tr><tr><td>Michael Drumm</td><td>70204316</td></tr><tr><td>Fabrizio Copano</td><td>80234464</td></tr><tr><td>Esteban Vidal</td><td>80209558</td></tr><tr><td>Esteban Vidal</td><td>80209722</td></tr><tr><td>Liu Jie</td><td>80153897</td></tr><tr><td>Ding Sheng</td><td>80138469</td></tr><tr><td>Justin Krook</td><td>80118930</td></tr><tr><td>Gervasio Iglesias</td><td>80202810</td></tr><tr><td>Will Gluck</td><td>80201039</td></tr><tr><td>Daniel Lindsay</td><td>70177633</td></tr><tr><td>Tommy Wirkola</td><td>80146805</td></tr><tr><td>Michael Carney</td><td>80087352</td></tr><tr><td>Manuel Martín Cuenca</td><td>80173606</td></tr><tr><td>Susan Johnson</td><td>80203147</td></tr><tr><td>Y. Joon Chung</td><td>80223582</td></tr><tr><td>Jon Rosenbaum</td><td>80190984</td></tr><tr><td>Mark Murphy</td><td>81092330</td></tr><tr><td>Tarsem Singh</td><td>80021840</td></tr><tr><td>Michael Tiddes</td><td>80231419</td></tr><tr><td>Kepa Sojo</td><td>80235578</td></tr><tr><td>Vikramaditya Motwane</td><td>80243541</td></tr><tr><td>Wong Jing</td><td>70033644</td></tr><tr><td>Chia-Liang Liu</td><td>80039484</td></tr><tr><td>Chia-Liang Liu</td><td>70059191</td></tr><tr><td>Johnnie To</td><td>11546798</td></tr><tr><td>Sze Yu Lau</td><td>70014531</td></tr><tr><td>Stephen Chow</td><td>70026792</td></tr><tr><td>Johnnie To</td><td>80997789</td></tr><tr><td>Li Pei-Chuan</td><td>80997867</td></tr><tr><td>Chia-Liang Liu</td><td>80039662</td></tr><tr><td>Anthony Chan</td><td>80997862</td></tr><tr><td>Siu-hung Chung</td><td>60027334</td></tr><tr><td>Poj Arnon</td><td>80999983</td></tr><tr><td>Chia Tang</td><td>70111922</td></tr><tr><td>Alex Law</td><td>80997859</td></tr><tr><td>Chia-Liang Liu</td><td>70130432</td></tr><tr><td>Herman Yau</td><td>70033579</td></tr><tr><td>Cheh Chang</td><td>70100527</td></tr><tr><td>Johnnie To</td><td>80997857</td></tr><tr><td>Johnny To</td><td>80997793</td></tr><tr><td>Sze Yu Lau</td><td>80997861</td></tr><tr><td>Zach Braff</td><td>70299867</td></tr><tr><td>Rajiv Chilaka</td><td>81154987</td></tr><tr><td>Cho Li</td><td>81122206</td></tr><tr><td>Diego Pignataro</td><td>81004321</td></tr><tr><td>Kyle Rideout</td><td>80209061</td></tr><tr><td>Gajendra Ahire</td><td>81002212</td></tr><tr><td>Rucha Humnabadkar</td><td>80176707</td></tr><tr><td>Scott Cooper</td><td>80199381</td></tr><tr><td>Matt Kugelman</td><td>80202176</td></tr><tr><td>Ashutosh Gowariker</td><td>70123118</td></tr><tr><td>Matthew Salleh</td><td>80182274</td></tr><tr><td>Jay Chapman</td><td>80185166</td></tr><tr><td>Jay Chapman</td><td>80068219</td></tr><tr><td>Michael Dowse</td><td>70209163</td></tr><tr><td>Nathaniel Warsh</td><td>80163191</td></tr><tr><td>Alejandro Agresti</td><td>80184661</td></tr><tr><td>Anthony Wonke</td><td>80078761</td></tr><tr><td>Ashim Ahluwalia</td><td>80115844</td></tr><tr><td>Louis C.K.</td><td>80114111</td></tr><tr><td>Robert Nixon</td><td>70308278</td></tr><tr><td>Manu Ashokan</td><td>81147274</td></tr><tr><td>James Lee</td><td>80136450</td></tr><tr><td>Peter Hutchings</td><td>80039439</td></tr><tr><td>Jay Karas</td><td>80044804</td></tr><tr><td>Anita Udeep</td><td>81147278</td></tr><tr><td>Vlad Yudin</td><td>81146011</td></tr><tr><td>Alberto Arnaut Estrada</td><td>81123826</td></tr><tr><td>Barak Goodman</td><td>81135868</td></tr><tr><td>Max McGill</td><td>80162142</td></tr><tr><td>David Fairhead</td><td>80175483</td></tr><tr><td>Victor Zarcoff</td><td>80100772</td></tr><tr><td>Jean-Claude La Marre</td><td>80188580</td></tr><tr><td>Jorge Hernandez Aldana</td><td>80106737</td></tr><tr><td>Michael Tiddes</td><td>80142058</td></tr><tr><td>Michael Drumm</td><td>70044256</td></tr><tr><td>Troy Miller</td><td>70113636</td></tr><tr><td>Jay Karas</td><td>70237054</td></tr><tr><td>Jay Chapman</td><td>70301469</td></tr><tr><td>Majid Majidi</td><td>81005454</td></tr><tr><td>Eduardo Chauvet</td><td>80995575</td></tr><tr><td>Mike Newell</td><td>80223371</td></tr><tr><td>Jake Szymanski</td><td>80175147</td></tr><tr><td>Floyd Russ</td><td>80239831</td></tr><tr><td>Susan Glatzer</td><td>80105356</td></tr><tr><td>Will Canon</td><td>70296443</td></tr><tr><td>Barney Clay</td><td>80168033</td></tr><tr><td>Ernie Barbarash</td><td>80160346</td></tr><tr><td>Rajkumar Hirani</td><td>70121522</td></tr><tr><td>Khaled El Halafawy</td><td>81065784</td></tr><tr><td>Todor Chapkanov</td><td>80124099</td></tr><tr><td>Louis Leterrier</td><td>70119812</td></tr><tr><td>Prawal Raman</td><td>60032685</td></tr><tr><td>Sriram Raghavan</td><td>70006816</td></tr><tr><td>Rajesh Mapuskar</td><td>70236587</td></tr><tr><td>Mike Newell</td><td>520489</td></tr><tr><td>Alexandre Aja</td><td>70266677</td></tr><tr><td>Quentin Tarantino</td><td>60010514</td></tr><tr><td>Lana Wachowski</td><td>70301367</td></tr><tr><td>Kazuaki Kiriya</td><td>80014727</td></tr><tr><td>Phanindra Narsetti</td><td>81050688</td></tr><tr><td>Bharat Nalluri</td><td>80081505</td></tr><tr><td>David Fincher</td><td>60022700</td></tr><tr><td>John G. Avildsen</td><td>915927</td></tr><tr><td>Sylvester Stallone</td><td>916043</td></tr><tr><td>Sylvester Stallone</td><td>60010836</td></tr><tr><td>Sylvester Stallone</td><td>916061</td></tr><tr><td>John G. Avildsen</td><td>60025674</td></tr><tr><td>Rob Reiner</td><td>70039168</td></tr><tr><td>Chris Stokes</td><td>81103092</td></tr><tr><td>Nancy Meyers</td><td>60031278</td></tr><tr><td>Clint Eastwood</td><td>60001363</td></tr><tr><td>Beeban Kidron</td><td>60026477</td></tr><tr><td>Bejoy Nambiar</td><td>80094096</td></tr><tr><td>Paul Raschid</td><td>81085824</td></tr><tr><td>Mel Smith</td><td>1171655</td></tr><tr><td>Jesse Handsher</td><td>80993489</td></tr><tr><td>Wong Jing</td><td>70033643</td></tr><tr><td>Bradley Parker</td><td>70233317</td></tr><tr><td>Wong Jing</td><td>80997858</td></tr><tr><td>Gregory Caruso</td><td>80238607</td></tr><tr><td>Corey Yuen</td><td>80039485</td></tr><tr><td>Vishnu Govindhan</td><td>80998560</td></tr><tr><td>Andrew Lau Wai-Keung</td><td>70043379</td></tr><tr><td>Pablo Giorgelli</td><td>80232892</td></tr><tr><td>Jijo Pancode</td><td>80998562</td></tr><tr><td>Andrés Couturier</td><td>70124268</td></tr><tr><td>Suresh Pillai</td><td>80998563</td></tr><tr><td>B.N. Shajeer Sha</td><td>80998564</td></tr><tr><td>Hua Shan</td><td>80997864</td></tr><tr><td>Alessandro Angulo</td><td>80035685</td></tr><tr><td>Pang Ho-cheung</td><td>70142792</td></tr><tr><td>Amaan Khan</td><td>81002214</td></tr><tr><td>Pablo D'Alo Abba</td><td>80993656</td></tr><tr><td>Binu Ulahhannan</td><td>80998568</td></tr><tr><td>Anil Thomas</td><td>80998565</td></tr><tr><td>Sabu Varghese</td><td>80998566</td></tr><tr><td>Matt Askem</td><td>81001379</td></tr><tr><td>Charlie Lightening</td><td>81001381</td></tr><tr><td>Charlie Lightening</td><td>81001382</td></tr><tr><td>Matt Askem</td><td>81001383</td></tr><tr><td>Kiran Narayanan</td><td>80998567</td></tr><tr><td>Kundan Shah</td><td>81002215</td></tr><tr><td>Richard Correll</td><td>70105338</td></tr><tr><td>Amir Mohiuddin</td><td>81014824</td></tr><tr><td>Zakariya</td><td>81013200</td></tr><tr><td>Alistair Legrand</td><td>80041339</td></tr><tr><td>Steven Soderbergh</td><td>70105371</td></tr><tr><td>John Duigan</td><td>60022962</td></tr><tr><td>Aditya Kripalani</td><td>81002213</td></tr><tr><td>Maria Burton</td><td>80190147</td></tr><tr><td>Charlie Vaughn</td><td>80190149</td></tr><tr><td>Avinash Das</td><td>80195886</td></tr><tr><td>Paul Serafini</td><td>80190148</td></tr><tr><td>April Mullen</td><td>80147321</td></tr><tr><td>Lilly Wachowski</td><td>70248183</td></tr><tr><td>Ben Steele</td><td>80185723</td></tr><tr><td>John Butler</td><td>80151962</td></tr><tr><td>Ali Scher</td><td>80190146</td></tr><tr><td>Maz Jobrani</td><td>80179433</td></tr><tr><td>Isaac Rentz</td><td>80114501</td></tr><tr><td>Clay Glen</td><td>80187107</td></tr><tr><td>Christopher Murray</td><td>80167646</td></tr><tr><td>Kevin Ford</td><td>80080106</td></tr><tr><td>David Briggs</td><td>80185861</td></tr><tr><td>Neil Rawles</td><td>80185722</td></tr><tr><td>Claude Lelouch</td><td>80081374</td></tr><tr><td>J.F. Musial</td><td>80109260</td></tr><tr><td>John Smithson</td><td>80106144</td></tr><tr><td>Daniel Kontur</td><td>80107987</td></tr><tr><td>Neil Armfield</td><td>80104552</td></tr><tr><td>Cal Saville</td><td>80108147</td></tr><tr><td>Christopher Martin</td><td>80108996</td></tr><tr><td>Tom Whitter</td><td>80109248</td></tr><tr><td>Peter Farrelly</td><td>70222860</td></tr><tr><td>Brian M. Conley</td><td>81026677</td></tr><tr><td>Lena Khan</td><td>80202076</td></tr><tr><td>David Wnendt</td><td>80094357</td></tr><tr><td>Rajiv Menon</td><td>81074135</td></tr><tr><td>Justin Webster</td><td>80160972</td></tr><tr><td>Suman Mukhopadhyay</td><td>80169549</td></tr><tr><td>Mike Flanagan</td><td>80091879</td></tr><tr><td>Karthik Subbaraj</td><td>81091424</td></tr><tr><td>Brian Smrz</td><td>80208951</td></tr><tr><td>Kim A. Snyder</td><td>80097466</td></tr><tr><td>Ester Gould</td><td>80118918</td></tr><tr><td>Gerardo Olivares</td><td>80105690</td></tr><tr><td>Joe Swanberg</td><td>80134527</td></tr><tr><td>Maria Pulera</td><td>80989339</td></tr><tr><td>Werner Herzog</td><td>70295170</td></tr><tr><td>Marja Lewis Ryan</td><td>80130625</td></tr><tr><td>Ryan Koo</td><td>80096984</td></tr><tr><td>Hatem Khraiche</td><td>80222823</td></tr><tr><td>Derek Peck</td><td>80209895</td></tr><tr><td>Ryan Polito</td><td>80189646</td></tr><tr><td>Jennifer Morrison</td><td>80226962</td></tr><tr><td>Mitzi Vanessa Arreola</td><td>80161104</td></tr><tr><td>Raúl Campos</td><td>80191990</td></tr><tr><td>Nicolas Pesce</td><td>80098839</td></tr><tr><td>Jeremiah Jones</td><td>80232502</td></tr><tr><td>Dave Patten</td><td>81088786</td></tr><tr><td>Prabhuraj</td><td>81086435</td></tr><tr><td>Karthik Subbaraj</td><td>81091423</td></tr><tr><td>Jean-Simon Chartier</td><td>81083880</td></tr><tr><td>Thomas Meadmore</td><td>80224218</td></tr><tr><td>Brie Larson</td><td>81034317</td></tr><tr><td>Katherine Fairfax Wright</td><td>80185032</td></tr><tr><td>Hèctor Hernández Vicens</td><td>80119177</td></tr><tr><td>Cem Yılmaz</td><td>80231064</td></tr><tr><td>Ömer Faruk Sorak</td><td>80227118</td></tr><tr><td>Sermiyan Midyat</td><td>80227115</td></tr><tr><td>Yılmaz Erdoğan</td><td>80227113</td></tr><tr><td>Kıvanç Baruönü</td><td>80227116</td></tr><tr><td>Ali Taner Baltacı</td><td>80227119</td></tr><tr><td>Bedran Güzel</td><td>80227114</td></tr><tr><td>Holger Tappe</td><td>80194610</td></tr><tr><td>Yılmaz Erdoğan</td><td>80038443</td></tr><tr><td>Cem Yılmaz</td><td>80231065</td></tr><tr><td>Louis C.K.</td><td>80161109</td></tr><tr><td>Herman Yau</td><td>81029737</td></tr><tr><td>Marcus Raboy</td><td>80227677</td></tr><tr><td>C.J. Wallis</td><td>81092327</td></tr><tr><td>Çagan Irmak</td><td>80231066</td></tr><tr><td>Amit Roy</td><td>80175333</td></tr><tr><td>Teddy Lussi-Modeste</td><td>80198419</td></tr><tr><td>Daniel Lee</td><td>70130142</td></tr><tr><td>Fernando Ayllón</td><td>81026008</td></tr><tr><td>Rocky Soraya</td><td>81062674</td></tr><tr><td>Kader Aoun</td><td>80217689</td></tr><tr><td>Bille Woodruff</td><td>80235025</td></tr><tr><td>Abhay Chopra</td><td>80164904</td></tr><tr><td>Lee Chang-dong</td><td>81015498</td></tr><tr><td>Kranti Kanade</td><td>80157889</td></tr><tr><td>Dar Gai</td><td>81094082</td></tr><tr><td>Ricky Gervais</td><td>80048940</td></tr><tr><td>Jon Greenhalgh</td><td>80044093</td></tr><tr><td>Christopher S. Rech</td><td>80044562</td></tr><tr><td>Kitty Green</td><td>80142316</td></tr><tr><td>Spike Lee</td><td>80128715</td></tr><tr><td>Evan Katz</td><td>80164212</td></tr><tr><td>Andrea Arnold</td><td>80096782</td></tr><tr><td>Dawn Porter</td><td>80174282</td></tr><tr><td>Ben Shelton</td><td>80164864</td></tr><tr><td>Curro Velázquez</td><td>80162993</td></tr><tr><td>Laura Brownson</td><td>80149821</td></tr><tr><td>Robert Smigel</td><td>80183328</td></tr><tr><td>Khaled Youssef</td><td>81035872</td></tr><tr><td>Wael Ehsan</td><td>81035865</td></tr><tr><td>Joachim Rønning</td><td>70260989</td></tr><tr><td>Fernando Ayllón</td><td>80992501</td></tr><tr><td>Yılmaz Erdoğan</td><td>81076251</td></tr><tr><td>Sathyan Anthikad</td><td>81093925</td></tr><tr><td>Brian Oakes</td><td>80191049</td></tr><tr><td>Dominic Sena</td><td>70126573</td></tr><tr><td>Wayne Blair</td><td>70242568</td></tr><tr><td>Max Amini</td><td>80217772</td></tr><tr><td>Dimitri Logothetis</td><td>80164088</td></tr><tr><td>Simon Stone</td><td>80081278</td></tr><tr><td>Ahmad El-Badri</td><td>81035869</td></tr><tr><td>Yam Laranas</td><td>81066244</td></tr><tr><td>Ari Sandel</td><td>80991404</td></tr><tr><td>Ahmad Samir Farag</td><td>81035873</td></tr><tr><td>Mohamed Samy</td><td>81035862</td></tr><tr><td>Chris Sivertson</td><td>81094665</td></tr><tr><td>Amr Arafa</td><td>81035878</td></tr><tr><td>Quentin Tarantino</td><td>80174683</td></tr><tr><td>Robert Luketic</td><td>70103759</td></tr><tr><td>Jason Sussberg</td><td>80182411</td></tr><tr><td>Célia Catunda</td><td>80205442</td></tr><tr><td>Sang-ho Yeon</td><td>80226424</td></tr><tr><td>Gauri Shinde</td><td>80158042</td></tr><tr><td>Oliver Schmitz</td><td>80117684</td></tr><tr><td>Felix Herngren</td><td>80106337</td></tr><tr><td>Marcus Raboy</td><td>80133552</td></tr><tr><td>Camilla Nielsson</td><td>80052683</td></tr><tr><td>Sabal Singh Shekawat</td><td>81077451</td></tr><tr><td>Adam Del Giudice</td><td>81014345</td></tr><tr><td>Andy Fickman</td><td>80158976</td></tr><tr><td>Robert Tate</td><td>80238655</td></tr><tr><td>Prakash Satam</td><td>80995078</td></tr><tr><td>Kasia Uscinska</td><td>80003150</td></tr><tr><td>Susannah Ward</td><td>70296578</td></tr><tr><td>Sam Taplin</td><td>70296574</td></tr><tr><td>Vicky Matthews</td><td>70309257</td></tr><tr><td>Louise Wardle</td><td>80012520</td></tr><tr><td>Shalini Kantayya</td><td>80061161</td></tr><tr><td>Alastair Fothergill</td><td>70219642</td></tr><tr><td>Dennis Scholl</td><td>81030755</td></tr><tr><td>Jill Bauer</td><td>80115676</td></tr><tr><td>Fernando Coimbra</td><td>80118916</td></tr><tr><td>Adam Leon</td><td>80146759</td></tr><tr><td>Bille August</td><td>81073387</td></tr><tr><td>Fab Five Freddie</td><td>80213712</td></tr><tr><td>Rebecca Addelman</td><td>80207606</td></tr><tr><td>Olivia Milch</td><td>80192186</td></tr><tr><td>Mark Raso</td><td>80216834</td></tr><tr><td>David Sington</td><td>80174436</td></tr><tr><td>Dylan C. Brown</td><td>70241596</td></tr><tr><td>Chris Stokes</td><td>80174097</td></tr><tr><td>Shelly Chopra Dhar</td><td>81076749</td></tr><tr><td>Shanjey Kumar Perumal</td><td>81066961</td></tr><tr><td>Leslie Small</td><td>80174687</td></tr><tr><td>Andrew Niccol</td><td>80015799</td></tr><tr><td>Jarrad Paul</td><td>80036657</td></tr><tr><td>Michael Doneger</td><td>81037733</td></tr><tr><td>Sandra Restrepo</td><td>81010166</td></tr><tr><td>Ken Loach</td><td>80112518</td></tr><tr><td>Sarthak Dasgupta</td><td>81033430</td></tr><tr><td>Sameh Abdulaziz</td><td>81035851</td></tr><tr><td>Jennifer Kaytin Robinson</td><td>80202920</td></tr><tr><td>Ken Burns</td><td>81088285</td></tr><tr><td>Renato De Maria</td><td>81080942</td></tr><tr><td>Pedro Coutinho</td><td>80187301</td></tr><tr><td>Wong Jing</td><td>80215782</td></tr><tr><td>Barak Goodman</td><td>80172000</td></tr><tr><td>Barak Goodman</td><td>80169778</td></tr><tr><td>Hani Hamdi</td><td>81035844</td></tr><tr><td>Khaled El Halafawy</td><td>81035842</td></tr><tr><td>Ismail Farouk</td><td>81035860</td></tr><tr><td>Moataz El Tony</td><td>81035850</td></tr><tr><td>Ossama Abu El Atta</td><td>81035846</td></tr><tr><td>Hadi El Bagoury</td><td>81035854</td></tr><tr><td>Simon Verhoeven</td><td>80097516</td></tr><tr><td>Ron Oliver</td><td>80164465</td></tr><tr><td>Jay Chapman</td><td>80117484</td></tr><tr><td>Alan Rickman</td><td>80017099</td></tr><tr><td>Hasan Karacadağ</td><td>81043542</td></tr><tr><td>Dylan Haegens</td><td>81026329</td></tr><tr><td>Ulises Valencia</td><td>81006826</td></tr><tr><td>Beyoncé Knowles-Carter</td><td>81013626</td></tr><tr><td>Bill D'Elia</td><td>80029368</td></tr><tr><td>Jon Lucas</td><td>70222859</td></tr><tr><td>Richard Curtis</td><td>70261674</td></tr><tr><td>Tom Shadyac</td><td>70045274</td></tr><tr><td>Bill Oliver</td><td>81034599</td></tr><tr><td>Jennifer Beamish</td><td>81090128</td></tr><tr><td>Paul Weitz</td><td>70114022</td></tr><tr><td>Gabe Klinger</td><td>80180225</td></tr><tr><td>David Gordon Green</td><td>80015794</td></tr><tr><td>Nagesh Kukunoor</td><td>81088700</td></tr><tr><td>Suparn Verma</td><td>70043149</td></tr><tr><td>Vlad Yudin</td><td>81018181</td></tr><tr><td>Sudhir Mishra</td><td>70040077</td></tr><tr><td>Sujoy Ghosh</td><td>60031998</td></tr><tr><td>Anant Balani</td><td>60036103</td></tr><tr><td>Soukarya Ghosal</td><td>81086641</td></tr><tr><td>Leena Yadav</td><td>70027133</td></tr><tr><td>Amitabha Singh</td><td>81086640</td></tr><tr><td>Carly Stone</td><td>81009808</td></tr><tr><td>Liam O'Donnell</td><td>80189853</td></tr><tr><td>Bruce Gowers</td><td>70059700</td></tr><tr><td>Ron Oliver</td><td>70142918</td></tr><tr><td>Enrico Bisi</td><td>80992231</td></tr><tr><td>Michael Lennox</td><td>80081790</td></tr><tr><td>Detlev Buck</td><td>80015280</td></tr><tr><td>Detlev Buck</td><td>80141253</td></tr><tr><td>Detlev Buck</td><td>80141254</td></tr><tr><td>Andrea Molaioli</td><td>80160081</td></tr><tr><td>Kemi Adetiba</td><td>80168301</td></tr><tr><td>Aaron Nee</td><td>80064273</td></tr><tr><td>Felix Van Groeningen</td><td>80098475</td></tr><tr><td>Chris Bell</td><td>80058247</td></tr><tr><td>Werner Herzog</td><td>70302184</td></tr><tr><td>Ken Barbet</td><td>81060043</td></tr><tr><td>Dallas Jackson</td><td>81024557</td></tr><tr><td>Sam Taylor-Johnson</td><td>70124562</td></tr><tr><td>Marie Madinier</td><td>80156683</td></tr><tr><td>Miguel Ángel Lamata</td><td>80141185</td></tr><tr><td>Steven Brill</td><td>80126569</td></tr><tr><td>Antonio Chavarrías</td><td>80171982</td></tr><tr><td>Tiller Russell</td><td>80035467</td></tr><tr><td>Gabriel Julien-Laferrière</td><td>80156856</td></tr><tr><td>Yeo Siew Hua</td><td>81041391</td></tr><tr><td>Jota Linares</td><td>81018120</td></tr><tr><td>Joshua Marston</td><td>80152625</td></tr><tr><td>Eleonore Pourriat</td><td>80175421</td></tr><tr><td>Anthony D'Souza</td><td>80108518</td></tr><tr><td>Zoe Lister-Jones</td><td>80172002</td></tr><tr><td>Mike Wiluan</td><td>81019144</td></tr><tr><td>Hasan Karacadağ</td><td>81043540</td></tr><tr><td>Hasan Karacadağ</td><td>81043541</td></tr><tr><td>Ayush Raina</td><td>80170483</td></tr><tr><td>Chris Nelson</td><td>81019888</td></tr><tr><td>Peter Webber</td><td>80133153</td></tr><tr><td>Antonio Serrano</td><td>80149145</td></tr><tr><td>Raphael Erichsen</td><td>80164207</td></tr><tr><td>Lee Kyoungmi</td><td>81044884</td></tr><tr><td>Leslie Small</td><td>80106743</td></tr><tr><td>Michael Kennedy</td><td>81087095</td></tr><tr><td>Fernando Ayllón</td><td>81026007</td></tr><tr><td>John R. Leonetti</td><td>81021447</td></tr><tr><td>Peter Orton</td><td>80158875</td></tr><tr><td>Grant S. Johnson</td><td>80142474</td></tr><tr><td>Shravan Kumar</td><td>81086434</td></tr><tr><td>Julien Christian Lutz</td><td>81083791</td></tr><tr><td>Nick Davis</td><td>81088282</td></tr><tr><td>Jason Winer</td><td>70167072</td></tr><tr><td>Gregory Hoblit</td><td>70058016</td></tr><tr><td>Peter Segal</td><td>70077557</td></tr><tr><td>Huang Jianming</td><td>80233085</td></tr><tr><td>Laura VanZee Taylor</td><td>80210602</td></tr><tr><td>Gerry Hoban</td><td>81088283</td></tr><tr><td>Tianyu Zhao</td><td>80141156</td></tr><tr><td>Richard LaGravenese</td><td>70077546</td></tr><tr><td>Mark Palansky</td><td>70063591</td></tr><tr><td>Shazia Ali Khan</td><td>81052280</td></tr><tr><td>Guy Ritchie</td><td>70110558</td></tr><tr><td>Robert Rodriguez</td><td>60020916</td></tr><tr><td>Robert Rodriguez</td><td>60029178</td></tr><tr><td>Stacy Title</td><td>80103336</td></tr><tr><td>Bumpy</td><td>81066723</td></tr><tr><td>Manish Jha</td><td>80207445</td></tr><tr><td>Erik White</td><td>80209751</td></tr><tr><td>Ben Brewer</td><td>80063773</td></tr><tr><td>Victoria Bromley</td><td>81088284</td></tr><tr><td>Philip G. Atwell</td><td>70061480</td></tr><tr><td>Padmakumar Narasimhamurthy</td><td>80987611</td></tr><tr><td>Stephen Gyllenhaal</td><td>70060380</td></tr><tr><td>Diego Lerman</td><td>80202808</td></tr><tr><td>Don Bluth</td><td>60010082</td></tr><tr><td>Phil Nibbelink</td><td>60033788</td></tr><tr><td>Larry Latham</td><td>60033786</td></tr><tr><td>Larry Latham</td><td>60033787</td></tr><tr><td>Simon Wells</td><td>60022255</td></tr><tr><td>Phil Weinstein</td><td>60022254</td></tr><tr><td>Phil Weinstein</td><td>70020048</td></tr><tr><td>Rajkumar Santoshi</td><td>284890</td></tr><tr><td>Kaspar Astrup Schröder</td><td>80226076</td></tr><tr><td>Priyadarshan</td><td>70115621</td></tr><tr><td>Gregory Hoblit</td><td>80103383</td></tr><tr><td>Gary David Goldberg</td><td>60011619</td></tr><tr><td>Raj Amit Kumar</td><td>80041337</td></tr><tr><td>Kundan Shah</td><td>60033223</td></tr><tr><td>Keith Malloy</td><td>80196139</td></tr><tr><td>Nanette Burstein</td><td>80148180</td></tr><tr><td>Jocelyn Moorhouse</td><td>607931</td></tr><tr><td>Luca Vullo</td><td>80225907</td></tr><tr><td>Ryan Polito</td><td>70298251</td></tr><tr><td>Kundan Shah</td><td>60002111</td></tr><tr><td>Jared Cohn</td><td>80190215</td></tr><tr><td>Farah Khan</td><td>70000196</td></tr><tr><td>Tathagata Banerjee</td><td>80245519</td></tr><tr><td>Ananda Krishnan</td><td>80245329</td></tr><tr><td>Farah Khan</td><td>70083535</td></tr><tr><td>Amol Palekar</td><td>70039405</td></tr><tr><td>Aziz Mirza</td><td>60000722</td></tr><tr><td>Kookie V. Gulati</td><td>70134539</td></tr><tr><td>Atanu Mukherjee</td><td>80245518</td></tr><tr><td>Nagraj Manjule</td><td>80124313</td></tr><tr><td>Steven Spielberg</td><td>60036359</td></tr><tr><td>Billy Ray</td><td>80049281</td></tr><tr><td>Esteban Sapir</td><td>70084328</td></tr><tr><td>Saul Dibb</td><td>70099610</td></tr><tr><td>Stephen Amezdroz</td><td>80217041</td></tr><tr><td>Benedict Andrews</td><td>80156408</td></tr><tr><td>Sushrut Jain</td><td>80172938</td></tr><tr><td>Gayane Petrosyan</td><td>80131414</td></tr><tr><td>Shivendra Singh Dungarpur</td><td>80170612</td></tr><tr><td>Alexandre Reinecke</td><td>80144890</td></tr><tr><td>Philipp Eichholtz</td><td>80106786</td></tr><tr><td>Jamal Hill</td><td>80115101</td></tr><tr><td>Daniel Gordon</td><td>80141261</td></tr><tr><td>K. Ramanlal</td><td>80158482</td></tr><tr><td>Maris Curran</td><td>80081955</td></tr><tr><td>John Edginton</td><td>80164112</td></tr><tr><td>Avinash Arun</td><td>70302835</td></tr><tr><td>Ed Gass-Donnelly</td><td>80125512</td></tr><tr><td>Jason Spingarn-Koff</td><td>70129457</td></tr><tr><td>Takuya Igarashi</td><td>70205014</td></tr><tr><td>A. Salaam</td><td>80158479</td></tr><tr><td>Jason Cohen</td><td>80104318</td></tr><tr><td>Eduardo Casanova</td><td>80100054</td></tr><tr><td>Keith Fulton</td><td>80097468</td></tr><tr><td>Rudradeep Bhattacharjee</td><td>80171439</td></tr><tr><td>Daniel Burman</td><td>80104237</td></tr><tr><td>Kike Maíllo</td><td>80093107</td></tr><tr><td>G.J. Echternkamp</td><td>80085438</td></tr><tr><td>G.J. Echternkamp</td><td>80085439</td></tr><tr><td>Zatella Beatty</td><td>80011846</td></tr><tr><td>Vlad Yudin</td><td>80064521</td></tr><tr><td>Mario Van Peebles</td><td>70197049</td></tr><tr><td>Danny Cannon</td><td>80020542</td></tr><tr><td>Hayato Date</td><td>70205012</td></tr><tr><td>Michael Cumming</td><td>80108561</td></tr><tr><td>Eli Roth</td><td>70242310</td></tr><tr><td>Go Koga</td><td>80175619</td></tr><tr><td>Everardo Gout</td><td>80144355</td></tr><tr><td>Bhavik Thakore</td><td>80208115</td></tr><tr><td>Phil Sgriccia</td><td>70143825</td></tr><tr><td>Rob Seidenglanz</td><td>80066080</td></tr><tr><td>Jesse Warn</td><td>80065386</td></tr><tr><td>Rob Seidenglanz</td><td>80133311</td></tr><tr><td>Glen Winter</td><td>80027042</td></tr><tr><td>Carlos Sedes</td><td>80018046</td></tr><tr><td>James Bamford</td><td>70242081</td></tr><tr><td>Jay Chandrasekhar</td><td>70143864</td></tr><tr><td>Philippa Lowthorpe</td><td>70245163</td></tr><tr><td>Ian Barber</td><td>80023644</td></tr><tr><td>Gordon Anderson</td><td>80179201</td></tr><tr><td>Vijay Roche</td><td>80207879</td></tr><tr><td>Iginio Straffi</td><td>80007778</td></tr><tr><td>Stefan Brogren</td><td>80062047</td></tr><tr><td>Tensai Okamura</td><td>80103318</td></tr><tr><td>Peter McDonnell</td><td>80201773</td></tr><tr><td>Jerry Seinfeld</td><td>80171362</td></tr><tr><td>Tony Collingwood</td><td>70180293</td></tr><tr><td>Yasuhiro Irie</td><td>70204981</td></tr><tr><td>Dan Forrer</td><td>80080436</td></tr><tr><td>James Hawes</td><td>70142436</td></tr><tr><td>Jung-ah Im</td><td>80176929</td></tr><tr><td>Andy Devonshire</td><td>80063224</td></tr><tr><td>Thomas Astruc</td><td>80164216</td></tr><tr><td>Vikramaditya Motwane</td><td>80115328</td></tr><tr><td>Jung-ah Im</td><td>80176842</td></tr><tr><td>Onur Ünlü</td><td>80126599</td></tr><tr><td>Shinji Takagi</td><td>81171121</td></tr><tr><td>Kevin Deters</td><td>80062011</td></tr><tr><td>Michael Socha</td><td>80017272</td></tr><tr><td>Koji Sawai</td><td>70129415</td></tr><tr><td>Abhinav Shiv Tiwari</td><td>80108386</td></tr><tr><td>Brandon Somerhalder</td><td>80213400</td></tr><tr><td>Krishnendu Chattopadhyay</td><td>81048551</td></tr><tr><td>Brett Ratner</td><td>70222860</td></tr><tr><td>Tim Maltby</td><td>81145628</td></tr><tr><td>Francisco Schultz</td><td>80164077</td></tr><tr><td>Tilak Shetty</td><td>80182483</td></tr><tr><td>Tilak Shetty</td><td>80182596</td></tr><tr><td>Tilak Shetty</td><td>80182621</td></tr><tr><td>Joe Ksander</td><td>80988892</td></tr><tr><td>Ross R. Shuman</td><td>80058026</td></tr><tr><td>Nathanael Wiseman</td><td>80162141</td></tr><tr><td>Paween Purikitpanya</td><td>70142798</td></tr><tr><td>Parkpoom Wongpoom</td><td>70062814</td></tr><tr><td>Brian McGinn</td><td>80081155</td></tr><tr><td>Gerardo Olivares</td><td>80992039</td></tr><tr><td>Koji Morimoto</td><td>81171121</td></tr><tr><td>Robert C. Ramirez</td><td>60003155</td></tr><tr><td>Adam Schlesinger</td><td>80173625</td></tr><tr><td>Clay Tweel</td><td>80005444</td></tr><tr><td>Éric Warin</td><td>80166318</td></tr><tr><td>Jon Shenk</td><td>80097321</td></tr><tr><td>Alan Hicks</td><td>80102952</td></tr><tr><td>Patricia Font</td><td>81000389</td></tr><tr><td>John Voorhees</td><td>80119815</td></tr><tr><td>Jacques Cluzaud</td><td>70118953</td></tr><tr><td>Aaron Moorhead</td><td>80190449</td></tr><tr><td>Tim Skousen</td><td>80045805</td></tr><tr><td>Arie Azis</td><td>81016339</td></tr><tr><td>Ben Pluimer</td><td>80088910</td></tr><tr><td>Keegan Kuhn</td><td>80033772</td></tr><tr><td>Manussa Vorasingha</td><td>80999985</td></tr><tr><td>Ben Foster</td><td>81023636</td></tr><tr><td>Andrew Meier</td><td>81001494</td></tr><tr><td>Lea Glob</td><td>81137482</td></tr><tr><td>Jill Culton</td><td>70043308</td></tr><tr><td>Syrine Boulanouar</td><td>80184974</td></tr><tr><td>Wynn Padula</td><td>80184055</td></tr><tr><td>Alban Teurlai</td><td>80160358</td></tr><tr><td>Umesh Mehra</td><td>80157134</td></tr><tr><td>Mariano Cohn</td><td>80141891</td></tr><tr><td>Gastón Duprat</td><td>80190990</td></tr><tr><td>Steve Ball</td><td>81021243</td></tr><tr><td>Pranav Singh</td><td>80207446</td></tr><tr><td>Seth Fuller</td><td>81000863</td></tr><tr><td>Mark Radice</td><td>80219941</td></tr><tr><td>Jennifer Lee</td><td>80062011</td></tr><tr><td>Gavin Yap</td><td>81075461</td></tr><tr><td>Ross Kauffman</td><td>70299286</td></tr><tr><td>Todd Wider</td><td>80131240</td></tr><tr><td>Bruno Ascenzo</td><td>81020005</td></tr><tr><td>Rachel Grady</td><td>80118101</td></tr><tr><td>Aubrey Powell</td><td>80235999</td></tr><tr><td>Ian MacNaughton</td><td>80236778</td></tr><tr><td>James Rogan</td><td>80236470</td></tr><tr><td>Mario Miscione</td><td>80070182</td></tr><tr><td>Kery James</td><td>81034012</td></tr><tr><td>Darin Scott</td><td>81015317</td></tr><tr><td>Hayden Schlossberg</td><td>70083108</td></tr><tr><td>Paul Demeyer</td><td>60003540</td></tr><tr><td>Frank Miller</td><td>70021630</td></tr><tr><td>Chris Buck</td><td>70058025</td></tr><tr><td>Norton Virgien</td><td>18021979</td></tr><tr><td>Andrew J. Smith</td><td>80173150</td></tr><tr><td>Tim Story</td><td>70211216</td></tr><tr><td>Abbas Alibhai Burmawalla</td><td>70096752</td></tr><tr><td>Mastan Alibhai Burmawalla</td><td>70229046</td></tr><tr><td>Franck Ekinci</td><td>80062096</td></tr><tr><td>Michael Goguen</td><td>80112370</td></tr><tr><td>Ezekiel Norton</td><td>80158155</td></tr><tr><td>Gabe Turner</td><td>80135360</td></tr><tr><td>Gaëtan Brizzi</td><td>80017272</td></tr><tr><td>Eric Radomski</td><td>80208176</td></tr><tr><td>Alain Gagnol</td><td>80063290</td></tr><tr><td>Alejandro Martinez-Beltran</td><td>80162246</td></tr><tr><td>Olly Reid</td><td>80112371</td></tr><tr><td>Jon Freeman</td><td>80109089</td></tr><tr><td>Dax Shepard</td><td>70243445</td></tr><tr><td>Valeria Pivato</td><td>80236993</td></tr><tr><td>Richard Ladkani</td><td>80117533</td></tr><tr><td>Ignacio Jaunsolo</td><td>81197050</td></tr><tr><td>Sergio Goyri Jr.</td><td>80990725</td></tr><tr><td>Titien Wattimena</td><td>81033200</td></tr><tr><td>Mathew Orzel</td><td>80097475</td></tr><tr><td>Kathleen Hepburn</td><td>81177504</td></tr><tr><td>Rosa Márquez</td><td>81005044</td></tr><tr><td>Mike Myhre</td><td>81018860</td></tr><tr><td>Fedor Lyass</td><td>81218079</td></tr><tr><td>Jonathan Milott</td><td>80174220</td></tr><tr><td>Iwao Takamoto</td><td>60020948</td></tr><tr><td>Adam Carolla</td><td>81218074</td></tr><tr><td>Jim Gable</td><td>80203522</td></tr><tr><td>Nikon</td><td>80107037</td></tr><tr><td>Jake Paltrow</td><td>80080109</td></tr><tr><td>Raúl Campos Delgado</td><td>80124725</td></tr><tr><td>David Pastor</td><td>70122722</td></tr><tr><td>Stu Livingston</td><td>81215438</td></tr><tr><td>Michelle Caputo</td><td>70230138</td></tr><tr><td>Reuben Atlas</td><td>80029708</td></tr><tr><td>Ethan Coen</td><td>80200267</td></tr><tr><td>Samit Basu</td><td>81076114</td></tr><tr><td>Adam Carolla</td><td>80158800</td></tr><tr><td>Jathin Sanker Raj</td><td>81035104</td></tr><tr><td>Michael Ware</td><td>80075824</td></tr><tr><td>Richard Bailey</td><td>81028574</td></tr><tr><td>Jon Garaño</td><td>80122177</td></tr><tr><td>Vinay Sapru</td><td>70040076</td></tr><tr><td>Nicholas de Pencier</td><td>80205085</td></tr><tr><td>Jan Suter</td><td>80183088</td></tr><tr><td>Christian Tureaud</td><td>80216003</td></tr><tr><td>Zackary Canepari</td><td>81050375</td></tr><tr><td>Charles Walters</td><td>542137</td></tr><tr><td>Jesse V. Johnson</td><td>70082264</td></tr><tr><td>Carol Reed</td><td>60011729</td></tr><tr><td>Anthony Palmer</td><td>81189396</td></tr><tr><td>Lana Wachowski</td><td>20557937</td></tr><tr><td>Lana Wachowski</td><td>60027695</td></tr><tr><td>Lana Wachowski</td><td>60031303</td></tr><tr><td>Gabriel Cruz Rivas</td><td>81170694</td></tr><tr><td>Kookie V. Gulati</td><td>70052249</td></tr><tr><td>Ibrahim Bin Mohamed</td><td>80202605</td></tr><tr><td>Mastan Alibhai Burmawalla</td><td>80079229</td></tr><tr><td>Rachel Grady</td><td>80097360</td></tr><tr><td>Brad Rothschild</td><td>80128692</td></tr><tr><td>Dylan Southern</td><td>70290568</td></tr><tr><td>Luciano Vidigal</td><td>80116761</td></tr><tr><td>Richard da Costa</td><td>80215139</td></tr><tr><td>Raúl Campos</td><td>80124727</td></tr><tr><td>Jeffrey Friedman</td><td>80210691</td></tr><tr><td>Krishna D.K.</td><td>70185023</td></tr><tr><td>Ronna Gradus</td><td>80038162</td></tr><tr><td>Joe Johnston</td><td>80221447</td></tr><tr><td>Jan Suter</td><td>80192137</td></tr><tr><td>Akiva Schaffer</td><td>81036190</td></tr><tr><td>Eshom Nelms</td><td>80182919</td></tr><tr><td>Eliane Brum</td><td>80142223</td></tr><tr><td>Ben Howling</td><td>80161216</td></tr><tr><td>Farjad Nabi</td><td>81110388</td></tr><tr><td>Kalvadour Peterson</td><td>80178078</td></tr><tr><td>Jacqui Morris</td><td>80104330</td></tr><tr><td>Adam Larson Broder</td><td>80117736</td></tr><tr><td>Daniel DiMauro</td><td>80114666</td></tr><tr><td>Jan Suter</td><td>80192065</td></tr><tr><td>Barbara Schroeder</td><td>80158319</td></tr><tr><td>Asit Mohapatra</td><td>81092779</td></tr><tr><td>Shyamal Chaulia</td><td>81092776</td></tr><tr><td>Asit Mohapatra</td><td>81092778</td></tr><tr><td>Kubilay Sarikaya</td><td>81059956</td></tr><tr><td>Jim Henson</td><td>419733</td></tr><tr><td>Roly Santos</td><td>80232894</td></tr><tr><td>Florent Bodin</td><td>80241876</td></tr><tr><td>David Cantolla</td><td>80236224</td></tr><tr><td>Dibakar Banerjee</td><td>70275753</td></tr><tr><td>Artemis Joukowsky</td><td>80103430</td></tr><tr><td>Mamoru Oshii</td><td>70129415</td></tr><tr><td>Matthew Miele</td><td>80095094</td></tr><tr><td>Rita Coburn Whack</td><td>80097361</td></tr><tr><td>Padmakumar Narasimhamurthy</td><td>80182105</td></tr><tr><td>Isa Campo</td><td>80173605</td></tr><tr><td>Michael Pitiot</td><td>80102305</td></tr><tr><td>Hasan Aljaberi</td><td>81074140</td></tr><tr><td>Rick Benattar</td><td>80190180</td></tr><tr><td>Josh Lowell</td><td>81004270</td></tr><tr><td>Gary Howsam</td><td>80235932</td></tr><tr><td>Joris Ivens</td><td>80119190</td></tr><tr><td>John Sturges</td><td>80119193</td></tr><tr><td>John Huston</td><td>80119189</td></tr><tr><td>Anatole Litvak</td><td>70013050</td></tr><tr><td>Galley Molina</td><td>80097423</td></tr><tr><td>Jan Suter</td><td>80183197</td></tr><tr><td>William Lau</td><td>80020132</td></tr><tr><td>Phuwanit Pholdee</td><td>80999996</td></tr><tr><td>Vikram Tanajirao Patil</td><td>81048554</td></tr><tr><td>Jan Suter</td><td>80192139</td></tr><tr><td>Jan Suter</td><td>80192063</td></tr><tr><td>Kevin Pang</td><td>80058979</td></tr><tr><td>Lotje Sodderland</td><td>80049951</td></tr><tr><td>Geoff Luck</td><td>80135296</td></tr><tr><td>Matthew McNeil</td><td>70203594</td></tr><tr><td>Sunil Sukthankar</td><td>80201814</td></tr><tr><td>Bruno Stagnaro</td><td>70041893</td></tr><tr><td>Moinak Biswas</td><td>80239738</td></tr><tr><td>Sonia Dauger</td><td>80164075</td></tr><tr><td>James Spinney</td><td>80098842</td></tr><tr><td>Birkan Pusa</td><td>80038298</td></tr><tr><td>Cem Yılmaz</td><td>80134524</td></tr><tr><td>Leslie Knott</td><td>80160127</td></tr><tr><td>Ömer Faruk Sorak</td><td>80038527</td></tr><tr><td>Frank Paur</td><td>70111265</td></tr><tr><td>Jørgen Lerdam</td><td>81016361</td></tr><tr><td>Pietro Scappini</td><td>81055395</td></tr><tr><td>Mastan Alibhai Burmawalla</td><td>70021551</td></tr><tr><td>Fabien Beziat</td><td>80230555</td></tr><tr><td>Sunil Kumar Agrawal</td><td>80223317</td></tr><tr><td>T.J. Martin</td><td>80184131</td></tr><tr><td>Steve Sacks</td><td>70250369</td></tr><tr><td>John Paul Tremblay</td><td>70304187</td></tr><tr><td>John Paul Tremblay</td><td>70304188</td></tr><tr><td>John Paul Tremblay</td><td>70304186</td></tr><tr><td>Angelika Sigl</td><td>80135631</td></tr><tr><td>Brian Niles</td><td>81013112</td></tr><tr><td>Mohamed Mostafa</td><td>81035859</td></tr><tr><td>Yarrow Cheney</td><td>80996790</td></tr><tr><td>Brandon Oldenburg</td><td>70304298</td></tr><tr><td>David Felix Sutcliffe</td><td>80039644</td></tr><tr><td>Kimo Stamboel</td><td>80109145</td></tr><tr><td>Christopher Storer</td><td>80106124</td></tr><tr><td>Jan Suter</td><td>80191989</td></tr><tr><td>Marcos Bucay</td><td>81060096</td></tr><tr><td>Rodney Rothman</td><td>81002747</td></tr><tr><td>Yoav Paz</td><td>81075239</td></tr><tr><td>Jan Suter</td><td>80097641</td></tr><tr><td>Kevin Lima</td><td>26009364</td></tr><tr><td>Jesse Johnson</td><td>80195901</td></tr><tr><td>Andrew Sullivan</td><td>80167644</td></tr><tr><td>Annie Clark</td><td>80027041</td></tr><tr><td>Miguel Cohan</td><td>81018067</td></tr><tr><td>Andrés Beltrán</td><td>80220422</td></tr><tr><td>Kazuya Tsurumaki</td><td>60024788</td></tr><tr><td>Hazem Fouda</td><td>81035868</td></tr><tr><td>Srivinay Salian</td><td>81131274</td></tr><tr><td>Lynn Novick</td><td>80997770</td></tr><tr><td>Johnny Castuciano</td><td>80151644</td></tr><tr><td>Claus Wehlisch</td><td>81105525</td></tr><tr><td>Jon Olb</td><td>80233611</td></tr><tr><td>Keegan Kuhn</td><td>80174177</td></tr><tr><td>Kristine Samuelson</td><td>81034980</td></tr><tr><td>Stinus Morell Vithner</td><td>81002885</td></tr><tr><td>Karan Johar</td><td>80991033</td></tr><tr><td>Héctor Gálvez</td><td>80991025</td></tr><tr><td>Rich Moore</td><td>80221640</td></tr><tr><td>Andrew Duncan</td><td>80004286</td></tr><tr><td>Antonio Piazza</td><td>81039323</td></tr><tr><td>Jan Suter</td><td>80192064</td></tr><tr><td>Mariano Mucci</td><td>80223153</td></tr><tr><td>Shan Hua</td><td>80997870</td></tr><tr><td>José Luis Gutiérrez</td><td>80162192</td></tr><tr><td>Chris Sanders</td><td>70143241</td></tr><tr><td>Jan Suter</td><td>80192135</td></tr><tr><td>Ryan Fleck</td><td>80038337</td></tr><tr><td>Jehane Noujaim</td><td>80117542</td></tr><tr><td>Chris Williams</td><td>70099615</td></tr><tr><td>Demetri Martin</td><td>80158802</td></tr><tr><td>Patrick Leung</td><td>70025372</td></tr><tr><td>Andrew Loo</td><td>80017280</td></tr><tr><td>Shady Ali</td><td>81035840</td></tr><tr><td>Hiroyuki Seshita</td><td>80180376</td></tr><tr><td>Ashley York</td><td>80028208</td></tr><tr><td>Stuart Stone</td><td>81151313</td></tr><tr><td>John Musker</td><td>70109429</td></tr><tr><td>Nicholas McCarthy</td><td>80096585</td></tr><tr><td>Tim Story</td><td>70270773</td></tr><tr><td>Will Eubank</td><td>70300666</td></tr><tr><td>Maclain Way</td><td>70299904</td></tr><tr><td>Kirk Wolfinger</td><td>81121181</td></tr><tr><td>Quinn Kanaly</td><td>81121189</td></tr><tr><td>Jani Lachauer</td><td>80005738</td></tr><tr><td>Monière</td><td>81130297</td></tr><tr><td>Allen Hughes</td><td>70114342</td></tr><tr><td>Christopher Storer</td><td>70295560</td></tr><tr><td>Mariah Moore</td><td>80176064</td></tr><tr><td>Cyrus Saidi</td><td>80217120</td></tr><tr><td>Mastan Alibhai Burmawalla</td><td>70229498</td></tr><tr><td>Marius Arnesen</td><td>80114498</td></tr><tr><td>David Hebditch</td><td>80114700</td></tr><tr><td>Pratim D. Gupta</td><td>80108386</td></tr><tr><td>Hiroyuki Seshita</td><td>80198623</td></tr><tr><td>Michael McNamara</td><td>81005561</td></tr><tr><td>Austin Kolodney</td><td>80213400</td></tr><tr><td>Daniel Scheinert</td><td>80097389</td></tr><tr><td>Sylvain Blais</td><td>80019930</td></tr><tr><td>Javier Calvo</td><td>80109193</td></tr><tr><td>Meisa Felaroze</td><td>81047901</td></tr><tr><td>Benoît Philippon</td><td>80125818</td></tr><tr><td>Jan Suter</td><td>80192138</td></tr><tr><td>José Ortuño</td><td>80239629</td></tr><tr><td>Diego Corsini</td><td>81021098</td></tr><tr><td>Jan Suter</td><td>80192062</td></tr><tr><td>Pablo Martin Farina</td><td>80175405</td></tr><tr><td>Jan Suter</td><td>80079427</td></tr><tr><td>Terry Jones</td><td>771476</td></tr><tr><td>Nicolas Cotto</td><td>80208083</td></tr><tr><td>Suzanne Coote</td><td>80198661</td></tr><tr><td>Jan Suter</td><td>80191988</td></tr><tr><td>Hiroyuki Seshita</td><td>80180373</td></tr><tr><td>Greg Strause</td><td>70141971</td></tr><tr><td>Joel Coen</td><td>70114021</td></tr><tr><td>Jeremy Seifert</td><td>80997719</td></tr><tr><td>Umesh Mehra</td><td>80158543</td></tr><tr><td>Kunal Kohli</td><td>80228321</td></tr><tr><td>D.B. Weiss</td><td>81060049</td></tr><tr><td>Joshua Brown</td><td>70120182</td></tr><tr><td>Katia Lund</td><td>60026106</td></tr><tr><td>Kyung Ho Lee</td><td>70081015</td></tr><tr><td>Eondeok Han</td><td>70100448</td></tr><tr><td>Dibakar Banerjee</td><td>81088083</td></tr><tr><td>Bobby Farrelly</td><td>673843</td></tr><tr><td>Matthew Robinson</td><td>70105370</td></tr><tr><td>Sunil Sukthankar</td><td>80201626</td></tr><tr><td>Sunil Sukthankar</td><td>70117122</td></tr><tr><td>Louie Gibson</td><td>80167491</td></tr><tr><td>Andrew Duncan</td><td>80020131</td></tr><tr><td>Alfred Gimeno</td><td>80020036</td></tr><tr><td>Steve Sacks</td><td>70286029</td></tr><tr><td>Jacqueline Monetta</td><td>80196138</td></tr><tr><td>Simon J. Smith</td><td>70060010</td></tr><tr><td>Flor Salcedo</td><td>80144141</td></tr><tr><td>Koichi Sakamoto</td><td>80092837</td></tr><tr><td>Sophie Sartain</td><td>80174367</td></tr><tr><td>Stéphane Berla</td><td>70302836</td></tr><tr><td>Akiva Schaffer</td><td>80151370</td></tr><tr><td>Filippo Gastaldi</td><td>80168052</td></tr><tr><td>Jesse Allain-Marcus</td><td>80065220</td></tr><tr><td>Jan Suter</td><td>80124726</td></tr><tr><td>Daniel Camenisch</td><td>81002591</td></tr><tr><td>Fabio Resinaro</td><td>80123777</td></tr><tr><td>Mike Birbiglia</td><td>80133550</td></tr><tr><td>Nik Amir Mustapha</td><td>81047510</td></tr><tr><td>Lauren Hoekstra</td><td>80213299</td></tr><tr><td>Masahiko Murata</td><td>80002073</td></tr><tr><td>Ross Adam</td><td>80097376</td></tr><tr><td>Nicky Slimting Walker</td><td>81069254</td></tr><tr><td>Yasushi Kawamura</td><td>80149259</td></tr><tr><td>Eric Radomski</td><td>70295085</td></tr><tr><td>Luke Radford</td><td>81026667</td></tr><tr><td>Madeleine Sami</td><td>80992672</td></tr><tr><td>Atul Kale</td><td>80201816</td></tr><tr><td>Scot McFadyen</td><td>70137744</td></tr><tr><td>Christina Clusiau</td><td>80168084</td></tr><tr><td>Zune Kwok</td><td>81012294</td></tr><tr><td>Christian Herrendoerfer</td><td>80106791</td></tr><tr><td>Bruce Sinofsky</td><td>80174429</td></tr><tr><td>Jerry Kolber</td><td>81037273</td></tr><tr><td>Paul Weitz</td><td>60022998</td></tr><tr><td>Mag Hsu</td><td>81045891</td></tr><tr><td>Stephen Murray</td><td>81050118</td></tr><tr><td>Alicky Sussman</td><td>81059649</td></tr><tr><td>Jakob Schuh</td><td>80234290</td></tr><tr><td>Nicolás Silbert</td><td>80156767</td></tr><tr><td>Spencer Williams</td><td>80161851</td></tr><tr><td>Mike Smith</td><td>80081410</td></tr><tr><td>Khalid Kashogi</td><td>81033201</td></tr><tr><td>Riri Riza</td><td>81016342</td></tr><tr><td>Mahmood Farooqui</td><td>70129396</td></tr><tr><td>Umesh Mehra</td><td>80156938</td></tr><tr><td>Taki Oldham</td><td>80213588</td></tr><tr><td>David Johndrow</td><td>70043231</td></tr><tr><td>Ross Hockrow</td><td>80210716</td></tr><tr><td>Hugues Nancy</td><td>80230465</td></tr><tr><td>Uriel Sinai</td><td>80208084</td></tr><tr><td>Björn Stein</td><td>70132228</td></tr><tr><td>Dirk Laabs</td><td>80136332</td></tr><tr><td>Max Pugh</td><td>80182034</td></tr><tr><td>Nobuyuki Takeuchi</td><td>81000505</td></tr><tr><td>Guillaume Renard</td><td>81037697</td></tr><tr><td>Joe Russo</td><td>80219127</td></tr><tr><td>Tenzing Sonam</td><td>80145086</td></tr><tr><td>Jeremy Konner</td><td>80136548</td></tr><tr><td>Justin G. Dyck</td><td>80232740</td></tr><tr><td>Tig Notaro</td><td>80166467</td></tr><tr><td>Wayne Orr</td><td>80023921</td></tr><tr><td>Ishi Rudell</td><td>80012535</td></tr><tr><td>Syed Ahmed Shawki</td><td>81048551</td></tr><tr><td>John Sanford</td><td>80026431</td></tr><tr><td>Kazumi Fukushima</td><td>60004509</td></tr><tr><td>Luke Kenny</td><td>80203784</td></tr><tr><td>Gabriel Sabloff</td><td>80222301</td></tr><tr><td>Nanfu Wang</td><td>81010212</td></tr><tr><td>Luc Dardenne</td><td>80107019</td></tr><tr><td>Jan Suter</td><td>80124728</td></tr><tr><td>Alexander Smith</td><td>81009829</td></tr><tr><td>Emmett Malloy</td><td>80208793</td></tr><tr><td>Nekfeu</td><td>81169158</td></tr><tr><td>Torquil Jones</td><td>81018536</td></tr><tr><td>Luk Kim-ching</td><td>80106306</td></tr><tr><td>Chris Bouchard</td><td>80166319</td></tr><tr><td>Jeff Gill</td><td>80158854</td></tr><tr><td>Adam Darke</td><td>80191930</td></tr><tr><td>Simon Gross</td><td>80171247</td></tr><tr><td>Joseph Sargent</td><td>70135647</td></tr><tr><td>Josh Koury</td><td>80176212</td></tr><tr><td>Jayson Thiessen</td><td>80073100</td></tr><tr><td>Stefan Moore</td><td>80066806</td></tr><tr><td>Cosmo Segurson</td><td>81091977</td></tr><tr><td>Yoshitaka Takeuchi</td><td>80234491</td></tr><tr><td>Jan Suter</td><td>80124724</td></tr><tr><td>Julien War</td><td>81034010</td></tr><tr><td>Cole D. Pruitt</td><td>81006598</td></tr><tr><td>Robert McCallum</td><td>80224167</td></tr><tr><td>Julia Reichert</td><td>81090071</td></tr><tr><td>Nitesh Tiwari</td><td>70139072</td></tr><tr><td>Augusto Matte</td><td>80234464</td></tr><tr><td>Alexis Morante</td><td>80202810</td></tr><tr><td>T.J. Martin</td><td>70177633</td></tr><tr><td>Wong Jing</td><td>60027334</td></tr><tr><td>Binayak Das</td><td>81154987</td></tr><tr><td>Chen Hung-yi</td><td>81122206</td></tr><tr><td>Viju Mane</td><td>81002212</td></tr><tr><td>Fisher Stevens</td><td>70308278</td></tr><tr><td>Lilly Wachowski</td><td>70301367</td></tr><tr><td>Olivier Roland</td><td>80993489</td></tr><tr><td>Alan Mak</td><td>70043379</td></tr><tr><td>Lana Wachowski</td><td>70248183</td></tr><tr><td>Smriti Keshari</td><td>80080106</td></tr><tr><td>Josh Vietze</td><td>80109260</td></tr><tr><td>Will Graham</td><td>70222860</td></tr><tr><td>Nathan Ives</td><td>81026677</td></tr><tr><td>Reijer Zwaan</td><td>80118918</td></tr><tr><td>Amir Galvan Cervera</td><td>80161104</td></tr><tr><td>Jan Suter</td><td>80191990</td></tr><tr><td>Anggy Umbara</td><td>81062674</td></tr><tr><td>Brandon Kimber</td><td>80044562</td></tr><tr><td>Espen Sandberg</td><td>70260989</td></tr><tr><td>David Alvarado</td><td>80182411</td></tr><tr><td>Kiko Mistrorigo</td><td>80205442</td></tr><tr><td>Måns Herngren</td><td>80106337</td></tr><tr><td>Gareth Sacala</td><td>70309257</td></tr><tr><td>Kareem Tabsch</td><td>81030755</td></tr><tr><td>Ronna Gradus</td><td>80115676</td></tr><tr><td>Heather Walsh</td><td>80174436</td></tr><tr><td>Andrew Mogel</td><td>80036657</td></tr><tr><td>Christopher Loren Ewers</td><td>81088285</td></tr><tr><td>Jason Kwan</td><td>80215782</td></tr><tr><td>Tarek Al Eryan</td><td>81035846</td></tr><tr><td>Bas van Teylingen</td><td>81026329</td></tr><tr><td>Scott Moore</td><td>70222859</td></tr><tr><td>Toby Trackman</td><td>81090128</td></tr><tr><td>Adam Nee</td><td>80064273</td></tr><tr><td>Felix van Groeningen</td><td>80098475</td></tr><tr><td>Josh Alexander</td><td>80058247</td></tr><tr><td>Yim Pilsung</td><td>81044884</td></tr><tr><td>Ippsie Jones</td><td>80142474</td></tr><tr><td>Alex Brewer</td><td>80063773</td></tr><tr><td>Simon Wells</td><td>60033788</td></tr><tr><td>Louis Pepe</td><td>80097468</td></tr><tr><td>Ralph Hemecker</td><td>70197049</td></tr><tr><td>Seung-uk Jo</td><td>80176929</td></tr><tr><td>Anurag Kashyap</td><td>80115328</td></tr><tr><td>Mark Henn</td><td>80062011</td></tr><tr><td>Mike Gabriel</td><td>80062011</td></tr><tr><td>Hiroshi Yamazaki</td><td>70129415</td></tr><tr><td>James Gunn</td><td>70222860</td></tr><tr><td>Roger Allers</td><td>80062011</td></tr><tr><td>Joseph Chou</td><td>70129415</td></tr><tr><td>Suparn Verma</td><td>80108386</td></tr><tr><td>Syed Saleh Ahmed Sobhan</td><td>81048551</td></tr><tr><td>Rusty Cundieff</td><td>70222860</td></tr><tr><td>Parkpoom Wongpoom</td><td>70142798</td></tr><tr><td>Masaru Matsumoto</td><td>81171121</td></tr><tr><td>Poj Arnon</td><td>80999985</td></tr><tr><td>Lauren MacMullan</td><td>80062011</td></tr><tr><td>Joan C. Gratz</td><td>80017272</td></tr><tr><td>Anurag Kashyap</td><td>70275753</td></tr><tr><td>Toshiyuki Kanno</td><td>70129415</td></tr><tr><td>John Paul Tremblay</td><td>80235932</td></tr><tr><td>Roy Boulting</td><td>80119189</td></tr><tr><td>Karyn Kusama</td><td>80027041</td></tr><tr><td>Dibakar Banerjee</td><td>80991033</td></tr><tr><td>Gary Shore</td><td>80096585</td></tr><tr><td>Olav Njaastad</td><td>80114498</td></tr><tr><td>Nalan Kumarasamy</td><td>80108386</td></tr><tr><td>David Beier</td><td>80213400</td></tr><tr><td>Zoya Akhtar</td><td>81088083</td></tr><tr><td>Ryan Moody</td><td>80213299</td></tr><tr><td>Ng Ka-Leung</td><td>81012294</td></tr><tr><td>Erich Sturm</td><td>81037273</td></tr><tr><td>Richard Maurice</td><td>80161851</td></tr><tr><td>Robb Wells</td><td>80081410</td></tr><tr><td>Robiul Alam Robi</td><td>81048551</td></tr><tr><td>Liu Bang-yao</td><td>81122206</td></tr><tr><td>Ravi Jadhav</td><td>81002212</td></tr><tr><td>Griffin Dunne</td><td>70222860</td></tr><tr><td>Kim Jong-kwan</td><td>81044884</td></tr><tr><td>Milan Cheylov</td><td>70197049</td></tr><tr><td>Takanobu Mizuno</td><td>81171121</td></tr><tr><td>Byron Howard</td><td>80062011</td></tr><tr><td>Nina Paley</td><td>80017272</td></tr><tr><td>Yasushi Muraki</td><td>70129415</td></tr><tr><td>Scott Stewart</td><td>80096585</td></tr><tr><td>Qaushiq Mukherjee</td><td>80108386</td></tr><tr><td>Alana Waksman</td><td>80213400</td></tr><tr><td>Shadae Lamar Smith</td><td>80213299</td></tr><tr><td>Tanvir Ahsan</td><td>81048551</td></tr><tr><td>YC Tom Lee</td><td>81122206</td></tr><tr><td>Jonathan van Tulleken</td><td>70222860</td></tr><tr><td>Bryan Spicer</td><td>70197049</td></tr><tr><td>Visute Poolvoralaks</td><td>70142798</td></tr><tr><td>Arthell Isom</td><td>81171121</td></tr><tr><td>John Kahrs</td><td>80062011</td></tr><tr><td>Mohammed Saeed Harib</td><td>80017272</td></tr><tr><td>Tomoki Kyoda</td><td>70129415</td></tr><tr><td>Robb Wells</td><td>80235932</td></tr><tr><td>Anthony Veiller</td><td>80119189</td></tr><tr><td>Kevin Smith</td><td>80096585</td></tr><tr><td>Anu Menon</td><td>80108386</td></tr><tr><td>Dave Dorsey</td><td>80213400</td></tr><tr><td>Simon Savelyev</td><td>80213299</td></tr><tr><td>Wong Fei-Pang</td><td>81012294</td></tr><tr><td>Golam Kibria Farooki</td><td>81048551</td></tr><tr><td>Lin Guan-fu</td><td>81122206</td></tr><tr><td>Steve Brill</td><td>70222860</td></tr><tr><td>Dean White</td><td>70197049</td></tr><tr><td>Elsa Nakamichi</td><td>81171121</td></tr><tr><td>Stevie Wermers</td><td>80062011</td></tr><tr><td>Bill Plympton</td><td>80017272</td></tr><tr><td>Daisuke Nishio</td><td>70129415</td></tr><tr><td>Kevin Kolsch</td><td>80096585</td></tr><tr><td>Rajshree Ojha</td><td>80108386</td></tr><tr><td>Jon YonKondy</td><td>80213400</td></tr><tr><td>Jeremy David White</td><td>80213299</td></tr><tr><td>Mahmudul Islam</td><td>81048551</td></tr><tr><td>Elizabeth Banks</td><td>70222860</td></tr><tr><td>Henry Thurlow</td><td>81171121</td></tr><tr><td>Nathan Greno</td><td>80062011</td></tr><tr><td>Tomm Moore</td><td>80017272</td></tr><tr><td>Koichi Mashimo</td><td>70129415</td></tr><tr><td>Sarah Adina Smith</td><td>80096585</td></tr><tr><td>Sandeep Mohan</td><td>80108386</td></tr><tr><td>Xu Zhang</td><td>80213400</td></tr><tr><td>Vanita Shastry</td><td>80213299</td></tr><tr><td>Mir Mukarram Hossain</td><td>81048551</td></tr><tr><td>Shen Chi</td><td>81122206</td></tr><tr><td>James Duffy</td><td>70222860</td></tr><tr><td>Michael Waxman</td><td>70197049</td></tr><tr><td>Songyos Sugmakanan</td><td>70142798</td></tr><tr><td>Michael Arias</td><td>81171121</td></tr><tr><td>Tanwarin Sukkhapisit</td><td>80999985</td></tr><tr><td>Patrick Osborne</td><td>80062011</td></tr><tr><td>Michael Goguen</td><td>80158155</td></tr><tr><td>Paul Brizzi</td><td>80017272</td></tr><tr><td>Jun Falkenstein</td><td>80112371</td></tr><tr><td>Morgan Pehme</td><td>80114666</td></tr><tr><td>Karan Johar</td><td>70275753</td></tr><tr><td>Hideki Futamura</td><td>70129415</td></tr><tr><td>Mike Smith</td><td>80235932</td></tr><tr><td>Hugh Stewart</td><td>80119189</td></tr><tr><td>David Dietz</td><td>80164075</td></tr><tr><td>Amalie Næsby Fick</td><td>81016361</td></tr><tr><td>Robb Wells</td><td>70304187</td></tr><tr><td>Robb Wells</td><td>70304188</td></tr><tr><td>Robb Wells</td><td>70304186</td></tr><tr><td>Bob Persichetti</td><td>81002747</td></tr><tr><td>Roxanne Benjamin</td><td>80027041</td></tr><tr><td>Jaime Rayo</td><td>80220422</td></tr><tr><td>Anurag Kashyap</td><td>80991033</td></tr><tr><td>Audu Paden</td><td>80004286</td></tr><tr><td>Luis A. Scalella</td><td>80223153</td></tr><tr><td>Adam Egypt Mortimer</td><td>80096585</td></tr><tr><td>Marston Sawyers</td><td>80176064</td></tr><tr><td>Klaus Erik Okstad</td><td>80114498</td></tr><tr><td>Sudhish Kamath</td><td>80108386</td></tr><tr><td>Will Lowell</td><td>80213400</td></tr><tr><td>Karan Johar</td><td>81088083</td></tr><tr><td>Aaron Woolf</td><td>80144141</td></tr><tr><td>M.S. Prem Nath</td><td>81047510</td></tr><tr><td>Sarah Kruchowski</td><td>80213299</td></tr><tr><td>Chow Kwun-wai</td><td>81012294</td></tr><tr><td>Trey Nelson</td><td>81037273</td></tr><tr><td>Richard E. Norman</td><td>80161851</td></tr><tr><td>John Paul Tremblay</td><td>80081410</td></tr><tr><td>Rahat Rahman</td><td>81048551</td></tr><tr><td>Jim Stenstrum</td><td>60004509</td></tr><tr><td>Haoling Li</td><td>80234491</td></tr><tr><td>Weica Wang</td><td>81122206</td></tr><tr><td>Girish Mohite</td><td>81002212</td></tr><tr><td>Tom Tykwer</td><td>70248183</td></tr><tr><td>Eric Schlosser</td><td>80080106</td></tr><tr><td>Steve Carr</td><td>70222860</td></tr><tr><td>Rodrigo Eba</td><td>80205442</td></tr><tr><td>Rashida Jones</td><td>80115676</td></tr><tr><td>Erik Ewers</td><td>81088285</td></tr><tr><td>Greg Young</td><td>80058247</td></tr><tr><td>Jeon Go-woon</td><td>81044884</td></tr><tr><td>Gwyneth Horder-Payton</td><td>70197049</td></tr><tr><td>Hajime Sasaki</td><td>81171121</td></tr><tr><td>Dean Wellins</td><td>80062011</td></tr><tr><td>Joann Sfar</td><td>80017272</td></tr><tr><td>Frank O'Connor</td><td>70129415</td></tr><tr><td>Dennis Widmyer</td><td>80096585</td></tr><tr><td>Raja Sen</td><td>80108386</td></tr><tr><td>Drue Metz</td><td>80213400</td></tr><tr><td>Abdullah Al Noor</td><td>81048551</td></tr><tr><td>Patrik Forsberg</td><td>70222860</td></tr></tbody></table></div>"
      ]
     },
     "metadata": {
      "application/vnd.databricks.v1+output": {
       "addedWidgets": {},
       "aggData": [],
       "aggError": "",
       "aggOverflow": false,
       "aggSchema": [],
       "aggSeriesLimitReached": false,
       "aggType": "",
       "arguments": {},
       "columnCustomDisplayInfos": {},
       "data": [
        [
         "Richard Finn",
         81145628
        ],
        [
         "Fernando Lebrija",
         80125979
        ],
        [
         "Gabe Ibáñez",
         70304989
        ],
        [
         "Rodrigo Toro",
         80164077
        ],
        [
         "Henrik Ruben Genz",
         70304990
        ],
        [
         "José Miguel Contreras",
         80169755
        ],
        [
         "Daniel Alfredson",
         70299204
        ],
        [
         "Munjal Shroff",
         80182483
        ],
        [
         "Munjal Shroff",
         80182596
        ],
        [
         "Tilak Shetty",
         80182482
        ],
        [
         "Tilak Shetty",
         80182597
        ],
        [
         "Munjal Shroff",
         80182621
        ],
        [
         "Gaspar Noé",
         80057969
        ],
        [
         "Tom O'Brien",
         80060297
        ],
        [
         "Antoine Bardou-Jacquet",
         80046728
        ],
        [
         "Mitch Dickman",
         80046727
        ],
        [
         "Brad Anderson",
         70304988
        ],
        [
         "Austin Stark",
         80057700
        ],
        [
         "Hannah Fidell",
         80045922
        ],
        [
         "Madeleine Gavin",
         80203094
        ],
        [
         "Sopon Sukdapisit",
         70241607
        ],
        [
         "Kevin R. Adams",
         80988892
        ],
        [
         "Ian Samuels",
         80239639
        ],
        [
         "Franck Ribière",
         80159586
        ],
        [
         "Daniele Thompson",
         80152447
        ],
        [
         "Anubhav Sinha",
         81154455
        ],
        [
         "Maha Venkatesh",
         81113928
        ],
        [
         "Tharun Bhascker",
         81052275
        ],
        [
         "Şenol Sönmez",
         81132437
        ],
        [
         "Tom Gianas",
         80058026
        ],
        [
         "Rajkumar Hirani",
         70303496
        ],
        [
         "Robert Osman",
         80162141
        ],
        [
         "Jon Spira",
         80095641
        ],
        [
         "Mez Tharatorn",
         80159880
        ],
        [
         "Adisorn Tresirikasem",
         81016044
        ],
        [
         "Mez Tharatorn",
         80158838
        ],
        [
         "Banjong Pisanthanakun",
         81016045
        ],
        [
         "Banjong Pisanthanakun",
         70142798
        ],
        [
         "Banjong Pisanthanakun",
         70062814
        ],
        [
         "Chayanop Boonprakob",
         80158839
        ],
        [
         "Susan Johnson",
         80147760
        ],
        [
         "Lynn Shelton",
         80177405
        ],
        [
         "Farhan Alam",
         81160036
        ],
        [
         "Chad Archibald",
         81173255
        ],
        [
         "Brian Baugh",
         81078908
        ],
        [
         "A. L. Vijay",
         81155784
        ],
        [
         "Ryan Coogler",
         80201906
        ],
        [
         "Ben Palmer",
         80052612
        ],
        [
         "Chris Howe",
         81054495
        ],
        [
         "Ken Kwapis",
         70212504
        ],
        [
         "Park In-je",
         80187061
        ],
        [
         "Rod Blackhurst",
         80081155
        ],
        [
         "Jesse V. Johnson",
         80198585
        ],
        [
         "Mahsun Kırmızıgül",
         70233894
        ],
        [
         "Monique Gardenberg",
         81011955
        ],
        [
         "Mike Flanagan",
         80128722
        ],
        [
         "Jacob LaMendola",
         80182115
        ],
        [
         "Ritesh Batra",
         80104068
        ],
        [
         "Dylan Howitt",
         80119349
        ],
        [
         "William Lau",
         80019931
        ],
        [
         "Mana Yasuda",
         81053893
        ],
        [
         "Brian De Palma",
         80200087
        ],
        [
         "Mana Yasuda",
         81053892
        ],
        [
         "Rizal Mantovani",
         81002850
        ],
        [
         "Han Yan",
         81004470
        ],
        [
         "Jeremy Saulnier",
         80157072
        ],
        [
         "Kim A. Snyder",
         81001809
        ],
        [
         "Raditya Dika",
         81002864
        ],
        [
         "Rocky Soraya",
         81016750
        ],
        [
         "Sunil Soraya",
         81002866
        ],
        [
         "Álvaro Longoria",
         80992039
        ],
        [
         "Brendan Byrne",
         80126507
        ],
        [
         "Gupse Özay",
         81132443
        ],
        [
         "Jim Mickle",
         80231903
        ],
        [
         "Jumpei Mizusaki",
         81171121
        ],
        [
         "Chi Fat Chan",
         81012295
        ],
        [
         "Nabil Ayouch",
         80060037
        ],
        [
         "Rob LaDuca",
         60003155
        ],
        [
         "Mangesh Hadawale",
         81177238
        ],
        [
         "Wong Kar Wai",
         70270775
        ],
        [
         "Rob Cohen",
         80215923
        ],
        [
         "Louis J. Horvitz",
         80151483
        ],
        [
         "Linda Saffire",
         80173625
        ],
        [
         "Luis Lopez",
         80005444
        ],
        [
         "Otilia Portillo Padua",
         80244682
        ],
        [
         "Le Van Kiet",
         81075519
        ],
        [
         "Eric Summer",
         80166318
        ],
        [
         "B. V. Nandini Reddy",
         81186758
        ],
        [
         "B. V. Nandini Reddy",
         81186757
        ],
        [
         "Mario Van Peebles",
         80108976
        ],
        [
         "Ava DuVernay",
         80208155
        ],
        [
         "Sonia Lowman",
         80198423
        ],
        [
         "Benjamin Turner",
         80162144
        ],
        [
         "Michael J. Bassett",
         81053953
        ],
        [
         "Troy Miller",
         81074113
        ],
        [
         "Tan Bing",
         80992496
        ],
        [
         "Warren P. Sonoda",
         70304191
        ],
        [
         "Álex de la Iglesia",
         80103311
        ],
        [
         "Rahul Ravindran",
         81176200
        ],
        [
         "Archie Borders",
         80208906
        ],
        [
         "Bonni Cohen",
         80097321
        ],
        [
         "Bobcat Goldthwait",
         80106966
        ],
        [
         "Deepti Naval",
         81080769
        ],
        [
         "Morgan Neville",
         70267838
        ],
        [
         "Anthony Byrne",
         80211380
        ],
        [
         "Chris Moukarbel",
         80196586
        ],
        [
         "Ana Lily Amirpour",
         80099204
        ],
        [
         "Alex Winter",
         80059432
        ],
        [
         "Kemi Adetiba",
         81172721
        ],
        [
         "Toka McBaror",
         81172727
        ],
        [
         "Gilles Paquet-Brenner",
         70153543
        ],
        [
         "Niyi Akinmolayan",
         81172728
        ],
        [
         "Rashida Jones",
         80102952
        ],
        [
         "Scott Aukerman",
         80243600
        ],
        [
         "Mariano Barroso",
         81020523
        ],
        [
         "Amara Cash",
         81122669
        ],
        [
         "Kiko Cruz Claverol",
         81000389
        ],
        [
         "Bedran Güzel",
         81132439
        ],
        [
         "Chun Wong",
         80150502
        ],
        [
         "Coerte Voorhees",
         80119815
        ],
        [
         "Samuel D. Pollard",
         80993149
        ],
        [
         "Ham Tran",
         80203776
        ],
        [
         "Feng Xiaogang",
         80143797
        ],
        [
         "Gary Michael Schultz",
         80161931
        ],
        [
         "Liv Ullmann",
         80017275
        ],
        [
         "Sandeep Reddy Vanga",
         81107545
        ],
        [
         "Jacques Perrin",
         70118953
        ],
        [
         "Justin Benson",
         80190449
        ],
        [
         "Michael Bonfiglio",
         80163156
        ],
        [
         "Zack Whedon",
         80149143
        ],
        [
         "Eric Stoltz",
         80987075
        ],
        [
         "Conrad Helten",
         80192815
        ],
        [
         "Morgan Neville",
         80066798
        ],
        [
         "Teo Konuralp",
         81147293
        ],
        [
         "Jesse V. Johnson",
         80991316
        ],
        [
         "Chris Perkel",
         80190588
        ],
        [
         "Cheh Chang",
         70124316
        ],
        [
         "Manny Rodriguez",
         70229037
        ],
        [
         "Robert Eggers",
         80037280
        ],
        [
         "Chuck Russell",
         80058248
        ],
        [
         "John Erick Dowdle",
         70307661
        ],
        [
         "Edgar Wright",
         70117312
        ],
        [
         "Tony Elliott",
         80092885
        ],
        [
         "Troy Miller",
         80108371
        ],
        [
         "Louis C.K.",
         70129452
        ],
        [
         "Jeremy Coon",
         80045805
        ],
        [
         "Orlando von Einsiedel",
         80101827
        ],
        [
         "Tom Donahue",
         81030342
        ],
        [
         "Michèle Ohayon",
         70054723
        ],
        [
         "Timothy Woodward Jr.",
         81131761
        ],
        [
         "Nia Dinata",
         81016326
        ],
        [
         "Mark O'Connor",
         80227777
        ],
        [
         "Ajithkumar",
         81018233
        ],
        [
         "Lucky Kuswandi",
         81016317
        ],
        [
         "Riri Riza",
         81016337
        ],
        [
         "Vijay Milton",
         81018234
        ],
        [
         "Susannah Heath-Eves",
         81018241
        ],
        [
         "Santwana Bardoloi",
         81018235
        ],
        [
         "Atanu Ghosh",
         81018236
        ],
        [
         "Amitava Bhattacharya",
         81018237
        ],
        [
         "Partha Chakraborty",
         81018238
        ],
        [
         "Raffi Ahmad",
         81016339
        ],
        [
         "Angelina Jolie",
         80067522
        ],
        [
         "Pavel Parkhomenko",
         80192149
        ],
        [
         "Azfar Jafri",
         80142637
        ],
        [
         "R. Ellis Frazier",
         80192014
        ],
        [
         "R. Ellis Frazier",
         80192015
        ],
        [
         "Yance Ford",
         80168230
        ],
        [
         "Mark Tonderai",
         80202129
        ],
        [
         "Roman Atwood",
         80088910
        ],
        [
         "Dan Forrer",
         70290909
        ],
        [
         "Kip Andersen",
         80033772
        ],
        [
         "B. V. Nandini Reddy",
         81093951
        ],
        [
         "Randall Lobb",
         80238013
        ],
        [
         "Stacie Passon",
         81089941
        ],
        [
         "Manop Janjarasskul",
         81000011
        ],
        [
         "Shinsuke Sato",
         80217733
        ],
        [
         "Chatchai Katenut",
         80999985
        ],
        [
         "Ariel Vromen",
         80188120
        ],
        [
         "Nicole Holofcener",
         80164779
        ],
        [
         "Jerry G. Angelo",
         81092328
        ],
        [
         "Michael Feifer",
         81183572
        ],
        [
         "Elle Callahan",
         81037283
        ],
        [
         "Alex Stapleton",
         80244973
        ],
        [
         "Kıvanç Baruönü",
         81132438
        ],
        [
         "Teng Huatao",
         81161230
        ],
        [
         "Nzingha Stewart",
         81002412
        ],
        [
         "Mark Dennis",
         81023636
        ],
        [
         "Ben Wallis",
         80198046
        ],
        [
         "Dan Krauss",
         80106307
        ],
        [
         "David Soren",
         70267728
        ],
        [
         "Alessio Cremonini",
         81001000
        ],
        [
         "Elaine McMillion Sheldon",
         80192445
        ],
        [
         "Michael Simon",
         80158670
        ],
        [
         "Joram Lürsen",
         80244019
        ],
        [
         "Oliver Frampton",
         80162143
        ],
        [
         "Mike Binder",
         81060174
        ],
        [
         "Ryan Murphy",
         70130445
        ],
        [
         "Orlando von Einsiedel",
         80216928
        ],
        [
         "Mark Franchetti",
         81001494
        ],
        [
         "Damián Romay",
         80991570
        ],
        [
         "Trent Haaga",
         80184129
        ],
        [
         "Mary Harron",
         60000861
        ],
        [
         "Roger Donaldson",
         1151375
        ],
        [
         "Petra Costa",
         81137484
        ],
        [
         "Steven C. Miller",
         80187228
        ],
        [
         "Richard Miron",
         81031008
        ],
        [
         "Tony Leondis",
         70099119
        ],
        [
         "Roger Kumble",
         70039185
        ],
        [
         "Kunle Afolayan",
         81165769
        ],
        [
         "Craig Gillespie",
         70056433
        ],
        [
         "Nick Cassavetes",
         70113003
        ],
        [
         "Clint Eastwood",
         60031232
        ],
        [
         "Kunle Afolayan",
         80032842
        ],
        [
         "Petra Costa",
         81137482
        ],
        [
         "Roger Allers",
         70043308
        ],
        [
         "Kunle Afolayan",
         81165771
        ],
        [
         "Wolfgang Petersen",
         70044697
        ],
        [
         "Jonathan Demme",
         70105368
        ],
        [
         "Bernie Denk",
         81141689
        ],
        [
         "Ivan Reitman",
         1008581
        ],
        [
         "Greg Mottola",
         70058023
        ],
        [
         "Kunle Afolayan",
         81165786
        ],
        [
         "Kunle Afolayan",
         81165770
        ],
        [
         "Alejandro Agresti",
         70043303
        ],
        [
         "Daniel Stamm",
         70136074
        ],
        [
         "Phillip Noyce",
         1153194
        ],
        [
         "Tony Scott",
         70112730
        ],
        [
         "Ahmed Zain",
         81158575
        ],
        [
         "Mohamed Hamdy",
         81065786
        ],
        [
         "Dennis Dugan",
         70087541
        ],
        [
         "Peter Ho",
         81004113
        ],
        [
         "Jordi Llompart",
         81003984
        ],
        [
         "Rian Johnson",
         70024088
        ],
        [
         "Olivier Marchal",
         81005312
        ],
        [
         "Dennis Iliadis",
         80082969
        ],
        [
         "Qaushiq Mukherjee",
         80994130
        ],
        [
         "Sudip Bandyopadhyay",
         81019924
        ],
        [
         "Onir",
         81018240
        ],
        [
         "Jatla Siddartha",
         81013710
        ],
        [
         "Jeremy Saulnier",
         70077076
        ],
        [
         "Kanwal Sethi",
         81014988
        ],
        [
         "Banjong Pisanthanakun",
         80102950
        ],
        [
         "Alfonso Cuarón",
         70055221
        ],
        [
         "Samuel Jouy",
         81005314
        ],
        [
         "Akiva Goldsman",
         80242828
        ],
        [
         "Damien Leone",
         81004223
        ],
        [
         "Karen Moncrieff",
         80198730
        ],
        [
         "Jean-Pierre Devillers",
         80999945
        ],
        [
         "Sophon Sakdaphisit",
         81016043
        ],
        [
         "Curtis Hanson",
         17672040
        ],
        [
         "Young Jun Lee",
         81011096
        ],
        [
         "Rajiv Mehra",
         20254278
        ],
        [
         "Toshiyuki Kubooka",
         70276596
        ],
        [
         "Toshiyuki Kubooka",
         80063025
        ],
        [
         "Todd S. Yellin",
         70068739
        ],
        [
         "Jesse Adang",
         80184974
        ],
        [
         "Rajiv Mehra",
         80156941
        ],
        [
         "Elizabeth Chai Vasarhelyi",
         80061314
        ],
        [
         "Toshiya Shinohara",
         70052492
        ],
        [
         "Toshiya Shinohara",
         70036200
        ],
        [
         "Toshiya Shinohara",
         70018513
        ],
        [
         "Mohammed Hussain",
         80158480
        ],
        [
         "Eli Craig",
         80139506
        ],
        [
         "Parambrata Chatterjee",
         80205314
        ],
        [
         "Shammi Kapoor",
         80158545
        ],
        [
         "Umesh Mehra",
         80156939
        ],
        [
         "Masahiko Murata",
         80152537
        ],
        [
         "Masahiko Murata",
         80045673
        ],
        [
         "Masahiko Murata",
         70275937
        ],
        [
         "Hirotsugu Kawasaki",
         70101321
        ],
        [
         "Toshiyuki Tsuru",
         70108386
        ],
        [
         "Tensai Okamura",
         70074559
        ],
        [
         "Florian Schnell",
         80162197
        ],
        [
         "Josh Izenberg",
         80184055
        ],
        [
         "Thierry Demaizière",
         80160358
        ],
        [
         "Spike Lee",
         60034929
        ],
        [
         "Latif Faiziyev",
         80157134
        ],
        [
         "Gastón Duprat",
         80141891
        ],
        [
         "Bette Gordon",
         80183897
        ],
        [
         "Gary Wang",
         80177834
        ],
        [
         "Raz Degan",
         80121855
        ],
        [
         "Israel Adrián Caetano",
         80168028
        ],
        [
         "Mariano Cohn",
         80190990
        ],
        [
         "Drew Stone",
         80173269
        ],
        [
         "Joram Lürsen",
         80106140
        ],
        [
         "Jelle de Jonge",
         80106137
        ],
        [
         "Afia Nathaniel",
         80114155
        ],
        [
         "Luke Jurevicius",
         80118841
        ],
        [
         "Sean Cisterna",
         80102579
        ],
        [
         "Will Allen",
         80097438
        ],
        [
         "Nacho G. Velilla",
         80114419
        ],
        [
         "David Serrano",
         80103426
        ],
        [
         "Jay Chapman",
         70278877
        ],
        [
         "Jenny Gage",
         80244311
        ],
        [
         "Kaila York",
         81183570
        ],
        [
         "Ifa Isfansyah",
         81016328
        ],
        [
         "Stan Lathan",
         80239503
        ],
        [
         "Angga Dwimas Sasongko",
         81016321
        ],
        [
         "Evgeny Afineevsky",
         80031666
        ],
        [
         "Ryan Polito",
         80995737
        ],
        [
         "Kabir Bhatia",
         81020161
        ],
        [
         "Russell Crowe",
         80025390
        ],
        [
         "Andrew Sandler",
         80196216
        ],
        [
         "Ava DuVernay",
         80091741
        ],
        [
         "Dave Higby",
         80115464
        ],
        [
         "Richie Smyth",
         80041653
        ],
        [
         "Andibachtiar Yusuf",
         81016338
        ],
        [
         "Dustin Nguyen",
         81002592
        ],
        [
         "Chris Eigeman",
         81017724
        ],
        [
         "Stanley Tong",
         80170301
        ],
        [
         "David France",
         80189623
        ],
        [
         "Vandana Kataria",
         81177367
        ],
        [
         "Angga Dwimas Sasongko",
         81016323
        ],
        [
         "Riri Riza",
         81016318
        ],
        [
         "Olaf de Fleur",
         80242081
        ],
        [
         "Tamara Jenkins",
         80168222
        ],
        [
         "Onur Bilgetay",
         81158574
        ],
        [
         "Vincenzo Natali",
         80237905
        ],
        [
         "Tugçe Soysop",
         81132440
        ],
        [
         "Jacob Joice",
         81021243
        ],
        [
         "Craig Goodwill",
         81004460
        ],
        [
         "Riri Riza",
         81016330
        ],
        [
         "Mickey Liddell",
         70105130
        ],
        [
         "Michael D. Black",
         80141858
        ],
        [
         "Juani Libonatti",
         81084225
        ],
        [
         "DJ Chen",
         80203920
        ],
        [
         "Dani de la Torre",
         80199806
        ],
        [
         "Jerrold Tarog",
         80084834
        ],
        [
         "Judah Friedlander",
         80208273
        ],
        [
         "Errol Morris",
         80145699
        ],
        [
         "Oliver Blackburn",
         70266684
        ],
        [
         "Park Joon-hwa",
         81166978
        ],
        [
         "Saravana Rajendran",
         81177371
        ],
        [
         "Onir",
         70067230
        ],
        [
         "Jitendra Tiwari",
         80207446
        ],
        [
         "Vivek Wagh",
         80207447
        ],
        [
         "Riri Riza",
         81016324
        ],
        [
         "Alex Israel",
         80192097
        ],
        [
         "Lee Fulkerson",
         70185045
        ],
        [
         "Joe Camp",
         70002129
        ],
        [
         "Kavi Raz",
         80191963
        ],
        [
         "Nick Simon",
         80218099
        ],
        [
         "Don Mancini",
         80199767
        ],
        [
         "Brandon Jones",
         80191665
        ],
        [
         "Alain Desrochers",
         80161921
        ],
        [
         "Brian Volk-Weiss",
         81148672
        ],
        [
         "Deniz Gamze Ergüven",
         80224362
        ],
        [
         "Robert Vince",
         80092857
        ],
        [
         "Everardo González",
         80244679
        ],
        [
         "Matt Kay",
         81110394
        ],
        [
         "Drake Doremus",
         80067754
        ],
        [
         "Robert Vince",
         80189954
        ],
        [
         "Osgood Perkins",
         80094648
        ],
        [
         "Werner Herzog",
         80066073
        ],
        [
         "Julien Rambaldi",
         80123740
        ],
        [
         "Yvan Attal",
         80123741
        ],
        [
         "Benjamin Weill",
         80123742
        ],
        [
         "Scott Hussion",
         81000863
        ],
        [
         "Wilson Yip",
         70082255
        ],
        [
         "Griffin Dunne",
         80117454
        ],
        [
         "Roger Gual",
         80095197
        ],
        [
         "J. Davis",
         80045783
        ],
        [
         "Rob Smat",
         81123469
        ],
        [
         "Tinge Krishnan",
         80211622
        ],
        [
         "Aleksey German",
         80990221
        ],
        [
         "Eric Zaragosa",
         80202352
        ],
        [
         "Sergio Barrejón",
         80235268
        ],
        [
         "Sandi Tan",
         80241061
        ],
        [
         "Vijay Yelakanti",
         81025088
        ],
        [
         "Katherine Dieckmann",
         80173479
        ],
        [
         "Natalie Portman",
         80081372
        ],
        [
         "John Murlowski",
         81136744
        ],
        [
         "Ozan Açıktan",
         81132444
        ],
        [
         "Craig Brewer",
         80182014
        ],
        [
         "Billy Lyons",
         81078456
        ],
        [
         "Michael Steed",
         81121023
        ],
        [
         "Zak Hilditch",
         81018455
        ],
        [
         "Michael Steiner",
         81110383
        ],
        [
         "Vlad Yudin",
         81018183
        ],
        [
         "Paul Berczeller",
         80219941
        ],
        [
         "Quentin Tarantino",
         80064515
        ],
        [
         "Chris Buck",
         80062011
        ],
        [
         "Andrew Slater",
         81034741
        ],
        [
         "Glen Goei",
         81075461
        ],
        [
         "S.S. Rajamouli",
         80205231
        ],
        [
         "Brian Klein",
         80158919
        ],
        [
         "Katy Chevigny",
         70299286
        ],
        [
         "Sarik Andreasyan",
         80017261
        ],
        [
         "Huw Cordey",
         80186796
        ],
        [
         "Yuen Woo-ping",
         81071891
        ],
        [
         "Steve Brill",
         80224536
        ],
        [
         "Don Michael Paul",
         80994444
        ],
        [
         "Noah Baumbach",
         80017286
        ],
        [
         "Jonathan Mostow",
         70295169
        ],
        [
         "Brett Haley",
         80039050
        ],
        [
         "Gillian Robespierre",
         81027753
        ],
        [
         "Tobe Hooper",
         15815343
        ],
        [
         "Daniel Benmayor",
         70295176
        ],
        [
         "Abu Bakr Shawky",
         81043190
        ],
        [
         "Jedd Wider",
         80131240
        ],
        [
         "Nagesh Kukunoor",
         70170182
        ],
        [
         "Priyadarshan",
         70082633
        ],
        [
         "Raj Kanwar",
         70049619
        ],
        [
         "Pooja Bhatt",
         80211135
        ],
        [
         "Satish Kaushik",
         70109884
        ],
        [
         "Nikhil Advani",
         70176967
        ],
        [
         "Anees Bazmee",
         70198040
        ],
        [
         "Andrew Bujalski",
         80038442
        ],
        [
         "Ben Wheatley",
         80091310
        ],
        [
         "Riri Riza",
         70114484
        ],
        [
         "Anthony Giordano",
         80117443
        ],
        [
         "Wyatt Cenac",
         80010717
        ],
        [
         "Joanna Lombardi",
         81020005
        ],
        [
         "David Batty",
         81035748
        ],
        [
         "Zak Hilditch",
         80135164
        ],
        [
         "Jennifer Siebel Newsom",
         70167128
        ],
        [
         "Heidi Ewing",
         80118101
        ],
        [
         "Jeremy Rush",
         80113669
        ],
        [
         "Luis Javier Henaine",
         81094801
        ],
        [
         "Anand Kamalakar",
         81191195
        ],
        [
         "Don Michael Paul",
         80218973
        ],
        [
         "Eric Idle",
         80235999
        ],
        [
         "Anthony Giordano",
         80215419
        ],
        [
         "Will Yapp",
         70118860
        ],
        [
         "Eric Idle",
         80017240
        ],
        [
         "Will Yapp",
         70118859
        ],
        [
         "Terry Hughes",
         80236778
        ],
        [
         "Roger Graef",
         80236470
        ],
        [
         "Terry Jones",
         699257
        ],
        [
         "Ian MacNaughton",
         80236574
        ],
        [
         "Albert Sharpe",
         80988048
        ],
        [
         "Leslye Headland",
         80039069
        ],
        [
         "Jay Karas",
         80046779
        ],
        [
         "Prakash Satam",
         80995687
        ],
        [
         "Barry Sonnenfeld",
         60001650
        ],
        [
         "Omoni Oboli",
         81172848
        ],
        [
         "Thomas Vinterberg",
         81034575
        ],
        [
         "Marcos Bucay",
         80226951
        ],
        [
         "Peter Lepeniotis",
         80232279
        ],
        [
         "Kim Jee-woon",
         80239666
        ],
        [
         "Rajesh Touchriver",
         81011973
        ],
        [
         "David Lam",
         80144152
        ],
        [
         "David Batty",
         81035749
        ],
        [
         "David Batty",
         81035750
        ],
        [
         "David Batty",
         81035751
        ],
        [
         "Timo Tjahjanto",
         80148162
        ],
        [
         "Reem Kherici",
         80171705
        ],
        [
         "Adze Ugah",
         81172729
        ],
        [
         "Steve Gukas",
         81172895
        ],
        [
         "Ciarán Foy",
         80206910
        ],
        [
         "Frank Rajah Arase",
         81172905
        ],
        [
         "Yılmaz Erdoğan",
         81132442
        ],
        [
         "Tope Oshin",
         81172723
        ],
        [
         "Daniel Sánchez Arévalo",
         80990336
        ],
        [
         "Don Omope",
         81172909
        ],
        [
         "Ed Perkins",
         80214706
        ],
        [
         "Steven Soderbergh",
         80994011
        ],
        [
         "Tope Oshin",
         81172902
        ],
        [
         "Udai Singh Pawar",
         80998890
        ],
        [
         "Guntur Soeharjanto",
         81047903
        ],
        [
         "Thiru",
         81026343
        ],
        [
         "Federico Lemos",
         80208635
        ],
        [
         "Harald Zwart",
         70125931
        ],
        [
         "Bruce McDonald",
         70235768
        ],
        [
         "Bobcat Goldthwait",
         80177406
        ],
        [
         "Bassam Tariq",
         81081656
        ],
        [
         "Leslie Iwerks",
         81187847
        ],
        [
         "Kim Joo-hyung",
         81053240
        ],
        [
         "Ciarán Foy",
         80043834
        ],
        [
         "Louie Psihoyos",
         81157840
        ],
        [
         "Tom Forrest",
         80244900
        ],
        [
         "Milan Luthria",
         80211134
        ],
        [
         "John Crowley",
         70271601
        ],
        [
         "Ranjit Tiwari",
         80204433
        ],
        [
         "Tom Fassaert",
         80089199
        ],
        [
         "Adam Dubin",
         80043049
        ],
        [
         "Cary Joji Fukunaga",
         80044545
        ],
        [
         "Aaron Hann",
         80070182
        ],
        [
         "Ahmet Katıksız",
         80176234
        ],
        [
         "Alexandros Avranas",
         80992769
        ],
        [
         "Anindya Chatterjee",
         81191228
        ],
        [
         "Anik Datta",
         81025935
        ],
        [
         "Rajkumar Hirani",
         81020508
        ],
        [
         "Ishaan Trivedi",
         80201824
        ],
        [
         "Biswajeet Bora",
         80203782
        ],
        [
         "Sohail Tatari",
         80201829
        ],
        [
         "David Stubbs",
         80126016
        ],
        [
         "Madhur Bhandarkar",
         80202089
        ],
        [
         "Parveen Kumar",
         80203789
        ],
        [
         "Matías Gueilburt",
         80193423
        ],
        [
         "Ananth Narayan Mahadevan",
         80201825
        ],
        [
         "Ah Loong",
         80202376
        ],
        [
         "Girish Malik",
         80028360
        ],
        [
         "Debaloy Dey",
         80203783
        ],
        [
         "Martin Rosete",
         80142617
        ],
        [
         "Jasmine D'Souza",
         80201823
        ],
        [
         "Ben C. Lucas",
         80190841
        ],
        [
         "Rohit Jugraj",
         80115858
        ],
        [
         "Shakti Samanta",
         80158547
        ],
        [
         "Raj B. Shetty",
         80206827
        ],
        [
         "Navneet Behal",
         80202090
        ],
        [
         "Sukhbir Singh",
         80203790
        ],
        [
         "Naresh Saigal",
         80158391
        ],
        [
         "Ram Gopal Varma",
         80201822
        ],
        [
         "Dhruv Dhawan",
         80211540
        ],
        [
         "Thomas Sorriaux",
         80123743
        ],
        [
         "Toshiyuki Kubooka",
         70258995
        ],
        [
         "Noriyuki Abe",
         70208801
        ],
        [
         "Noriyuki Abe",
         70260383
        ],
        [
         "Clovis Cornillac",
         80123744
        ],
        [
         "Hajime Kamegaki",
         70105699
        ],
        [
         "Hajime Kamegaki",
         70124999
        ],
        [
         "Jean-François Blais",
         80990869
        ],
        [
         "Derek Hui",
         80187205
        ],
        [
         "Kevin MacDonald",
         80097472
        ],
        [
         "Stefano Sollima",
         80075009
        ],
        [
         "Dave Higby",
         70280748
        ],
        [
         "Leïla Sy",
         81034012
        ],
        [
         "Shaad Ali",
         81019031
        ],
        [
         "Mahmoud al Massad",
         80148070
        ],
        [
         "Yesim Ustaoglu",
         80155812
        ],
        [
         "Jan Suter",
         80183198
        ],
        [
         "Lucy Cohen",
         80158844
        ],
        [
         "McG",
         80164456
        ],
        [
         "Noah Baumbach",
         80174434
        ],
        [
         "Christopher Guest",
         80075476
        ],
        [
         "Gareth Evans",
         80158148
        ],
        [
         "Paul Urkijo Alijo",
         80239565
        ],
        [
         "Johanna Demetrakas",
         80216844
        ],
        [
         "Padraic McKinley",
         80187722
        ],
        [
         "Rizal Mantovani",
         81021082
        ],
        [
         "Kief Davidson",
         80191047
        ],
        [
         "Sara Colangelo",
         80240972
        ],
        [
         "Mahmoud Sabbagh",
         80103282
        ],
        [
         "Borja Cobeaga",
         80134526
        ],
        [
         "Jonathan Demme",
         80127559
        ],
        [
         "Leo Riley",
         80005501
        ],
        [
         "Hakan Algül",
         81132441
        ],
        [
         "Vince Gilligan",
         81078819
        ],
        [
         "Brad Anderson",
         80223997
        ],
        [
         "Bolanle Austen-Peters",
         81191666
        ],
        [
         "Sion Sono",
         81133621
        ],
        [
         "Dennis Rovira van Boekholt",
         81038598
        ],
        [
         "Angga Dwimas Sasongko",
         81016322
        ],
        [
         "Mohamed Diab",
         80147323
        ],
        [
         "Naoto Amazutsumi",
         81171871
        ],
        [
         "Paul Greengrass",
         80210932
        ],
        [
         "Rusty Cundieff",
         81015317
        ],
        [
         "Jay Karas",
         80205204
        ],
        [
         "Alastair Fothergill",
         70235731
        ],
        [
         "James Yukich",
         80003481
        ],
        [
         "Maciej Dejczer",
         81168338
        ],
        [
         "Rusty Nixon",
         81103033
        ],
        [
         "Lee Tamahori",
         60002273
        ],
        [
         "Richard Rich",
         70297962
        ],
        [
         "Michael Bay",
         269880
        ],
        [
         "Michael Bay",
         60029167
        ],
        [
         "Ted Demme",
         60020891
        ],
        [
         "Bernard Rose",
         347365
        ],
        [
         "McG",
         60003242
        ],
        [
         "McG",
         60027726
        ],
        [
         "Lee Yoon-jung",
         81166946
        ],
        [
         "Paul Haggis",
         70023961
        ],
        [
         "Troy Miller",
         60027716
        ],
        [
         "Dave Green",
         70287957
        ],
        [
         "Wojciech Marczewski",
         81168345
        ],
        [
         "Andrzej Bartkowiak",
         60020892
        ],
        [
         "Roy Poortmans",
         81164752
        ],
        [
         "Brian Robbins",
         60028097
        ],
        [
         "Mark Helfrich",
         70065112
        ],
        [
         "Jon Hurwitz",
         70083108
        ],
        [
         "Bille Woodruff",
         70184050
        ],
        [
         "Janusz Majewski",
         81168347
        ],
        [
         "Alex Merkin",
         81003460
        ],
        [
         "Janusz Majewski",
         81168348
        ],
        [
         "Alex Proyas",
         70095135
        ],
        [
         "Vrinda Samartha",
         81191254
        ],
        [
         "Jacek Koprowicz",
         81168340
        ],
        [
         "Barry Sonnenfeld",
         60023597
        ],
        [
         "Nicholaus Goossen",
         81002876
        ],
        [
         "Scott Hicks",
         70058017
        ],
        [
         "Steven Soderbergh",
         70058024
        ],
        [
         "Steven Soderbergh",
         70011211
        ],
        [
         "Morgan Spurlock",
         70271599
        ],
        [
         "Martin Scorsese",
         70020699
        ],
        [
         "Stig Bergqvist",
         60003540
        ],
        [
         "Wes Craven",
         1181550
        ],
        [
         "Asif Kapadia",
         70170051
        ],
        [
         "Robert Rodriguez",
         70021630
        ],
        [
         "Dorian Fernández-Moris",
         81043753
        ],
        [
         "Jeannot Szwarc",
         60001761
        ],
        [
         "Bryan Singer",
         70041963
        ],
        [
         "Ash Brannon",
         70058025
        ],
        [
         "Andy Tennant",
         70128696
        ],
        [
         "Rob Reiner",
         70077542
        ],
        [
         "Marek Piwowski",
         81168342
        ],
        [
         "Kunle Afolayan",
         81165772
        ],
        [
         "Brian Levant",
         510854
        ],
        [
         "Brian Levant",
         60000921
        ],
        [
         "Stanisław Różewicz",
         81168343
        ],
        [
         "Gabriele Muccino",
         70044605
        ],
        [
         "Igor Kovalyov",
         18021979
        ],
        [
         "Krzysztof Zanussi",
         81168344
        ],
        [
         "Noah Baumbach",
         70020750
        ],
        [
         "Robert Schwentke",
         70105596
        ],
        [
         "Danny Boyle",
         60037022
        ],
        [
         "Wolfgang Petersen",
         60034571
        ],
        [
         "Paul Feig",
         70053456
        ],
        [
         "Alex Smith",
         80173150
        ],
        [
         "Antoni Krauze",
         81168341
        ],
        [
         "Stanisław Różewicz",
         81168346
        ],
        [
         "Simranjit Singh Hundal",
         80137461
        ],
        [
         "Justin G. Dyck",
         81012857
        ],
        [
         "Ram Gopal Varma",
         70123116
        ],
        [
         "N. Linguswamy",
         80190101
        ],
        [
         "Deep Joshi",
         81024712
        ],
        [
         "Antoine Fuqua",
         70112494
        ],
        [
         "John Curran",
         80215922
        ],
        [
         "Rakeysh Omprakash Mehra",
         70113306
        ],
        [
         "Anurag Kashyap",
         70113305
        ],
        [
         "Manjeet Maan",
         80032472
        ],
        [
         "Shagufta Rafique",
         81024703
        ],
        [
         "Shakun Batra",
         70181653
        ],
        [
         "Andrew Renzi",
         80048200
        ],
        [
         "Tinu Pappachan",
         81025884
        ],
        [
         "Amitoj Mann",
         80032474
        ],
        [
         "Amarpreet G S Chabbra",
         80032476
        ],
        [
         "Paresh Mokashi",
         70127589
        ],
        [
         "Anurag Basu",
         80104130
        ],
        [
         "Rohit Jugraj",
         80032473
        ],
        [
         "Ashutosh Gowariker",
         70090035
        ],
        [
         "Atharv Baluja",
         81024713
        ],
        [
         "Vishal Bhardwaj",
         70117268
        ],
        [
         "Leslie Small",
         70211216
        ],
        [
         "Shannon Hartman",
         70140322
        ],
        [
         "Rohit Jugraj",
         81024696
        ],
        [
         "Shashanka Ghosh",
         70303428
        ],
        [
         "Steve Greenwood",
         81012407
        ],
        [
         "Puneet Sira",
         70125882
        ],
        [
         "Aziz Mirza",
         70101039
        ],
        [
         "Renzil D'Silva",
         70123121
        ],
        [
         "Smeep Kang",
         80152182
        ],
        [
         "Sameer Sharma",
         70229042
        ],
        [
         "Chandan Arora",
         70042756
        ],
        [
         "Baljit Singh Deo",
         80187618
        ],
        [
         "Amitoj Mann",
         81024704
        ],
        [
         "Jennifer Peedom",
         80221498
        ],
        [
         "Mysskin",
         70229047
        ],
        [
         "Rajan Madhav",
         70229555
        ],
        [
         "Raaghav Dar",
         70213515
        ],
        [
         "Ishi Rudell",
         81018563
        ],
        [
         "Ishi Rudell",
         81018565
        ],
        [
         "David Lee Miller",
         70114948
        ],
        [
         "Thiru",
         80190103
        ],
        [
         "Amit Saxena",
         81024729
        ],
        [
         "Pankaj Batra",
         80032477
        ],
        [
         "Jaivi Dhanda",
         81024711
        ],
        [
         "Suman Ghosh",
         81025908
        ],
        [
         "Kabir Khan",
         70303495
        ],
        [
         "Akshay Akkineni",
         70303429
        ],
        [
         "Nidhi Sharma",
         80084768
        ],
        [
         "Mastan Alibhai Burmawalla",
         70096752
        ],
        [
         "Abbas Alibhai Burmawalla",
         70229046
        ],
        [
         "Vipin Parashar",
         80084767
        ],
        [
         "Vikram Pradhan",
         81024701
        ],
        [
         "Vijay",
         70229048
        ],
        [
         "Eduardo Chauvet",
         80995576
        ],
        [
         "Sundar C.",
         70292836
        ],
        [
         "Sartaj Singh Pannu",
         80141767
        ],
        [
         "Vikramaditya Motwane",
         70139542
        ],
        [
         "James McTeigue",
         70039175
        ],
        [
         "N. Linguswamy",
         70225597
        ],
        [
         "Ayaan Mukherji",
         70123119
        ],
        [
         "Sidharth Malhotra",
         70150437
        ],
        [
         "Saket Behl",
         80084667
        ],
        [
         "Kevin Smith",
         70099118
        ],
        [
         "Anjum Shahzad",
         81024705
        ],
        [
         "Geun-hyun Cho",
         80198771
        ],
        [
         "Christian Desmares",
         80062096
        ],
        [
         "Kyran Kelly",
         70291096
        ],
        [
         "Adam Wood",
         70130483
        ],
        [
         "Zeke Norton",
         80031038
        ],
        [
         "Karen J. Lloyd",
         80065930
        ],
        [
         "Andrew Tan",
         80112370
        ],
        [
         "William Lau",
         70165189
        ],
        [
         "Ezekiel Norton",
         70197459
        ],
        [
         "Conrad Helten",
         80095193
        ],
        [
         "Ezekiel Norton",
         70246439
        ],
        [
         "Conrad Helten",
         80158155
        ],
        [
         "Alê Abreu",
         80063617
        ],
        [
         "Carlos Therón",
         80202503
        ],
        [
         "Francesco Carrozzini",
         80147971
        ],
        [
         "Noah Baumbach",
         70257412
        ],
        [
         "Vlad Yudin",
         80172937
        ],
        [
         "Karen J. Lloyd",
         80118280
        ],
        [
         "Benjamin Turner",
         80135360
        ],
        [
         "Steve Race",
         70286355
        ],
        [
         "Brett Harvey",
         80150246
        ],
        [
         "Roger Allers",
         80017272
        ],
        [
         "Keiichi Hara",
         80075828
        ],
        [
         "William Lau",
         80095089
        ],
        [
         "Audu Paden",
         80208176
        ],
        [
         "Claude Barras",
         80116741
        ],
        [
         "Jean-Loup Felicioli",
         80063290
        ],
        [
         "Toa Fraser",
         80162195
        ],
        [
         "Vibeke Idsøe",
         80106036
        ],
        [
         "Chan-sang Lim",
         80198687
        ],
        [
         "Kyoko Miyake",
         80163353
        ],
        [
         "Carlos Algara",
         80162246
        ],
        [
         "Stephen Donnelly",
         80112371
        ],
        [
         "Mikhil Musale",
         80208413
        ],
        [
         "Riccardo Pilizzeri",
         80128277
        ],
        [
         "Guilherme Fontes",
         80094453
        ],
        [
         "Aamir Bashir",
         70153553
        ],
        [
         "Alejandro Fernández Almendras",
         80098709
        ],
        [
         "Álex de la Iglesia",
         80092849
        ],
        [
         "Ishi Rudell",
         80107372
        ],
        [
         "David Schalko",
         80138584
        ],
        [
         "Pieter Kuijpers",
         80106138
        ],
        [
         "Prashant Nair",
         80038288
        ],
        [
         "Paul Taublieb",
         80109089
        ],
        [
         "Riccardo Milani",
         80061797
        ],
        [
         "Larry Elikann",
         70206821
        ],
        [
         "Robert Markowitz",
         70206816
        ],
        [
         "Eric Laneuville",
         60022914
        ],
        [
         "Joel Oliansky",
         70206818
        ],
        [
         "Roy Campanella II",
         70206819
        ],
        [
         "Arthur Allan Seidelman",
         70206822
        ],
        [
         "John Herzfeld",
         70206820
        ],
        [
         "Buzz Kulik",
         70206823
        ],
        [
         "Richard Michaels",
         70206824
        ],
        [
         "Linda Otto",
         70206825
        ],
        [
         "Roger Young",
         70206826
        ],
        [
         "Vincent Kok",
         81029831
        ],
        [
         "Fellipe Barbosa",
         80194289
        ],
        [
         "Christian Zübert",
         80191219
        ],
        [
         "David Mackenzie",
         80190859
        ],
        [
         "David Palmer",
         70243445
        ],
        [
         "Luke Snellin",
         80201542
        ],
        [
         "Xavier Durringer",
         81079723
        ],
        [
         "Jack C. Newell",
         81003058
        ],
        [
         "Cecilia Atán",
         80236993
        ],
        [
         "Gus Van Sant",
         80057565
        ],
        [
         "Saratswadee Wongsomphet",
         81002596
        ],
        [
         "Kirati Nakintanon",
         81002597
        ],
        [
         "Antongiulio Panizzi",
         80148275
        ],
        [
         "Pawan Kumar",
         80127886
        ],
        [
         "Patricia Rozema",
         80080491
        ],
        [
         "Trey Edward Shults",
         80046777
        ],
        [
         "Christian Charles",
         60024976
        ],
        [
         "Bronwen Hughes",
         80173002
        ],
        [
         "Orlando von Einsiedel",
         80009431
        ],
        [
         "Phillip Youmans",
         81092045
        ],
        [
         "Zhang Yimou",
         81034600
        ],
        [
         "John Ridley",
         80183783
        ],
        [
         "Lucas Margutti",
         81209203
        ],
        [
         "Neal Brennan",
         81058497
        ],
        [
         "Azazel Jacobs",
         80167628
        ],
        [
         "Jung Ji-woo",
         81165326
        ],
        [
         "Leslie Small",
         81053961
        ],
        [
         "Tejas Prabha Vijay Deoskar",
         81029848
        ],
        [
         "Anees Bazmee",
         80204460
        ],
        [
         "Jim Fall",
         70209267
        ],
        [
         "Marita Grabiak",
         70306305
        ],
        [
         "Jason Priestley",
         70262831
        ],
        [
         "Neill Blomkamp",
         70113005
        ],
        [
         "Noah Baumbach",
         70052286
        ],
        [
         "Matt D'Avella",
         80114460
        ],
        [
         "Parthiban",
         81206389
        ],
        [
         "Morgan Matthews",
         80196135
        ],
        [
         "Marcus Raboy",
         80117461
        ],
        [
         "Kief Davidson",
         80117533
        ],
        [
         "Luis Ara",
         81197050
        ],
        [
         "Abhishek Sharma",
         81213894
        ],
        [
         "John Schultz",
         80238204
        ],
        [
         "Damien O’Connor",
         80230507
        ],
        [
         "Joseduardo Giordano",
         80990725
        ],
        [
         "Rudy Soedjarwo",
         81016327
        ],
        [
         "Alice Rohrwacher",
         81004245
        ],
        [
         "Kabir Bhatia",
         81033200
        ],
        [
         "Nandita Das",
         81039383
        ],
        [
         "Leena Yadav",
         81018377
        ],
        [
         "Romain Gavras",
         81021528
        ],
        [
         "Sebastián Hofmann",
         80991809
        ],
        [
         "Heidi Brandenburg",
         80097475
        ],
        [
         "John Luessenhop",
         70117294
        ],
        [
         "Mike Disa",
         70117582
        ],
        [
         "Pali Yahya",
         80163294
        ],
        [
         "Mati Diop",
         81082007
        ],
        [
         "Moses Inwang",
         81172754
        ],
        [
         "Jérémy Clapin",
         81120982
        ],
        [
         "Mandla Dube",
         81227195
        ],
        [
         "Mike Ezuruonye",
         81172841
        ],
        [
         "Cheta Chukwu",
         81172899
        ],
        [
         "Roger Russell",
         81172908
        ],
        [
         "Toka McBaror",
         81172901
        ],
        [
         "Leslie Small",
         81033086
        ],
        [
         "Frank Oz",
         60020826
        ],
        [
         "Lu Yang",
         80226242
        ],
        [
         "Edward Zwick",
         70101696
        ],
        [
         "Basava Shankar Eeday",
         81194544
        ],
        [
         "Prakash Satam",
         80995081
        ],
        [
         "Elle-Máijá Tailfeathers",
         81177504
        ],
        [
         "Martin Scorsese",
         80175798
        ],
        [
         "Dante Lam",
         80239961
        ],
        [
         "Shreyas Talpade",
         80219019
        ],
        [
         "Seth Barrish",
         81062293
        ],
        [
         "Steve Ball",
         80235524
        ],
        [
         "Sanjiv Jaiswal",
         81215481
        ],
        [
         "Marta Jaenes",
         81005044
        ],
        [
         "Daniel Raim",
         80147529
        ],
        [
         "Denny Lu",
         81018860
        ],
        [
         "Luis Ara",
         80217495
        ],
        [
         "María Jose Cuevas",
         80141787
        ],
        [
         "Oz Rodriguez",
         80049871
        ],
        [
         "Aleksandr Chernyaev",
         81218079
        ],
        [
         "Robert Altman",
         60028294
        ],
        [
         "Ric Roman Waugh",
         80125671
        ],
        [
         "Cary Murnion",
         80174220
        ],
        [
         "Jon Alpert",
         80126449
        ],
        [
         "Ibai Abad",
         80103512
        ],
        [
         "Charles A. Nichols",
         60020948
        ],
        [
         "David Ayer",
         70235384
        ],
        [
         "John Irvin",
         569355
        ],
        [
         "Simon Wells",
         60022645
        ],
        [
         "David Ayer",
         80225915
        ],
        [
         "Julio Soto Gurpide",
         80196379
        ],
        [
         "Julien Abraham",
         80198859
        ],
        [
         "Tsutomu Mizushima",
         80159876
        ],
        [
         "Nate Adams",
         81218074
        ],
        [
         "Clay Kaytis",
         80199682
        ],
        [
         "Barbra Streisand",
         80203522
        ],
        [
         "Qaushiq Mukherjee",
         80107037
        ],
        [
         "Chris Sparling",
         80077402
        ],
        [
         "Qaushiq Mukherjee",
         80107219
        ],
        [
         "Kathryn Bigelow",
         60023606
        ],
        [
         "Monika Mitchell",
         81026188
        ],
        [
         "Noah Baumbach",
         80080109
        ],
        [
         "Fernando Colomo",
         80988835
        ],
        [
         "Josh Wakely",
         80208104
        ],
        [
         "Troy Miller",
         80134827
        ],
        [
         "Jacob Kornbluth",
         80127558
        ],
        [
         "Jon Gunn",
         80158084
        ],
        [
         "Jan Suter",
         80124725
        ],
        [
         "Anne Fontaine",
         70267398
        ],
        [
         "Joshua Caldwell",
         80108983
        ],
        [
         "Mike Judge",
         292118
        ],
        [
         "Bruce W. Smith",
         70003046
        ],
        [
         "Eva Orner",
         80221584
        ],
        [
         "Craig Brewer",
         70053833
        ],
        [
         "Àlex Pastor",
         70122722
        ],
        [
         "KVR Mahendra",
         81217738
        ],
        [
         "Andrew Jenks",
         80081990
        ],
        [
         "Ivan Reitman",
         60004471
        ],
        [
         "John Schlesinger",
         60022413
        ],
        [
         "Akiva Schaffer",
         70058022
        ],
        [
         "Andy Tennant",
         60022502
        ],
        [
         "Juan Carlos Rulfo",
         80244683
        ],
        [
         "Christian Ditter",
         80028357
        ],
        [
         "Raj R",
         81217739
        ],
        [
         "Sergio Leone",
         60031884
        ],
        [
         "Jim Field Smith",
         70117289
        ],
        [
         "Bruce McCulloch",
         28631236
        ],
        [
         "Steven Spielberg",
         70121502
        ],
        [
         "William Brent Bell",
         70215455
        ],
        [
         "Hugh WIlson",
         506464
        ],
        [
         "Sam Raimi",
         60003508
        ],
        [
         "Neal Brennan",
         70105132
        ],
        [
         "Robert Aldrich",
         60004083
        ],
        [
         "Marco Schnabel",
         70087538
        ],
        [
         "Francis Ford Coppola",
         1181661
        ],
        [
         "Lasse Hallström",
         60011552
        ],
        [
         "Oliver Stone",
         70044693
        ],
        [
         "Jason Reitman",
         70173046
        ],
        [
         "Raja Gosnell",
         70039187
        ],
        [
         "David Fincher",
         70044686
        ],
        [
         "Robert Vince",
         80989043
        ],
        [
         "Rocky Soraya",
         81021831
        ],
        [
         "Raditya Dika",
         81021832
        ],
        [
         "David Paul Meyer",
         80239932
        ],
        [
         "Savage Steve Holland",
         81214223
        ],
        [
         "Savage Steve Holland",
         80027560
        ],
        [
         "Troy Nixey",
         70135899
        ],
        [
         "Scott McAboy",
         81215437
        ],
        [
         "Raymie Muzquiz",
         81215438
        ],
        [
         "Stephen Herek",
         81214187
        ],
        [
         "Joe Menendez",
         80160987
        ],
        [
         "Vince Marcello",
         81215439
        ],
        [
         "David R. Ellis",
         70178618
        ],
        [
         "Eric Bross",
         70292700
        ],
        [
         "Will Eisenberg",
         81214214
        ],
        [
         "Matheus Souza",
         81020531
        ],
        [
         "Sara Dosa",
         80191051
        ],
        [
         "Bradley Walsh",
         80242446
        ],
        [
         "Orson Welles",
         80085566
        ],
        [
         "Morgan Neville",
         80124722
        ],
        [
         "Benjamin Ross",
         70243696
        ],
        [
         "Stephen Hopkins",
         70243692
        ],
        [
         "Steve Paley",
         81073633
        ],
        [
         "Shannon Hartman",
         70230138
        ],
        [
         "Leslie Iwerks",
         70083532
        ],
        [
         "Na Hyeon",
         80177865
        ],
        [
         "Jerry Seinfeld",
         80117534
        ],
        [
         "Houda Benyamina",
         80115031
        ],
        [
         "Jerry Rothwell",
         80029708
        ],
        [
         "Kristin Hanggi",
         80079470
        ],
        [
         "Joe Dante",
         70127998
        ],
        [
         "Alex Zamm",
         80160759
        ],
        [
         "Chris Smith",
         80209608
        ],
        [
         "Tilak Shetty",
         80182622
        ],
        [
         "Dee Rees",
         80175694
        ],
        [
         "Glenn Miller",
         80016471
        ],
        [
         "Nicolas Winding Refn",
         70189289
        ],
        [
         "Timo Vuorensola",
         81132624
        ],
        [
         "Robb Dipple",
         80013267
        ],
        [
         "Sarah Gavron",
         80046819
        ],
        [
         "Eli Roth",
         70293315
        ],
        [
         "Daniel Goldhaber",
         80177400
        ],
        [
         "Asri Bendacha",
         81037898
        ],
        [
         "Fred Cavayé",
         81004099
        ],
        [
         "Joel Coen",
         80200267
        ],
        [
         "Shane Acker",
         70113538
        ],
        [
         "Wash Westmoreland",
         80244457
        ],
        [
         "Alessandro Angulo",
         81196441
        ],
        [
         "Mauro Scandolari",
         81162089
        ],
        [
         "Arjun Jandyala",
         81217737
        ],
        [
         "Shashanka Ghosh",
         81076114
        ],
        [
         "Naoko Yamada",
         80093820
        ],
        [
         "Sergio Pablos",
         80183187
        ],
        [
         "Anand Tucker",
         70124331
        ],
        [
         "Valli Bindana",
         81217749
        ],
        [
         "Nate Adams",
         80158800
        ],
        [
         "Makoto Shinkai",
         70291121
        ],
        [
         "V C Abhilash",
         81035105
        ],
        [
         "Justin G. Dyck",
         80224054
        ],
        [
         "Nila Madhab Panda",
         81038832
        ],
        [
         "Sameer Vidwans",
         81035109
        ],
        [
         "Timo Tjahjanto",
         81030893
        ],
        [
         "Nakul Singh Sawhney",
         81035103
        ],
        [
         "Nishanth Ravindaran",
         81035104
        ],
        [
         "Bill Guttentag",
         80075824
        ],
        [
         "Gajendra Ahire",
         81035108
        ],
        [
         "Swapna Waghmare Joshi",
         81035107
        ],
        [
         "Raymond McGrath",
         81028556
        ],
        [
         "Adele K. Thomas",
         81028574
        ],
        [
         "Richard Bailey",
         81028560
        ],
        [
         "Julien Leclercq",
         80196044
        ],
        [
         "Aitor Arregi",
         80122177
        ],
        [
         "Remo D'Souza",
         80136925
        ],
        [
         "Radhika Rao",
         70040076
        ],
        [
         "Volker Weicker",
         80117532
        ],
        [
         "Manjeet Singh",
         70260514
        ],
        [
         "Oliver Stone",
         80127995
        ],
        [
         "Nick Mead",
         81156627
        ],
        [
         "Gautier & Leduc",
         81096745
        ],
        [
         "Marcus Raboy",
         80191804
        ],
        [
         "Timothy Woodward Jr.",
         80191109
        ],
        [
         "Lance Bangs",
         80004534
        ],
        [
         "Matt Piedmont",
         70213466
        ],
        [
         "Erik Matti",
         80222787
        ],
        [
         "Christopher Guest",
         80244848
        ],
        [
         "John Scheinfeld",
         80147403
        ],
        [
         "Rhys Thomas",
         80058424
        ],
        [
         "Christopher Storer",
         81078466
        ],
        [
         "Jeremy Saulnier",
         80060034
        ],
        [
         "Jennifer Baichwal",
         80205085
        ],
        [
         "Tom Ford",
         70117297
        ],
        [
         "J.M. Berrios",
         81152923
        ],
        [
         "Josh Aronson",
         81171862
        ],
        [
         "Alain Desrochers",
         80131563
        ],
        [
         "Estela Renner",
         80107990
        ],
        [
         "Jeff Wadlow",
         80091658
        ],
        [
         "Laurent Cantet",
         80237420
        ],
        [
         "Shannon Hartman",
         70174733
        ],
        [
         "Raúl Campos",
         80183088
        ],
        [
         "Natalia Valdebenito",
         80198018
        ],
        [
         "Marcelo Galvão",
         80127990
        ],
        [
         "Lorene Machado",
         80134279
        ],
        [
         "Richard Donner",
         70044870
        ],
        [
         "Kevin Reynolds",
         26597413
        ],
        [
         "Marina Seresesky",
         80245356
        ],
        [
         "Tony Kaye",
         18002692
        ],
        [
         "Kenny Leon",
         81024100
        ],
        [
         "Peter Segal",
         60027583
        ],
        [
         "David Salzberg",
         80216003
        ],
        [
         "Daniel Mann",
         60002033
        ],
        [
         "Richard Brooks",
         70046968
        ],
        [
         "Michael Kampa",
         81154982
        ],
        [
         "Harvey Lowry",
         81063129
        ],
        [
         "James Dearden",
         81074542
        ],
        [
         "Jack Starrett",
         382650
        ],
        [
         "Les Mayfield",
         70044705
        ],
        [
         "David Lean",
         449931
        ],
        [
         "Tarun Mansukhani",
         81189912
        ],
        [
         "Jennifer Westcott",
         80215046
        ],
        [
         "Robert Clouse",
         60036838
        ],
        [
         "Valeria Golino",
         81179693
        ],
        [
         "Stuart Baird",
         485218
        ],
        [
         "Gregory Hoblit",
         1192866
        ],
        [
         "Terry Gilliam",
         11819434
        ],
        [
         "Drea Cooper",
         81050375
        ],
        [
         "Fred M. Wilcox",
         516788
        ],
        [
         "David Silberg",
         70048968
        ],
        [
         "Vincente Minnelli",
         542137
        ],
        [
         "Robert Altman",
         60021796
        ],
        [
         "Mathieu Kassovitz",
         60031247
        ],
        [
         "Randal Kleiser",
         60000577
        ],
        [
         "Ernie Barbarash",
         80231468
        ],
        [
         "Michael A. Nickles",
         81083786
        ],
        [
         "Ken Marino",
         80153894
        ],
        [
         "Lionel C. Martin",
         1179333
        ],
        [
         "Clint Eastwood",
         70118779
        ],
        [
         "Joe Boyd",
         653673
        ],
        [
         "Jeffrey W. Byrd",
         70020947
        ],
        [
         "Scott Stewart",
         70117305
        ],
        [
         "Alfonso Arau",
         701346
        ],
        [
         "Ellen Weissbrod",
         70111489
        ],
        [
         "Michael Anderson",
         709163
        ],
        [
         "Stanley Kubrick",
         709380
        ],
        [
         "Theodore Witcher",
         1150871
        ],
        [
         "Callie Khouri",
         70082264
        ],
        [
         "Brett Ratner",
         1179583
        ],
        [
         "Gil Kenan",
         70044595
        ],
        [
         "Lewis Milestone",
         60011729
        ],
        [
         "Jared Hess",
         70044883
        ],
        [
         "Gene Quintano",
         22497725
        ],
        [
         "Lewis Milestone",
         60021590
        ],
        [
         "Charles Stone III",
         60023638
        ],
        [
         "Nicholas Ray",
         70031792
        ],
        [
         "Sam Mendes",
         70100383
        ],
        [
         "Roman Polanski",
         60002403
        ],
        [
         "John Dahl",
         17236920
        ],
        [
         "Stanley Tong",
         923574
        ],
        [
         "Blayne Weaver",
         81152930
        ],
        [
         "Billy Bob Thornton",
         973861
        ],
        [
         "Sam O'Steen",
         70058796
        ],
        [
         "Sam Raimi",
         70047101
        ],
        [
         "David Fairhead",
         81189396
        ],
        [
         "Adam McKay",
         70093991
        ],
        [
         "Gordon Parks",
         60033247
        ],
        [
         "Neil Jordan",
         70060000
        ],
        [
         "John Stephenson",
         70295067
        ],
        [
         "Norman Jewison",
         70031779
        ],
        [
         "David Fincher",
         1178866
        ],
        [
         "John Dahl",
         60033312
        ],
        [
         "Manolo Caro",
         81030409
        ],
        [
         "David Michôd",
         80182016
        ],
        [
         "Tony Scott",
         684847
        ],
        [
         "Marco Bonfanti",
         81150305
        ],
        [
         "Lilly Wachowski",
         20557937
        ],
        [
         "Lilly Wachowski",
         60027695
        ],
        [
         "Lilly Wachowski",
         60031303
        ],
        [
         "Everardo González",
         81170692
        ],
        [
         "Alan J. Pakula",
         848915
        ],
        [
         "Kevin Donovan",
         60022980
        ],
        [
         "Charlotte Zwerin",
         60003961
        ],
        [
         "Pete Travis",
         70060005
        ],
        [
         "Nick Moore",
         70084791
        ],
        [
         "Rodrigo Guardiola",
         81170694
        ],
        [
         "Ruben Fleischer",
         70123542
        ],
        [
         "Neeraj Pandey",
         70107499
        ],
        [
         "Indrajit Nattoji",
         70123117
        ],
        [
         "Raj Kumar Gupta",
         70100644
        ],
        [
         "Remo D'Souza",
         80057750
        ],
        [
         "Remo D'Souza",
         70229045
        ],
        [
         "Arnab Chaudhuri",
         70139073
        ],
        [
         "Rana Ranbir",
         81024731
        ],
        [
         "Anurag Basu",
         70219525
        ],
        [
         "David Zucker",
         16914787
        ],
        [
         "Momoko Kamiya",
         81020543
        ],
        [
         "Momoko Kamiya",
         81020544
        ],
        [
         "Harry Baweja",
         80039595
        ],
        [
         "Ken Ghosh",
         70123120
        ],
        [
         "Justin G. Dyck",
         80224055
        ],
        [
         "Priyadarshan",
         70052249
        ],
        [
         "Vivek Agnihotri",
         70084775
        ],
        [
         "Umesh Shukla",
         70114588
        ],
        [
         "Habib Faisal",
         70185139
        ],
        [
         "Bobby Roth",
         80232501
        ],
        [
         "Halder Gomes",
         80210147
        ],
        [
         "Tony Zierra",
         80224606
        ],
        [
         "Amitoj Mann",
         80058851
        ],
        [
         "Raj Kumar Gupta",
         70219528
        ],
        [
         "B. Unnikrishnan",
         70241088
        ],
        [
         "Milan Luthria",
         70068799
        ],
        [
         "Madhur Bhandarkar",
         70229044
        ],
        [
         "Sajid Khan",
         70254349
        ],
        [
         "Saji Surendran",
         70254342
        ],
        [
         "Ksshitij Chaudhary",
         80084838
        ],
        [
         "Abhishek Kapoor",
         70254346
        ],
        [
         "Sundar C.",
         70229040
        ],
        [
         "Gary Binkow",
         70056663
        ],
        [
         "Nikhil Advani",
         80067906
        ],
        [
         "Anurag Basu",
         70071832
        ],
        [
         "Lance Bangs",
         70273401
        ],
        [
         "Chad Hartigan",
         80097390
        ],
        [
         "Nishikant Kamat",
         70106268
        ],
        [
         "Navinder Pal Singh",
         80039594
        ],
        [
         "Raj Kumar Gupta",
         70139076
        ],
        [
         "Dibakar Banerjee",
         70109758
        ],
        [
         "Tigmanshu Dhulia",
         70123126
        ],
        [
         "Kunal Deshmukh",
         70303431
        ],
        [
         "Prakash Jha",
         70254351
        ],
        [
         "R. Kannan",
         70275076
        ],
        [
         "Gaurav Narayanan",
         80189997
        ],
        [
         "Kevin Layne",
         81015100
        ],
        [
         "Jon J. Whelan",
         80076581
        ],
        [
         "Leanne Gater",
         81025404
        ],
        [
         "Jennifer M. Kroot",
         80182949
        ],
        [
         "Jay Russell",
         70060017
        ],
        [
         "Wally Pfister",
         70266675
        ],
        [
         "Akin Omotoso",
         80155792
        ],
        [
         "Shyam Benegal",
         70108590
        ],
        [
         "Satyajit Bhatkal",
         70185141
        ],
        [
         "Bharat Jain",
         80201826
        ],
        [
         "Alo Sarkar",
         80158388
        ],
        [
         "Rajeev Chaudhari",
         80203778
        ],
        [
         "Vishal Mishra",
         80201820
        ],
        [
         "Iñaki Dorronsoro",
         80103312
        ],
        [
         "Takuya Inaba",
         80205563
        ],
        [
         "Ali Bin Matar",
         80202605
        ],
        [
         "Daniel Ablin",
         80208211
        ],
        [
         "Buta Singh",
         80203791
        ],
        [
         "Abbas Alibhai Burmawalla",
         80079229
        ],
        [
         "Jami",
         80080145
        ],
        [
         "Ali Samadi Ahadi",
         80157797
        ],
        [
         "Anurag Singh",
         80032364
        ],
        [
         "Ashok Nanda",
         80203786
        ],
        [
         "Navaniat Singh",
         80032097
        ],
        [
         "Shweta Basu Prasad",
         80216268
        ],
        [
         "Jesse V. Johnson",
         80156684
        ],
        [
         "D Ho",
         80174727
        ],
        [
         "Jitender Pawar",
         80201827
        ],
        [
         "Erik Canuel",
         80179288
        ],
        [
         "Param Gill",
         80203780
        ],
        [
         "Jack Zagha Kababie",
         80216215
        ],
        [
         "Ksshitij Chaudhary",
         80211371
        ],
        [
         "Richard Mears",
         80144358
        ],
        [
         "Heidi Ewing",
         80097360
        ],
        [
         "Moto Sakakibara",
         80006168
        ],
        [
         "Emilio Martínez Lázaro",
         80093212
        ],
        [
         "Craig Monahan",
         60000545
        ],
        [
         "Gillian Armstrong",
         80025702
        ],
        [
         "Jon Reiner",
         80128692
        ],
        [
         "John Duigan",
         80156369
        ],
        [
         "Mu Chu",
         1145882
        ],
        [
         "Henry Sarwer-Foner",
         70288423
        ],
        [
         "Will Lovelace",
         70290568
        ],
        [
         "Jim Monaco",
         70141644
        ],
        [
         "Sherif Ismail",
         81035836
        ],
        [
         "Dava Whisenant",
         81044103
        ],
        [
         "Yen Cheng-kuo",
         81072917
        ],
        [
         "James Wan",
         70142542
        ],
        [
         "Karim El Sobky",
         81035855
        ],
        [
         "Mohamed Samy",
         81035845
        ],
        [
         "Sameh Abdulaziz",
         81035856
        ],
        [
         "Husam El-Gohari",
         81035857
        ],
        [
         "Liz Plonka",
         80134780
        ],
        [
         "Sam Patton",
         80221308
        ],
        [
         "Bobcat Goldthwait",
         80213657
        ],
        [
         "Rupert Jones",
         80217133
        ],
        [
         "Sonia Kennebeck",
         80106754
        ],
        [
         "David Pablos",
         80059440
        ],
        [
         "Maya Gallus",
         81074375
        ],
        [
         "Cavi Borges",
         80116761
        ],
        [
         "Dani Levy",
         70118125
        ],
        [
         "Alma Har'el",
         80108613
        ],
        [
         "Alex Parkinson",
         80215139
        ],
        [
         "Kevin Peeples",
         81016592
        ],
        [
         "Frant Gwo",
         81067760
        ],
        [
         "Steven Spielberg",
         70172928
        ],
        [
         "Jay Karas",
         80101493
        ],
        [
         "Harrison Smith",
         80235472
        ],
        [
         "Sonny Mallhi",
         80177300
        ],
        [
         "Robert Vince",
         80189866
        ],
        [
         "Jeff Garlin",
         80106793
        ],
        [
         "Jan Suter",
         80124727
        ],
        [
         "Michael Barnett",
         80117263
        ],
        [
         "Andrew Nackman",
         80087897
        ],
        [
         "Ole Bornedal",
         70084180
        ],
        [
         "Andrew Niccol",
         80195964
        ],
        [
         "Isabelle Nanty",
         80213024
        ],
        [
         "Rob Epstein",
         80210691
        ],
        [
         "Antonio Morabito",
         80244782
        ],
        [
         "Rene Bueno",
         80144280
        ],
        [
         "John Woo",
         80209866
        ],
        [
         "Nicolás López",
         80241666
        ],
        [
         "Patricia Ferreira",
         80167648
        ],
        [
         "Nahnatchka Khan",
         80202874
        ],
        [
         "Sachin Yardi",
         70109249
        ],
        [
         "Sachin Yardi",
         80993095
        ],
        [
         "Partho Mitra",
         70045644
        ],
        [
         "Santram Varma",
         70025612
        ],
        [
         "Rakeysh Omprakash Mehra",
         80237006
        ],
        [
         "Paul Spurrier",
         80160033
        ],
        [
         "Han Han",
         81111849
        ],
        [
         "Pawan Kripalani",
         80083930
        ],
        [
         "Bhushan Patel",
         80083752
        ],
        [
         "Raj Nidimoru",
         70185023
        ],
        [
         "Alexandra Dean",
         80189827
        ],
        [
         "Cosima Spender",
         80176144
        ],
        [
         "Simon Curtis",
         70202150
        ],
        [
         "Jang Jae-hyun",
         81010699
        ],
        [
         "Charlie McDowell",
         70299863
        ],
        [
         "Liam Lynch",
         80133554
        ],
        [
         "Hao Wu",
         80208662
        ],
        [
         "Felipe Cano",
         80994596
        ],
        [
         "Gabriela Tagliavini",
         81031939
        ],
        [
         "Joe Berlinger",
         81028570
        ],
        [
         "Ismail Farouk",
         81035867
        ],
        [
         "Lee Jeong-beom",
         80244640
        ],
        [
         "William Bindley",
         80999729
        ],
        [
         "Fernando Ayllón",
         80992499
        ],
        [
         "Maya Zinshtein",
         80148223
        ],
        [
         "Vishal Bhardwaj",
         80176342
        ],
        [
         "Jill Bauer",
         80038162
        ],
        [
         "Justin McConnell",
         81087094
        ],
        [
         "Lasse Hallström",
         80221447
        ],
        [
         "Bryce Wagoner",
         70242063
        ],
        [
         "Steven Brill",
         80063265
        ],
        [
         "Kim Sung-hoon",
         81034931
        ],
        [
         "Norberto López Amado",
         80202903
        ],
        [
         "Mary Mazzio",
         80167459
        ],
        [
         "Joe Piscatella",
         80169348
        ],
        [
         "Rahul Dholakia",
         80164778
        ],
        [
         "David Michôd",
         80068327
        ],
        [
         "Mark Craig",
         80087933
        ],
        [
         "Ketan Mehta",
         80084666
        ],
        [
         "Raúl Campos",
         80192137
        ],
        [
         "Alex Richanbach",
         80195049
        ],
        [
         "Marcus Raboy",
         80186850
        ],
        [
         "Christopher Smith",
         80117765
        ],
        [
         "Nadia Hallgren",
         81002195
        ],
        [
         "Sudabeh Mortezai",
         81046255
        ],
        [
         "McG",
         80218306
        ],
        [
         "Richard Shepard",
         80211638
        ],
        [
         "Matthew Cooke",
         80220758
        ],
        [
         "Mike Diva",
         81036190
        ],
        [
         "Jean-Patrick Benes",
         80165083
        ],
        [
         "Christopher Storer",
         80134781
        ],
        [
         "Trisha Ziff",
         80244680
        ],
        [
         "Vasan Bala",
         81057229
        ],
        [
         "Tig Notaro",
         80151384
        ],
        [
         "John Bridcut",
         80131167
        ],
        [
         "Lance Bangs",
         80038335
        ],
        [
         "Mike Fleiss",
         80011852
        ],
        [
         "Barry Jenkins",
         80121348
        ],
        [
         "Linda Mendoza",
         81011598
        ],
        [
         "Aanand Rai",
         81005364
        ],
        [
         "Sharon Grimberg",
         81076042
        ],
        [
         "Akram Farouk",
         81035880
        ],
        [
         "Christel Gibson",
         81103139
        ],
        [
         "Andrew Stanton",
         70143369
        ],
        [
         "Manav Shah",
         81096151
        ],
        [
         "Antoine Fuqua",
         70259801
        ],
        [
         "Jimmy Henderson",
         80990658
        ],
        [
         "Jessica Yu",
         80133663
        ],
        [
         "Kim Nguyen",
         80117082
        ],
        [
         "Max Martini",
         81043473
        ],
        [
         "Nila Madhab Panda",
         80091267
        ],
        [
         "Ian Nelms",
         80182919
        ],
        [
         "Hiroyuki Seshita",
         80115466
        ],
        [
         "Lygia Barbosa da Silva",
         80142223
        ],
        [
         "Osgood Perkins",
         80080768
        ],
        [
         "Ken Kushner",
         81061407
        ],
        [
         "Yolanda Ramke",
         80161216
        ],
        [
         "Kagiso Lediga",
         80218111
        ],
        [
         "Diego Enrique Osorno",
         80991872
        ],
        [
         "Hernán Zin",
         81077863
        ],
        [
         "Hernán Zin",
         81077851
        ],
        [
         "Hernán Zin",
         81073590
        ],
        [
         "Arthur Muhammad",
         81103108
        ],
        [
         "Pedring A. Lopez",
         80236341
        ],
        [
         "Sam Cullman",
         80191050
        ],
        [
         "Francesco Imperato",
         81041271
        ],
        [
         "Stefon Bristol",
         80216758
        ],
        [
         "Brit McAdams",
         70083809
        ],
        [
         "Steve Loter",
         80028529
        ],
        [
         "Icíar Bollaín",
         70154110
        ],
        [
         "Kate Melville",
         80998967
        ],
        [
         "Aditya Vikram Sengupta",
         81038047
        ],
        [
         "David Dhawan",
         60021906
        ],
        [
         "Neil Burger",
         70142827
        ],
        [
         "Dibakar Banerjee",
         70149579
        ],
        [
         "Apoorva Lakhia",
         70109375
        ],
        [
         "Milan Luthria",
         70289558
        ],
        [
         "Mandie Fletcher",
         81085319
        ],
        [
         "Michael Dowse",
         70117577
        ],
        [
         "Vipul Amrutlal Shah",
         70158421
        ],
        [
         "Rajkumar Santoshi",
         20258084
        ],
        [
         "Mercedes Cordova",
         80233511
        ],
        [
         "Antonio Campos",
         80097814
        ],
        [
         "Derek Cianfrance",
         70241757
        ],
        [
         "Ryan Polito",
         80133551
        ],
        [
         "Meenu Gaur",
         81110388
        ],
        [
         "Matthew Hope",
         80220311
        ],
        [
         "Asim Abbasi",
         81110389
        ],
        [
         "Saurabh Kabra",
         70111279
        ],
        [
         "Aijaz Khan",
         81123050
        ],
        [
         "Anil V. Kumar",
         70007056
        ],
        [
         "Sangeeth Sivan",
         70035357
        ],
        [
         "Umesh Ghadge",
         80108481
        ],
        [
         "Milan Luthria",
         70153178
        ],
        [
         "Apoorva Lakhia",
         70073018
        ],
        [
         "Midhun Manuel Thomas",
         80994416
        ],
        [
         "Neeraj Pandey",
         80243408
        ],
        [
         "Umer Adil",
         80994418
        ],
        [
         "Hayao Miyazaki",
         70050576
        ],
        [
         "Nicolas Winding Refn",
         70253596
        ],
        [
         "Rajiv Mehra",
         80157133
        ],
        [
         "Robert Kenner",
         80107656
        ],
        [
         "Kundan Shah",
         80157083
        ],
        [
         "So Yong Kim",
         80098287
        ],
        [
         "Alina Teodorescu",
         80059342
        ],
        [
         "Rajiv Mehra",
         24081514
        ],
        [
         "Filip Renc",
         80157564
        ],
        [
         "Femi Oyeniran",
         80178078
        ],
        [
         "David Morris",
         80104330
        ],
        [
         "Gonzalo López-Gallego",
         81053958
        ],
        [
         "Damián Romay",
         81094666
        ],
        [
         "Abby Epstein",
         81016247
        ],
        [
         "Savage Steve Holland",
         80223928
        ],
        [
         "Tim Maltby",
         81065331
        ],
        [
         "Jay Karas",
         80186940
        ],
        [
         "Andy Tennant",
         80120740
        ],
        [
         "Hepi Mita",
         81077874
        ],
        [
         "Anthony Abrams",
         80117736
        ],
        [
         "Dylan Bank",
         80114666
        ],
        [
         "Sean Foley",
         80157866
        ],
        [
         "Pierre Coré",
         80161029
        ],
        [
         "Che Sandoval",
         81039410
        ],
        [
         "Jean-Bernard Marlin",
         81012340
        ],
        [
         "Yee Tung-Shing",
         70242536
        ],
        [
         "Raúl Campos",
         80192065
        ],
        [
         "Trey Borzillieri",
         80158319
        ],
        [
         "Vince Marcello",
         80143556
        ],
        [
         "Rajiv Chilaka",
         81092777
        ],
        [
         "Sidheswar Shukla",
         81092779
        ],
        [
         "Asit Mohapatra",
         81092776
        ],
        [
         "Shyamal Chaulia",
         81092778
        ],
        [
         "Patricia Font",
         80216541
        ],
        [
         "Amy Poehler",
         80194950
        ],
        [
         "Sachin Kundalkar",
         70261058
        ],
        [
         "Puri Jagannadh",
         70204288
        ],
        [
         "Krish",
         80057278
        ],
        [
         "Shoojit Sircar",
         70293703
        ],
        [
         "Ribhu Dasgupta",
         80165853
        ],
        [
         "Geoff Anderson",
         80161108
        ],
        [
         "Federico Veiroj",
         80082660
        ],
        [
         "Robert Vince",
         80028359
        ],
        [
         "Mark Zwonitzer",
         81076049
        ],
        [
         "Bo Welch",
         60031264
        ],
        [
         "Sedat Kirtan",
         81059956
        ],
        [
         "Stacia Crawford",
         81094667
        ],
        [
         "Michael Epstein",
         81069255
        ],
        [
         "Sudipto Roy",
         81094083
        ],
        [
         "Frédéric Tonolli",
         80208082
        ],
        [
         "Rachel Lears",
         81080637
        ],
        [
         "Emmanuel Amara",
         80197303
        ],
        [
         "Syamsul Yusof",
         81049260
        ],
        [
         "Nicholas Winter",
         81017593
        ],
        [
         "Bong Joon Ho",
         70270364
        ],
        [
         "Mangesh Kanthale",
         81093342
        ],
        [
         "Kevin Munroe",
         70056441
        ],
        [
         "Frank Oz",
         419733
        ],
        [
         "Gary Young",
         81021631
        ],
        [
         "Nicanor Loreti",
         80241044
        ],
        [
         "Simon Napier-Bell",
         80213148
        ],
        [
         "A. L. Vijay",
         80150390
        ],
        [
         "Devashish Makhija",
         80993495
        ],
        [
         "Amal Neerad",
         80192548
        ],
        [
         "Fluvio Iannuci",
         80232894
        ],
        [
         "Julius R. Nasso",
         80232330
        ],
        [
         "Lucas Figueroa",
         80103425
        ],
        [
         "Francis Lee",
         80170875
        ],
        [
         "Shanker Raman",
         80990815
        ],
        [
         "Rakshith Thirthahalli",
         80990816
        ],
        [
         "C. Fitz",
         80990829
        ],
        [
         "Alex Timbers",
         80238110
        ],
        [
         "Damien Piscarel",
         80241876
        ],
        [
         "Saandeep Patel",
         80990811
        ],
        [
         "Justin G. Dyck",
         80224106
        ],
        [
         "Arun Vaidyanathan",
         80206732
        ],
        [
         "Pradip Kurbah",
         80990810
        ],
        [
         "Alfonso Rodríguez",
         80235767
        ],
        [
         "Guillermo Garcia",
         80236224
        ],
        [
         "Makarand Mane",
         80990814
        ],
        [
         "Pierfrancesco Diliberto",
         80245268
        ],
        [
         "Priyadarshan",
         80228322
        ],
        [
         "Sean Menard",
         80223149
        ],
        [
         "Dito Montiel",
         80179373
        ],
        [
         "Vicente Villanueva",
         80233962
        ],
        [
         "Don Michael Paul",
         80233493
        ],
        [
         "Anu Menon",
         80990813
        ],
        [
         "Adrian Murray",
         80220531
        ],
        [
         "Andy Goddard",
         80134149
        ],
        [
         "K. Rajagopal",
         80115133
        ],
        [
         "Atanu Ghosh",
         80176698
        ],
        [
         "Supavitra Babul",
         80165848
        ],
        [
         "Zoya Akhtar",
         70275753
        ],
        [
         "Anthony D'Souza",
         70295762
        ],
        [
         "Soumendra Padhi",
         80165849
        ],
        [
         "Mahesh Bhatt",
         80158395
        ],
        [
         "David Dhawan",
         70275774
        ],
        [
         "Ken Burns",
         80103430
        ],
        [
         "Fuwad Khan",
         80165850
        ],
        [
         "Mike Birbiglia",
         80103372
        ],
        [
         "Nishikant Kamat",
         80068117
        ],
        [
         "Praveen Nischol",
         20764666
        ],
        [
         "Dylan Mohan Gray",
         70268209
        ],
        [
         "Kabir Sadanand",
         80165851
        ],
        [
         "Shinji Aramaki",
         70129415
        ],
        [
         "Justin Bare",
         80095094
        ],
        [
         "Lucien Jean-Baptiste",
         80156763
        ],
        [
         "Jalil Lespert",
         80156857
        ],
        [
         "Sudhir Mishra",
         70268489
        ],
        [
         "Edward Cotterill",
         80158588
        ],
        [
         "Sean Cisterna",
         80178720
        ],
        [
         "Sudhanshu Saria",
         80106505
        ],
        [
         "Sarah Moshman",
         80169548
        ],
        [
         "Omung Kumar",
         80015785
        ],
        [
         "Bob Hercules",
         80097361
        ],
        [
         "Munish Bhardwaj",
         80176716
        ],
        [
         "Dilip Mehta",
         80132961
        ],
        [
         "Satish Rajwade",
         80165857
        ],
        [
         "Umesh Shukla",
         70258366
        ],
        [
         "Devika Bhagat",
         80165732
        ],
        [
         "Luv Ranjan",
         80165854
        ],
        [
         "Luv Ranjan",
         80083589
        ],
        [
         "Vikas Bahl",
         80032081
        ],
        [
         "Dharmesh Darshan",
         17457962
        ],
        [
         "Kireet Khurana",
         80182105
        ],
        [
         "Bejoy Nambiar",
         80165855
        ],
        [
         "Neeraj Pandey",
         70273637
        ],
        [
         "Aanand Rai",
         70176968
        ],
        [
         "Isaki Lacuesta",
         80173605
        ],
        [
         "Gurmmeet Singh",
         80165856
        ],
        [
         "Sangeeth Sivan",
         70308135
        ],
        [
         "Nathan Landeg",
         80101903
        ],
        [
         "Fernando González Molina",
         80093103
        ],
        [
         "Yann Arthus-Bertrand",
         80102305
        ],
        [
         "Gonzalo López-Gallego",
         70176655
        ],
        [
         "Kazuya Murata",
         80161848
        ],
        [
         "Mina Shum",
         80209796
        ],
        [
         "Martin Zandvliet",
         80152434
        ],
        [
         "Stephen Belber",
         70309693
        ],
        [
         "Tony Stone",
         80107737
        ],
        [
         "Cosmo Feilding-Mellen",
         80098305
        ],
        [
         "Peter Foott",
         80152742
        ],
        [
         "Raam Reddy",
         80107370
        ],
        [
         "Majid Al Ansari",
         80095233
        ],
        [
         "Woody Allen",
         70270362
        ],
        [
         "Ibrahim Bin Mohamed",
         81074140
        ],
        [
         "Clark Johnson",
         80184676
        ],
        [
         "Emmanuel Mouret",
         81024044
        ],
        [
         "Robert Rodriguez",
         60023618
        ],
        [
         "Terry Gilliam",
         70113532
        ],
        [
         "Robin Swicord",
         70074299
        ],
        [
         "Conor Allyn",
         80995799
        ],
        [
         "Uraaz Bahl",
         80219143
        ],
        [
         "Frank Coraci",
         17687959
        ],
        [
         "John Patrick Shanley",
         70100377
        ],
        [
         "Haifaa Al-Mansour",
         80189630
        ],
        [
         "Wenn V. Deramas",
         81010867
        ],
        [
         "Olivia M. Lamasan",
         81010865
        ],
        [
         "Antoinette Jadaone",
         81010874
        ],
        [
         "Nuel Naval",
         80075018
        ],
        [
         "Nicolás López",
         70260374
        ],
        [
         "Paul Solet",
         80190180
        ],
        [
         "Amy Schumer",
         80150002
        ],
        [
         "Ian Kirby",
         80079265
        ],
        [
         "Sean McNamara",
         80238080
        ],
        [
         "Joe Camp",
         296682
        ],
        [
         "Joe Camp",
         60037606
        ],
        [
         "Joe Camp",
         516154
        ],
        [
         "Michael Simon",
         80170187
        ],
        [
         "Justin Chon",
         80174137
        ],
        [
         "Aziz Ansari",
         80038296
        ],
        [
         "David Sampliner",
         80011848
        ],
        [
         "Adam Shankman",
         70100381
        ],
        [
         "Chito S. Roño",
         70110919
        ],
        [
         "Marc Forster",
         80221560
        ],
        [
         "Keoni Waxman",
         80200961
        ],
        [
         "Benny Fine",
         80214580
        ],
        [
         "Mae Czarina Cruz",
         80085013
        ],
        [
         "Onir",
         81077597
        ],
        [
         "Paul Soriano",
         80049193
        ],
        [
         "Wenn V. Deramas",
         70039783
        ],
        [
         "Ruel S. Bayani",
         81010871
        ],
        [
         "Peter Mortimer",
         81004270
        ],
        [
         "Ben Wallis",
         80224924
        ],
        [
         "Greg Coolidge",
         70051671
        ],
        [
         "Iginio Straffi",
         80144408
        ],
        [
         "Owen Egerton",
         81038545
        ],
        [
         "\"Sam \"\"Blitz\"\" Bazawule\"",
         81044496
        ],
        [
         "Norm Hiscock",
         80235932
        ],
        [
         "Joe Miale",
         80176592
        ],
        [
         "Dheeraj Berry",
         80170381
        ],
        [
         "Richard Sears",
         80142103
        ],
        [
         "Nirpal Bhogal",
         80152842
        ],
        [
         "Laurent Bouzereau",
         80049928
        ],
        [
         "Brett Whitcomb",
         70296765
        ],
        [
         "Lucy van Beek",
         80131168
        ],
        [
         "Frank Capra",
         80119190
        ],
        [
         "John Huston",
         80119187
        ],
        [
         "Jakob Verbruggen",
         80048568
        ],
        [
         "George Stevens",
         80119192
        ],
        [
         "Frank Capra",
         60027945
        ],
        [
         "John Huston",
         80119188
        ],
        [
         "John Ford",
         60027942
        ],
        [
         "Charlie McDowell",
         80115857
        ],
        [
         "Michael Samuels",
         70281026
        ],
        [
         "William Wyler",
         80119194
        ],
        [
         "Stuart Heisler",
         80119191
        ],
        [
         "William Wyler",
         80119193
        ],
        [
         "Frank Capra",
         80119189
        ],
        [
         "John Ford",
         80119186
        ],
        [
         "Frank Capra",
         70013050
        ],
        [
         "John Huston",
         70022548
        ],
        [
         "Micah Bickham",
         80097423
        ],
        [
         "Stuart Orme",
         70259177
        ],
        [
         "Olivia Newman",
         80117458
        ],
        [
         "Jared Stern",
         80143362
        ],
        [
         "Yang Lei",
         80201200
        ],
        [
         "Raúl Campos",
         80183197
        ],
        [
         "Lennart Ruff",
         80148210
        ],
        [
         "Mike Clattenburg",
         70128549
        ],
        [
         "Mike Clattenburg",
         70069233
        ],
        [
         "Adam MacDonald",
         80018336
        ],
        [
         "Saurav Palodhi",
         80180509
        ],
        [
         "Shawn Crahan",
         80145255
        ],
        [
         "Michael Whitton",
         70230147
        ],
        [
         "Steve Carr",
         80105067
        ],
        [
         "Swapnaneel Jayakar",
         81033429
        ],
        [
         "Kyzza Terrazas",
         80188579
        ],
        [
         "Miguel Conde",
         80992232
        ],
        [
         "Philippe Falardeau",
         80145533
        ],
        [
         "John Lee Hancock",
         80200571
        ],
        [
         "Theo Love",
         80999977
        ],
        [
         "Eli Craig",
         70129463
        ],
        [
         "Bart Freundlich",
         80170767
        ],
        [
         "Shannon Hartman",
         80134826
        ],
        [
         "Awi Suryadi",
         81047902
        ],
        [
         "Hanung Bramantyo",
         81047897
        ],
        [
         "Óskar Thór Axelsson",
         80216988
        ],
        [
         "Dan Lucchesi",
         80213803
        ],
        [
         "Vishal Mahadkar",
         80175623
        ],
        [
         "Ryan Polito",
         81002880
        ],
        [
         "Mikhail Red",
         80222896
        ],
        [
         "Raj Babu",
         81038046
        ],
        [
         "Rodolphe Guenoden",
         80101096
        ],
        [
         "Javier Ruiz Caldera",
         80202809
        ],
        [
         "Dan Fraga",
         80020132
        ],
        [
         "Marina Willer",
         80206758
        ],
        [
         "Diego Pignataro",
         80162210
        ],
        [
         "Meghan O'Hara",
         80126485
        ],
        [
         "Tommy O'Haver",
         80082242
        ],
        [
         "Douglas McGrath",
         70202151
        ],
        [
         "Chanon Yingyong",
         80999996
        ],
        [
         "Kyle Newacheck",
         80169617
        ],
        [
         "Mijke de Jong",
         80144454
        ],
        [
         "Jorge Granier",
         70204282
        ],
        [
         "Daryl Hannah",
         80242378
        ],
        [
         "Michael Larnell",
         80171733
        ],
        [
         "Advait Chandan",
         80245408
        ],
        [
         "Abel Ferrara",
         80044566
        ],
        [
         "Oriol Paulo",
         80991158
        ],
        [
         "Stuart Sender",
         80191046
        ],
        [
         "Jeff Tremaine",
         80169469
        ],
        [
         "Paul Dugdale",
         80148239
        ],
        [
         "Wenn V. Deramas",
         81010863
        ],
        [
         "Joyce Bernal",
         80162503
        ],
        [
         "Jason Paul Laxamana",
         80150350
        ],
        [
         "Maryo J. De los Reyes",
         80160692
        ],
        [
         "Chito S. Roño",
         70060865
        ],
        [
         "Theodore Boborol",
         80157890
        ],
        [
         "Gavin Fitzgerald",
         80164752
        ],
        [
         "Juan Zapata",
         80135149
        ],
        [
         "Stan Lathan",
         80171965
        ],
        [
         "Gianfranco Rosi",
         80100945
        ],
        [
         "Gianfranco Rosi",
         70293820
        ],
        [
         "Oliver Daly",
         80195967
        ],
        [
         "Luis Ara",
         81033107
        ],
        [
         "Karan Shivajirao Chavan",
         81048554
        ],
        [
         "Melinda Janko",
         80144983
        ],
        [
         "Ram Gopal Varma",
         70105459
        ],
        [
         "Tanuj Bhramar",
         80207444
        ],
        [
         "Isao Yukisada",
         81033516
        ],
        [
         "A.R. Murugadoss",
         81075235
        ],
        [
         "A.R. Murugadoss",
         81072516
        ],
        [
         "John Lee Hancock",
         70283202
        ],
        [
         "Robin Swicord",
         80156212
        ],
        [
         "Faraz Haider",
         70296742
        ],
        [
         "Fritz Ofner",
         81059944
        ],
        [
         "Mozez Singh",
         80095531
        ],
        [
         "Raúl Campos",
         80192139
        ],
        [
         "Raúl Campos",
         80192063
        ],
        [
         "Robin Aubert",
         80218656
        ],
        [
         "Brendan Toller",
         80095806
        ],
        [
         "Kristian Levring",
         80013550
        ],
        [
         "Mark Helenowski",
         80058979
        ],
        [
         "Amy Schumer",
         81037077
        ],
        [
         "Jonathan Ignatius Green",
         81054383
        ],
        [
         "Sonny Marler",
         81047798
        ],
        [
         "Taron Lexton",
         80189216
        ],
        [
         "Robert Vince",
         80092781
        ],
        [
         "Eva Vives",
         81019338
        ],
        [
         "Lonny Price",
         80132964
        ],
        [
         "Sang-ho Yeon",
         80117824
        ],
        [
         "Jason Krawczyk",
         80058460
        ],
        [
         "Sam Wrench",
         80076467
        ],
        [
         "Sophie Robinson",
         80049951
        ],
        [
         "John Lee",
         80031800
        ],
        [
         "Richard Loncraine",
         80017171
        ],
        [
         "Sydney Freeland",
         80108984
        ],
        [
         "Ben Bowie",
         80135296
        ],
        [
         "Jung-woo Park",
         80158577
        ],
        [
         "Asghar Farhadi",
         70175439
        ],
        [
         "Brandon Camp",
         80204923
        ],
        [
         "Alison Klayman",
         80117831
        ],
        [
         "Yoo Byung-jae",
         80223734
        ],
        [
         "Victor Levin",
         70307848
        ],
        [
         "Henry Selick",
         70105599
        ],
        [
         "James Ivory",
         60029366
        ],
        [
         "Gonzalo López-Gallego",
         80100260
        ],
        [
         "Lone Scherfig",
         80017170
        ],
        [
         "Mark Dindal",
         70028197
        ],
        [
         "Pia Sukanya",
         81013990
        ],
        [
         "Yann Gozlan",
         80171678
        ],
        [
         "Niyi Akinmolayan",
         81074015
        ],
        [
         "Francesco Imperato",
         81041273
        ],
        [
         "Hoyt Yeatman",
         70108985
        ],
        [
         "Lukas Dhont",
         81004374
        ],
        [
         "Manny Rodriguez",
         70045356
        ],
        [
         "Michael Simon",
         70203594
        ],
        [
         "Manny Rodriguez",
         70253171
        ],
        [
         "Michael Simon",
         70109657
        ],
        [
         "Stephen Chow",
         70020728
        ],
        [
         "Frank W Chen",
         81024308
        ],
        [
         "Adrian Teh",
         81031178
        ],
        [
         "Florian Henckel von Donnersmarck",
         70056425
        ],
        [
         "Steven R. Monroe",
         81050198
        ],
        [
         "Buz Wallick",
         81034771
        ],
        [
         "Indrasis Acharya",
         80239442
        ],
        [
         "Aatmaram Dharne",
         80238299
        ],
        [
         "Sumitra Bhave",
         80201814
        ],
        [
         "Sunao Katabuchi",
         80192244
        ],
        [
         "Kedar Shinde",
         80235957
        ],
        [
         "Johan Brisinger",
         80226021
        ],
        [
         "Attila Till",
         80147758
        ],
        [
         "Mahesh Manjrekar",
         80201608
        ],
        [
         "Tim Bartley",
         80241537
        ],
        [
         "Robyn Butler",
         80241616
        ],
        [
         "John Upchurch",
         80239642
        ],
        [
         "Deepika Narayan Bhardwaj",
         80239988
        ],
        [
         "Israel Adrián Caetano",
         70041893
        ],
        [
         "Girish Joshi",
         80238298
        ],
        [
         "Aditya Sarpotdar",
         80238400
        ],
        [
         "Arjun Gourisaria",
         80239738
        ],
        [
         "Maria Sadowska",
         80237300
        ],
        [
         "Santosh Sivan",
         60021758
        ],
        [
         "Erik Canuel",
         70095265
        ],
        [
         "Pascal Blanchard",
         80164075
        ],
        [
         "Heidi Saman",
         80117240
        ],
        [
         "Peter Middleton",
         80098842
        ],
        [
         "Shashilal K. Nair",
         80156935
        ],
        [
         "Jayaraj Rajasekharan Nair",
         80102080
        ],
        [
         "Partho Sen-Gupta",
         80092884
        ],
        [
         "Eric Drath",
         80023794
        ],
        [
         "Sam Upton",
         81060041
        ],
        [
         "Maryo J. De los Reyes",
         70090072
        ],
        [
         "Olivia M. Lamasan",
         80145621
        ],
        [
         "Joyce Bernal",
         80100268
        ],
        [
         "Theodore Boborol",
         80206696
        ],
        [
         "Cathy Garcia-Molina",
         81010870
        ],
        [
         "Yang Woo-seok",
         80226234
        ],
        [
         "Pan Nalin",
         80081274
        ],
        [
         "Shannon Hartman",
         80134967
        ],
        [
         "J.C. Chandor",
         80192187
        ],
        [
         "John L. Spencer",
         80189653
        ],
        [
         "Victor Cook",
         80135585
        ],
        [
         "Brian Klein",
         80214087
        ],
        [
         "Devin Chanda",
         80216664
        ],
        [
         "Tekin Girgin",
         80017535
        ],
        [
         "David Chirchirillo",
         80219917
        ],
        [
         "Marianna Palka",
         80174144
        ],
        [
         "Dennis Bartok",
         80220677
        ],
        [
         "Kenneth Müller",
         80229829
        ],
        [
         "Marcel Barrena",
         80141173
        ],
        [
         "Burak Aksak",
         80134515
        ],
        [
         "Hakan Algül",
         80134521
        ],
        [
         "Gerard McMurray",
         80097003
        ],
        [
         "Muharrem Gülmez",
         80134516
        ],
        [
         "Ozan Açıktan",
         80134606
        ],
        [
         "Meltem Bozoflu",
         80134518
        ],
        [
         "Hakan Algül",
         80134330
        ],
        [
         "Selçuk Aydemir",
         80038298
        ],
        [
         "Selçuk Aydemir",
         80134500
        ],
        [
         "Hakan Algül",
         80038353
        ],
        [
         "Hakan Algül",
         80038354
        ],
        [
         "Hakan Algül",
         80038439
        ],
        [
         "Ömer Faruk Sorak",
         80038440
        ],
        [
         "Şenol Sönmez",
         80134604
        ],
        [
         "Ali Taner Baltacı",
         80134524
        ],
        [
         "Sermiyan Midyat",
         80038355
        ],
        [
         "Sermiyan Midyat",
         80038441
        ],
        [
         "Aytaç Ağırlar",
         80134433
        ],
        [
         "Burak Aksak",
         80134436
        ],
        [
         "Kıvanç Baruönü",
         80134514
        ],
        [
         "Kıvanç Baruönü",
         80134398
        ],
        [
         "Yusuf Pirhasan",
         80134520
        ],
        [
         "Mahsun Kırmızıgül",
         80134420
        ],
        [
         "Hakan Algül",
         80134501
        ],
        [
         "Kıvanç Baruönü",
         80134399
        ],
        [
         "Clementine Malpas",
         80160127
        ],
        [
         "Ketche",
         80134438
        ],
        [
         "Erol Özlevi",
         80134435
        ],
        [
         "Hakan Yonat",
         80134519
        ],
        [
         "Ozan Açıktan",
         80134434
        ],
        [
         "Olivier Loustau",
         80160357
        ],
        [
         "Yılmaz Erdoğan",
         70299745
        ],
        [
         "Yılmaz Erdoğan",
         80038527
        ],
        [
         "Yılmaz Erdoğan",
         80038445
        ],
        [
         "Nottapon Boonprakob",
         81059183
        ],
        [
         "Perry Lang",
         81024332
        ],
        [
         "Nawapol Thamrongrattanarit",
         81059444
        ],
        [
         "Xavier Gens",
         80987464
        ],
        [
         "Gary Wheeler",
         80156925
        ],
        [
         "Ang Lee",
         60002907
        ],
        [
         "Tom Edmunds",
         80207473
        ],
        [
         "Brant Sersen",
         80990534
        ],
        [
         "Sam Liu",
         70111265
        ],
        [
         "Phil Morrison",
         70024098
        ],
        [
         "Paul Katis",
         80071907
        ],
        [
         "Matthew Vaughn",
         70020730
        ],
        [
         "Jonathan A. Rosenbaum",
         80057137
        ],
        [
         "Franck Phelizon",
         81045720
        ],
        [
         "Peter Howitt",
         70236016
        ],
        [
         "Matthew Atkinson",
         81069249
        ],
        [
         "Rajiv Menon",
         81083971
        ],
        [
         "Chiwetel Ejiofor",
         80200047
        ],
        [
         "Michael Buster",
         80156772
        ],
        [
         "Philip Einstein Lipski",
         81016361
        ],
        [
         "Rodrigo Salomón",
         81055395
        ],
        [
         "Mark Waters",
         70077556
        ],
        [
         "James Toback",
         70100412
        ],
        [
         "David Wain",
         60021299
        ],
        [
         "Debra Granik",
         70129374
        ],
        [
         "Miguel Ángel Vivas",
         80167647
        ],
        [
         "Joey Curtis",
         80184973
        ],
        [
         "Alison Klayman",
         70229921
        ],
        [
         "Abbas Alibhai Burmawalla",
         70021551
        ],
        [
         "Shikha Makan",
         80236167
        ],
        [
         "Haissam Hussain",
         80175151
        ],
        [
         "Mitch Gould",
         80232404
        ],
        [
         "Kaizad Gustad",
         60036746
        ],
        [
         "Ram Gopal Varma",
         60036613
        ],
        [
         "Clay Porter",
         80214584
        ],
        [
         "Mani Ratnam",
         17671454
        ],
        [
         "Eeshwar Nivas",
         60036617
        ],
        [
         "Hugues Nancy",
         80230555
        ],
        [
         "Indra Kumar",
         70294790
        ],
        [
         "Mani Ratnam",
         70063017
        ],
        [
         "Satish Kaushik",
         60003401
        ],
        [
         "Tim Van Someren",
         80224605
        ],
        [
         "David Dhawan",
         70021253
        ],
        [
         "Shawn Arranha",
         70138498
        ],
        [
         "Jonathan Baker",
         80188099
        ],
        [
         "K. Subhash",
         70025303
        ],
        [
         "Nagesh Kukunoor",
         70048905
        ],
        [
         "V. K. Prakash",
         80223227
        ],
        [
         "Manish Tiwary",
         80223195
        ],
        [
         "David Dhawan",
         80236906
        ],
        [
         "Kranti Redkar",
         80238297
        ],
        [
         "Dhilip Kumar",
         80235958
        ],
        [
         "Subhash Ghai",
         17969262
        ],
        [
         "Surya S.J.",
         80223317
        ],
        [
         "Samir Karnik",
         70012334
        ],
        [
         "Daniel Lindsay",
         80184131
        ],
        [
         "Syed Ahmad Afzal",
         80106947
        ],
        [
         "RZA",
         80082014
        ],
        [
         "Steve Sacks",
         70291094
        ],
        [
         "Mike Fetterly",
         70250369
        ],
        [
         "Anees Bazmee",
         80223230
        ],
        [
         "Subhash Ghai",
         80059049
        ],
        [
         "Mahesh Manjrekar",
         60032008
        ],
        [
         "Rajkumar Santoshi",
         60037397
        ],
        [
         "Manish Gupta",
         80223228
        ],
        [
         "Jeeva",
         70001082
        ],
        [
         "K. Gopinathan",
         80238291
        ],
        [
         "Lars Büchel",
         80158247
        ],
        [
         "Krishna Vamshi",
         60035875
        ],
        [
         "Dibakar Banerjee",
         70244982
        ],
        [
         "Gurudev Bhalla",
         70065769
        ],
        [
         "Samar Khan",
         70099702
        ],
        [
         "Amit Barot",
         80238637
        ],
        [
         "Adarsh Eshwarappa",
         80188777
        ],
        [
         "Bejoy Nambiar",
         80238293
        ],
        [
         "Carlo Padial",
         80132381
        ],
        [
         "Indra Kumar",
         80023851
        ],
        [
         "Ashutosh Gowariker",
         70019491
        ],
        [
         "Mike Smith",
         70304187
        ],
        [
         "Subhash Ghai",
         60001670
        ],
        [
         "Julien Seri",
         80196367
        ],
        [
         "Leena Yadav",
         70134669
        ],
        [
         "Bryan Buckley",
         80202728
        ],
        [
         "Keerthi",
         80238294
        ],
        [
         "Abhishek Sharma",
         80023853
        ],
        [
         "Gajendra Ahire",
         80244078
        ],
        [
         "Gajendra Ahire",
         80238292
        ],
        [
         "Buddhadev Dasgupta",
         80238190
        ],
        [
         "Mike Smith",
         70304188
        ],
        [
         "Mike Smith",
         70304186
        ],
        [
         "Mike Clattenburg",
         70304189
        ],
        [
         "Mike Clattenburg",
         70143440
        ],
        [
         "Mukul Anand",
         20717860
        ],
        [
         "Preston A. Whitmore II",
         80201833
        ],
        [
         "Milind Dhaimade",
         80238295
        ],
        [
         "Ashish R. Mohan",
         80223190
        ],
        [
         "N. Chandra",
         70125935
        ],
        [
         "Subhash Ghai",
         60021903
        ],
        [
         "Mani Ratnam",
         70001564
        ],
        [
         "Volker Arzt",
         80135631
        ],
        [
         "Arne Birkenstock",
         70175127
        ],
        [
         "Jonathan Taylor",
         80172471
        ],
        [
         "Alessandro Pepe",
         80144119
        ],
        [
         "Selvamani Selvaraj",
         80165917
        ],
        [
         "Vijay Jayapal",
         70155788
        ],
        [
         "Matt Wechsler",
         80134814
        ],
        [
         "Hernán Belón",
         80103424
        ],
        [
         "Anurag Kashyap",
         70285730
        ],
        [
         "Harvey Lilley",
         80172469
        ],
        [
         "Lev L. Spiro",
         80097530
        ],
        [
         "Michael Polish",
         80092404
        ],
        [
         "Maria Ripoll",
         80092850
        ],
        [
         "Dani de la Torre",
         80093127
        ],
        [
         "Oren Uziel",
         80103734
        ],
        [
         "Adam Marino",
         81061410
        ],
        [
         "Kurt Wimmer",
         60024935
        ],
        [
         "Craig Johnson",
         80168189
        ],
        [
         "Jeffrey Walker",
         80244709
        ],
        [
         "Ulises Valencia",
         80194946
        ],
        [
         "Gabriel Grieco",
         80159025
        ],
        [
         "Federico Veiroj",
         81025973
        ],
        [
         "Isabel Coixet",
         80121387
        ],
        [
         "Grant Sputore",
         80227090
        ],
        [
         "Laxman Utekar",
         81113918
        ],
        [
         "Juan Antin",
         81029736
        ],
        [
         "Hanno Olderdissen",
         81051688
        ],
        [
         "Amar Kaushik",
         81113921
        ],
        [
         "Reginald Hudlin",
         80173387
        ],
        [
         "Grant Korgan",
         81013112
        ],
        [
         "Ajay Bahl",
         70290904
        ],
        [
         "Kees Van Oostrum",
         70294793
        ],
        [
         "Eva Trobisch",
         81030855
        ],
        [
         "Tamer Bassiouni",
         81035852
        ],
        [
         "Travis Zariwny",
         80079473
        ],
        [
         "Corbin Bernsen",
         80018328
        ],
        [
         "Asghar Farhadi",
         80996787
        ],
        [
         "Shadi Ali",
         81035881
        ],
        [
         "Sameh Abdulaziz",
         81035843
        ],
        [
         "Mahmoud Karim",
         81035837
        ],
        [
         "Walerian Borowczyk",
         80039136
        ],
        [
         "Hani Hamdi",
         81035884
        ],
        [
         "Wael Ihsan",
         81035863
        ],
        [
         "Amr Arafa",
         81035858
        ],
        [
         "Wael Ihsan",
         81035882
        ],
        [
         "Ahmed Al-Badry",
         81035847
        ],
        [
         "Mohammed El-Tahawy",
         81035859
        ],
        [
         "Naoko Yamada",
         80223226
        ],
        [
         "Philip Marlatt",
         81076055
        ],
        [
         "Scott Mosier",
         80996790
        ],
        [
         "David Gelb",
         70181716
        ],
        [
         "David Guy Levy",
         70270388
        ],
        [
         "Taika Waititi",
         80186608
        ],
        [
         "Saul Dibb",
         80042309
        ],
        [
         "Manika Sharma",
         80169554
        ],
        [
         "Mathieu Auvray",
         80114804
        ],
        [
         "Marcus Raboy",
         80237423
        ],
        [
         "Limbert Fabian",
         70304298
        ],
        [
         "Grant Heslov",
         70117293
        ],
        [
         "Timothy Reckart",
         80121841
        ],
        [
         "Sittisiri Mongkolsiri",
         81093122
        ],
        [
         "Kelly Reichardt",
         70293788
        ],
        [
         "Robbie Grewal",
         81039384
        ],
        [
         "Jay Karas",
         70245034
        ],
        [
         "Ted Geoghegan",
         80220676
        ],
        [
         "Yayo Herrero",
         80109341
        ],
        [
         "Juan Manuel Cotelo",
         80127764
        ],
        [
         "Damani Baker",
         80190144
        ],
        [
         "Lyric R. Cabral",
         80039644
        ],
        [
         "Cosima Spender",
         80052790
        ],
        [
         "Alfonso Serrano Maturino",
         80144311
        ],
        [
         "Timo Tjahjanto",
         80109145
        ],
        [
         "Johnnie To",
         80117455
        ],
        [
         "Seong-hun Kim",
         80132626
        ],
        [
         "Bo Burnham",
         80106124
        ],
        [
         "Christopher Nolen",
         81145270
        ],
        [
         "Thiagarajan Kumararaja",
         81128584
        ],
        [
         "Matt Palmer",
         80198478
        ],
        [
         "Raúl Campos",
         80191989
        ],
        [
         "Rodrigo Triana",
         80238434
        ],
        [
         "Elaine McMillion Sheldon",
         80177782
        ],
        [
         "Federico D'Alessandro",
         80217569
        ],
        [
         "Anthony Pierce",
         80015210
        ],
        [
         "Mike Mills",
         80134080
        ],
        [
         "Kate Horne",
         81130373
        ],
        [
         "Roberto Girault Facha",
         81091378
        ],
        [
         "Christopher Ray",
         81136964
        ],
        [
         "Michel Tikhomiroff",
         80233215
        ],
        [
         "Emanuel Hoss-Desmarais",
         80241779
        ],
        [
         "Bong Joon Ho",
         80091936
        ],
        [
         "Paul Thomas Anderson",
         81110498
        ],
        [
         "Alex Díaz",
         81060096
        ],
        [
         "Fredric Lean",
         80994807
        ],
        [
         "Bill D'Elia",
         80133553
        ],
        [
         "Sujoy Ghosh",
         70236020
        ],
        [
         "Peter Ramsey",
         81002747
        ],
        [
         "Doron Paz",
         81075239
        ],
        [
         "Svati Chakravarty Bhatkal",
         81108230
        ],
        [
         "Rian Johnson",
         80192018
        ],
        [
         "Shannon Hartman",
         80200015
        ],
        [
         "Justin Kelly",
         80161640
        ],
        [
         "Pablo Larraín",
         80108952
        ],
        [
         "Liz Garbus",
         70308063
        ],
        [
         "Kevin Bray",
         80996192
        ],
        [
         "Michael James Regan",
         81090899
        ],
        [
         "Aditya Kripalani",
         81095399
        ],
        [
         "Seiji Mizushima",
         80038207
        ],
        [
         "Sanjay Gupta",
         80171598
        ],
        [
         "Myriam Aziza",
         80160994
        ],
        [
         "Vivieno Caldinelli",
         80191356
        ],
        [
         "Vivieno Caldinelli",
         80191357
        ],
        [
         "Raúl Campos",
         80097641
        ],
        [
         "Rob Burnett",
         80097349
        ],
        [
         "Jay Lyons",
         81055402
        ],
        [
         "Drew Casson",
         80231602
        ],
        [
         "Chris Buck",
         26009364
        ],
        [
         "Charlie Siskel",
         80143794
        ],
        [
         "Brian Knappenberger",
         80168227
        ],
        [
         "Brian Smith",
         70026432
        ],
        [
         "Brent Bonacorso",
         80155477
        ],
        [
         "Jennifer Phang",
         80038420
        ],
        [
         "Mohamed Hamdy",
         81035849
        ],
        [
         "Jesse V. Johnson",
         80195901
        ],
        [
         "Gerard Barrett",
         80128245
        ],
        [
         "Rene Liu",
         80993655
        ],
        [
         "Geoffrey Orthwein",
         80167644
        ],
        [
         "Jovanka Vuckovic",
         80027041
        ],
        [
         "Miguel Cohan",
         81018067
        ],
        [
         "Luis Alberto Restrepo",
         80220422
        ],
        [
         "Hideaki Anno",
         81033473
        ],
        [
         "Tarek Abdel Moaty",
         81035870
        ],
        [
         "Hideaki Anno",
         60024788
        ],
        [
         "Nitesh Tiwari",
         80166185
        ],
        [
         "Ismail Farouk",
         81035868
        ],
        [
         "Khaled Marei",
         81035877
        ],
        [
         "Abhijit Kokate",
         81131274
        ],
        [
         "Husam El-Gohari",
         81035876
        ],
        [
         "Magdy Al-Hawwary",
         81035875
        ],
        [
         "Ahmad El-Badri",
         81035866
        ],
        [
         "Antonin Baudry",
         81027187
        ],
        [
         "Mohamed Hamdy",
         81035879
        ],
        [
         "Sherif Mandour",
         81035871
        ],
        [
         "Ken Burns",
         80997770
        ],
        [
         "Atul Malhotra",
         80173234
        ],
        [
         "Roy Burdine",
         80151644
        ],
        [
         "Scott Moran",
         80185223
        ],
        [
         "George Clooney",
         70038131
        ],
        [
         "Datta Mohan Bhandare",
         81110386
        ],
        [
         "Kieran Darcy-Smith",
         80108430
        ],
        [
         "Tom Hooper",
         70135893
        ],
        [
         "Salvador Calvo",
         80121844
        ],
        [
         "Jun-seong Kim",
         80158750
        ],
        [
         "Chris Robinson",
         80216302
        ],
        [
         "Janet Tobias",
         81105525
        ],
        [
         "David L. Cunningham",
         81017094
        ],
        [
         "Petra Costa",
         80190535
        ],
        [
         "Ed Lilly",
         80241071
        ],
        [
         "Madeleine Parry",
         80233611
        ],
        [
         "Isaac Ezban",
         80160814
        ],
        [
         "Jay Karas",
         80993404
        ],
        [
         "Anirban Majumder",
         81092781
        ],
        [
         "Scott Martin",
         81001090
        ],
        [
         "Jeremy Kenyon Lockyer Corbell",
         81083891
        ],
        [
         "Rajiv Chilaka",
         81092782
        ],
        [
         "Anirban Majumder",
         81092780
        ],
        [
         "Sumit Das",
         81092783
        ],
        [
         "George Mendeluk",
         81136963
        ],
        [
         "Wilson Yip",
         80076698
        ],
        [
         "Kyle Patrick Alvarez",
         80038159
        ],
        [
         "Jon Watts",
         80037691
        ],
        [
         "Jakob Lass",
         80998296
        ],
        [
         "Jay Bulger",
         80049873
        ],
        [
         "Kevin Derek",
         80094358
        ],
        [
         "Kip Andersen",
         80174177
        ],
        [
         "Shazia Javed",
         81123051
        ],
        [
         "John Haptas",
         81034980
        ],
        [
         "Sanjay Jadhav",
         81123052
        ],
        [
         "Ahmed El Gendy",
         81035887
        ],
        [
         "Vinod Kapri",
         81113927
        ],
        [
         "Elías León",
         80213115
        ],
        [
         "Israel Adrián Caetano",
         70074315
        ],
        [
         "Anders Falck",
         81002885
        ],
        [
         "Zoya Akhtar",
         80991033
        ],
        [
         "Oded Raz",
         80244547
        ],
        [
         "Mariana Tschudi",
         80991025
        ],
        [
         "Claire Scanlon",
         80184100
        ],
        [
         "Ramón Salazar",
         80131280
        ],
        [
         "Eduardo Mendoza de Echave",
         80991026
        ],
        [
         "Henrik Martin Dahlsbakken",
         80164206
        ],
        [
         "Arun Chidambaram",
         80187684
        ],
        [
         "Caio Cobra",
         80160726
        ],
        [
         "Tomer Heymann",
         80104706
        ],
        [
         "Alex Infascelli",
         80172284
        ],
        [
         "Cal Seville",
         80158770
        ],
        [
         "Peggy Holmes",
         70302844
        ],
        [
         "Bruno Garotti",
         80245601
        ],
        [
         "Kyle Newacheck",
         80242619
        ],
        [
         "Zachary Heinzerling",
         70267830
        ],
        [
         "Abdul Aziz Hashad",
         81035853
        ],
        [
         "Khaled Marei",
         81035841
        ],
        [
         "Mark Ritchie",
         81147766
        ],
        [
         "Mahmoud Karim",
         81035889
        ],
        [
         "Rocky Soraya",
         81088277
        ],
        [
         "Sameh Abdulaziz",
         81035874
        ],
        [
         "Tarek Al Eryan",
         81035883
        ],
        [
         "Hadi El Bagoury",
         81035848
        ],
        [
         "Patrik Syversen",
         80176756
        ],
        [
         "Michael John Warren",
         80168221
        ],
        [
         "Andy Capper",
         70261178
        ],
        [
         "Shannon Hartman",
         81002929
        ],
        [
         "Martin Scorsese",
         80221016
        ],
        [
         "Waymon Boone",
         80222188
        ],
        [
         "Phil Johnston",
         80221640
        ],
        [
         "Julie Dash",
         60001104
        ],
        [
         "Andrew C. Erin",
         80132601
        ],
        [
         "Chang-Min Lee",
         80176866
        ],
        [
         "Derek Yee",
         80114989
        ],
        [
         "Cristina Jacob",
         81092768
        ],
        [
         "Cristina Jacob",
         81092766
        ],
        [
         "Roland Emmerich",
         70060018
        ],
        [
         "Jonathan Levine",
         70202141
        ],
        [
         "David McCracken",
         81032375
        ],
        [
         "Brian De Palma",
         352989
        ],
        [
         "Sanjib Dey",
         81062606
        ],
        [
         "Ron Davis",
         81077795
        ],
        [
         "Cristina Jacob",
         81092767
        ],
        [
         "Cristina Jacob",
         81092909
        ],
        [
         "Barry Avrich",
         81070008
        ],
        [
         "Jon Avnet",
         70098605
        ],
        [
         "V. Scott Balcerek",
         81077539
        ],
        [
         "Joe Dante",
         20129240
        ],
        [
         "Richard Kelly",
         70108017
        ],
        [
         "Joel Schumacher",
         70011219
        ],
        [
         "Peter Chelsom",
         80097424
        ],
        [
         "Peter Hutchings",
         80203143
        ],
        [
         "Daniel Yee Heng Chan",
         81068732
        ],
        [
         "Dennie Gordon",
         60026155
        ],
        [
         "Shadab Khan",
         80994443
        ],
        [
         "Nattawut Poonpiriya",
         80245442
        ],
        [
         "Elvira Lind",
         80190515
        ],
        [
         "Davis Guggenheim",
         80048218
        ],
        [
         "Gavin O'Connor",
         60033300
        ],
        [
         "Jon Turteltaub",
         70011206
        ],
        [
         "Mahesh Manjrekar",
         80998558
        ],
        [
         "Lynn Shelton",
         80168167
        ],
        [
         "Felix Starck",
         80245626
        ],
        [
         "Robert Kouba",
         80196584
        ],
        [
         "Umesh Mehra",
         80157084
        ],
        [
         "Edward Cotterill",
         80158580
        ],
        [
         "Ted Braun",
         80108609
        ],
        [
         "Jon Manning",
         80173267
        ],
        [
         "Onur Tukel",
         80144804
        ],
        [
         "Luis Lopez",
         80139214
        ],
        [
         "Saara Cantell",
         80106038
        ],
        [
         "Ron Howard",
         60000901
        ],
        [
         "Cal Seville",
         80158769
        ],
        [
         "Edward Cotterill",
         80158579
        ],
        [
         "Jayaprakash Radhakrishnan",
         80158920
        ],
        [
         "Rob Meyer",
         80107736
        ],
        [
         "Anita Barbosa",
         80148967
        ],
        [
         "Ketan Mehta",
         70057994
        ],
        [
         "Daniel Wilner",
         80186862
        ],
        [
         "Ketan Mehta",
         80156937
        ],
        [
         "Lekh Tandon",
         80158546
        ],
        [
         "Umesh Mehra",
         80156936
        ],
        [
         "Alberto Rodríguez",
         80121843
        ],
        [
         "Edward Cotterill",
         80158581
        ],
        [
         "Alfonso Cuarón",
         60023237
        ],
        [
         "Jose Manuel Colón",
         80104041
        ],
        [
         "Javier Ruiz Caldera",
         80093213
        ],
        [
         "David Sington",
         80099305
        ],
        [
         "Zoe Berriatúa",
         80103623
        ],
        [
         "Luis Estrada",
         80032640
        ],
        [
         "Spike Jonze",
         81098589
        ],
        [
         "Rob Marshall",
         80221446
        ],
        [
         "Lee Eung-bok",
         80991107
        ],
        [
         "Karyn Kusama",
         80048977
        ],
        [
         "Phyllida Lloyd",
         70189282
        ],
        [
         "Leif Tilden",
         80119249
        ],
        [
         "Pat Healy",
         80117747
        ],
        [
         "Dustin McKenzie",
         80004286
        ],
        [
         "Fabio Grassadonia",
         81039323
        ],
        [
         "Raúl Campos",
         80192064
        ],
        [
         "Jody Hill",
         80176715
        ],
        [
         "Samu Fuentes",
         80168029
        ],
        [
         "Alexandre Espigares",
         80245121
        ],
        [
         "Suhas Kadav",
         80177339
        ],
        [
         "Dan Harris",
         80170277
        ],
        [
         "Qaushiq Mukherjee",
         80097355
        ],
        [
         "Marcelo Altmark",
         80223153
        ],
        [
         "Derek Cianfrance",
         70122316
        ],
        [
         "Anurag Basu",
         80102160
        ],
        [
         "Michèle Ohayon",
         80076160
        ],
        [
         "Renny Harlin",
         80099089
        ],
        [
         "Kevin Layne",
         70303706
        ],
        [
         "Amanda Micheli",
         80195243
        ],
        [
         "Eric Khoo",
         81039161
        ],
        [
         "Gideon Raff",
         80240537
        ],
        [
         "Kang Cheng",
         80997870
        ],
        [
         "Cheh Chang",
         60001377
        ],
        [
         "Nizar Shafi",
         81151899
        ],
        [
         "Víctor García",
         81030976
        ],
        [
         "Wilson Coneybeare",
         81017011
        ],
        [
         "Marcus Raboy",
         80213715
        ],
        [
         "Note Chern-Yim",
         80999990
        ],
        [
         "Note Chern-Yim",
         80999991
        ],
        [
         "Poj Arnon",
         81000000
        ],
        [
         "Fernando Sariñana",
         80162192
        ],
        [
         "Jonathan Levine",
         70074100
        ],
        [
         "Scott L. Montoya",
         70224969
        ],
        [
         "Scott L. Montoya",
         70261273
        ],
        [
         "Marcus Raboy",
         70250364
        ],
        [
         "David Blair",
         80198632
        ],
        [
         "Kirk De Micco",
         70143241
        ],
        [
         "Spike Jonze",
         70278933
        ],
        [
         "Sian Heder",
         80093198
        ],
        [
         "Ted Emery",
         81018141
        ],
        [
         "Ted Emery",
         81015524
        ],
        [
         "John Wells",
         70124965
        ],
        [
         "Meng Hua Ho",
         80999107
        ],
        [
         "Tony Datis",
         80992365
        ],
        [
         "Vanessa Roth",
         80092926
        ],
        [
         "Ben Ryder",
         80195835
        ],
        [
         "Jim Strouse",
         80171022
        ],
        [
         "Raúl Campos",
         80192135
        ],
        [
         "Ben Young",
         80236421
        ],
        [
         "Kirby Dick",
         80170862
        ],
        [
         "Raymond Wood",
         81092331
        ],
        [
         "Jorge M. Fontana",
         80173485
        ],
        [
         "Mikhail Red",
         81028404
        ],
        [
         "Olivier Afonso",
         80198508
        ],
        [
         "James Woodroffe",
         80228239
        ],
        [
         "Rachel Bell",
         81032669
        ],
        [
         "David Leveaux",
         80155932
        ],
        [
         "Sebastián Schindel",
         80994020
        ],
        [
         "Asif Kapadia",
         80049094
        ],
        [
         "Kyle Newman",
         80049177
        ],
        [
         "Gilles Paquet-Brenner",
         80025495
        ],
        [
         "Alex Garland",
         80023689
        ],
        [
         "Keanu Reeves",
         70278930
        ],
        [
         "Anna Boden",
         80038337
        ],
        [
         "William Monahan",
         80053475
        ],
        [
         "Piti Jaturaphat",
         80999986
        ],
        [
         "Atom Egoyan",
         80022605
        ],
        [
         "John Maclean",
         80029901
        ],
        [
         "James Ponsoldt",
         80037478
        ],
        [
         "Tanit Jitnukul",
         80007777
        ],
        [
         "Atsajun Sattakovit",
         80999987
        ],
        [
         "Poj Arnon",
         81000015
        ],
        [
         "Poj Arnon",
         80999982
        ],
        [
         "Poj Arnon",
         80999984
        ],
        [
         "Abhishek Sharma",
         81005453
        ],
        [
         "Note Chern-Yim",
         80999989
        ],
        [
         "Sukum Maetawanitch",
         70218312
        ],
        [
         "Tiffanie Hsu",
         81006594
        ],
        [
         "Daniel Gray Longino",
         80185321
        ],
        [
         "Nick Gomez",
         70298116
        ],
        [
         "Karim Amer",
         80117542
        ],
        [
         "Steve Paley",
         80213658
        ],
        [
         "Daniel Calparsoro",
         80232989
        ],
        [
         "Kevin Smith",
         80014857
        ],
        [
         "Kasper Collin",
         80147988
        ],
        [
         "Brandon Dickerson",
         80145512
        ],
        [
         "Harvey Lowry",
         80225024
        ],
        [
         "William Friedkin",
         80204616
        ],
        [
         "Quentin Tarantino",
         70108777
        ],
        [
         "Paul Andrew Williams",
         70259259
        ],
        [
         "J.C. Chandor",
         80017021
        ],
        [
         "Byron Howard",
         70099615
        ],
        [
         "Dharmesh Darshan",
         70034607
        ],
        [
         "Benny Chan",
         70118801
        ],
        [
         "Jay Chapman",
         80213654
        ],
        [
         "Jay Karas",
         80158802
        ],
        [
         "Dante Lam",
         70117354
        ],
        [
         "Chi Keung Fung",
         81036524
        ],
        [
         "Corey Yuen",
         70025372
        ],
        [
         "To-hoi Kong",
         70123160
        ],
        [
         "Jeff Baena",
         70299270
        ],
        [
         "Andrew Lau Wai-Keung",
         80017280
        ],
        [
         "Pete Travis",
         80155863
        ],
        [
         "Michael Gallagher",
         80107087
        ],
        [
         "Hassan Hegazy",
         81035840
        ],
        [
         "Chris Jenkins",
         80195962
        ],
        [
         "Alexandre Avancini",
         80186829
        ],
        [
         "Atom Egoyan",
         80013547
        ],
        [
         "Ziga Virc",
         80115874
        ],
        [
         "Jeffrey Walker",
         80244472
        ],
        [
         "Sam Voutas",
         80190463
        ],
        [
         "Alexander Nevsky",
         80164164
        ],
        [
         "Frank Ariza",
         80997613
        ],
        [
         "Jacob Schwab",
         81092325
        ],
        [
         "Alphonso J. Wesson",
         70053885
        ],
        [
         "Gillian Robespierre",
         70301275
        ],
        [
         "Lenny Abrahamson",
         80073823
        ],
        [
         "Lynn Shelton",
         70299859
        ],
        [
         "Julius Avery",
         80027378
        ],
        [
         "David Michôd",
         70266679
        ],
        [
         "Orson Welles",
         1005494
        ],
        [
         "Peter Sullivan",
         80998968
        ],
        [
         "Destin Daniel Cretton",
         70272893
        ],
        [
         "Alexis Morante",
         80232891
        ],
        [
         "Kobun Shizuno",
         80180376
        ],
        [
         "Fazila Allana",
         80183329
        ],
        [
         "Eric Abrams",
         80192842
        ],
        [
         "Peter Svatek",
         80154884
        ],
        [
         "Aditya Sarpotdar",
         81113926
        ],
        [
         "Hiromasa Yonebayashi",
         80217130
        ],
        [
         "Agustí Villaronga",
         80167460
        ],
        [
         "Kristina Goolsby",
         80028208
        ],
        [
         "Nisheeta Keni",
         81155782
        ],
        [
         "Daniel Gray Longino",
         81003981
        ],
        [
         "Harvey Glazer",
         81151313
        ],
        [
         "Peyton Reed",
         70042688
        ],
        [
         "Ron Clements",
         70109429
        ],
        [
         "Chris Stokes",
         81011993
        ],
        [
         "Steven Fine",
         81153373
        ],
        [
         "Roman Coppola",
         70262783
        ],
        [
         "Denis Villeneuve",
         70293661
        ],
        [
         "Alejandro Doria",
         70266171
        ],
        [
         "Heber Cannon",
         80095718
        ],
        [
         "Sally Potter",
         70257413
        ],
        [
         "Clay Glen",
         80988262
        ],
        [
         "Steven Knight",
         70295189
        ],
        [
         "Ana Quiroga",
         80993684
        ],
        [
         "Harmony Korine",
         70257860
        ],
        [
         "Jean-Cosme Delaloye",
         80998908
        ],
        [
         "Santosh Sivan",
         70171835
        ],
        [
         "Natalia Garagiola",
         80993650
        ],
        [
         "Pamela Romanowsky",
         80049979
        ],
        [
         "James Ponsoldt",
         70267439
        ],
        [
         "Jonathan Glazer",
         70293812
        ],
        [
         "Esteban Crespo",
         80113589
        ],
        [
         "Anil Sharma",
         70298393
        ],
        [
         "Ganesh Kadam",
         80191557
        ],
        [
         "Anthony Scott Burns",
         80096585
        ],
        [
         "Ticoy Rodriguez",
         80106928
        ],
        [
         "Karl Mueller",
         80064459
        ],
        [
         "Joe Berlinger",
         80102204
        ],
        [
         "Philipp Stölzl",
         80014996
        ],
        [
         "Michael Curtiz",
         60003082
        ],
        [
         "Florian Gallenberger",
         80081277
        ],
        [
         "Harry Chaskin",
         80149064
        ],
        [
         "Jeff Orlowski",
         80168188
        ],
        [
         "Marti Noxon",
         80171659
        ],
        [
         "Allan Ungar",
         80097221
        ],
        [
         "Patrick Brice",
         70306646
        ],
        [
         "Christophe Honoré",
         81011936
        ],
        [
         "David M. Rosenthal",
         80167481
        ],
        [
         "Scott Zabielski",
         80214743
        ],
        [
         "Leslie Small",
         70270773
        ],
        [
         "Diego Cohen",
         80991827
        ],
        [
         "William Eubank",
         70300666
        ],
        [
         "Jay Chapman",
         80044126
        ],
        [
         "John Dower",
         80148179
        ],
        [
         "Jay Chapman",
         70301023
        ],
        [
         "Gerardo Olivares",
         80221109
        ],
        [
         "Mark Harris",
         81145271
        ],
        [
         "Wi Ding Ho",
         81024041
        ],
        [
         "Thomas Sieben",
         81044248
        ],
        [
         "Joe Lynch",
         80221677
        ],
        [
         "Noam Murro",
         70084221
        ],
        [
         "Andreas Pichler",
         80234791
        ],
        [
         "Neslihan Yesilyurt",
         80120200
        ],
        [
         "Daniel Arasanz",
         81036520
        ],
        [
         "Joseph Martin",
         80180224
        ],
        [
         "Chapman Way",
         70299904
        ],
        [
         "Sylvie Verheyde",
         80171125
        ],
        [
         "Kasper Barfoed",
         80106989
        ],
        [
         "Phil Joanou",
         80044731
        ],
        [
         "Martin Scorsese",
         60010069
        ],
        [
         "Courtney Hunt",
         70084148
        ],
        [
         "Iain Softley",
         70101345
        ],
        [
         "Linda Mendoza",
         80238020
        ],
        [
         "Jonathan Hensleigh",
         70128697
        ],
        [
         "M. Night Shyamalan",
         70044688
        ],
        [
         "Richard Greenberg",
         60035622
        ],
        [
         "Nathan Morlando",
         80117079
        ],
        [
         "Martin Scorsese",
         70001958
        ],
        [
         "Lee Tamahori",
         70066433
        ],
        [
         "George C. Wolfe",
         70098899
        ],
        [
         "Rushmore DeNooyer",
         81121172
        ],
        [
         "Martin Gorst",
         81121173
        ],
        [
         "Giulia Clark",
         81121174
        ],
        [
         "Sarah Holt",
         81121175
        ],
        [
         "Terri Randall",
         81121176
        ],
        [
         "Doug Hamilton",
         81121177
        ],
        [
         "Martin Gorst",
         81121178
        ],
        [
         "Peter Fison",
         81121179
        ],
        [
         "Graham Townsley",
         81121180
        ],
        [
         "Paula Apsell",
         81121181
        ],
        [
         "Oliver Twinch",
         81121183
        ],
        [
         "Oliver Twinch",
         81121184
        ],
        [
         "Llewellyn M. Smith",
         81121185
        ],
        [
         "Daniel McCabe",
         81121186
        ],
        [
         "Peter Yost",
         81121187
        ],
        [
         "Tom Stubberfield",
         81121188
        ],
        [
         "Noel Dockstader",
         81121189
        ],
        [
         "Gail Willumsen",
         70265211
        ],
        [
         "Steve Carr",
         70109689
        ],
        [
         "Jonathan Demme",
         855084
        ],
        [
         "Andy Fickman",
         70105369
        ],
        [
         "Barry Levinson",
         60029369
        ],
        [
         "Max Lang",
         80005738
        ],
        [
         "Wes Craven",
         60000415
        ],
        [
         "Robert Rodriguez",
         70112731
        ],
        [
         "David Allensworth",
         81130297
        ],
        [
         "Todd Phillips",
         60033320
        ],
        [
         "Ann Deborah Fishman",
         81060038
        ],
        [
         "Dominic Sena",
         60020745
        ],
        [
         "Martin Scorsese",
         18907685
        ],
        [
         "Ryu Jung-woo",
         81113468
        ],
        [
         "Matthew Shoychet",
         81017506
        ],
        [
         "Albert Hughes",
         70114342
        ],
        [
         "Terry Gilliam",
         70021661
        ],
        [
         "Rob Minkoff",
         70084795
        ],
        [
         "Andrew Fleming",
         60027701
        ],
        [
         "Shawn Levy",
         70021654
        ],
        [
         "Hernán Zin",
         81077862
        ],
        [
         "Martin Scorsese",
         70001777
        ],
        [
         "Lijo Jose Pellissery",
         80182447
        ],
        [
         "Raj Kaushal",
         70055855
        ],
        [
         "Bo Burnham",
         70295560
        ],
        [
         "Noushad",
         80994575
        ],
        [
         "Aziz Mirza",
         60036112
        ],
        [
         "Anuranjan Premji",
         80994424
        ],
        [
         "Jason Bourque",
         80997402
        ],
        [
         "Johnson Esthappan",
         80994423
        ],
        [
         "K.C. Bokadia",
         80236278
        ],
        [
         "Greg MacGillivray",
         80217136
        ],
        [
         "Miguel Arteta",
         80115118
        ],
        [
         "P.K. Baaburaaj",
         80180851
        ],
        [
         "Nila Madhab Panda",
         80236279
        ],
        [
         "Vineeth Anil",
         80994573
        ],
        [
         "Katherine Brooks",
         70057519
        ],
        [
         "Jayan Vannery",
         80994425
        ],
        [
         "Bob Odenkirk",
         60029032
        ],
        [
         "Samir Soni",
         81002211
        ],
        [
         "Vipul Amrutlal Shah",
         70062158
        ],
        [
         "Chandran Narikode",
         80994419
        ],
        [
         "Gafoor Y. Elliyaas",
         80994426
        ],
        [
         "Dileep Narayanan",
         80994574
        ],
        [
         "Paritosh Painter",
         70125939
        ],
        [
         "Venugopan",
         80994420
        ],
        [
         "Jay Chou",
         70205125
        ],
        [
         "Imtiaz Ali",
         70034610
        ],
        [
         "Juan Antonio de la Riva",
         80992111
        ],
        [
         "Jenée LaMarque",
         80222256
        ],
        [
         "Michael Radford",
         80206917
        ],
        [
         "Heber Cannon",
         80176064
        ],
        [
         "Saheed Arafath",
         80994421
        ],
        [
         "Jeffrey Nachmanoff",
         70098332
        ],
        [
         "Kabir Sadanand",
         80236280
        ],
        [
         "P.T. Kunju Muhammad",
         80994572
        ],
        [
         "Greg MacGillivray",
         80217135
        ],
        [
         "Huang Lei",
         80996349
        ],
        [
         "Bert Marcus",
         80217120
        ],
        [
         "Shlok Sharma",
         80993648
        ],
        [
         "Adam Deyoe",
         70306701
        ],
        [
         "Nicolas Brossette",
         80178940
        ],
        [
         "Serdar Akar",
         80158301
        ],
        [
         "Clay Glen",
         70290905
        ],
        [
         "Castille Landon",
         80167699
        ],
        [
         "Lekh Tandon",
         80158390
        ],
        [
         "Martin Hodara",
         80184770
        ],
        [
         "Vivieno Caldinelli",
         80191358
        ],
        [
         "Doesjka van Hoogdalem",
         80190946
        ],
        [
         "Rod Blackhurst",
         80107948
        ],
        [
         "Asim Raza",
         80094964
        ],
        [
         "Sushil Majumdar",
         80158481
        ],
        [
         "Geetu Mohandas",
         70299811
        ],
        [
         "Abbas Alibhai Burmawalla",
         70229498
        ],
        [
         "Lekh Tandon",
         20257393
        ],
        [
         "Paulo Oriol",
         80093106
        ],
        [
         "Li Jun",
         80171528
        ],
        [
         "Bilal Lashari",
         80187467
        ],
        [
         "Yasir Nawaz",
         80187323
        ],
        [
         "Umesh Mehra",
         80157132
        ],
        [
         "Oskar Santos",
         80093104
        ],
        [
         "Anders Sømme Hammer",
         80114498
        ],
        [
         "Ryan Polito",
         80106979
        ],
        [
         "Felix Thompson",
         80053140
        ],
        [
         "Ishaya Bako",
         80105672
        ],
        [
         "Ola Flyum",
         80114700
        ],
        [
         "Benny Fredman",
         80106139
        ],
        [
         "Hemant Gaba",
         80108386
        ],
        [
         "Ivona Juka",
         80085300
        ],
        [
         "Don Michael Paul",
         81214114
        ],
        [
         "Mark Sloper",
         81167492
        ],
        [
         "Kobun Shizuno",
         80198623
        ],
        [
         "Kunal Kohli",
         81062853
        ],
        [
         "Ron Howard",
         80220814
        ],
        [
         "Ron Howard",
         81046962
        ],
        [
         "Bryan Bertino",
         80150242
        ],
        [
         "J. Michael Long",
         80213403
        ],
        [
         "Milind Rau",
         80233024
        ],
        [
         "Nick Broomfield",
         1193180
        ],
        [
         "James Wan",
         70251894
        ],
        [
         "Jay Karas",
         80077923
        ],
        [
         "David Lowery",
         80173542
        ],
        [
         "Maria Ripoll",
         80233408
        ],
        [
         "Florian Henckel von Donnersmarck",
         70142888
        ],
        [
         "Aaron Hancox",
         81005561
        ],
        [
         "Noor Imran Mithu",
         81048548
        ],
        [
         "Paakhi Tyrewala",
         81045052
        ],
        [
         "Barbara Kopple",
         80079428
        ],
        [
         "Babak Anvari",
         80096786
        ],
        [
         "Sandy Chronopoulos",
         80200744
        ],
        [
         "Emily Hagins",
         80097725
        ],
        [
         "Eric Juhola",
         80128657
        ],
        [
         "Greg Richardson",
         70295415
        ],
        [
         "Dharmendra Suresh Desai",
         80125627
        ],
        [
         "Iman Brotoseno",
         81037970
        ],
        [
         "Anggy Umbara",
         81037984
        ],
        [
         "Garin Nugroho",
         81037986
        ],
        [
         "Sridhar Jetty",
         81037985
        ],
        [
         "Clive Tonge",
         80153895
        ],
        [
         "Nonzee Nimibutr",
         70026431
        ],
        [
         "Hanung Bramantyo",
         80020885
        ],
        [
         "Mike Flanagan",
         80002667
        ],
        [
         "Masaaki Yuasa",
         80174974
        ],
        [
         "Mahin Ibrahim",
         80213400
        ],
        [
         "José Eduardo Belmonte",
         80148595
        ],
        [
         "Hans Petter Moland",
         70301484
        ],
        [
         "Uwe Boll",
         80038358
        ],
        [
         "Ísold Uggadóttir",
         80998427
        ],
        [
         "Lorena Munoz",
         81000860
        ],
        [
         "Genevieve Nnaji",
         81030789
        ],
        [
         "Mitch Schauer",
         80134893
        ],
        [
         "Terry Loane",
         81047683
        ],
        [
         "Mamat Khalid",
         81049950
        ],
        [
         "Maria Demeshkina Peek",
         81047677
        ],
        [
         "Pang Ho-cheung",
         80188596
        ],
        [
         "Mario Mattei",
         81016360
        ],
        [
         "Lasse Hallström",
         70307659
        ],
        [
         "Selima Taibi",
         80224476
        ],
        [
         "Jay Karas",
         80133549
        ],
        [
         "Alejandra Márquez Abella",
         80081958
        ],
        [
         "Amarjit Virdi",
         81035398
        ],
        [
         "Kamal Sahani",
         70113347
        ],
        [
         "Dan Kwan",
         80097389
        ],
        [
         "Brad Bird",
         80221639
        ],
        [
         "Fred Durst",
         70099120
        ],
        [
         "Pankaj Batra",
         81024718
        ],
        [
         "Marty Callner",
         21028726
        ],
        [
         "William Lau",
         80019930
        ],
        [
         "Yibrán Asuad",
         81006825
        ],
        [
         "Anees Bazmee",
         81213891
        ],
        [
         "John Hughes",
         498716
        ],
        [
         "Luke Sparke",
         80220085
        ],
        [
         "Wim Wenders",
         80244855
        ],
        [
         "Lance Bangs",
         80134966
        ],
        [
         "Peyton Reed",
         80220813
        ],
        [
         "Nishil Sheth",
         81048561
        ],
        [
         "Manny Rodriguez",
         80237903
        ],
        [
         "Byun Hyuk",
         81026705
        ],
        [
         "Zoe Berriatúa",
         80122209
        ],
        [
         "Javier Ambrossi",
         80109193
        ],
        [
         "Federico Lemos",
         80208468
        ],
        [
         "Jeremy Kenyon Lockyer Corbell",
         80214582
        ],
        [
         "Peter Nicks",
         80168198
        ],
        [
         "Sébastien Betbeder",
         80117940
        ],
        [
         "Adam Bhala Lough",
         80998786
        ],
        [
         "Faozan Rizal",
         81047898
        ],
        [
         "Mansore",
         81057249
        ],
        [
         "Hanung Bramantyo",
         81047900
        ],
        [
         "Kuntz Agus",
         81047899
        ],
        [
         "Hanung Bramantyo",
         81047901
        ],
        [
         "Alastair Fothergill",
         70261978
        ],
        [
         "Adam Randall",
         80099016
        ],
        [
         "Nick Broomfield",
         60024962
        ],
        [
         "Jerrold Tarog",
         81031181
        ],
        [
         "David Wain",
         80107084
        ],
        [
         "Michael McKay",
         80196589
        ],
        [
         "Alexandre Heboyan",
         80125818
        ],
        [
         "Raúl Campos",
         80192138
        ],
        [
         "Laura Alvea",
         80239629
        ],
        [
         "Kim Seong-hun",
         80180171
        ],
        [
         "Gastón Duprat",
         81023638
        ],
        [
         "Isaac Florentine",
         80190283
        ],
        [
         "Marco Dutra",
         80148920
        ],
        [
         "Genndy Tartakovsky",
         80233925
        ],
        [
         "Andy Caballero",
         81021098
        ],
        [
         "July Hygreck",
         80194737
        ],
        [
         "Raúl Campos",
         80192062
        ],
        [
         "Paul Shoulberg",
         80193614
        ],
        [
         "Marcus Raboy",
         80117453
        ],
        [
         "Greg Whiteley",
         70296733
        ],
        [
         "Seren Yüce",
         81026192
        ],
        [
         "Jorge Blanco",
         70109891
        ],
        [
         "Law Wing-cheong",
         80003479
        ],
        [
         "Dash Shaw",
         80163053
        ],
        [
         "Scott Moran",
         80208684
        ],
        [
         "Mario Rouleau",
         80124680
        ],
        [
         "Santiago Diaz",
         80175405
        ],
        [
         "Scott Zabielski",
         80214777
        ],
        [
         "Raúl Campos",
         80079427
        ],
        [
         "Ahmed Khaled Moussa",
         81026986
        ],
        [
         "Néstor Sánchez Sotelo",
         80149575
        ],
        [
         "Aniruddha Roy Chowdhury",
         80144448
        ],
        [
         "Chester Tam",
         80100936
        ],
        [
         "Mohit Suri",
         80192420
        ],
        [
         "Terry Gilliam",
         771476
        ],
        [
         "Jon Schnitzer",
         80213401
        ],
        [
         "Craig Elrod",
         80198056
        ],
        [
         "Benjamin Cohen",
         80208083
        ],
        [
         "Mike Rossiter",
         80045818
        ],
        [
         "Michael McKay",
         80195429
        ],
        [
         "Charles Stone III",
         80158485
        ],
        [
         "Matt Angel",
         80198661
        ],
        [
         "Chris McCoy",
         80119375
        ],
        [
         "Sofia Coppola",
         70271454
        ],
        [
         "Chris Smith",
         81035279
        ],
        [
         "Jonathan Helpert",
         80134721
        ],
        [
         "André D'Elia",
         81038976
        ],
        [
         "Matías Gueilburt",
         80988257
        ],
        [
         "Ivan Ayr",
         81023713
        ],
        [
         "Chris Baugh",
         80174219
        ],
        [
         "Jenny Carchman",
         80133139
        ],
        [
         "Tyler Perry",
         81127902
        ],
        [
         "Raúl Campos",
         80191988
        ],
        [
         "Kobun Shizuno",
         80180373
        ],
        [
         "Neal Brennan",
         80117452
        ],
        [
         "G.J. Echternkamp",
         80152003
        ],
        [
         "Jehane Noujaim",
         70268449
        ],
        [
         "Caryn Waechter",
         81147285
        ],
        [
         "Nicholas Stoller",
         70120142
        ],
        [
         "Tim Hill",
         70142824
        ],
        [
         "Numa Perrier",
         81235729
        ],
        [
         "Brian Helgeland",
         80057599
        ],
        [
         "Yoshiyuki Momose",
         81093113
        ],
        [
         "Danny Boyle",
         80049358
        ],
        [
         "Colin Strause",
         70141971
        ],
        [
         "Ethan Coen",
         70114021
        ],
        [
         "Jean-Marc Vallée",
         70275751
        ],
        [
         "Marc Abraham",
         70098902
        ],
        [
         "Steve Barker",
         80118718
        ],
        [
         "Shawn Levy",
         60022265
        ],
        [
         "Rima Das",
         81026003
        ],
        [
         "Paco Plaza",
         80997602
        ],
        [
         "Andrew Goth",
         80169611
        ],
        [
         "Jeffrey G. Hunt",
         81144867
        ],
        [
         "William Kaufman",
         81127333
        ],
        [
         "Marek Kanievska",
         60000878
        ],
        [
         "Skye Borgman",
         81000864
        ],
        [
         "Hashim Nadeem Khan",
         81047445
        ],
        [
         "Mohsin Ali",
         81045085
        ],
        [
         "Svetlana Cvetko",
         81050190
        ],
        [
         "Sarjun",
         81045065
        ],
        [
         "Alejandro Lozano",
         80028965
        ],
        [
         "Michael Civille",
         81050191
        ],
        [
         "Feroz",
         80202078
        ],
        [
         "Syed Atif Ali",
         81047446
        ],
        [
         "Lee Seung-won",
         81000511
        ],
        [
         "Rik Reinholdtsen",
         80218104
        ],
        [
         "Stephanie Soechtig",
         80997719
        ],
        [
         "Rocky Soraya",
         81044856
        ],
        [
         "Rocky Soraya",
         81044857
        ],
        [
         "John Asher",
         80154682
        ],
        [
         "Latif Faiziyev",
         80158543
        ],
        [
         "M.J. Isakson",
         80216543
        ],
        [
         "Matt Toronto",
         80223136
        ],
        [
         "Michael Roberts",
         80189955
        ],
        [
         "Noah Moskin",
         80195807
        ],
        [
         "John H. Lee",
         80116307
        ],
        [
         "Ajay Bhuyan",
         80228321
        ],
        [
         "Rajiv Mehra",
         80156940
        ],
        [
         "Rhiannon Bannenberg",
         80222177
        ],
        [
         "Bin Bunluerit",
         80224233
        ],
        [
         "Jennifer Brea",
         80168300
        ],
        [
         "Pradeep Verma",
         80228282
        ],
        [
         "Hannes Stöhr",
         70114977
        ],
        [
         "Ron Davis",
         80105342
        ],
        [
         "Marty Stalker",
         80119140
        ],
        [
         "Daniel Noah",
         70285683
        ],
        [
         "Andreas Prochaska",
         80141338
        ],
        [
         "Maximilian Erlenwein",
         80015154
        ],
        [
         "John Carchietta",
         80106440
        ],
        [
         "Isaac Ezban",
         80128690
        ],
        [
         "Burhan Qurbani",
         80141337
        ],
        [
         "Wilson Yip",
         70118799
        ],
        [
         "Wilson Yip",
         70137753
        ],
        [
         "David Benioff",
         81060049
        ],
        [
         "Paul Thomas Anderson",
         70244163
        ],
        [
         "Patryk Vega",
         81221851
        ],
        [
         "Charles Officer",
         81009823
        ],
        [
         "Peter Sattler",
         70298946
        ],
        [
         "Marcelo González",
         80144144
        ],
        [
         "Zach Clark",
         80106504
        ],
        [
         "N.D. Wilson",
         80141335
        ],
        [
         "Sean Penn",
         80115030
        ],
        [
         "Daniel Stamm",
         70291114
        ],
        [
         "Gauravv K Chawla",
         81044299
        ],
        [
         "David O. Russell",
         70113534
        ],
        [
         "Kleber Mendonça Filho",
         80113667
        ],
        [
         "Hubert Woroniecki",
         80137087
        ],
        [
         "Alistair Legrand",
         80096955
        ],
        [
         "Steve Boettcher",
         81173792
        ],
        [
         "Mikhil Musale",
         81113919
        ],
        [
         "Julian Jarrold",
         70065107
        ],
        [
         "Quinn Lasher",
         80990532
        ],
        [
         "David Mrnka",
         80108149
        ],
        [
         "John Mikulak",
         70120182
        ],
        [
         "Maya Forbes",
         80173395
        ],
        [
         "Choi Jin-seong",
         80226236
        ],
        [
         "Jay Karas",
         80187307
        ],
        [
         "Ira Sachs",
         80098203
        ],
        [
         "Mir-Jean Bou Chaaya",
         80081960
        ],
        [
         "Peter Hewitt",
         81221873
        ],
        [
         "Dan Villegas",
         81036539
        ],
        [
         "Bent-Jorgen Perlmutt",
         80191048
        ],
        [
         "Hugo Stuven",
         80245041
        ],
        [
         "Greg Pritikin",
         80202273
        ],
        [
         "Amman Abbasi",
         80170870
        ],
        [
         "Soumendra Padhi",
         81183491
        ],
        [
         "Tom Green",
         70253597
        ],
        [
         "Mike Gunther",
         70199239
        ],
        [
         "Fred Olen Ray",
         80099306
        ],
        [
         "Sam Raimi",
         484369
        ],
        [
         "Johannes Roberts",
         80109128
        ],
        [
         "Heitor Dhalia",
         80187188
        ],
        [
         "Jeannie Gaffigan",
         80117811
        ],
        [
         "Robert Luketic",
         70084788
        ],
        [
         "Mark Rosman",
         60036237
        ],
        [
         "Richard Rich",
         80014637
        ],
        [
         "Sam Mendes",
         60000407
        ],
        [
         "Sarah Smith",
         70202138
        ],
        [
         "Edwin",
         81035731
        ],
        [
         "James L. Brooks",
         1181488
        ],
        [
         "Jeff Tremaine",
         70308046
        ],
        [
         "Vadim Jean",
         80108158
        ],
        [
         "Steven Spielberg",
         60024942
        ],
        [
         "Nicholas Hytner",
         60000891
        ],
        [
         "Tim Burton",
         70021648
        ],
        [
         "Kevin Smith",
         1151188
        ],
        [
         "Ken Hughes",
         374651
        ],
        [
         "Atom Egoyan",
         70124183
        ],
        [
         "Fernando Meirelles",
         60026106
        ],
        [
         "Frank Coraci",
         70041162
        ],
        [
         "Matt Reeves",
         70082268
        ],
        [
         "Thomas Carter",
         70019004
        ],
        [
         "Jay Roach",
         70128701
        ],
        [
         "Mike Newell",
         1151721
        ],
        [
         "Rob Cohen",
         60029363
        ],
        [
         "Colin Teague",
         80032636
        ],
        [
         "Doug Lefler",
         60002003
        ],
        [
         "Paul W.S. Anderson",
         1179574
        ],
        [
         "Chris Stokes",
         81103093
        ],
        [
         "James Wong",
         60000393
        ],
        [
         "David R. Ellis",
         60026114
        ],
        [
         "James Wong",
         70042687
        ],
        [
         "Simon Wincer",
         523650
        ],
        [
         "Marcus Nispel",
         70104894
        ],
        [
         "Mark A.Z. Dippé",
         70081015
        ],
        [
         "Mark A.Z. Dippé",
         70100448
        ],
        [
         "Mark A.Z. Dippé",
         70118155
        ],
        [
         "Mark Steven Johnson",
         70044594
        ],
        [
         "Anurag Kashyap",
         81088083
        ],
        [
         "Roland Emmerich",
         11819467
        ],
        [
         "Adam Shankman",
         70065096
        ],
        [
         "Danny Leiner",
         70000091
        ],
        [
         "Andy Tennant",
         70019506
        ],
        [
         "Keoni Waxman",
         70150473
        ],
        [
         "Christopher Nolan",
         70131314
        ],
        [
         "Eugenio Derbez",
         70284281
        ],
        [
         "Michael Simon",
         81084305
        ],
        [
         "John A. Davis",
         60021788
        ],
        [
         "Nora Ephron",
         70112732
        ],
        [
         "James Mangold",
         60021790
        ],
        [
         "Quentin Tarantino",
         60031236
        ],
        [
         "Quentin Tarantino",
         60032563
        ],
        [
         "Peter Farrelly",
         673843
        ],
        [
         "Gary Fleder",
         1180086
        ],
        [
         "Luis Valdez",
         281550
        ],
        [
         "Zack Snyder",
         70125232
        ],
        [
         "Lucas Margutti",
         81211681
        ],
        [
         "Paul Thomas Anderson",
         60000440
        ],
        [
         "Shyam Benegal",
         81217437
        ],
        [
         "Patricia Rozema",
         60000480
        ],
        [
         "Robert Luketic",
         70021634
        ],
        [
         "Duncan Jones",
         70112500
        ],
        [
         "Howard Zieff",
         786137
        ],
        [
         "Dennie Gordon",
         60034568
        ],
        [
         "Justin Webster",
         80197991
        ],
        [
         "Guillermo del Toro",
         70050507
        ],
        [
         "Oren Peli",
         70125581
        ],
        [
         "Phillip Noyce",
         846071
        ],
        [
         "Tetsuo Yajima",
         81085364
        ],
        [
         "Edwin",
         81140307
        ],
        [
         "Paul W.S. Anderson",
         70128695
        ],
        [
         "John Lyde",
         80095807
        ],
        [
         "Steve Rash",
         70121008
        ],
        [
         "Keenen Ivory Wayans",
         60000870
        ],
        [
         "John Stockwell",
         70260512
        ],
        [
         "Gregg Bishop",
         80135276
        ],
        [
         "Phillip Noyce",
         60035996
        ],
        [
         "Chris Koch",
         60000409
        ],
        [
         "Baz Luhrmann",
         60022396
        ],
        [
         "Rob Minkoff",
         28631029
        ],
        [
         "Rob Minkoff",
         60022058
        ],
        [
         "Tim Burton",
         70077544
        ],
        [
         "Michael Pressman",
         60023856
        ],
        [
         "Steve Barron",
         1029730
        ],
        [
         "Jonathan Mostow",
         60029154
        ],
        [
         "McG",
         70103524
        ],
        [
         "Andrew Douglas",
         70021631
        ],
        [
         "Andrew Fleming",
         404067
        ],
        [
         "Neil Jordan",
         70020296
        ],
        [
         "Jay Chandrasekhar",
         70021652
        ],
        [
         "Robert Berlinger",
         70061763
        ],
        [
         "David R. Ellis",
         70113006
        ],
        [
         "Ricky Gervais",
         70105370
        ],
        [
         "Peter Jackson",
         60004484
        ],
        [
         "Peter Jackson",
         60004483
        ],
        [
         "Martin Campbell",
         5670479
        ],
        [
         "David Zucker",
         60001808
        ],
        [
         "David Zucker",
         60001807
        ],
        [
         "Barry Levinson",
         793907
        ],
        [
         "Spike Lee",
         60001854
        ],
        [
         "Mimi Leder",
         20159719
        ],
        [
         "Gore Verbinski",
         60024914
        ],
        [
         "Anthony Minghella",
         60000209
        ],
        [
         "Ron Underwood",
         60033108
        ],
        [
         "S.S. Wilson",
         1064058
        ],
        [
         "Brent Maddock",
         60021377
        ],
        [
         "S.S. Wilson",
         60033107
        ],
        [
         "Don Michael Paul",
         80066084
        ],
        [
         "Henry Hathaway",
         1067876
        ],
        [
         "Jason Reitman",
         70117902
        ],
        [
         "Robert Zemeckis",
         60001396
        ],
        [
         "Barry Sonnenfeld",
         22007250
        ],
        [
         "Mel Stuart",
         60020949
        ],
        [
         "Lawrence Kasdan",
         60011597
        ],
        [
         "Peyton Reed",
         70100379
        ],
        [
         "Nicole Conn",
         70209245
        ],
        [
         "Julie Taymor",
         70045863
        ],
        [
         "Alejandro G. Iñárritu",
         70045866
        ],
        [
         "Yanyong Kuruaungkoul",
         80999981
        ],
        [
         "Ridley Scott",
         60022056
        ],
        [
         "Neill Blomkamp",
         80016588
        ],
        [
         "Joe Roth",
         70011207
        ],
        [
         "Steve Carr",
         60027689
        ],
        [
         "Mark Landre Gould",
         80239710
        ],
        [
         "David Mackenzie",
         80108616
        ],
        [
         "Steven Spielberg",
         70084799
        ],
        [
         "Steven Spielberg",
         60010487
        ],
        [
         "Steven Spielberg",
         60011649
        ],
        [
         "Steven Spielberg",
         60010488
        ],
        [
         "Kevin Smith",
         60004476
        ],
        [
         "Clint Eastwood",
         70299748
        ],
        [
         "Lori Kaye",
         80214621
        ],
        [
         "William H. Macy",
         80245709
        ],
        [
         "Massy Tadjedin",
         70117299
        ],
        [
         "Guy Ritchie",
         16944044
        ],
        [
         "Lenin Bharathi",
         81045060
        ],
        [
         "Mike Newell",
         60031284
        ],
        [
         "Jay Chapman",
         70256512
        ],
        [
         "James Foley",
         70058019
        ],
        [
         "Kunihiko Yuyama",
         81046846
        ],
        [
         "Quentin Tarantino",
         880640
        ],
        [
         "Ranjit Jeyakodi",
         81052279
        ],
        [
         "Ram",
         81052277
        ],
        [
         "Antoine Fuqua",
         60026139
        ],
        [
         "Mark Herman",
         70101375
        ],
        [
         "Alex Proyas",
         408911
        ],
        [
         "Ben A. Williams",
         80195885
        ],
        [
         "Stephen Daldry",
         70307648
        ],
        [
         "John Fortenberry",
         70174741
        ],
        [
         "Rob Cohen",
         60023619
        ],
        [
         "Lee Tamahori",
         70023960
        ],
        [
         "Chandrakant Kulkarni",
         80201623
        ],
        [
         "Uttung Shelar",
         80202086
        ],
        [
         "Greg Kohs",
         80190844
        ],
        [
         "Sumitra Bhave",
         80201626
        ],
        [
         "Lisa Arnold",
         80195653
        ],
        [
         "Bedabrata Pain",
         80084756
        ],
        [
         "Sumitra Bhave",
         70117122
        ],
        [
         "Reiner Holzemer",
         80197427
        ],
        [
         "Kim Nguyen",
         80192627
        ],
        [
         "Jose Manuel Colón",
         80202713
        ],
        [
         "Nagraj Manjule",
         80084454
        ],
        [
         "Bob Rose",
         80196217
        ],
        [
         "Abba T. Makama",
         80208908
        ],
        [
         "Joe Dietsch",
         80167491
        ],
        [
         "Chris Sivertson",
         80206907
        ],
        [
         "Amar Gupte",
         80202905
        ],
        [
         "Sooraj R. Barjatya",
         60035870
        ],
        [
         "Sooraj R. Barjatya",
         80074065
        ],
        [
         "Sachin",
         80201809
        ],
        [
         "Amardeep Singh Gill",
         80228146
        ],
        [
         "Jon M. Chu",
         70169918
        ],
        [
         "Chandrakant Kulkarni",
         80201810
        ],
        [
         "Pratim D. Gupta",
         80221637
        ],
        [
         "Ben Patterson",
         80197301
        ],
        [
         "Sooraj R. Barjatya",
         19207412
        ],
        [
         "David Batty",
         80217436
        ],
        [
         "Sachin",
         80201618
        ],
        [
         "Santosh Manjrekar",
         70128225
        ],
        [
         "Steve Ball",
         80020131
        ],
        [
         "Dustin McKenzie",
         70286028
        ],
        [
         "Victor Dal Chele",
         80020036
        ],
        [
         "William Lau",
         70301472
        ],
        [
         "Dustin McKenzie",
         70286029
        ],
        [
         "Kiki Goshay",
         80196138
        ],
        [
         "Peter Pardini",
         80138615
        ],
        [
         "Lars von Trier",
         70297799
        ],
        [
         "Rebecca Zlotowski",
         80131236
        ],
        [
         "René Pérez Joglar",
         80184547
        ],
        [
         "Rajeev Patil",
         70116578
        ],
        [
         "Sudesh Manjrekar",
         80202908
        ],
        [
         "Kevin Phillips",
         80184135
        ],
        [
         "Jee-woon Kim",
         80139199
        ],
        [
         "Niyi Akinmolayan",
         80208830
        ],
        [
         "Satish Manwar",
         80201813
        ],
        [
         "Alison MacLean",
         80155790
        ],
        [
         "David Koepp",
         1065372
        ],
        [
         "Dan Bush",
         80159566
        ],
        [
         "Sameer Vidwans",
         80201815
        ],
        [
         "Sam Hobkinson",
         80217857
        ],
        [
         "Kedar Shinde",
         70114043
        ],
        [
         "Karan Bali",
         80158376
        ],
        [
         "Rohit Mittal",
         80154688
        ],
        [
         "Steve Hickner",
         70060010
        ],
        [
         "Jalil Lespert",
         80011026
        ],
        [
         "Matt Kugelman",
         80117742
        ],
        [
         "Hari Viswanath",
         80147318
        ],
        [
         "Pratim D. Gupta",
         80152741
        ],
        [
         "Pieter-Jan De Pue",
         80097375
        ],
        [
         "Miriam Chandy Menacherry",
         80145085
        ],
        [
         "Edward Ellis",
         80144141
        ],
        [
         "Abhishek Chaubey",
         80118002
        ],
        [
         "Jerry Rothwell",
         80036832
        ],
        [
         "Charlie Haskell",
         80092837
        ],
        [
         "James Barr",
         70242899
        ],
        [
         "Sorin Dan Mihalcescu",
         70053412
        ],
        [
         "Harold Cronk",
         80131616
        ],
        [
         "Roberta Grossman",
         80174367
        ],
        [
         "David Bruckner",
         80217312
        ],
        [
         "Tamta Gabrichidze",
         80209006
        ],
        [
         "Ari Sandel",
         80117531
        ],
        [
         "Caradog W. James",
         80153131
        ],
        [
         "Steven Soderbergh",
         80991400
        ],
        [
         "Brad Bird",
         81059388
        ],
        [
         "Tom Stern",
         80231156
        ],
        [
         "Kelly Duane de la Vega",
         80191045
        ],
        [
         "Julio Medem",
         81029383
        ],
        [
         "Toa Fraser",
         80178280
        ],
        [
         "Deane Taylor",
         80119555
        ],
        [
         "Luis Javier M. Henaine",
         80158270
        ],
        [
         "Mathias Malzieu",
         70302836
        ],
        [
         "Jenna Laurenzo",
         81034763
        ],
        [
         "Scott Aukerman",
         80151370
        ],
        [
         "Hark Tsui",
         81010962
        ],
        [
         "Bob Nelson",
         80094258
        ],
        [
         "Lance Bangs",
         80159028
        ],
        [
         "Trevor Ryan",
         80201570
        ],
        [
         "Alex Zamm",
         80225034
        ],
        [
         "Charles Stone III",
         80044834
        ],
        [
         "Michael Showalter",
         80216779
        ],
        [
         "Stephen Cone",
         80201497
        ],
        [
         "Julius Onah",
         80134431
        ],
        [
         "Jordan Ross",
         80198745
        ],
        [
         "Krishna Agazzi",
         80168052
        ],
        [
         "Alison E. Rose",
         80167667
        ],
        [
         "Roland Joffé",
         80038446
        ],
        [
         "Lance Bangs",
         80059410
        ],
        [
         "Philipp Stölzl",
         70252885
        ],
        [
         "Craig Moss",
         80157760
        ],
        [
         "Wade Allain-Marcus",
         80065220
        ],
        [
         "Raúl Campos",
         80124726
        ],
        [
         "Malik Vitthal",
         70301279
        ],
        [
         "Vonda Harrell",
         81002591
        ],
        [
         "Fabio Guaglione",
         80123777
        ],
        [
         "Carlos Vermut",
         80109296
        ],
        [
         "Shaina Allen",
         81017530
        ],
        [
         "Joey Kern",
         80190130
        ],
        [
         "Hong-seon Kim",
         80226357
        ],
        [
         "Lilibet Foster",
         80061160
        ],
        [
         "Seth Barrish",
         80133550
        ],
        [
         "J.C. Falcón",
         80103313
        ],
        [
         "Cathy Garcia-Molina",
         80092925
        ],
        [
         "Wenn V. Deramas",
         80094723
        ],
        [
         "Mae Czarina Cruz",
         81010869
        ],
        [
         "Mae Czarina Cruz",
         80188883
        ],
        [
         "Sridhar Rangayan",
         81045072
        ],
        [
         "Cathy Garcia-Molina",
         81010873
        ],
        [
         "Wenn V. Deramas",
         81010864
        ],
        [
         "Cathy Garcia-Molina",
         81010866
        ],
        [
         "Cathy Garcia-Molina",
         80175332
        ],
        [
         "Saw Teong Hin",
         81047510
        ],
        [
         "Cathy Garcia-Molina",
         80011541
        ],
        [
         "Dan Villegas",
         80065327
        ],
        [
         "Olivia M. Lamasan",
         81010872
        ],
        [
         "Wenn V. Deramas",
         70123648
        ],
        [
         "Cathy Garcia-Molina",
         70127628
        ],
        [
         "Antoinette Jadaone",
         80050106
        ],
        [
         "Marcus Raboy",
         80134779
        ],
        [
         "Abhinay Deo",
         80159955
        ],
        [
         "John Asher",
         80013282
        ],
        [
         "Jesse Peretz",
         70167133
        ],
        [
         "Michael Blieden",
         70039645
        ],
        [
         "Sherwin Shilati",
         80214583
        ],
        [
         "Mark Columbus",
         80213299
        ],
        [
         "Dejan Zečević",
         80214579
        ],
        [
         "Pascale Lamche",
         80170119
        ],
        [
         "Lô Politi",
         80119235
        ],
        [
         "Yuen Wo-Ping",
         80039717
        ],
        [
         "Joshua Oppenheimer",
         80016401
        ],
        [
         "Jeremy Saulnier",
         70278931
        ],
        [
         "Charles Martin Smith",
         70305955
        ],
        [
         "Pawan K Shrivastava",
         81051693
        ],
        [
         "Paco Plaza",
         80109295
        ],
        [
         "Tomas Portella",
         80071048
        ],
        [
         "Kazuchika Kise",
         80002073
        ],
        [
         "Kazuchika Kise",
         80021983
        ],
        [
         "Kazuchika Kise",
         80002074
        ],
        [
         "Macon Blair",
         80100937
        ],
        [
         "Mitch Schauer",
         80023667
        ],
        [
         "Mar Targarona",
         80191608
        ],
        [
         "Duncan Jones",
         80119233
        ],
        [
         "Steven Gomez",
         80100261
        ],
        [
         "Robert Cannan",
         80097376
        ],
        [
         "Ryan Polito",
         80992973
        ],
        [
         "Aruna Raje",
         81026327
        ],
        [
         "Alex Lehmann",
         80224060
        ],
        [
         "Elisabeth Vogler",
         81027190
        ],
        [
         "Parambrata Chatterjee",
         81071868
        ],
        [
         "Brian A. Miller",
         80013712
        ],
        [
         "Errol Morris",
         70292939
        ],
        [
         "Adam Smith",
         80057509
        ],
        [
         "Ken Burns",
         70202577
        ],
        [
         "Ken Burns",
         80013283
        ],
        [
         "Benjamin Ree",
         80118004
        ],
        [
         "Susannah Ward",
         80003151
        ],
        [
         "Sam Taplin",
         80003152
        ],
        [
         "Kasia Uscinska",
         80012477
        ],
        [
         "Vicky Matthews",
         80003153
        ],
        [
         "Vicky Matthews",
         70296573
        ],
        [
         "Woo Min-ho",
         80236133
        ],
        [
         "Femi Oyeniran",
         81069254
        ],
        [
         "Hang-Jun Jang",
         80223050
        ],
        [
         "Steven Spielberg",
         70251896
        ],
        [
         "Kurt Voelker",
         80198735
        ],
        [
         "David Paul Meyer",
         80134969
        ],
        [
         "Constance Marks",
         70166234
        ],
        [
         "Paul Miller",
         60031404
        ],
        [
         "Michael Del Monte",
         81031652
        ],
        [
         "Andreas Johnsen",
         80108610
        ],
        [
         "Nora Twomey",
         80217121
        ],
        [
         "Rakeysh Omprakash Mehra",
         80117596
        ],
        [
         "Chris Blake",
         81060040
        ],
        [
         "Johnny Kevorkian",
         81005266
        ],
        [
         "Amshan Kumar",
         81063743
        ],
        [
         "David L.G. Hughes",
         80219974
        ],
        [
         "Michael McKay",
         80217826
        ],
        [
         "Ildiko Enyedi",
         80177414
        ],
        [
         "You-Jeong Chang",
         80226233
        ],
        [
         "Richard Bates Jr.",
         80098490
        ],
        [
         "Steve McLean",
         81024494
        ],
        [
         "Robert Rodriguez",
         70176656
        ],
        [
         "Gregory Caruso",
         80223123
        ],
        [
         "Benjamin Arfmann",
         80214581
        ],
        [
         "Fumihiko Sori",
         80223731
        ],
        [
         "Shin-yeon Won",
         80211728
        ],
        [
         "Mar Targarona",
         80121386
        ],
        [
         "Keith Scholey",
         80158772
        ],
        [
         "Juan Pablo Buscarini",
         80152627
        ],
        [
         "Keiichi Sato",
         80149259
        ],
        [
         "Chad Van De Keere",
         70307570
        ],
        [
         "Chad Van De Keere",
         80081337
        ],
        [
         "Suseenthiran",
         81057246
        ],
        [
         "Lucky McKee",
         80209153
        ],
        [
         "Cecilia Peck",
         80222025
        ],
        [
         "Sanjeev Gupta",
         80161850
        ],
        [
         "Paul Tanter",
         80107808
        ],
        [
         "Nishikant Kamat",
         80123910
        ],
        [
         "Nishikant Kamat",
         80103428
        ],
        [
         "Ribhu Dasgupta",
         80113673
        ],
        [
         "Kevin MacDonald",
         80013271
        ],
        [
         "Matt Tyrnauer",
         81004511
        ],
        [
         "Stephan Rick",
         80989337
        ],
        [
         "Mariano Baez",
         80191555
        ],
        [
         "Stephanie Laing",
         80184625
        ],
        [
         "Gus Van Sant",
         70100084
        ],
        [
         "Logan Kibens",
         80106438
        ],
        [
         "Leo Riley",
         70295085
        ],
        [
         "Vincent Perez",
         80159877
        ],
        [
         "Ozan Açıktan",
         81043345
        ],
        [
         "Carlos Marques-Marcet",
         80208091
        ],
        [
         "Prasanth Varma",
         81052266
        ],
        [
         "Gangadhar Salimath",
         81067757
        ],
        [
         "Daniel J. Clark",
         81015076
        ],
        [
         "Marcelo Galvão",
         80095232
        ],
        [
         "Shanawaz Nellikunnil",
         81067758
        ],
        [
         "Sudhir Mishra",
         70002291
        ],
        [
         "Danny J. Boyle",
         81050193
        ],
        [
         "Rajat Kapoor",
         81067759
        ],
        [
         "Lars Kaalund",
         80045203
        ],
        [
         "Bedran Güzel",
         81043346
        ],
        [
         "Hari Nath",
         81045069
        ],
        [
         "Josh Webber",
         80216820
        ],
        [
         "Adam Collins",
         81026667
        ],
        [
         "Saket Chaudhary",
         70056686
        ],
        [
         "Tanuja Chandra",
         81067761
        ],
        [
         "Jackie van Beek",
         80992672
        ],
        [
         "Blair Hayes",
         81050194
        ],
        [
         "Sachin Kamlakar Khot",
         70109378
        ],
        [
         "Tolga Örnek",
         81043343
        ],
        [
         "Daniel Monzón",
         80988834
        ],
        [
         "Sung-soo Kim",
         80144372
        ],
        [
         "Chandrakant Kanse",
         80201612
        ],
        [
         "Sanjay Jadhav",
         80202087
        ],
        [
         "Sudesh Manjrekar",
         80201816
        ],
        [
         "Avadhoot Gupte",
         80201605
        ],
        [
         "Satish Rajwade",
         80201609
        ],
        [
         "Sanjay Soorkar",
         70116577
        ],
        [
         "Gajendra Ahire",
         70121660
        ],
        [
         "Michael J. Bassett",
         70120167
        ],
        [
         "Chandrakant Kulkarni",
         80201622
        ],
        [
         "Avadhoot Gupte",
         80201817
        ],
        [
         "Thomas Stuber",
         80082749
        ],
        [
         "Christopher Chambers",
         80065214
        ],
        [
         "Giulio Base",
         80152155
        ],
        [
         "Sam Dunn",
         70137744
        ],
        [
         "Raúl Arévalo",
         80167461
        ],
        [
         "Matías Bize",
         80157565
        ],
        [
         "Alex Holmes",
         80007215
        ],
        [
         "Tanuj Chopra",
         81071972
        ],
        [
         "Jon M. Chu",
         80244853
        ],
        [
         "Bo Burnham",
         80167498
        ],
        [
         "Anand Tiwari",
         80227304
        ],
        [
         "Michael Paul Stephenson",
         80081987
        ],
        [
         "Colin Dench",
         80134968
        ],
        [
         "Jesús Magaña Vázquez",
         80134887
        ],
        [
         "Corey Grant",
         80046696
        ],
        [
         "Gareth Evans",
         70118368
        ],
        [
         "Shaul Schwarz",
         80168084
        ],
        [
         "Rayka Zehtabchi",
         81074663
        ],
        [
         "Jevons Au",
         81012294
        ],
        [
         "Olivier Assayas",
         80013293
        ],
        [
         "Jeremiah Zagar",
         80241304
        ],
        [
         "Afonso Poyart",
         80147513
        ],
        [
         "Ricky Gervais",
         80103818
        ],
        [
         "Joachim Fest",
         80106791
        ],
        [
         "Joe Berlinger",
         80174429
        ],
        [
         "Adam Davis",
         81037273
        ],
        [
         "Chris Weitz",
         60022998
        ],
        [
         "Stephen Daldry",
         60003378
        ],
        [
         "Brad Peyton",
         70132722
        ],
        [
         "Hsu Chih-yen",
         81045891
        ],
        [
         "Emma Hatherley",
         81059656
        ],
        [
         "Meghna Gulzar",
         80080618
        ],
        [
         "Eddie Martin",
         80994282
        ],
        [
         "Kelly Noonan",
         80220013
        ],
        [
         "Rick Morales",
         80065492
        ],
        [
         "Andrew Tan",
         81050118
        ],
        [
         "Michael D. Black",
         81048914
        ],
        [
         "Michael Winnick",
         80220228
        ],
        [
         "James McTeigue",
         70101697
        ],
        [
         "Olivier Assayas",
         80106984
        ],
        [
         "Kelly Fremon Craig",
         80104316
        ],
        [
         "Kyle Rankin",
         80208661
        ],
        [
         "Pramod Pawar",
         81063480
        ],
        [
         "Dan Gilroy",
         80199689
        ],
        [
         "Rebecca Harrison",
         81063084
        ],
        [
         "Milla Harrison-Hansley",
         81059649
        ],
        [
         "Storm Theunissen",
         81059812
        ],
        [
         "Jack C. Newell",
         80205451
        ],
        [
         "Karyn Kusama",
         70045919
        ],
        [
         "Fisher Stevens",
         80141928
        ],
        [
         "Neil Triffett",
         80198055
        ],
        [
         "Tom O'Dell",
         80195654
        ],
        [
         "John Trengove",
         80170992
        ],
        [
         "Ui-seok Jo",
         80163352
        ],
        [
         "Michael Mayer",
         70251218
        ],
        [
         "Greg MacGillivray",
         80217040
        ],
        [
         "Drake Doremus",
         80172958
        ],
        [
         "Amber Tamblyn",
         80171291
        ],
        [
         "Jani Lachauer",
         80234290
        ],
        [
         "Marina Zenovich",
         80168231
        ],
        [
         "Carlos Bolado",
         80005332
        ],
        [
         "Gurvinder Singh",
         80060060
        ],
        [
         "Rohit Shetty",
         80091866
        ],
        [
         "Anjali Nayar",
         80124947
        ],
        [
         "Farah Khan",
         80017528
        ],
        [
         "Shlok Sharma",
         80095530
        ],
        [
         "Joaquín Mazón",
         80093105
        ],
        [
         "Scott Hicks",
         80134682
        ],
        [
         "Adam Sjöberg",
         80154179
        ],
        [
         "John Stewart Muller",
         80127604
        ],
        [
         "Leandro Mark",
         80156767
        ],
        [
         "Pulkit",
         80159668
        ],
        [
         "Jennie Livingston",
         60036691
        ],
        [
         "Oscar Micheaux",
         80161851
        ],
        [
         "Vlad Yudin",
         80152745
        ],
        [
         "Jonás Trueba",
         80167843
        ],
        [
         "Peter DeLuise",
         70306702
        ],
        [
         "Robbie Countryman",
         81004748
        ],
        [
         "Trey Edward Shults",
         80174959
        ],
        [
         "Jason James",
         80225595
        ],
        [
         "James Yukich",
         80160347
        ],
        [
         "Nic Mathieu",
         80098200
        ],
        [
         "Gary Howsam",
         80081410
        ],
        [
         "Pierre Morel",
         70117322
        ],
        [
         "Sujeeth",
         81157385
        ],
        [
         "Agasyah Karim",
         81033201
        ],
        [
         "Jonathan Sobol",
         70253594
        ],
        [
         "Ifa Isfansyah",
         70266069
        ],
        [
         "Nia Dinata",
         70035037
        ],
        [
         "Rudy Soedjarwo",
         81016342
        ],
        [
         "Abhinay Deo",
         70152959
        ],
        [
         "Kiran Rao",
         70144331
        ],
        [
         "David E. Talbert",
         80178974
        ],
        [
         "Umesh Mehra",
         80157086
        ],
        [
         "Abbas Tyrewala",
         70089214
        ],
        [
         "Ashutosh Gowariker",
         60020906
        ],
        [
         "Bhagyaraj",
         60002808
        ],
        [
         "Anusha Rizvi",
         70129396
        ],
        [
         "Latif Faiziyev",
         80156938
        ],
        [
         "Aamir Khan",
         70087087
        ],
        [
         "Baltasar Kormákur",
         80156405
        ],
        [
         "John Stockwell",
         80103392
        ],
        [
         "Chris Kelly",
         80098288
        ],
        [
         "Karey Kirkpatrick",
         70103762
        ],
        [
         "Alexandre Avancini",
         80223271
        ],
        [
         "Marco Risi",
         81016408
        ],
        [
         "Anne Fletcher",
         80201490
        ],
        [
         "Marek Losey",
         81001412
        ],
        [
         "Andy Serkis",
         80993105
        ],
        [
         "Mat King",
         80195198
        ],
        [
         "Brian Oakes",
         80191044
        ],
        [
         "Jacob Joice",
         80999067
        ],
        [
         "Bert Marcus",
         81003741
        ],
        [
         "Drew Heriot",
         70063484
        ],
        [
         "BB Sasore",
         81172740
        ],
        [
         "Pascal Amanfo",
         81172756
        ],
        [
         "Noah Baumbach",
         80223779
        ],
        [
         "Atsuko Ishizuka",
         81068687
        ],
        [
         "Eric Aghimien",
         81172758
        ],
        [
         "Robert Kenner",
         80213588
        ],
        [
         "Bruce Robinson",
         70120340
        ],
        [
         "Omoni Oboli",
         80126997
        ],
        [
         "Omoni Oboli",
         81172868
        ],
        [
         "Saratswadee Wongsomphet",
         81002594
        ],
        [
         "Joel Crawford",
         80185876
        ],
        [
         "Alex Lehmann",
         80117746
        ],
        [
         "Roman Gackowski",
         80142615
        ],
        [
         "Benjamin Dickinson",
         80115673
        ],
        [
         "Mads Matthiesen",
         80105691
        ],
        [
         "John Schultz",
         81029841
        ],
        [
         "Simon Baker",
         80244190
        ],
        [
         "Fernando Moro",
         80211229
        ],
        [
         "Jay Chapman",
         80187435
        ],
        [
         "Kasra Farahani",
         80104103
        ],
        [
         "Jay Karas",
         80004478
        ],
        [
         "Ladislas Chollat",
         81188871
        ],
        [
         "Michael Mason",
         80211590
        ],
        [
         "Chris Howe",
         80187306
        ],
        [
         "Ofir Raul Graizer",
         80988989
        ],
        [
         "Sacha Wolff",
         80117080
        ],
        [
         "Sofia Coppola",
         80042368
        ],
        [
         "Nagesh Kukunoor",
         60034116
        ],
        [
         "Prakash Jha",
         70211474
        ],
        [
         "Ravi Babu",
         81177444
        ],
        [
         "Sandeep Chatterjee",
         81213876
        ],
        [
         "Shivam Nair",
         70056728
        ],
        [
         "Soumitra Ranade",
         81161834
        ],
        [
         "Manmohan Desai",
         247747
        ],
        [
         "Manish Jha",
         70064205
        ],
        [
         "Raja Menon",
         80083672
        ],
        [
         "Hrishikesh Mukherjee",
         60003405
        ],
        [
         "Sagar Sarhadi",
         70053010
        ],
        [
         "Jon Rosenbaum",
         81038225
        ],
        [
         "Priyadarshan",
         70062701
        ],
        [
         "Ram Gopal Varma",
         81213889
        ],
        [
         "Raj Kapoor",
         70005055
        ],
        [
         "David Carson",
         60029461
        ],
        [
         "David Dhawan",
         81213893
        ],
        [
         "Tom Holland",
         372195
        ],
        [
         "Hrishikesh Mukherjee",
         20255593
        ],
        [
         "Tanveer Khan",
         70059328
        ],
        [
         "Indra Kumar",
         81213888
        ],
        [
         "Lee Tamahori",
         60024927
        ],
        [
         "Chandra Barot",
         20255837
        ],
        [
         "Ajay Phansekar",
         70006866
        ],
        [
         "Rajkumar Santoshi",
         20077944
        ],
        [
         "Partho Ghosh",
         20705133
        ],
        [
         "Hrishikesh Mukherjee",
         21028086
        ],
        [
         "Martin Campbell",
         22040803
        ],
        [
         "Rohit Shetty",
         70054380
        ],
        [
         "David Mirkin",
         60020236
        ],
        [
         "Prakash Mehra",
         20765027
        ],
        [
         "Bruce Leddy",
         81109078
        ],
        [
         "Shirish Kunder",
         81213885
        ],
        [
         "Madhur Bhandarkar",
         70129075
        ],
        [
         "Radhu Karmakar",
         60001407
        ],
        [
         "Ahishor Solomon",
         70295531
        ],
        [
         "David Dhawan",
         17457622
        ],
        [
         "Tinnu Anand",
         20712279
        ],
        [
         "Sai Paranjape",
         70051840
        ],
        [
         "Hrishikesh Mukherjee",
         81213895
        ],
        [
         "Gulzar",
         24073896
        ],
        [
         "Remy Kohli",
         81221913
        ],
        [
         "David Dhawan",
         70040912
        ],
        [
         "Shekhar Kapur",
         81213979
        ],
        [
         "David Dhawan",
         70018445
        ],
        [
         "Prakash Mehra",
         81213897
        ],
        [
         "Karan Lalit Butani",
         81213877
        ],
        [
         "Abhishek Saxena",
         81213882
        ],
        [
         "Basu Chatterjee",
         81213896
        ],
        [
         "Raj Kapoor",
         60003097
        ],
        [
         "Sanjay Dayma",
         81213887
        ],
        [
         "John Milius",
         896678
        ],
        [
         "Amit Rai",
         81217436
        ],
        [
         "Raman Kumar",
         81221914
        ],
        [
         "Balu Mahendra",
         70072558
        ],
        [
         "Raj Kapoor",
         60002818
        ],
        [
         "Raj N. Sippy",
         20257617
        ],
        [
         "Ram Gopal Varma",
         70059284
        ],
        [
         "Basu Chatterjee",
         60001404
        ],
        [
         "Tariq Khan",
         81213879
        ],
        [
         "Shakti Samanta",
         81213898
        ],
        [
         "Michael Apted",
         28371873
        ],
        [
         "Roger Spottiswoode",
         17016471
        ],
        [
         "Madhur Bhandarkar",
         70065255
        ],
        [
         "Shyam Benegal",
         60021548
        ],
        [
         "Sanjay Patel",
         81217438
        ],
        [
         "Ashu Trikha",
         81213873
        ],
        [
         "Kushal Srivastava",
         81213874
        ],
        [
         "Chandra Prakash Dwivedi",
         81213884
        ],
        [
         "John Fortenberry",
         81045989
        ],
        [
         "Chris Bould",
         70059483
        ],
        [
         "Chris Bould",
         80108207
        ],
        [
         "Kevin Booth",
         70043231
        ],
        [
         "Paul M. Green",
         81045515
        ],
        [
         "Julio Fernández Talamantes",
         80232095
        ],
        [
         "Walter C. Miller",
         60004393
        ],
        [
         "Walter C. Miller",
         70026468
        ],
        [
         "Walter C. Miller",
         81045512
        ],
        [
         "Paul Dugdale",
         81026251
        ],
        [
         "Tommy Avallone",
         81031650
        ],
        [
         "Noriyuki Abe",
         81006261
        ],
        [
         "Ellen Brown",
         81045509
        ],
        [
         "Matt Askem",
         70298389
        ],
        [
         "Matt Askem",
         81045530
        ],
        [
         "Jay Chapman",
         81045511
        ],
        [
         "Rob Zombie",
         70266169
        ],
        [
         "Barry Avrich",
         80190585
        ],
        [
         "Gary Cohen",
         80210716
        ],
        [
         "Stan Lathan",
         80230402
        ],
        [
         "Fabien Beziat",
         80230465
        ],
        [
         "Nils Tavernier",
         80144691
        ],
        [
         "Alethea Jones",
         80168234
        ],
        [
         "Guy Vasilovich",
         80221778
        ],
        [
         "Rich Ragsdale",
         80184972
        ],
        [
         "Dana Doron",
         80208084
        ],
        [
         "Hidetaka Inazuka",
         80208212
        ],
        [
         "James Brown",
         80218432
        ],
        [
         "Paul Schrader",
         80115134
        ],
        [
         "Diego Luna",
         80098284
        ],
        [
         "Brittany Andrews",
         80220761
        ],
        [
         "Tim Blake Nelson",
         80087891
        ],
        [
         "André Øvredal",
         80022613
        ],
        [
         "Jay Baruchel",
         80163263
        ],
        [
         "Rodrigo Van Der Put",
         81078397
        ],
        [
         "Linda Mendoza",
         80221271
        ],
        [
         "John Michael McDonagh",
         80103374
        ],
        [
         "Theo Davies",
         81167490
        ],
        [
         "Timothy Woodward Jr.",
         81012943
        ],
        [
         "Benoît Jacquot",
         80044536
        ],
        [
         "Fernando Frías De La Parra",
         70301620
        ],
        [
         "John Hillcoat",
         70213471
        ],
        [
         "Måns Mårlind",
         70132228
        ],
        [
         "Ludovic Bernard",
         80194671
        ],
        [
         "Jason Moore",
         70253398
        ],
        [
         "Yuki Yamato",
         81043135
        ],
        [
         "Álvaro Brechner",
         80185375
        ],
        [
         "Levan Tsikurishvili",
         80097519
        ],
        [
         "Rakesh Mehta",
         81024730
        ],
        [
         "Mat Whitecross",
         80151663
        ],
        [
         "Eduardo Chauvet",
         80995577
        ],
        [
         "Gonzalo Bendala",
         80244708
        ],
        [
         "Stefan Aust",
         80136332
        ],
        [
         "Biyi Bandele",
         80082739
        ],
        [
         "Andrew Wessels",
         81228864
        ],
        [
         "Emir Kusturica",
         81094074
        ],
        [
         "Chris Renaud",
         81044813
        ],
        [
         "Odunlade Adekola",
         81172726
        ],
        [
         "Jason Stone",
         81029400
        ],
        [
         "Detlev Buck",
         80141781
        ],
        [
         "Luis Prieto",
         70253590
        ],
        [
         "Elisa Fuksas",
         81150338
        ],
        [
         "Vic Armstrong",
         80013773
        ],
        [
         "Anne Fontaine",
         80098103
        ],
        [
         "Lee Toland Krieger",
         80211991
        ],
        [
         "Noël Wells",
         80182473
        ],
        [
         "Jay Chapman",
         80214478
        ],
        [
         "Marc Francis",
         80182034
        ],
        [
         "Alik Sakharov",
         80083594
        ],
        [
         "Tony Giglio",
         81164603
        ],
        [
         "Akiyuki Shinbo",
         81000505
        ],
        [
         "Ron Oliver",
         81045499
        ],
        [
         "Don Michael Paul",
         81164636
        ],
        [
         "Shojiro Nishimi",
         81037697
        ],
        [
         "J.D. Dillard",
         80208235
        ],
        [
         "Anthony Russo",
         80219127
        ],
        [
         "Michael Petroni",
         80052828
        ],
        [
         "Erik Nelson",
         80190840
        ],
        [
         "Ritu Sarin",
         80145086
        ],
        [
         "Pepe Bojórquez",
         80244123
        ],
        [
         "Rhys Thomas",
         81104634
        ],
        [
         "Jeff Baena",
         80171023
        ],
        [
         "Noam Murro",
         80107989
        ],
        [
         "Patrick Brice",
         80168161
        ],
        [
         "Daniel Kontur",
         80158649
        ],
        [
         "Jorge Michel Grau",
         80134885
        ],
        [
         "Riki Lindhome",
         80136548
        ],
        [
         "Werner Herzog",
         80097363
        ],
        [
         "David M. Rosenthal",
         81014479
        ],
        [
         "Ross Boyask",
         80989338
        ],
        [
         "Bruce Beresford",
         80131551
        ],
        [
         "David Ayer",
         80119234
        ],
        [
         "Satyajit Bhatkal",
         80229953
        ],
        [
         "Louise Alston",
         81108479
        ],
        [
         "Sunkanmi Adebayo",
         81172830
        ],
        [
         "Kheiron",
         80999643
        ],
        [
         "Susanne Bier",
         80196789
        ],
        [
         "Irek Dobrowolski",
         80109551
        ],
        [
         "Rodrigo Van Der Put",
         81020973
        ],
        [
         "Josh Mendoza",
         81019341
        ],
        [
         "Diego Kaplan",
         80223098
        ],
        [
         "Ari Levinson",
         80132411
        ],
        [
         "George Ford",
         80092839
        ],
        [
         "George Ford",
         80092835
        ],
        [
         "Omoni Oboli",
         81172911
        ],
        [
         "Falz",
         81172866
        ],
        [
         "Frank Rajah Arase",
         81172897
        ],
        [
         "Omoni Oboli",
         80126996
        ],
        [
         "Fernando Meirelles",
         80174451
        ],
        [
         "Hasraf Dulull",
         81001097
        ],
        [
         "Gilbert Chan",
         70270949
        ],
        [
         "Rarecho",
         81008536
        ],
        [
         "Steve Cheng",
         81036532
        ],
        [
         "Sam Loh",
         81036535
        ],
        [
         "Jason Lai",
         81036533
        ],
        [
         "Marco Deufemia",
         80232740
        ],
        [
         "Lydia Tenaglia",
         80107030
        ],
        [
         "Thomas Astruc",
         80163222
        ],
        [
         "Pablo Parés",
         80142140
        ],
        [
         "Manny Rodriguez",
         80117628
        ],
        [
         "David Grossman",
         60030245
        ],
        [
         "Mario Cambi",
         70271592
        ],
        [
         "Luc Vinciguerra",
         80046144
        ],
        [
         "Luc Vinciguerra",
         80046145
        ],
        [
         "Ahsan Rahim",
         81036338
        ],
        [
         "Yorgos Lanthimos",
         80058480
        ],
        [
         "Imtiaz Ali",
         80206847
        ],
        [
         "Michael Barrett",
         80164930
        ],
        [
         "Adam Nimoy",
         80115102
        ],
        [
         "Elizabeth Wood",
         80098467
        ],
        [
         "Kevin Smith",
         80098491
        ],
        [
         "Rodrigo Reyes",
         80244681
        ],
        [
         "Samit Kakkad",
         81018239
        ],
        [
         "Kenny Young",
         80205978
        ],
        [
         "Peter Orton",
         80189806
        ],
        [
         "Emil Ben-Shimon",
         80155902
        ],
        [
         "Kenny Young",
         80206057
        ],
        [
         "Julia Hart",
         80105358
        ],
        [
         "Warren P. Sonoda",
         80108691
        ],
        [
         "Mark Lewis",
         81031373
        ],
        [
         "Joel Gallen",
         80166467
        ],
        [
         "Rob W. King",
         80218939
        ],
        [
         "Ian MacAllister-McDonald",
         80175314
        ],
        [
         "L. Frazier",
         80039655
        ],
        [
         "Paul Reubens",
         80023921
        ],
        [
         "Sebastian DiNatale",
         81070659
        ],
        [
         "Prasobh Vijayan",
         81045765
        ],
        [
         "Jon Rosenbaum",
         81018634
        ],
        [
         "Ekachai Uekrongtham",
         80039602
        ],
        [
         "Jay Surridge",
         80090672
        ],
        [
         "Jayson Thiessen",
         80012535
        ],
        [
         "Steve Antin",
         70137790
        ],
        [
         "Nuhash Humayun",
         81048551
        ],
        [
         "Tom Hooper",
         80058477
        ],
        [
         "Brendon Marotta",
         81000861
        ],
        [
         "Sriram Raghavan",
         81039381
        ],
        [
         "Elaine Bogan",
         80026431
        ],
        [
         "Michael Cuesta",
         80013772
        ],
        [
         "David Cronenberg",
         80013474
        ],
        [
         "Lone Scherfig",
         70184051
        ],
        [
         "Thom Zimny",
         80232329
        ],
        [
         "James Marsh",
         80000644
        ],
        [
         "Gordon Chan",
         80145625
        ],
        [
         "Vikram Gandhi",
         80144803
        ],
        [
         "Morgan Spurlock",
         80136440
        ],
        [
         "Sean Hanish",
         80127459
        ],
        [
         "David Shisgall",
         80101609
        ],
        [
         "Mark Williams",
         80125782
        ],
        [
         "Karan Anshuman",
         80074933
        ],
        [
         "Obi Emelonye",
         81213155
        ],
        [
         "Farhan Akhtar",
         60021525
        ],
        [
         "Zoya Akhtar",
         80057585
        ],
        [
         "Farhan Akhtar",
         70059026
        ],
        [
         "Farhan Akhtar",
         70224999
        ],
        [
         "Mrighdeep Singh Lamba",
         70278990
        ],
        [
         "Abhinay Deo",
         70181734
        ],
        [
         "Tsutomu Mizushima",
         80205232
        ],
        [
         "Fernando Ayllón",
         81135444
        ],
        [
         "Reema Kagti",
         70254352
        ],
        [
         "Brodje Wemboendja",
         81213153
        ],
        [
         "Jadesola Osiberu",
         81213148
        ],
        [
         "Vijay Lalwani",
         70134537
        ],
        [
         "Farhan Akhtar",
         70001237
        ],
        [
         "Zoya Akhtar",
         70114467
        ],
        [
         "Shirley Frimpong-Manso",
         81213149
        ],
        [
         "Abhishek Kapoor",
         70110883
        ],
        [
         "Hiroshi Aoyama",
         60004509
        ],
        [
         "Reema Kagti",
         70262614
        ],
        [
         "Phil Roman",
         60022041
        ],
        [
         "Téo Frank",
         81213152
        ],
        [
         "Zoya Akhtar",
         70202336
        ],
        [
         "Sean Olson",
         81025946
        ],
        [
         "Sigrid Andrea Bernardo",
         81036745
        ],
        [
         "Matt Askem",
         81034633
        ],
        [
         "Matt Askem",
         81034635
        ],
        [
         "Guillermo de Oliveira",
         80988832
        ],
        [
         "Elliot Hegarty",
         80188902
        ],
        [
         "Manoj Beedha",
         81045054
        ],
        [
         "Vikram Bhatt",
         70117674
        ],
        [
         "Daniel Alfredson",
         80104116
        ],
        [
         "Jody Lambert",
         80197310
        ],
        [
         "Sridhar Rangayan",
         80220783
        ],
        [
         "Ernie Barbarash",
         80177441
        ],
        [
         "Agnidev Chatterjee",
         80218586
        ],
        [
         "Todd Standing",
         80210182
        ],
        [
         "Marc Levin",
         80018252
        ],
        [
         "Manbhavan Singh",
         80203788
        ],
        [
         "Pa. Ranjith",
         80227673
        ],
        [
         "Ignacio López Escrivá",
         80219340
        ],
        [
         "Rahat Kazmi",
         80218784
        ],
        [
         "Nicholas Kharkongor",
         80218783
        ],
        [
         "Varun Narvekar",
         80223049
        ],
        [
         "Seth Henrikson",
         80217545
        ],
        [
         "Devaki Singh",
         80203784
        ],
        [
         "Benson Lee",
         80106230
        ],
        [
         "Antonio Serrano",
         70003680
        ],
        [
         "Chris Burkard",
         80216662
        ],
        [
         "Sinan Akkuş",
         80093295
        ],
        [
         "Matt Bell",
         80142450
        ],
        [
         "Hardik Mehta",
         80139507
        ],
        [
         "Ehtesham Uddin",
         80087348
        ],
        [
         "Elite Zexer",
         80098810
        ],
        [
         "Pedro Morelli",
         80093812
        ],
        [
         "John Banas",
         80085567
        ],
        [
         "Wim Bonte",
         80092409
        ],
        [
         "Alfonso Cuarón",
         80240715
        ],
        [
         "Bruce MacDonald",
         80222301
        ],
        [
         "Mike Nicoll",
         80104182
        ],
        [
         "Michael Bay",
         81001887
        ],
        [
         "Robert O. Peters",
         81172747
        ],
        [
         "Bunmi Ajakaiye",
         81172757
        ],
        [
         "Omoni Oboli",
         81172903
        ],
        [
         "Biodun Stephen",
         81172904
        ],
        [
         "M.J. Bassett",
         70243446
        ],
        [
         "Ding-Lin Wang",
         81210770
        ],
        [
         "Robert O. Peters",
         81172864
        ],
        [
         "Richard van't Riet",
         81060232
        ],
        [
         "John Hoffman",
         81010212
        ],
        [
         "Marcus Raboy",
         80158871
        ],
        [
         "Michael Winterbottom",
         80139397
        ],
        [
         "Jean-Pierre Dardenne",
         80107019
        ],
        [
         "Gurinder Chadha",
         80191835
        ],
        [
         "Gabriela Cowperthwaite",
         70267802
        ],
        [
         "Raúl Campos",
         80124728
        ],
        [
         "Christopher Smith",
         80020772
        ],
        [
         "Josh Greenbaum",
         70290567
        ],
        [
         "Shonali Bose",
         81037373
        ],
        [
         "Adam Alleca",
         80065754
        ],
        [
         "Marcus Raboy",
         80995991
        ],
        [
         "Craig Anderson",
         80205065
        ],
        [
         "Michael G. Kehoe",
         80194612
        ],
        [
         "Alex Lehmann",
         80104420
        ],
        [
         "Frank Coraci",
         80039517
        ],
        [
         "Sameh Abdulaziz",
         81035888
        ],
        [
         "Lance Bangs",
         81036542
        ],
        [
         "Hiroshi Katagiri",
         81001121
        ],
        [
         "Ivan Sen",
         80144453
        ],
        [
         "Anthony Caronna",
         81009829
        ],
        [
         "Jeffrey C. Bell",
         80132410
        ],
        [
         "Michelle Johnston",
         81148811
        ],
        [
         "John Fortenberry",
         18066997
        ],
        [
         "Jay Roach",
         60023608
        ],
        [
         "Jay Roach",
         1153656
        ],
        [
         "Jay Roach",
         21302357
        ],
        [
         "Vijay Kumar Arora",
         81217745
        ],
        [
         "Matt Shakman",
         80011622
        ],
        [
         "Mikhail Red",
         81165325
        ],
        [
         "Pankaj Batra",
         81217746
        ],
        [
         "Craig Brewer",
         70023451
        ],
        [
         "Serge Ou",
         80188823
        ],
        [
         "Navaniat Singh",
         80182479
        ],
        [
         "Gaurav Bavdankar",
         81217741
        ],
        [
         "David Raynr",
         60024161
        ],
        [
         "Gregory Hoblit",
         873159
        ],
        [
         "Jagdeep Sidhu",
         81217747
        ],
        [
         "Malik Bendjelloul",
         70229213
        ],
        [
         "Jamie M. Dagg",
         80191294
        ],
        [
         "Tanawat Aiemjinda",
         81184705
        ],
        [
         "Robert Rodriguez",
         70021640
        ],
        [
         "Martin Scorsese",
         70044689
        ],
        [
         "Brendan Malloy",
         80208793
        ],
        [
         "Mukesh Vohra",
         81217742
        ],
        [
         "Syrine Boulanouar",
         81169158
        ],
        [
         "Tudor Giurgiu",
         81149202
        ],
        [
         "Andrew Lau Wai-Keung",
         70216819
        ],
        [
         "Cheang Pou Soi",
         70124651
        ],
        [
         "Enrique García Meza",
         81013509
        ],
        [
         "Katarina Launing",
         81002685
        ],
        [
         "Johnnie To",
         70285697
        ],
        [
         "Gabriel Clarke",
         81018536
        ],
        [
         "Lawrence Cheng",
         81030201
        ],
        [
         "Prakash Balwant Saini",
         81024726
        ],
        [
         "Nam Ron",
         81015153
        ],
        [
         "Johnnie To",
         81030198
        ],
        [
         "Johnnie To",
         80017265
        ],
        [
         "Baljit Singh Deo",
         81024716
        ],
        [
         "Leung Lok Man",
         80106306
        ],
        [
         "Guillermo del Toro",
         60034549
        ],
        [
         "Jazz Boon",
         80135353
        ],
        [
         "Prakash Satam",
         80995077
        ],
        [
         "Andrew Lau Wai-Keung",
         70126809
        ],
        [
         "Felix Chong",
         80127645
        ],
        [
         "Dhanush",
         80187471
        ],
        [
         "Gary Mak",
         81030200
        ],
        [
         "Liu Jiang",
         81030197
        ],
        [
         "Gabriele Muccino",
         70104313
        ],
        [
         "Blake Harris",
         80166319
        ],
        [
         "Evan Spiridellis",
         80158854
        ],
        [
         "Jasbir Bijendra Bhati",
         80203781
        ],
        [
         "Tristan Ferland Milewski",
         80178882
        ],
        [
         "Harjit Singh",
         80203792
        ],
        [
         "Jon Carey",
         80191930
        ],
        [
         "Jennifer Lynch",
         70170181
        ],
        [
         "Leopoldo Aguilar",
         80173001
        ],
        [
         "Nana Ekvtimishvili",
         80171247
        ],
        [
         "Olivier Jean-Marie",
         70286808
        ],
        [
         "Daniel Mann",
         70135647
        ],
        [
         "Ashish R. Shukla",
         80201828
        ],
        [
         "Rohit Jugraj",
         80203787
        ],
        [
         "Priyadarshan",
         70236586
        ],
        [
         "Peter Spirer",
         80173271
        ],
        [
         "Ali F. Mostafa",
         80191513
        ],
        [
         "Myles Kane",
         80176212
        ],
        [
         "Robert McCullough Jr.",
         80147908
        ],
        [
         "Shrihari Sathe",
         80113785
        ],
        [
         "Ralph Macchio",
         80152091
        ],
        [
         "Ricardo Maldonado",
         80118982
        ],
        [
         "Vetrimaaran",
         80149139
        ],
        [
         "Chad L. Scheifele",
         80114915
        ],
        [
         "Linas Phillips",
         80104240
        ],
        [
         "Jeff Margolis",
         907090
        ],
        [
         "Einar Gabbassov",
         80135563
        ],
        [
         "Bauddhayan Mukherji",
         80149282
        ],
        [
         "Mark Risley",
         80154176
        ],
        [
         "Ishi Rudell",
         80073100
        ],
        [
         "Susan Lambert",
         80066806
        ],
        [
         "Tim Johnson",
         70253397
        ],
        [
         "Robert Moresco",
         81156592
        ],
        [
         "Aadish Keluskar",
         81074367
        ],
        [
         "Joe Murray",
         81091977
        ],
        [
         "Jesse Moss",
         80063867
        ],
        [
         "Michael Fahey",
         81153372
        ],
        [
         "Alejandro Montiel",
         80245357
        ],
        [
         "Ian Cheney",
         80222042
        ],
        [
         "Jesse Gustafson",
         80128691
        ],
        [
         "John Schultz",
         70183165
        ],
        [
         "Shin Won-ho",
         80165487
        ],
        [
         "Shin Won-ho",
         70297144
        ],
        [
         "Nancy Schwartzman",
         81087761
        ],
        [
         "Darren Lynn Bousman",
         81065902
        ],
        [
         "Ted Demme",
         80195838
        ],
        [
         "Sujoy Ghosh",
         81112446
        ],
        [
         "John Papola",
         81088318
        ],
        [
         "John Asher",
         80080617
        ],
        [
         "S.S. Rajamouli",
         80203996
        ],
        [
         "S.S. Rajamouli",
         80203998
        ],
        [
         "S.S. Rajamouli",
         80203997
        ],
        [
         "S.S. Rajamouli",
         80204117
        ],
        [
         "S.S. Rajamouli",
         80204119
        ],
        [
         "S.S. Rajamouli",
         80204118
        ],
        [
         "Osman Ali",
         80163368
        ],
        [
         "Rolfe Kanefsky",
         80184868
        ],
        [
         "Mae Czarina Cruz",
         80044888
        ],
        [
         "Lance Bangs",
         80050006
        ],
        [
         "Shannon Hartman",
         80002621
        ],
        [
         "Christopher Nolen",
         81145273
        ],
        [
         "Billy Corben",
         81047680
        ],
        [
         "Joe DeMaio",
         81001278
        ],
        [
         "Rob Silvestri",
         80165221
        ],
        [
         "Mohamed Samy",
         81035835
        ],
        [
         "Alex Burunova",
         81143771
        ],
        [
         "Jesús Torres Torres",
         80208295
        ],
        [
         "Matthias Hoene",
         80138681
        ],
        [
         "Chris Nahon",
         80167488
        ],
        [
         "Dante Lam",
         80142222
        ],
        [
         "Ringo Lam",
         80156927
        ],
        [
         "Alex Coletti",
         80108759
        ],
        [
         "Mark Osborne",
         80057578
        ],
        [
         "Christian De Vita",
         80018296
        ],
        [
         "Abhishek Varman",
         70303426
        ],
        [
         "Sabir Khan",
         80104648
        ],
        [
         "Nikhil Nagesh Bhat",
         80992995
        ],
        [
         "Xiaoxing Yi",
         80234491
        ],
        [
         "Raúl Campos",
         80124724
        ],
        [
         "Bryan Fogel",
         80168079
        ],
        [
         "Fabrice Du Welz",
         80155475
        ],
        [
         "Rohit Shetty",
         70254350
        ],
        [
         "Johnnie To",
         70033611
        ],
        [
         "Wong Jing",
         80997863
        ],
        [
         "Mateo Gil",
         80114719
        ],
        [
         "Paul Andrew Williams",
         80042182
        ],
        [
         "Rémy Four",
         81034010
        ],
        [
         "Fernando Ayllón",
         81091381
        ],
        [
         "Alejandro Fernández Almendras",
         81141694
        ],
        [
         "Jota Linares",
         80209658
        ],
        [
         "Will Lockhart",
         81006598
        ],
        [
         "Erwin van den Eshof",
         80994162
        ],
        [
         "Lauren Miller Rogen",
         80174897
        ],
        [
         "Fernando González Molina",
         80173176
        ],
        [
         "Joseph Mbah",
         81167494
        ],
        [
         "Roger Kumble",
         80999781
        ],
        [
         "Wagner de Assis",
         80997400
        ],
        [
         "David Mackenzie",
         70292992
        ],
        [
         "Jacob Kornbluth",
         70267834
        ],
        [
         "Robert Adetuyi",
         80193491
        ],
        [
         "Marcus Raboy",
         80184834
        ],
        [
         "White Trash Tyler",
         81046796
        ],
        [
         "Van M. Pham",
         81002601
        ],
        [
         "Shivam Nair",
         80177776
        ],
        [
         "Tanuja Chandra",
         81016192
        ],
        [
         "A.R. Murugadoss",
         81016194
        ],
        [
         "Gaby Dellal",
         80059505
        ],
        [
         "Chris Bell",
         81009815
        ],
        [
         "John Barnard",
         80163159
        ],
        [
         "Stan Lathan",
         81140577
        ],
        [
         "Philip Yung",
         80108234
        ],
        [
         "Sarah Adina Smith",
         80152442
        ],
        [
         "Aaron Burns",
         80161232
        ],
        [
         "Abdellatif Kechiche",
         70275600
        ],
        [
         "Jay Karas",
         80097431
        ],
        [
         "Christopher Louie",
         80057691
        ],
        [
         "Tim Rouhana",
         81003736
        ],
        [
         "Joe Berlinger",
         70293130
        ],
        [
         "Ana Kokkinos",
         60000677
        ],
        [
         "Toshiya Shinohara",
         70012316
        ],
        [
         "Jordan Brady",
         70304914
        ],
        [
         "Lars von Trier",
         70298926
        ],
        [
         "Keiko Yagi",
         80132127
        ],
        [
         "Cate Shortland",
         80164392
        ],
        [
         "Adam Wingard",
         80122759
        ],
        [
         "Mohd Khairul Azri Bin Md Noor",
         80163366
        ],
        [
         "Daniela Goggi",
         80115152
        ],
        [
         "Toby Haynes",
         80048569
        ],
        [
         "Yeung Yat-Tak",
         81036530
        ],
        [
         "Keith L. Smith",
         81145277
        ],
        [
         "Todd Biermann",
         80238360
        ],
        [
         "Patrick Graham",
         80245450
        ],
        [
         "Mike Clattenburg",
         81008272
        ],
        [
         "Han Qing",
         81012978
        ],
        [
         "Ian Edelman",
         80144145
        ],
        [
         "Randall Lobb",
         80224167
        ],
        [
         "Rai Yuvraj Bains",
         81155859
        ],
        [
         "Sunil Thakur",
         81155858
        ],
        [
         "Muh Chen",
         81147910
        ],
        [
         "Saurabh Sinha",
         81155802
        ],
        [
         "Ari Folman",
         70285728
        ],
        [
         "Bassam Kurdali",
         70274390
        ],
        [
         "Brian O'Malley",
         80224150
        ],
        [
         "Peter Spirer",
         80128689
        ],
        [
         "Marcus Raboy",
         80185322
        ],
        [
         "Michael Seater",
         80163054
        ],
        [
         "Steven Bognar",
         81090071
        ],
        [
         "Ashwin Saravanan",
         81151880
        ],
        [
         "Ashwin Saravanan",
         81151877
        ],
        [
         "Ashwin Saravanan",
         81151878
        ],
        [
         "Jun Lana",
         81144912
        ],
        [
         "Ashwiny Iyer Tiwari",
         81016193
        ],
        [
         "Atlee Kumar",
         81016196
        ],
        [
         "Ravi Udyawar",
         80201175
        ],
        [
         "R. Balki",
         81016191
        ],
        [
         "Shree Narayan Singh",
         80199962
        ],
        [
         "Salima Koroma",
         80134952
        ],
        [
         "Woo Ming Jin",
         80163407
        ],
        [
         "Shamyl Othman",
         80163265
        ],
        [
         "Michael Mazzola",
         80171742
        ],
        [
         "Martin Scorsese",
         60021787
        ],
        [
         "Julia Knowles",
         81045860
        ],
        [
         "Scott Marshall Smith",
         80162179
        ],
        [
         "Nagesh Kukunoor",
         80115686
        ],
        [
         "Dean Wright",
         70242938
        ],
        [
         "Camille Shooshani",
         81150918
        ],
        [
         "Lesli Linka Glatter",
         22469949
        ],
        [
         "Vijay Kumar",
         81155803
        ],
        [
         "Vishal Bhardwaj",
         70139075
        ],
        [
         "Vikas Bahl",
         70139072
        ],
        [
         "Stacie Passon",
         70267490
        ],
        [
         "Michael Thelin",
         80087354
        ],
        [
         "Madhur Bhandarkar",
         70111162
        ],
        [
         "Abhishek Kapoor",
         80099083
        ],
        [
         "Khalid Mohamed",
         60003290
        ],
        [
         "Luis Ara",
         80227672
        ],
        [
         "Sanjay Leela Bhansali",
         70139074
        ],
        [
         "Vishal Bhardwaj",
         70303432
        ],
        [
         "Imtiaz Ali",
         70303424
        ],
        [
         "Punit Malhotra",
         70139071
        ],
        [
         "Shirish Kunder",
         70219529
        ],
        [
         "Dibakar Banerjee",
         70056059
        ],
        [
         "Prem Soni",
         70114589
        ],
        [
         "Ashutosh Gowariker",
         80104257
        ],
        [
         "Clarence Yiu-leung Fok",
         80997865
        ],
        [
         "Prakash Jha",
         70123124
        ],
        [
         "Rakeysh Omprakash Mehra",
         70047320
        ],
        [
         "Prabhu Deva",
         70229043
        ],
        [
         "Imtiaz Ali",
         80087743
        ],
        [
         "Farah Khan",
         70139078
        ],
        [
         "Mandeep Kumar",
         70229041
        ],
        [
         "Anees Bazmee",
         70187503
        ],
        [
         "Vishal Bhardwaj",
         70075775
        ],
        [
         "Michael Drumm",
         70204316
        ],
        [
         "Fabrizio Copano",
         80234464
        ],
        [
         "Esteban Vidal",
         80209558
        ],
        [
         "Esteban Vidal",
         80209722
        ],
        [
         "Liu Jie",
         80153897
        ],
        [
         "Ding Sheng",
         80138469
        ],
        [
         "Justin Krook",
         80118930
        ],
        [
         "Gervasio Iglesias",
         80202810
        ],
        [
         "Will Gluck",
         80201039
        ],
        [
         "Daniel Lindsay",
         70177633
        ],
        [
         "Tommy Wirkola",
         80146805
        ],
        [
         "Michael Carney",
         80087352
        ],
        [
         "Manuel Martín Cuenca",
         80173606
        ],
        [
         "Susan Johnson",
         80203147
        ],
        [
         "Y. Joon Chung",
         80223582
        ],
        [
         "Jon Rosenbaum",
         80190984
        ],
        [
         "Mark Murphy",
         81092330
        ],
        [
         "Tarsem Singh",
         80021840
        ],
        [
         "Michael Tiddes",
         80231419
        ],
        [
         "Kepa Sojo",
         80235578
        ],
        [
         "Vikramaditya Motwane",
         80243541
        ],
        [
         "Wong Jing",
         70033644
        ],
        [
         "Chia-Liang Liu",
         80039484
        ],
        [
         "Chia-Liang Liu",
         70059191
        ],
        [
         "Johnnie To",
         11546798
        ],
        [
         "Sze Yu Lau",
         70014531
        ],
        [
         "Stephen Chow",
         70026792
        ],
        [
         "Johnnie To",
         80997789
        ],
        [
         "Li Pei-Chuan",
         80997867
        ],
        [
         "Chia-Liang Liu",
         80039662
        ],
        [
         "Anthony Chan",
         80997862
        ],
        [
         "Siu-hung Chung",
         60027334
        ],
        [
         "Poj Arnon",
         80999983
        ],
        [
         "Chia Tang",
         70111922
        ],
        [
         "Alex Law",
         80997859
        ],
        [
         "Chia-Liang Liu",
         70130432
        ],
        [
         "Herman Yau",
         70033579
        ],
        [
         "Cheh Chang",
         70100527
        ],
        [
         "Johnnie To",
         80997857
        ],
        [
         "Johnny To",
         80997793
        ],
        [
         "Sze Yu Lau",
         80997861
        ],
        [
         "Zach Braff",
         70299867
        ],
        [
         "Rajiv Chilaka",
         81154987
        ],
        [
         "Cho Li",
         81122206
        ],
        [
         "Diego Pignataro",
         81004321
        ],
        [
         "Kyle Rideout",
         80209061
        ],
        [
         "Gajendra Ahire",
         81002212
        ],
        [
         "Rucha Humnabadkar",
         80176707
        ],
        [
         "Scott Cooper",
         80199381
        ],
        [
         "Matt Kugelman",
         80202176
        ],
        [
         "Ashutosh Gowariker",
         70123118
        ],
        [
         "Matthew Salleh",
         80182274
        ],
        [
         "Jay Chapman",
         80185166
        ],
        [
         "Jay Chapman",
         80068219
        ],
        [
         "Michael Dowse",
         70209163
        ],
        [
         "Nathaniel Warsh",
         80163191
        ],
        [
         "Alejandro Agresti",
         80184661
        ],
        [
         "Anthony Wonke",
         80078761
        ],
        [
         "Ashim Ahluwalia",
         80115844
        ],
        [
         "Louis C.K.",
         80114111
        ],
        [
         "Robert Nixon",
         70308278
        ],
        [
         "Manu Ashokan",
         81147274
        ],
        [
         "James Lee",
         80136450
        ],
        [
         "Peter Hutchings",
         80039439
        ],
        [
         "Jay Karas",
         80044804
        ],
        [
         "Anita Udeep",
         81147278
        ],
        [
         "Vlad Yudin",
         81146011
        ],
        [
         "Alberto Arnaut Estrada",
         81123826
        ],
        [
         "Barak Goodman",
         81135868
        ],
        [
         "Max McGill",
         80162142
        ],
        [
         "David Fairhead",
         80175483
        ],
        [
         "Victor Zarcoff",
         80100772
        ],
        [
         "Jean-Claude La Marre",
         80188580
        ],
        [
         "Jorge Hernandez Aldana",
         80106737
        ],
        [
         "Michael Tiddes",
         80142058
        ],
        [
         "Michael Drumm",
         70044256
        ],
        [
         "Troy Miller",
         70113636
        ],
        [
         "Jay Karas",
         70237054
        ],
        [
         "Jay Chapman",
         70301469
        ],
        [
         "Majid Majidi",
         81005454
        ],
        [
         "Eduardo Chauvet",
         80995575
        ],
        [
         "Mike Newell",
         80223371
        ],
        [
         "Jake Szymanski",
         80175147
        ],
        [
         "Floyd Russ",
         80239831
        ],
        [
         "Susan Glatzer",
         80105356
        ],
        [
         "Will Canon",
         70296443
        ],
        [
         "Barney Clay",
         80168033
        ],
        [
         "Ernie Barbarash",
         80160346
        ],
        [
         "Rajkumar Hirani",
         70121522
        ],
        [
         "Khaled El Halafawy",
         81065784
        ],
        [
         "Todor Chapkanov",
         80124099
        ],
        [
         "Louis Leterrier",
         70119812
        ],
        [
         "Prawal Raman",
         60032685
        ],
        [
         "Sriram Raghavan",
         70006816
        ],
        [
         "Rajesh Mapuskar",
         70236587
        ],
        [
         "Mike Newell",
         520489
        ],
        [
         "Alexandre Aja",
         70266677
        ],
        [
         "Quentin Tarantino",
         60010514
        ],
        [
         "Lana Wachowski",
         70301367
        ],
        [
         "Kazuaki Kiriya",
         80014727
        ],
        [
         "Phanindra Narsetti",
         81050688
        ],
        [
         "Bharat Nalluri",
         80081505
        ],
        [
         "David Fincher",
         60022700
        ],
        [
         "John G. Avildsen",
         915927
        ],
        [
         "Sylvester Stallone",
         916043
        ],
        [
         "Sylvester Stallone",
         60010836
        ],
        [
         "Sylvester Stallone",
         916061
        ],
        [
         "John G. Avildsen",
         60025674
        ],
        [
         "Rob Reiner",
         70039168
        ],
        [
         "Chris Stokes",
         81103092
        ],
        [
         "Nancy Meyers",
         60031278
        ],
        [
         "Clint Eastwood",
         60001363
        ],
        [
         "Beeban Kidron",
         60026477
        ],
        [
         "Bejoy Nambiar",
         80094096
        ],
        [
         "Paul Raschid",
         81085824
        ],
        [
         "Mel Smith",
         1171655
        ],
        [
         "Jesse Handsher",
         80993489
        ],
        [
         "Wong Jing",
         70033643
        ],
        [
         "Bradley Parker",
         70233317
        ],
        [
         "Wong Jing",
         80997858
        ],
        [
         "Gregory Caruso",
         80238607
        ],
        [
         "Corey Yuen",
         80039485
        ],
        [
         "Vishnu Govindhan",
         80998560
        ],
        [
         "Andrew Lau Wai-Keung",
         70043379
        ],
        [
         "Pablo Giorgelli",
         80232892
        ],
        [
         "Jijo Pancode",
         80998562
        ],
        [
         "Andrés Couturier",
         70124268
        ],
        [
         "Suresh Pillai",
         80998563
        ],
        [
         "B.N. Shajeer Sha",
         80998564
        ],
        [
         "Hua Shan",
         80997864
        ],
        [
         "Alessandro Angulo",
         80035685
        ],
        [
         "Pang Ho-cheung",
         70142792
        ],
        [
         "Amaan Khan",
         81002214
        ],
        [
         "Pablo D'Alo Abba",
         80993656
        ],
        [
         "Binu Ulahhannan",
         80998568
        ],
        [
         "Anil Thomas",
         80998565
        ],
        [
         "Sabu Varghese",
         80998566
        ],
        [
         "Matt Askem",
         81001379
        ],
        [
         "Charlie Lightening",
         81001381
        ],
        [
         "Charlie Lightening",
         81001382
        ],
        [
         "Matt Askem",
         81001383
        ],
        [
         "Kiran Narayanan",
         80998567
        ],
        [
         "Kundan Shah",
         81002215
        ],
        [
         "Richard Correll",
         70105338
        ],
        [
         "Amir Mohiuddin",
         81014824
        ],
        [
         "Zakariya",
         81013200
        ],
        [
         "Alistair Legrand",
         80041339
        ],
        [
         "Steven Soderbergh",
         70105371
        ],
        [
         "John Duigan",
         60022962
        ],
        [
         "Aditya Kripalani",
         81002213
        ],
        [
         "Maria Burton",
         80190147
        ],
        [
         "Charlie Vaughn",
         80190149
        ],
        [
         "Avinash Das",
         80195886
        ],
        [
         "Paul Serafini",
         80190148
        ],
        [
         "April Mullen",
         80147321
        ],
        [
         "Lilly Wachowski",
         70248183
        ],
        [
         "Ben Steele",
         80185723
        ],
        [
         "John Butler",
         80151962
        ],
        [
         "Ali Scher",
         80190146
        ],
        [
         "Maz Jobrani",
         80179433
        ],
        [
         "Isaac Rentz",
         80114501
        ],
        [
         "Clay Glen",
         80187107
        ],
        [
         "Christopher Murray",
         80167646
        ],
        [
         "Kevin Ford",
         80080106
        ],
        [
         "David Briggs",
         80185861
        ],
        [
         "Neil Rawles",
         80185722
        ],
        [
         "Claude Lelouch",
         80081374
        ],
        [
         "J.F. Musial",
         80109260
        ],
        [
         "John Smithson",
         80106144
        ],
        [
         "Daniel Kontur",
         80107987
        ],
        [
         "Neil Armfield",
         80104552
        ],
        [
         "Cal Saville",
         80108147
        ],
        [
         "Christopher Martin",
         80108996
        ],
        [
         "Tom Whitter",
         80109248
        ],
        [
         "Peter Farrelly",
         70222860
        ],
        [
         "Brian M. Conley",
         81026677
        ],
        [
         "Lena Khan",
         80202076
        ],
        [
         "David Wnendt",
         80094357
        ],
        [
         "Rajiv Menon",
         81074135
        ],
        [
         "Justin Webster",
         80160972
        ],
        [
         "Suman Mukhopadhyay",
         80169549
        ],
        [
         "Mike Flanagan",
         80091879
        ],
        [
         "Karthik Subbaraj",
         81091424
        ],
        [
         "Brian Smrz",
         80208951
        ],
        [
         "Kim A. Snyder",
         80097466
        ],
        [
         "Ester Gould",
         80118918
        ],
        [
         "Gerardo Olivares",
         80105690
        ],
        [
         "Joe Swanberg",
         80134527
        ],
        [
         "Maria Pulera",
         80989339
        ],
        [
         "Werner Herzog",
         70295170
        ],
        [
         "Marja Lewis Ryan",
         80130625
        ],
        [
         "Ryan Koo",
         80096984
        ],
        [
         "Hatem Khraiche",
         80222823
        ],
        [
         "Derek Peck",
         80209895
        ],
        [
         "Ryan Polito",
         80189646
        ],
        [
         "Jennifer Morrison",
         80226962
        ],
        [
         "Mitzi Vanessa Arreola",
         80161104
        ],
        [
         "Raúl Campos",
         80191990
        ],
        [
         "Nicolas Pesce",
         80098839
        ],
        [
         "Jeremiah Jones",
         80232502
        ],
        [
         "Dave Patten",
         81088786
        ],
        [
         "Prabhuraj",
         81086435
        ],
        [
         "Karthik Subbaraj",
         81091423
        ],
        [
         "Jean-Simon Chartier",
         81083880
        ],
        [
         "Thomas Meadmore",
         80224218
        ],
        [
         "Brie Larson",
         81034317
        ],
        [
         "Katherine Fairfax Wright",
         80185032
        ],
        [
         "Hèctor Hernández Vicens",
         80119177
        ],
        [
         "Cem Yılmaz",
         80231064
        ],
        [
         "Ömer Faruk Sorak",
         80227118
        ],
        [
         "Sermiyan Midyat",
         80227115
        ],
        [
         "Yılmaz Erdoğan",
         80227113
        ],
        [
         "Kıvanç Baruönü",
         80227116
        ],
        [
         "Ali Taner Baltacı",
         80227119
        ],
        [
         "Bedran Güzel",
         80227114
        ],
        [
         "Holger Tappe",
         80194610
        ],
        [
         "Yılmaz Erdoğan",
         80038443
        ],
        [
         "Cem Yılmaz",
         80231065
        ],
        [
         "Louis C.K.",
         80161109
        ],
        [
         "Herman Yau",
         81029737
        ],
        [
         "Marcus Raboy",
         80227677
        ],
        [
         "C.J. Wallis",
         81092327
        ],
        [
         "Çagan Irmak",
         80231066
        ],
        [
         "Amit Roy",
         80175333
        ],
        [
         "Teddy Lussi-Modeste",
         80198419
        ],
        [
         "Daniel Lee",
         70130142
        ],
        [
         "Fernando Ayllón",
         81026008
        ],
        [
         "Rocky Soraya",
         81062674
        ],
        [
         "Kader Aoun",
         80217689
        ],
        [
         "Bille Woodruff",
         80235025
        ],
        [
         "Abhay Chopra",
         80164904
        ],
        [
         "Lee Chang-dong",
         81015498
        ],
        [
         "Kranti Kanade",
         80157889
        ],
        [
         "Dar Gai",
         81094082
        ],
        [
         "Ricky Gervais",
         80048940
        ],
        [
         "Jon Greenhalgh",
         80044093
        ],
        [
         "Christopher S. Rech",
         80044562
        ],
        [
         "Kitty Green",
         80142316
        ],
        [
         "Spike Lee",
         80128715
        ],
        [
         "Evan Katz",
         80164212
        ],
        [
         "Andrea Arnold",
         80096782
        ],
        [
         "Dawn Porter",
         80174282
        ],
        [
         "Ben Shelton",
         80164864
        ],
        [
         "Curro Velázquez",
         80162993
        ],
        [
         "Laura Brownson",
         80149821
        ],
        [
         "Robert Smigel",
         80183328
        ],
        [
         "Khaled Youssef",
         81035872
        ],
        [
         "Wael Ehsan",
         81035865
        ],
        [
         "Joachim Rønning",
         70260989
        ],
        [
         "Fernando Ayllón",
         80992501
        ],
        [
         "Yılmaz Erdoğan",
         81076251
        ],
        [
         "Sathyan Anthikad",
         81093925
        ],
        [
         "Brian Oakes",
         80191049
        ],
        [
         "Dominic Sena",
         70126573
        ],
        [
         "Wayne Blair",
         70242568
        ],
        [
         "Max Amini",
         80217772
        ],
        [
         "Dimitri Logothetis",
         80164088
        ],
        [
         "Simon Stone",
         80081278
        ],
        [
         "Ahmad El-Badri",
         81035869
        ],
        [
         "Yam Laranas",
         81066244
        ],
        [
         "Ari Sandel",
         80991404
        ],
        [
         "Ahmad Samir Farag",
         81035873
        ],
        [
         "Mohamed Samy",
         81035862
        ],
        [
         "Chris Sivertson",
         81094665
        ],
        [
         "Amr Arafa",
         81035878
        ],
        [
         "Quentin Tarantino",
         80174683
        ],
        [
         "Robert Luketic",
         70103759
        ],
        [
         "Jason Sussberg",
         80182411
        ],
        [
         "Célia Catunda",
         80205442
        ],
        [
         "Sang-ho Yeon",
         80226424
        ],
        [
         "Gauri Shinde",
         80158042
        ],
        [
         "Oliver Schmitz",
         80117684
        ],
        [
         "Felix Herngren",
         80106337
        ],
        [
         "Marcus Raboy",
         80133552
        ],
        [
         "Camilla Nielsson",
         80052683
        ],
        [
         "Sabal Singh Shekawat",
         81077451
        ],
        [
         "Adam Del Giudice",
         81014345
        ],
        [
         "Andy Fickman",
         80158976
        ],
        [
         "Robert Tate",
         80238655
        ],
        [
         "Prakash Satam",
         80995078
        ],
        [
         "Kasia Uscinska",
         80003150
        ],
        [
         "Susannah Ward",
         70296578
        ],
        [
         "Sam Taplin",
         70296574
        ],
        [
         "Vicky Matthews",
         70309257
        ],
        [
         "Louise Wardle",
         80012520
        ],
        [
         "Shalini Kantayya",
         80061161
        ],
        [
         "Alastair Fothergill",
         70219642
        ],
        [
         "Dennis Scholl",
         81030755
        ],
        [
         "Jill Bauer",
         80115676
        ],
        [
         "Fernando Coimbra",
         80118916
        ],
        [
         "Adam Leon",
         80146759
        ],
        [
         "Bille August",
         81073387
        ],
        [
         "Fab Five Freddie",
         80213712
        ],
        [
         "Rebecca Addelman",
         80207606
        ],
        [
         "Olivia Milch",
         80192186
        ],
        [
         "Mark Raso",
         80216834
        ],
        [
         "David Sington",
         80174436
        ],
        [
         "Dylan C. Brown",
         70241596
        ],
        [
         "Chris Stokes",
         80174097
        ],
        [
         "Shelly Chopra Dhar",
         81076749
        ],
        [
         "Shanjey Kumar Perumal",
         81066961
        ],
        [
         "Leslie Small",
         80174687
        ],
        [
         "Andrew Niccol",
         80015799
        ],
        [
         "Jarrad Paul",
         80036657
        ],
        [
         "Michael Doneger",
         81037733
        ],
        [
         "Sandra Restrepo",
         81010166
        ],
        [
         "Ken Loach",
         80112518
        ],
        [
         "Sarthak Dasgupta",
         81033430
        ],
        [
         "Sameh Abdulaziz",
         81035851
        ],
        [
         "Jennifer Kaytin Robinson",
         80202920
        ],
        [
         "Ken Burns",
         81088285
        ],
        [
         "Renato De Maria",
         81080942
        ],
        [
         "Pedro Coutinho",
         80187301
        ],
        [
         "Wong Jing",
         80215782
        ],
        [
         "Barak Goodman",
         80172000
        ],
        [
         "Barak Goodman",
         80169778
        ],
        [
         "Hani Hamdi",
         81035844
        ],
        [
         "Khaled El Halafawy",
         81035842
        ],
        [
         "Ismail Farouk",
         81035860
        ],
        [
         "Moataz El Tony",
         81035850
        ],
        [
         "Ossama Abu El Atta",
         81035846
        ],
        [
         "Hadi El Bagoury",
         81035854
        ],
        [
         "Simon Verhoeven",
         80097516
        ],
        [
         "Ron Oliver",
         80164465
        ],
        [
         "Jay Chapman",
         80117484
        ],
        [
         "Alan Rickman",
         80017099
        ],
        [
         "Hasan Karacadağ",
         81043542
        ],
        [
         "Dylan Haegens",
         81026329
        ],
        [
         "Ulises Valencia",
         81006826
        ],
        [
         "Beyoncé Knowles-Carter",
         81013626
        ],
        [
         "Bill D'Elia",
         80029368
        ],
        [
         "Jon Lucas",
         70222859
        ],
        [
         "Richard Curtis",
         70261674
        ],
        [
         "Tom Shadyac",
         70045274
        ],
        [
         "Bill Oliver",
         81034599
        ],
        [
         "Jennifer Beamish",
         81090128
        ],
        [
         "Paul Weitz",
         70114022
        ],
        [
         "Gabe Klinger",
         80180225
        ],
        [
         "David Gordon Green",
         80015794
        ],
        [
         "Nagesh Kukunoor",
         81088700
        ],
        [
         "Suparn Verma",
         70043149
        ],
        [
         "Vlad Yudin",
         81018181
        ],
        [
         "Sudhir Mishra",
         70040077
        ],
        [
         "Sujoy Ghosh",
         60031998
        ],
        [
         "Anant Balani",
         60036103
        ],
        [
         "Soukarya Ghosal",
         81086641
        ],
        [
         "Leena Yadav",
         70027133
        ],
        [
         "Amitabha Singh",
         81086640
        ],
        [
         "Carly Stone",
         81009808
        ],
        [
         "Liam O'Donnell",
         80189853
        ],
        [
         "Bruce Gowers",
         70059700
        ],
        [
         "Ron Oliver",
         70142918
        ],
        [
         "Enrico Bisi",
         80992231
        ],
        [
         "Michael Lennox",
         80081790
        ],
        [
         "Detlev Buck",
         80015280
        ],
        [
         "Detlev Buck",
         80141253
        ],
        [
         "Detlev Buck",
         80141254
        ],
        [
         "Andrea Molaioli",
         80160081
        ],
        [
         "Kemi Adetiba",
         80168301
        ],
        [
         "Aaron Nee",
         80064273
        ],
        [
         "Felix Van Groeningen",
         80098475
        ],
        [
         "Chris Bell",
         80058247
        ],
        [
         "Werner Herzog",
         70302184
        ],
        [
         "Ken Barbet",
         81060043
        ],
        [
         "Dallas Jackson",
         81024557
        ],
        [
         "Sam Taylor-Johnson",
         70124562
        ],
        [
         "Marie Madinier",
         80156683
        ],
        [
         "Miguel Ángel Lamata",
         80141185
        ],
        [
         "Steven Brill",
         80126569
        ],
        [
         "Antonio Chavarrías",
         80171982
        ],
        [
         "Tiller Russell",
         80035467
        ],
        [
         "Gabriel Julien-Laferrière",
         80156856
        ],
        [
         "Yeo Siew Hua",
         81041391
        ],
        [
         "Jota Linares",
         81018120
        ],
        [
         "Joshua Marston",
         80152625
        ],
        [
         "Eleonore Pourriat",
         80175421
        ],
        [
         "Anthony D'Souza",
         80108518
        ],
        [
         "Zoe Lister-Jones",
         80172002
        ],
        [
         "Mike Wiluan",
         81019144
        ],
        [
         "Hasan Karacadağ",
         81043540
        ],
        [
         "Hasan Karacadağ",
         81043541
        ],
        [
         "Ayush Raina",
         80170483
        ],
        [
         "Chris Nelson",
         81019888
        ],
        [
         "Peter Webber",
         80133153
        ],
        [
         "Antonio Serrano",
         80149145
        ],
        [
         "Raphael Erichsen",
         80164207
        ],
        [
         "Lee Kyoungmi",
         81044884
        ],
        [
         "Leslie Small",
         80106743
        ],
        [
         "Michael Kennedy",
         81087095
        ],
        [
         "Fernando Ayllón",
         81026007
        ],
        [
         "John R. Leonetti",
         81021447
        ],
        [
         "Peter Orton",
         80158875
        ],
        [
         "Grant S. Johnson",
         80142474
        ],
        [
         "Shravan Kumar",
         81086434
        ],
        [
         "Julien Christian Lutz",
         81083791
        ],
        [
         "Nick Davis",
         81088282
        ],
        [
         "Jason Winer",
         70167072
        ],
        [
         "Gregory Hoblit",
         70058016
        ],
        [
         "Peter Segal",
         70077557
        ],
        [
         "Huang Jianming",
         80233085
        ],
        [
         "Laura VanZee Taylor",
         80210602
        ],
        [
         "Gerry Hoban",
         81088283
        ],
        [
         "Tianyu Zhao",
         80141156
        ],
        [
         "Richard LaGravenese",
         70077546
        ],
        [
         "Mark Palansky",
         70063591
        ],
        [
         "Shazia Ali Khan",
         81052280
        ],
        [
         "Guy Ritchie",
         70110558
        ],
        [
         "Robert Rodriguez",
         60020916
        ],
        [
         "Robert Rodriguez",
         60029178
        ],
        [
         "Stacy Title",
         80103336
        ],
        [
         "Bumpy",
         81066723
        ],
        [
         "Manish Jha",
         80207445
        ],
        [
         "Erik White",
         80209751
        ],
        [
         "Ben Brewer",
         80063773
        ],
        [
         "Victoria Bromley",
         81088284
        ],
        [
         "Philip G. Atwell",
         70061480
        ],
        [
         "Padmakumar Narasimhamurthy",
         80987611
        ],
        [
         "Stephen Gyllenhaal",
         70060380
        ],
        [
         "Diego Lerman",
         80202808
        ],
        [
         "Don Bluth",
         60010082
        ],
        [
         "Phil Nibbelink",
         60033788
        ],
        [
         "Larry Latham",
         60033786
        ],
        [
         "Larry Latham",
         60033787
        ],
        [
         "Simon Wells",
         60022255
        ],
        [
         "Phil Weinstein",
         60022254
        ],
        [
         "Phil Weinstein",
         70020048
        ],
        [
         "Rajkumar Santoshi",
         284890
        ],
        [
         "Kaspar Astrup Schröder",
         80226076
        ],
        [
         "Priyadarshan",
         70115621
        ],
        [
         "Gregory Hoblit",
         80103383
        ],
        [
         "Gary David Goldberg",
         60011619
        ],
        [
         "Raj Amit Kumar",
         80041337
        ],
        [
         "Kundan Shah",
         60033223
        ],
        [
         "Keith Malloy",
         80196139
        ],
        [
         "Nanette Burstein",
         80148180
        ],
        [
         "Jocelyn Moorhouse",
         607931
        ],
        [
         "Luca Vullo",
         80225907
        ],
        [
         "Ryan Polito",
         70298251
        ],
        [
         "Kundan Shah",
         60002111
        ],
        [
         "Jared Cohn",
         80190215
        ],
        [
         "Farah Khan",
         70000196
        ],
        [
         "Tathagata Banerjee",
         80245519
        ],
        [
         "Ananda Krishnan",
         80245329
        ],
        [
         "Farah Khan",
         70083535
        ],
        [
         "Amol Palekar",
         70039405
        ],
        [
         "Aziz Mirza",
         60000722
        ],
        [
         "Kookie V. Gulati",
         70134539
        ],
        [
         "Atanu Mukherjee",
         80245518
        ],
        [
         "Nagraj Manjule",
         80124313
        ],
        [
         "Steven Spielberg",
         60036359
        ],
        [
         "Billy Ray",
         80049281
        ],
        [
         "Esteban Sapir",
         70084328
        ],
        [
         "Saul Dibb",
         70099610
        ],
        [
         "Stephen Amezdroz",
         80217041
        ],
        [
         "Benedict Andrews",
         80156408
        ],
        [
         "Sushrut Jain",
         80172938
        ],
        [
         "Gayane Petrosyan",
         80131414
        ],
        [
         "Shivendra Singh Dungarpur",
         80170612
        ],
        [
         "Alexandre Reinecke",
         80144890
        ],
        [
         "Philipp Eichholtz",
         80106786
        ],
        [
         "Jamal Hill",
         80115101
        ],
        [
         "Daniel Gordon",
         80141261
        ],
        [
         "K. Ramanlal",
         80158482
        ],
        [
         "Maris Curran",
         80081955
        ],
        [
         "John Edginton",
         80164112
        ],
        [
         "Avinash Arun",
         70302835
        ],
        [
         "Ed Gass-Donnelly",
         80125512
        ],
        [
         "Jason Spingarn-Koff",
         70129457
        ],
        [
         "Takuya Igarashi",
         70205014
        ],
        [
         "A. Salaam",
         80158479
        ],
        [
         "Jason Cohen",
         80104318
        ],
        [
         "Eduardo Casanova",
         80100054
        ],
        [
         "Keith Fulton",
         80097468
        ],
        [
         "Rudradeep Bhattacharjee",
         80171439
        ],
        [
         "Daniel Burman",
         80104237
        ],
        [
         "Kike Maíllo",
         80093107
        ],
        [
         "G.J. Echternkamp",
         80085438
        ],
        [
         "G.J. Echternkamp",
         80085439
        ],
        [
         "Zatella Beatty",
         80011846
        ],
        [
         "Vlad Yudin",
         80064521
        ],
        [
         "Mario Van Peebles",
         70197049
        ],
        [
         "Danny Cannon",
         80020542
        ],
        [
         "Hayato Date",
         70205012
        ],
        [
         "Michael Cumming",
         80108561
        ],
        [
         "Eli Roth",
         70242310
        ],
        [
         "Go Koga",
         80175619
        ],
        [
         "Everardo Gout",
         80144355
        ],
        [
         "Bhavik Thakore",
         80208115
        ],
        [
         "Phil Sgriccia",
         70143825
        ],
        [
         "Rob Seidenglanz",
         80066080
        ],
        [
         "Jesse Warn",
         80065386
        ],
        [
         "Rob Seidenglanz",
         80133311
        ],
        [
         "Glen Winter",
         80027042
        ],
        [
         "Carlos Sedes",
         80018046
        ],
        [
         "James Bamford",
         70242081
        ],
        [
         "Jay Chandrasekhar",
         70143864
        ],
        [
         "Philippa Lowthorpe",
         70245163
        ],
        [
         "Ian Barber",
         80023644
        ],
        [
         "Gordon Anderson",
         80179201
        ],
        [
         "Vijay Roche",
         80207879
        ],
        [
         "Iginio Straffi",
         80007778
        ],
        [
         "Stefan Brogren",
         80062047
        ],
        [
         "Tensai Okamura",
         80103318
        ],
        [
         "Peter McDonnell",
         80201773
        ],
        [
         "Jerry Seinfeld",
         80171362
        ],
        [
         "Tony Collingwood",
         70180293
        ],
        [
         "Yasuhiro Irie",
         70204981
        ],
        [
         "Dan Forrer",
         80080436
        ],
        [
         "James Hawes",
         70142436
        ],
        [
         "Jung-ah Im",
         80176929
        ],
        [
         "Andy Devonshire",
         80063224
        ],
        [
         "Thomas Astruc",
         80164216
        ],
        [
         "Vikramaditya Motwane",
         80115328
        ],
        [
         "Jung-ah Im",
         80176842
        ],
        [
         "Onur Ünlü",
         80126599
        ],
        [
         "Shinji Takagi",
         81171121
        ],
        [
         "Kevin Deters",
         80062011
        ],
        [
         "Michael Socha",
         80017272
        ],
        [
         "Koji Sawai",
         70129415
        ],
        [
         "Abhinav Shiv Tiwari",
         80108386
        ],
        [
         "Brandon Somerhalder",
         80213400
        ],
        [
         "Krishnendu Chattopadhyay",
         81048551
        ],
        [
         "Brett Ratner",
         70222860
        ],
        [
         "Tim Maltby",
         81145628
        ],
        [
         "Francisco Schultz",
         80164077
        ],
        [
         "Tilak Shetty",
         80182483
        ],
        [
         "Tilak Shetty",
         80182596
        ],
        [
         "Tilak Shetty",
         80182621
        ],
        [
         "Joe Ksander",
         80988892
        ],
        [
         "Ross R. Shuman",
         80058026
        ],
        [
         "Nathanael Wiseman",
         80162141
        ],
        [
         "Paween Purikitpanya",
         70142798
        ],
        [
         "Parkpoom Wongpoom",
         70062814
        ],
        [
         "Brian McGinn",
         80081155
        ],
        [
         "Gerardo Olivares",
         80992039
        ],
        [
         "Koji Morimoto",
         81171121
        ],
        [
         "Robert C. Ramirez",
         60003155
        ],
        [
         "Adam Schlesinger",
         80173625
        ],
        [
         "Clay Tweel",
         80005444
        ],
        [
         "Éric Warin",
         80166318
        ],
        [
         "Jon Shenk",
         80097321
        ],
        [
         "Alan Hicks",
         80102952
        ],
        [
         "Patricia Font",
         81000389
        ],
        [
         "John Voorhees",
         80119815
        ],
        [
         "Jacques Cluzaud",
         70118953
        ],
        [
         "Aaron Moorhead",
         80190449
        ],
        [
         "Tim Skousen",
         80045805
        ],
        [
         "Arie Azis",
         81016339
        ],
        [
         "Ben Pluimer",
         80088910
        ],
        [
         "Keegan Kuhn",
         80033772
        ],
        [
         "Manussa Vorasingha",
         80999985
        ],
        [
         "Ben Foster",
         81023636
        ],
        [
         "Andrew Meier",
         81001494
        ],
        [
         "Lea Glob",
         81137482
        ],
        [
         "Jill Culton",
         70043308
        ],
        [
         "Syrine Boulanouar",
         80184974
        ],
        [
         "Wynn Padula",
         80184055
        ],
        [
         "Alban Teurlai",
         80160358
        ],
        [
         "Umesh Mehra",
         80157134
        ],
        [
         "Mariano Cohn",
         80141891
        ],
        [
         "Gastón Duprat",
         80190990
        ],
        [
         "Steve Ball",
         81021243
        ],
        [
         "Pranav Singh",
         80207446
        ],
        [
         "Seth Fuller",
         81000863
        ],
        [
         "Mark Radice",
         80219941
        ],
        [
         "Jennifer Lee",
         80062011
        ],
        [
         "Gavin Yap",
         81075461
        ],
        [
         "Ross Kauffman",
         70299286
        ],
        [
         "Todd Wider",
         80131240
        ],
        [
         "Bruno Ascenzo",
         81020005
        ],
        [
         "Rachel Grady",
         80118101
        ],
        [
         "Aubrey Powell",
         80235999
        ],
        [
         "Ian MacNaughton",
         80236778
        ],
        [
         "James Rogan",
         80236470
        ],
        [
         "Mario Miscione",
         80070182
        ],
        [
         "Kery James",
         81034012
        ],
        [
         "Darin Scott",
         81015317
        ],
        [
         "Hayden Schlossberg",
         70083108
        ],
        [
         "Paul Demeyer",
         60003540
        ],
        [
         "Frank Miller",
         70021630
        ],
        [
         "Chris Buck",
         70058025
        ],
        [
         "Norton Virgien",
         18021979
        ],
        [
         "Andrew J. Smith",
         80173150
        ],
        [
         "Tim Story",
         70211216
        ],
        [
         "Abbas Alibhai Burmawalla",
         70096752
        ],
        [
         "Mastan Alibhai Burmawalla",
         70229046
        ],
        [
         "Franck Ekinci",
         80062096
        ],
        [
         "Michael Goguen",
         80112370
        ],
        [
         "Ezekiel Norton",
         80158155
        ],
        [
         "Gabe Turner",
         80135360
        ],
        [
         "Gaëtan Brizzi",
         80017272
        ],
        [
         "Eric Radomski",
         80208176
        ],
        [
         "Alain Gagnol",
         80063290
        ],
        [
         "Alejandro Martinez-Beltran",
         80162246
        ],
        [
         "Olly Reid",
         80112371
        ],
        [
         "Jon Freeman",
         80109089
        ],
        [
         "Dax Shepard",
         70243445
        ],
        [
         "Valeria Pivato",
         80236993
        ],
        [
         "Richard Ladkani",
         80117533
        ],
        [
         "Ignacio Jaunsolo",
         81197050
        ],
        [
         "Sergio Goyri Jr.",
         80990725
        ],
        [
         "Titien Wattimena",
         81033200
        ],
        [
         "Mathew Orzel",
         80097475
        ],
        [
         "Kathleen Hepburn",
         81177504
        ],
        [
         "Rosa Márquez",
         81005044
        ],
        [
         "Mike Myhre",
         81018860
        ],
        [
         "Fedor Lyass",
         81218079
        ],
        [
         "Jonathan Milott",
         80174220
        ],
        [
         "Iwao Takamoto",
         60020948
        ],
        [
         "Adam Carolla",
         81218074
        ],
        [
         "Jim Gable",
         80203522
        ],
        [
         "Nikon",
         80107037
        ],
        [
         "Jake Paltrow",
         80080109
        ],
        [
         "Raúl Campos Delgado",
         80124725
        ],
        [
         "David Pastor",
         70122722
        ],
        [
         "Stu Livingston",
         81215438
        ],
        [
         "Michelle Caputo",
         70230138
        ],
        [
         "Reuben Atlas",
         80029708
        ],
        [
         "Ethan Coen",
         80200267
        ],
        [
         "Samit Basu",
         81076114
        ],
        [
         "Adam Carolla",
         80158800
        ],
        [
         "Jathin Sanker Raj",
         81035104
        ],
        [
         "Michael Ware",
         80075824
        ],
        [
         "Richard Bailey",
         81028574
        ],
        [
         "Jon Garaño",
         80122177
        ],
        [
         "Vinay Sapru",
         70040076
        ],
        [
         "Nicholas de Pencier",
         80205085
        ],
        [
         "Jan Suter",
         80183088
        ],
        [
         "Christian Tureaud",
         80216003
        ],
        [
         "Zackary Canepari",
         81050375
        ],
        [
         "Charles Walters",
         542137
        ],
        [
         "Jesse V. Johnson",
         70082264
        ],
        [
         "Carol Reed",
         60011729
        ],
        [
         "Anthony Palmer",
         81189396
        ],
        [
         "Lana Wachowski",
         20557937
        ],
        [
         "Lana Wachowski",
         60027695
        ],
        [
         "Lana Wachowski",
         60031303
        ],
        [
         "Gabriel Cruz Rivas",
         81170694
        ],
        [
         "Kookie V. Gulati",
         70052249
        ],
        [
         "Ibrahim Bin Mohamed",
         80202605
        ],
        [
         "Mastan Alibhai Burmawalla",
         80079229
        ],
        [
         "Rachel Grady",
         80097360
        ],
        [
         "Brad Rothschild",
         80128692
        ],
        [
         "Dylan Southern",
         70290568
        ],
        [
         "Luciano Vidigal",
         80116761
        ],
        [
         "Richard da Costa",
         80215139
        ],
        [
         "Raúl Campos",
         80124727
        ],
        [
         "Jeffrey Friedman",
         80210691
        ],
        [
         "Krishna D.K.",
         70185023
        ],
        [
         "Ronna Gradus",
         80038162
        ],
        [
         "Joe Johnston",
         80221447
        ],
        [
         "Jan Suter",
         80192137
        ],
        [
         "Akiva Schaffer",
         81036190
        ],
        [
         "Eshom Nelms",
         80182919
        ],
        [
         "Eliane Brum",
         80142223
        ],
        [
         "Ben Howling",
         80161216
        ],
        [
         "Farjad Nabi",
         81110388
        ],
        [
         "Kalvadour Peterson",
         80178078
        ],
        [
         "Jacqui Morris",
         80104330
        ],
        [
         "Adam Larson Broder",
         80117736
        ],
        [
         "Daniel DiMauro",
         80114666
        ],
        [
         "Jan Suter",
         80192065
        ],
        [
         "Barbara Schroeder",
         80158319
        ],
        [
         "Asit Mohapatra",
         81092779
        ],
        [
         "Shyamal Chaulia",
         81092776
        ],
        [
         "Asit Mohapatra",
         81092778
        ],
        [
         "Kubilay Sarikaya",
         81059956
        ],
        [
         "Jim Henson",
         419733
        ],
        [
         "Roly Santos",
         80232894
        ],
        [
         "Florent Bodin",
         80241876
        ],
        [
         "David Cantolla",
         80236224
        ],
        [
         "Dibakar Banerjee",
         70275753
        ],
        [
         "Artemis Joukowsky",
         80103430
        ],
        [
         "Mamoru Oshii",
         70129415
        ],
        [
         "Matthew Miele",
         80095094
        ],
        [
         "Rita Coburn Whack",
         80097361
        ],
        [
         "Padmakumar Narasimhamurthy",
         80182105
        ],
        [
         "Isa Campo",
         80173605
        ],
        [
         "Michael Pitiot",
         80102305
        ],
        [
         "Hasan Aljaberi",
         81074140
        ],
        [
         "Rick Benattar",
         80190180
        ],
        [
         "Josh Lowell",
         81004270
        ],
        [
         "Gary Howsam",
         80235932
        ],
        [
         "Joris Ivens",
         80119190
        ],
        [
         "John Sturges",
         80119193
        ],
        [
         "John Huston",
         80119189
        ],
        [
         "Anatole Litvak",
         70013050
        ],
        [
         "Galley Molina",
         80097423
        ],
        [
         "Jan Suter",
         80183197
        ],
        [
         "William Lau",
         80020132
        ],
        [
         "Phuwanit Pholdee",
         80999996
        ],
        [
         "Vikram Tanajirao Patil",
         81048554
        ],
        [
         "Jan Suter",
         80192139
        ],
        [
         "Jan Suter",
         80192063
        ],
        [
         "Kevin Pang",
         80058979
        ],
        [
         "Lotje Sodderland",
         80049951
        ],
        [
         "Geoff Luck",
         80135296
        ],
        [
         "Matthew McNeil",
         70203594
        ],
        [
         "Sunil Sukthankar",
         80201814
        ],
        [
         "Bruno Stagnaro",
         70041893
        ],
        [
         "Moinak Biswas",
         80239738
        ],
        [
         "Sonia Dauger",
         80164075
        ],
        [
         "James Spinney",
         80098842
        ],
        [
         "Birkan Pusa",
         80038298
        ],
        [
         "Cem Yılmaz",
         80134524
        ],
        [
         "Leslie Knott",
         80160127
        ],
        [
         "Ömer Faruk Sorak",
         80038527
        ],
        [
         "Frank Paur",
         70111265
        ],
        [
         "Jørgen Lerdam",
         81016361
        ],
        [
         "Pietro Scappini",
         81055395
        ],
        [
         "Mastan Alibhai Burmawalla",
         70021551
        ],
        [
         "Fabien Beziat",
         80230555
        ],
        [
         "Sunil Kumar Agrawal",
         80223317
        ],
        [
         "T.J. Martin",
         80184131
        ],
        [
         "Steve Sacks",
         70250369
        ],
        [
         "John Paul Tremblay",
         70304187
        ],
        [
         "John Paul Tremblay",
         70304188
        ],
        [
         "John Paul Tremblay",
         70304186
        ],
        [
         "Angelika Sigl",
         80135631
        ],
        [
         "Brian Niles",
         81013112
        ],
        [
         "Mohamed Mostafa",
         81035859
        ],
        [
         "Yarrow Cheney",
         80996790
        ],
        [
         "Brandon Oldenburg",
         70304298
        ],
        [
         "David Felix Sutcliffe",
         80039644
        ],
        [
         "Kimo Stamboel",
         80109145
        ],
        [
         "Christopher Storer",
         80106124
        ],
        [
         "Jan Suter",
         80191989
        ],
        [
         "Marcos Bucay",
         81060096
        ],
        [
         "Rodney Rothman",
         81002747
        ],
        [
         "Yoav Paz",
         81075239
        ],
        [
         "Jan Suter",
         80097641
        ],
        [
         "Kevin Lima",
         26009364
        ],
        [
         "Jesse Johnson",
         80195901
        ],
        [
         "Andrew Sullivan",
         80167644
        ],
        [
         "Annie Clark",
         80027041
        ],
        [
         "Miguel Cohan",
         81018067
        ],
        [
         "Andrés Beltrán",
         80220422
        ],
        [
         "Kazuya Tsurumaki",
         60024788
        ],
        [
         "Hazem Fouda",
         81035868
        ],
        [
         "Srivinay Salian",
         81131274
        ],
        [
         "Lynn Novick",
         80997770
        ],
        [
         "Johnny Castuciano",
         80151644
        ],
        [
         "Claus Wehlisch",
         81105525
        ],
        [
         "Jon Olb",
         80233611
        ],
        [
         "Keegan Kuhn",
         80174177
        ],
        [
         "Kristine Samuelson",
         81034980
        ],
        [
         "Stinus Morell Vithner",
         81002885
        ],
        [
         "Karan Johar",
         80991033
        ],
        [
         "Héctor Gálvez",
         80991025
        ],
        [
         "Rich Moore",
         80221640
        ],
        [
         "Andrew Duncan",
         80004286
        ],
        [
         "Antonio Piazza",
         81039323
        ],
        [
         "Jan Suter",
         80192064
        ],
        [
         "Mariano Mucci",
         80223153
        ],
        [
         "Shan Hua",
         80997870
        ],
        [
         "José Luis Gutiérrez",
         80162192
        ],
        [
         "Chris Sanders",
         70143241
        ],
        [
         "Jan Suter",
         80192135
        ],
        [
         "Ryan Fleck",
         80038337
        ],
        [
         "Jehane Noujaim",
         80117542
        ],
        [
         "Chris Williams",
         70099615
        ],
        [
         "Demetri Martin",
         80158802
        ],
        [
         "Patrick Leung",
         70025372
        ],
        [
         "Andrew Loo",
         80017280
        ],
        [
         "Shady Ali",
         81035840
        ],
        [
         "Hiroyuki Seshita",
         80180376
        ],
        [
         "Ashley York",
         80028208
        ],
        [
         "Stuart Stone",
         81151313
        ],
        [
         "John Musker",
         70109429
        ],
        [
         "Nicholas McCarthy",
         80096585
        ],
        [
         "Tim Story",
         70270773
        ],
        [
         "Will Eubank",
         70300666
        ],
        [
         "Maclain Way",
         70299904
        ],
        [
         "Kirk Wolfinger",
         81121181
        ],
        [
         "Quinn Kanaly",
         81121189
        ],
        [
         "Jani Lachauer",
         80005738
        ],
        [
         "Monière",
         81130297
        ],
        [
         "Allen Hughes",
         70114342
        ],
        [
         "Christopher Storer",
         70295560
        ],
        [
         "Mariah Moore",
         80176064
        ],
        [
         "Cyrus Saidi",
         80217120
        ],
        [
         "Mastan Alibhai Burmawalla",
         70229498
        ],
        [
         "Marius Arnesen",
         80114498
        ],
        [
         "David Hebditch",
         80114700
        ],
        [
         "Pratim D. Gupta",
         80108386
        ],
        [
         "Hiroyuki Seshita",
         80198623
        ],
        [
         "Michael McNamara",
         81005561
        ],
        [
         "Austin Kolodney",
         80213400
        ],
        [
         "Daniel Scheinert",
         80097389
        ],
        [
         "Sylvain Blais",
         80019930
        ],
        [
         "Javier Calvo",
         80109193
        ],
        [
         "Meisa Felaroze",
         81047901
        ],
        [
         "Benoît Philippon",
         80125818
        ],
        [
         "Jan Suter",
         80192138
        ],
        [
         "José Ortuño",
         80239629
        ],
        [
         "Diego Corsini",
         81021098
        ],
        [
         "Jan Suter",
         80192062
        ],
        [
         "Pablo Martin Farina",
         80175405
        ],
        [
         "Jan Suter",
         80079427
        ],
        [
         "Terry Jones",
         771476
        ],
        [
         "Nicolas Cotto",
         80208083
        ],
        [
         "Suzanne Coote",
         80198661
        ],
        [
         "Jan Suter",
         80191988
        ],
        [
         "Hiroyuki Seshita",
         80180373
        ],
        [
         "Greg Strause",
         70141971
        ],
        [
         "Joel Coen",
         70114021
        ],
        [
         "Jeremy Seifert",
         80997719
        ],
        [
         "Umesh Mehra",
         80158543
        ],
        [
         "Kunal Kohli",
         80228321
        ],
        [
         "D.B. Weiss",
         81060049
        ],
        [
         "Joshua Brown",
         70120182
        ],
        [
         "Katia Lund",
         60026106
        ],
        [
         "Kyung Ho Lee",
         70081015
        ],
        [
         "Eondeok Han",
         70100448
        ],
        [
         "Dibakar Banerjee",
         81088083
        ],
        [
         "Bobby Farrelly",
         673843
        ],
        [
         "Matthew Robinson",
         70105370
        ],
        [
         "Sunil Sukthankar",
         80201626
        ],
        [
         "Sunil Sukthankar",
         70117122
        ],
        [
         "Louie Gibson",
         80167491
        ],
        [
         "Andrew Duncan",
         80020131
        ],
        [
         "Alfred Gimeno",
         80020036
        ],
        [
         "Steve Sacks",
         70286029
        ],
        [
         "Jacqueline Monetta",
         80196138
        ],
        [
         "Simon J. Smith",
         70060010
        ],
        [
         "Flor Salcedo",
         80144141
        ],
        [
         "Koichi Sakamoto",
         80092837
        ],
        [
         "Sophie Sartain",
         80174367
        ],
        [
         "Stéphane Berla",
         70302836
        ],
        [
         "Akiva Schaffer",
         80151370
        ],
        [
         "Filippo Gastaldi",
         80168052
        ],
        [
         "Jesse Allain-Marcus",
         80065220
        ],
        [
         "Jan Suter",
         80124726
        ],
        [
         "Daniel Camenisch",
         81002591
        ],
        [
         "Fabio Resinaro",
         80123777
        ],
        [
         "Mike Birbiglia",
         80133550
        ],
        [
         "Nik Amir Mustapha",
         81047510
        ],
        [
         "Lauren Hoekstra",
         80213299
        ],
        [
         "Masahiko Murata",
         80002073
        ],
        [
         "Ross Adam",
         80097376
        ],
        [
         "Nicky Slimting Walker",
         81069254
        ],
        [
         "Yasushi Kawamura",
         80149259
        ],
        [
         "Eric Radomski",
         70295085
        ],
        [
         "Luke Radford",
         81026667
        ],
        [
         "Madeleine Sami",
         80992672
        ],
        [
         "Atul Kale",
         80201816
        ],
        [
         "Scot McFadyen",
         70137744
        ],
        [
         "Christina Clusiau",
         80168084
        ],
        [
         "Zune Kwok",
         81012294
        ],
        [
         "Christian Herrendoerfer",
         80106791
        ],
        [
         "Bruce Sinofsky",
         80174429
        ],
        [
         "Jerry Kolber",
         81037273
        ],
        [
         "Paul Weitz",
         60022998
        ],
        [
         "Mag Hsu",
         81045891
        ],
        [
         "Stephen Murray",
         81050118
        ],
        [
         "Alicky Sussman",
         81059649
        ],
        [
         "Jakob Schuh",
         80234290
        ],
        [
         "Nicolás Silbert",
         80156767
        ],
        [
         "Spencer Williams",
         80161851
        ],
        [
         "Mike Smith",
         80081410
        ],
        [
         "Khalid Kashogi",
         81033201
        ],
        [
         "Riri Riza",
         81016342
        ],
        [
         "Mahmood Farooqui",
         70129396
        ],
        [
         "Umesh Mehra",
         80156938
        ],
        [
         "Taki Oldham",
         80213588
        ],
        [
         "David Johndrow",
         70043231
        ],
        [
         "Ross Hockrow",
         80210716
        ],
        [
         "Hugues Nancy",
         80230465
        ],
        [
         "Uriel Sinai",
         80208084
        ],
        [
         "Björn Stein",
         70132228
        ],
        [
         "Dirk Laabs",
         80136332
        ],
        [
         "Max Pugh",
         80182034
        ],
        [
         "Nobuyuki Takeuchi",
         81000505
        ],
        [
         "Guillaume Renard",
         81037697
        ],
        [
         "Joe Russo",
         80219127
        ],
        [
         "Tenzing Sonam",
         80145086
        ],
        [
         "Jeremy Konner",
         80136548
        ],
        [
         "Justin G. Dyck",
         80232740
        ],
        [
         "Tig Notaro",
         80166467
        ],
        [
         "Wayne Orr",
         80023921
        ],
        [
         "Ishi Rudell",
         80012535
        ],
        [
         "Syed Ahmed Shawki",
         81048551
        ],
        [
         "John Sanford",
         80026431
        ],
        [
         "Kazumi Fukushima",
         60004509
        ],
        [
         "Luke Kenny",
         80203784
        ],
        [
         "Gabriel Sabloff",
         80222301
        ],
        [
         "Nanfu Wang",
         81010212
        ],
        [
         "Luc Dardenne",
         80107019
        ],
        [
         "Jan Suter",
         80124728
        ],
        [
         "Alexander Smith",
         81009829
        ],
        [
         "Emmett Malloy",
         80208793
        ],
        [
         "Nekfeu",
         81169158
        ],
        [
         "Torquil Jones",
         81018536
        ],
        [
         "Luk Kim-ching",
         80106306
        ],
        [
         "Chris Bouchard",
         80166319
        ],
        [
         "Jeff Gill",
         80158854
        ],
        [
         "Adam Darke",
         80191930
        ],
        [
         "Simon Gross",
         80171247
        ],
        [
         "Joseph Sargent",
         70135647
        ],
        [
         "Josh Koury",
         80176212
        ],
        [
         "Jayson Thiessen",
         80073100
        ],
        [
         "Stefan Moore",
         80066806
        ],
        [
         "Cosmo Segurson",
         81091977
        ],
        [
         "Yoshitaka Takeuchi",
         80234491
        ],
        [
         "Jan Suter",
         80124724
        ],
        [
         "Julien War",
         81034010
        ],
        [
         "Cole D. Pruitt",
         81006598
        ],
        [
         "Robert McCallum",
         80224167
        ],
        [
         "Julia Reichert",
         81090071
        ],
        [
         "Nitesh Tiwari",
         70139072
        ],
        [
         "Augusto Matte",
         80234464
        ],
        [
         "Alexis Morante",
         80202810
        ],
        [
         "T.J. Martin",
         70177633
        ],
        [
         "Wong Jing",
         60027334
        ],
        [
         "Binayak Das",
         81154987
        ],
        [
         "Chen Hung-yi",
         81122206
        ],
        [
         "Viju Mane",
         81002212
        ],
        [
         "Fisher Stevens",
         70308278
        ],
        [
         "Lilly Wachowski",
         70301367
        ],
        [
         "Olivier Roland",
         80993489
        ],
        [
         "Alan Mak",
         70043379
        ],
        [
         "Lana Wachowski",
         70248183
        ],
        [
         "Smriti Keshari",
         80080106
        ],
        [
         "Josh Vietze",
         80109260
        ],
        [
         "Will Graham",
         70222860
        ],
        [
         "Nathan Ives",
         81026677
        ],
        [
         "Reijer Zwaan",
         80118918
        ],
        [
         "Amir Galvan Cervera",
         80161104
        ],
        [
         "Jan Suter",
         80191990
        ],
        [
         "Anggy Umbara",
         81062674
        ],
        [
         "Brandon Kimber",
         80044562
        ],
        [
         "Espen Sandberg",
         70260989
        ],
        [
         "David Alvarado",
         80182411
        ],
        [
         "Kiko Mistrorigo",
         80205442
        ],
        [
         "Måns Herngren",
         80106337
        ],
        [
         "Gareth Sacala",
         70309257
        ],
        [
         "Kareem Tabsch",
         81030755
        ],
        [
         "Ronna Gradus",
         80115676
        ],
        [
         "Heather Walsh",
         80174436
        ],
        [
         "Andrew Mogel",
         80036657
        ],
        [
         "Christopher Loren Ewers",
         81088285
        ],
        [
         "Jason Kwan",
         80215782
        ],
        [
         "Tarek Al Eryan",
         81035846
        ],
        [
         "Bas van Teylingen",
         81026329
        ],
        [
         "Scott Moore",
         70222859
        ],
        [
         "Toby Trackman",
         81090128
        ],
        [
         "Adam Nee",
         80064273
        ],
        [
         "Felix van Groeningen",
         80098475
        ],
        [
         "Josh Alexander",
         80058247
        ],
        [
         "Yim Pilsung",
         81044884
        ],
        [
         "Ippsie Jones",
         80142474
        ],
        [
         "Alex Brewer",
         80063773
        ],
        [
         "Simon Wells",
         60033788
        ],
        [
         "Louis Pepe",
         80097468
        ],
        [
         "Ralph Hemecker",
         70197049
        ],
        [
         "Seung-uk Jo",
         80176929
        ],
        [
         "Anurag Kashyap",
         80115328
        ],
        [
         "Mark Henn",
         80062011
        ],
        [
         "Mike Gabriel",
         80062011
        ],
        [
         "Hiroshi Yamazaki",
         70129415
        ],
        [
         "James Gunn",
         70222860
        ],
        [
         "Roger Allers",
         80062011
        ],
        [
         "Joseph Chou",
         70129415
        ],
        [
         "Suparn Verma",
         80108386
        ],
        [
         "Syed Saleh Ahmed Sobhan",
         81048551
        ],
        [
         "Rusty Cundieff",
         70222860
        ],
        [
         "Parkpoom Wongpoom",
         70142798
        ],
        [
         "Masaru Matsumoto",
         81171121
        ],
        [
         "Poj Arnon",
         80999985
        ],
        [
         "Lauren MacMullan",
         80062011
        ],
        [
         "Joan C. Gratz",
         80017272
        ],
        [
         "Anurag Kashyap",
         70275753
        ],
        [
         "Toshiyuki Kanno",
         70129415
        ],
        [
         "John Paul Tremblay",
         80235932
        ],
        [
         "Roy Boulting",
         80119189
        ],
        [
         "Karyn Kusama",
         80027041
        ],
        [
         "Dibakar Banerjee",
         80991033
        ],
        [
         "Gary Shore",
         80096585
        ],
        [
         "Olav Njaastad",
         80114498
        ],
        [
         "Nalan Kumarasamy",
         80108386
        ],
        [
         "David Beier",
         80213400
        ],
        [
         "Zoya Akhtar",
         81088083
        ],
        [
         "Ryan Moody",
         80213299
        ],
        [
         "Ng Ka-Leung",
         81012294
        ],
        [
         "Erich Sturm",
         81037273
        ],
        [
         "Richard Maurice",
         80161851
        ],
        [
         "Robb Wells",
         80081410
        ],
        [
         "Robiul Alam Robi",
         81048551
        ],
        [
         "Liu Bang-yao",
         81122206
        ],
        [
         "Ravi Jadhav",
         81002212
        ],
        [
         "Griffin Dunne",
         70222860
        ],
        [
         "Kim Jong-kwan",
         81044884
        ],
        [
         "Milan Cheylov",
         70197049
        ],
        [
         "Takanobu Mizuno",
         81171121
        ],
        [
         "Byron Howard",
         80062011
        ],
        [
         "Nina Paley",
         80017272
        ],
        [
         "Yasushi Muraki",
         70129415
        ],
        [
         "Scott Stewart",
         80096585
        ],
        [
         "Qaushiq Mukherjee",
         80108386
        ],
        [
         "Alana Waksman",
         80213400
        ],
        [
         "Shadae Lamar Smith",
         80213299
        ],
        [
         "Tanvir Ahsan",
         81048551
        ],
        [
         "YC Tom Lee",
         81122206
        ],
        [
         "Jonathan van Tulleken",
         70222860
        ],
        [
         "Bryan Spicer",
         70197049
        ],
        [
         "Visute Poolvoralaks",
         70142798
        ],
        [
         "Arthell Isom",
         81171121
        ],
        [
         "John Kahrs",
         80062011
        ],
        [
         "Mohammed Saeed Harib",
         80017272
        ],
        [
         "Tomoki Kyoda",
         70129415
        ],
        [
         "Robb Wells",
         80235932
        ],
        [
         "Anthony Veiller",
         80119189
        ],
        [
         "Kevin Smith",
         80096585
        ],
        [
         "Anu Menon",
         80108386
        ],
        [
         "Dave Dorsey",
         80213400
        ],
        [
         "Simon Savelyev",
         80213299
        ],
        [
         "Wong Fei-Pang",
         81012294
        ],
        [
         "Golam Kibria Farooki",
         81048551
        ],
        [
         "Lin Guan-fu",
         81122206
        ],
        [
         "Steve Brill",
         70222860
        ],
        [
         "Dean White",
         70197049
        ],
        [
         "Elsa Nakamichi",
         81171121
        ],
        [
         "Stevie Wermers",
         80062011
        ],
        [
         "Bill Plympton",
         80017272
        ],
        [
         "Daisuke Nishio",
         70129415
        ],
        [
         "Kevin Kolsch",
         80096585
        ],
        [
         "Rajshree Ojha",
         80108386
        ],
        [
         "Jon YonKondy",
         80213400
        ],
        [
         "Jeremy David White",
         80213299
        ],
        [
         "Mahmudul Islam",
         81048551
        ],
        [
         "Elizabeth Banks",
         70222860
        ],
        [
         "Henry Thurlow",
         81171121
        ],
        [
         "Nathan Greno",
         80062011
        ],
        [
         "Tomm Moore",
         80017272
        ],
        [
         "Koichi Mashimo",
         70129415
        ],
        [
         "Sarah Adina Smith",
         80096585
        ],
        [
         "Sandeep Mohan",
         80108386
        ],
        [
         "Xu Zhang",
         80213400
        ],
        [
         "Vanita Shastry",
         80213299
        ],
        [
         "Mir Mukarram Hossain",
         81048551
        ],
        [
         "Shen Chi",
         81122206
        ],
        [
         "James Duffy",
         70222860
        ],
        [
         "Michael Waxman",
         70197049
        ],
        [
         "Songyos Sugmakanan",
         70142798
        ],
        [
         "Michael Arias",
         81171121
        ],
        [
         "Tanwarin Sukkhapisit",
         80999985
        ],
        [
         "Patrick Osborne",
         80062011
        ],
        [
         "Michael Goguen",
         80158155
        ],
        [
         "Paul Brizzi",
         80017272
        ],
        [
         "Jun Falkenstein",
         80112371
        ],
        [
         "Morgan Pehme",
         80114666
        ],
        [
         "Karan Johar",
         70275753
        ],
        [
         "Hideki Futamura",
         70129415
        ],
        [
         "Mike Smith",
         80235932
        ],
        [
         "Hugh Stewart",
         80119189
        ],
        [
         "David Dietz",
         80164075
        ],
        [
         "Amalie Næsby Fick",
         81016361
        ],
        [
         "Robb Wells",
         70304187
        ],
        [
         "Robb Wells",
         70304188
        ],
        [
         "Robb Wells",
         70304186
        ],
        [
         "Bob Persichetti",
         81002747
        ],
        [
         "Roxanne Benjamin",
         80027041
        ],
        [
         "Jaime Rayo",
         80220422
        ],
        [
         "Anurag Kashyap",
         80991033
        ],
        [
         "Audu Paden",
         80004286
        ],
        [
         "Luis A. Scalella",
         80223153
        ],
        [
         "Adam Egypt Mortimer",
         80096585
        ],
        [
         "Marston Sawyers",
         80176064
        ],
        [
         "Klaus Erik Okstad",
         80114498
        ],
        [
         "Sudhish Kamath",
         80108386
        ],
        [
         "Will Lowell",
         80213400
        ],
        [
         "Karan Johar",
         81088083
        ],
        [
         "Aaron Woolf",
         80144141
        ],
        [
         "M.S. Prem Nath",
         81047510
        ],
        [
         "Sarah Kruchowski",
         80213299
        ],
        [
         "Chow Kwun-wai",
         81012294
        ],
        [
         "Trey Nelson",
         81037273
        ],
        [
         "Richard E. Norman",
         80161851
        ],
        [
         "John Paul Tremblay",
         80081410
        ],
        [
         "Rahat Rahman",
         81048551
        ],
        [
         "Jim Stenstrum",
         60004509
        ],
        [
         "Haoling Li",
         80234491
        ],
        [
         "Weica Wang",
         81122206
        ],
        [
         "Girish Mohite",
         81002212
        ],
        [
         "Tom Tykwer",
         70248183
        ],
        [
         "Eric Schlosser",
         80080106
        ],
        [
         "Steve Carr",
         70222860
        ],
        [
         "Rodrigo Eba",
         80205442
        ],
        [
         "Rashida Jones",
         80115676
        ],
        [
         "Erik Ewers",
         81088285
        ],
        [
         "Greg Young",
         80058247
        ],
        [
         "Jeon Go-woon",
         81044884
        ],
        [
         "Gwyneth Horder-Payton",
         70197049
        ],
        [
         "Hajime Sasaki",
         81171121
        ],
        [
         "Dean Wellins",
         80062011
        ],
        [
         "Joann Sfar",
         80017272
        ],
        [
         "Frank O'Connor",
         70129415
        ],
        [
         "Dennis Widmyer",
         80096585
        ],
        [
         "Raja Sen",
         80108386
        ],
        [
         "Drue Metz",
         80213400
        ],
        [
         "Abdullah Al Noor",
         81048551
        ],
        [
         "Patrik Forsberg",
         70222860
        ]
       ],
       "datasetInfos": [],
       "dbfsResultPath": null,
       "isJsonSchema": true,
       "metadata": {},
       "overflow": false,
       "plotOptions": {
        "customPlotOptions": {},
        "displayType": "table",
        "pivotAggregation": null,
        "pivotColumns": null,
        "xColumns": null,
        "yColumns": null
       },
       "removedWidgets": [],
       "schema": [
        {
         "metadata": "{}",
         "name": "director",
         "type": "\"string\""
        },
        {
         "metadata": "{}",
         "name": "show_id",
         "type": "\"integer\""
        }
       ],
       "type": "table"
      }
     },
     "output_type": "display_data"
    }
   ],
   "source": [
    "df.display()"
   ]
  },
  {
   "cell_type": "code",
   "execution_count": 0,
   "metadata": {
    "application/vnd.databricks.v1+cell": {
     "cellMetadata": {
      "byteLimit": 2048000,
      "rowLimit": 10000
     },
     "inputWidgets": {},
     "nuid": "13c6899b-b8bf-411d-8eaf-22ef7bd8fcb0",
     "showTitle": false,
     "tableResultSettingsMap": {},
     "title": ""
    }
   },
   "outputs": [],
   "source": [
    "df.write.format('delta')\\\n",
    "    .mode('append')\\\n",
    "    .option('path',f'abfss://silver@netflixgouthamdatalake.dfs.core.windows.net/{var_trg_name}')\\\n",
    "    .save()\n"
   ]
  },
  {
   "cell_type": "code",
   "execution_count": 0,
   "metadata": {
    "application/vnd.databricks.v1+cell": {
     "cellMetadata": {},
     "inputWidgets": {},
     "nuid": "8bfb179e-d512-4516-a427-d43bacb5b2a2",
     "showTitle": false,
     "tableResultSettingsMap": {},
     "title": ""
    }
   },
   "outputs": [],
   "source": []
  }
 ],
 "metadata": {
  "application/vnd.databricks.v1+notebook": {
   "computePreferences": null,
   "dashboards": [],
   "environmentMetadata": {
    "base_environment": "",
    "environment_version": "2"
   },
   "language": "python",
   "notebookMetadata": {
    "pythonIndentUnit": 4
   },
   "notebookName": "2_silver",
   "widgets": {
    "source_file_name": {
     "currentValue": "netflix_directors",
     "nuid": "a1afe902-72fc-4d81-800c-690eea06a38a",
     "typedWidgetInfo": {
      "autoCreated": false,
      "defaultValue": "netflix_directors",
      "label": null,
      "name": "source_file_name",
      "options": {
       "widgetDisplayType": "Text",
       "validationRegex": null
      },
      "parameterDataType": "String"
     },
     "widgetInfo": {
      "widgetType": "text",
      "defaultValue": "netflix_directors",
      "label": null,
      "name": "source_file_name",
      "options": {
       "widgetType": "text",
       "autoCreated": false,
       "validationRegex": null
      }
     }
    },
    "trg_file_name": {
     "currentValue": "netflix_directors",
     "nuid": "80c2c2eb-5322-40d5-b2f0-bdecadb4b242",
     "typedWidgetInfo": {
      "autoCreated": false,
      "defaultValue": "netflix_directors",
      "label": null,
      "name": "trg_file_name",
      "options": {
       "widgetDisplayType": "Text",
       "validationRegex": null
      },
      "parameterDataType": "String"
     },
     "widgetInfo": {
      "widgetType": "text",
      "defaultValue": "netflix_directors",
      "label": null,
      "name": "trg_file_name",
      "options": {
       "widgetType": "text",
       "autoCreated": false,
       "validationRegex": null
      }
     }
    }
   }
  },
  "language_info": {
   "name": "python"
  }
 },
 "nbformat": 4,
 "nbformat_minor": 0
}